{
 "cells": [
  {
   "cell_type": "markdown",
   "metadata": {
    "cell_id": "fe37bb47-4851-46a5-978c-65359fb7f031",
    "deepnote_app_coordinates": {
     "h": 5,
     "w": 12,
     "x": 0,
     "y": 12
    },
    "deepnote_cell_type": "markdown",
    "tags": []
   },
   "source": [
    "## Butanol Production Pathway: Attractor Bifurcation Analysis\n",
    "\n",
    "In this notebook, we analyse the attractors of a butanol production pathway model as appearing on [CellCollective]( https://research.cellcollective.org/?dashboard=true#module/36604:1/signaling-pathway-for-butanol-production-in-clostridium-beijerinckii-nrrl-b598/10) \\[1]. The model has been exported as `.sbml` and is included in this project as `butanol-pathway.sbml`. However, this `butanol-pathway.sbml` file cannot be processed by AEON directly, since it contains logical inconsistencies between update functions and the regulatory graph. We thus also include a version of the model where the problematic requirements about the regulatory graph of the network have been removed (`butanol-pathway-relaxed.aeon`).\n",
    "\n",
    "In this notebook, when we refer to the measurements or observations about the system performed by the original authors, we primarily mean \\[1]. However, \\[1] also relies on the data and measurements from \\[2] and \\[3].\n",
    "\n",
    "### Attractor bifurcation analysis\n",
    "\n",
    "In the following code, we demonstrate the problem with the original model and show how it has been fixed in the relaxed version of the regulatory graph:"
   ]
  },
  {
   "cell_type": "code",
   "execution_count": 1,
   "metadata": {
    "cell_id": "175e5c33-b660-4d98-9a8e-e7ddb615203a",
    "deepnote_app_coordinates": {
     "h": 5,
     "w": 12,
     "x": 0,
     "y": 18
    },
    "deepnote_cell_type": "code",
    "deepnote_to_be_reexecuted": false,
    "execution_millis": 42,
    "execution_start": 1643455061694,
    "source_hash": "4438d36b",
    "tags": []
   },
   "outputs": [
    {
     "name": "stdout",
     "output_type": "stream",
     "text": [
      "Detected IPython (`ZMQInteractiveShell`). Log level set to `LOG_ESSENTIAL`.\n"
     ]
    }
   ],
   "source": [
    "from biodivine_aeon import *\n",
    "from pandas import DataFrame # Only used for visualising tables.\n",
    "from pathlib import Path"
   ]
  },
  {
   "cell_type": "code",
   "execution_count": 2,
   "metadata": {
    "cell_id": "e7950446-d50c-47bf-a9bd-8d397b3b7bbc",
    "deepnote_app_coordinates": {
     "h": 5,
     "w": 12,
     "x": 0,
     "y": null
    },
    "deepnote_cell_type": "code",
    "deepnote_to_be_reexecuted": false,
    "execution_millis": 44,
    "execution_start": 1643455061736,
    "source_hash": "b36e1870",
    "tags": []
   },
   "outputs": [
    {
     "name": "stdout",
     "output_type": "stream",
     "text": [
      "BooleanNetwork(variables=66, regulations=139, explicit_parameters=0, implicit_parameters=13)\n"
     ]
    }
   ],
   "source": [
    "original_model = BooleanNetwork.from_file('butanol-pathway.sbml')\n",
    "model = BooleanNetwork.from_file('butanol-pathway-relaxed.aeon')\n",
    "print(model)"
   ]
  },
  {
   "cell_type": "code",
   "execution_count": 3,
   "metadata": {},
   "outputs": [
    {
     "name": "stdout",
     "output_type": "stream",
     "text": [
      "Cannot create graph from the original model.\n",
      "No update functions satisfy given constraints: \n",
      " - spoIIE not activating in spoIIAB.\n",
      " - sigA has no effect in spo0A_p.\n",
      " - sporulation has no effect in glucose___PTS.\n",
      "\n"
     ]
    }
   ],
   "source": [
    "# Try to build a symbolic asynchronous graph from the original model.\n",
    "# This should list problems in the structure of the original model.\n",
    "try:\n",
    "    graph = AsynchronousGraph(original_model)\n",
    "except Exception as e:\n",
    "    print(\"Cannot create graph from the original model.\")\n",
    "    print(e)"
   ]
  },
  {
   "cell_type": "code",
   "execution_count": 4,
   "metadata": {},
   "outputs": [
    {
     "name": "stdout",
     "output_type": "stream",
     "text": [
      "==== spoIIE -> spoIIAB updated from activation to inhibition ====\n",
      "{'source': VariableId(63), 'target': VariableId(60), 'essential': True, 'sign': '+'}\n",
      "{'source': VariableId(63), 'target': VariableId(60), 'essential': True, 'sign': '-'}\n",
      "==== sigA -> spo0A_p observability is removed ====\n",
      "{'source': VariableId(51), 'target': VariableId(58), 'essential': True, 'sign': '+'}\n",
      "{'source': VariableId(51), 'target': VariableId(58), 'essential': False, 'sign': '+'}\n",
      "==== sporulation -> glucose___PTS observability is removed ====\n",
      "{'source': VariableId(64), 'target': VariableId(39), 'essential': True, 'sign': '-'}\n",
      "{'source': VariableId(64), 'target': VariableId(39), 'essential': False, 'sign': '-'}\n"
     ]
    }
   ],
   "source": [
    "# Now print regulations that we changed to make the model logically consistent.\n",
    "\n",
    "print(\"==== spoIIE -> spoIIAB updated from activation to inhibition ====\")\n",
    "print(original_model.find_regulation(\"spoIIE\", \"spoIIAB\"))\n",
    "print(model.find_regulation(\"spoIIE\", \"spoIIAB\"))\n",
    "\n",
    "print(\"==== sigA -> spo0A_p observability is removed ====\")\n",
    "print(original_model.find_regulation(\"sigA\", \"spo0A_p\"))\n",
    "print(model.find_regulation(\"sigA\", \"spo0A_p\"))\n",
    "\n",
    "print(\"==== sporulation -> glucose___PTS observability is removed ====\")\n",
    "print(original_model.find_regulation(\"sporulation\", \"glucose___PTS\"))\n",
    "print(model.find_regulation(\"sporulation\", \"glucose___PTS\"))"
   ]
  },
  {
   "cell_type": "code",
   "execution_count": 5,
   "metadata": {},
   "outputs": [
    {
     "name": "stdout",
     "output_type": "stream",
     "text": [
      "{'source': VariableId(63), 'target': VariableId(60), 'essential': True, 'sign': '-'}\n",
      "None\n",
      "None\n"
     ]
    }
   ],
   "source": [
    "# Note that we can achieve similar effect by letting AEON infer the regulations automatically.\n",
    "# However, this process completely removes the two non-essential regulations, since they\n",
    "# play not role in the network. In our manually edited version, we chose to keep these\n",
    "# regulations but designated them as non-essential, which means they do not need to play\n",
    "# a role in the target update function.\n",
    "inferred = original_model.infer_valid_graph()\n",
    "print(inferred.find_regulation(\"spoIIE\", \"spoIIAB\"))\n",
    "print(inferred.find_regulation(\"sigA\", \"spo0A_p\"))\n",
    "print(inferred.find_regulation(\"sporulation\", \"glucose___PTS\"))"
   ]
  },
  {
   "cell_type": "markdown",
   "metadata": {},
   "source": [
    "Finally, the model that we just loaded contains inputs. We can automatically turn these inputs into logical parameters. This simplifies many computations, as it allows AEON to encode the model more succinctly."
   ]
  },
  {
   "cell_type": "code",
   "execution_count": 6,
   "metadata": {},
   "outputs": [
    {
     "name": "stdout",
     "output_type": "stream",
     "text": [
      "BooleanNetwork(variables=53, regulations=117, explicit_parameters=13, implicit_parameters=0)\n",
      "VertexSet(cardinality=9007199254740992, symbolic_size=2) ColorSet(cardinality=8192, symbolic_size=2)\n",
      "['NADH', 'NAD_P_H', 'PTS', 'Rnf', 'fba', 'gap_pgk_tpi_pgm__X276_23705_eno', 'glucose', 'pfk', 'pfo', 'pgi', 'phosphorylation', 'sigA', 'spoIIE']\n"
     ]
    }
   ],
   "source": [
    "model = model.inline_inputs(infer_inputs=True, repair_graph=True)\n",
    "print(model)\n",
    "\n",
    "# And we can succssfully create a symbolic graph from the relaxed model:\n",
    "graph = AsynchronousGraph(model)\n",
    "print(graph.mk_unit_vertices(), graph.mk_unit_colors())\n",
    "print(model.explicit_parameter_names())"
   ]
  },
  {
   "cell_type": "markdown",
   "metadata": {
    "cell_id": "5d961f62-6abd-446c-ab59-adf2c6864229",
    "deepnote_app_coordinates": {
     "h": 5,
     "w": 12,
     "x": 0,
     "y": 24
    },
    "deepnote_cell_type": "markdown",
    "tags": []
   },
   "source": [
    "Now, we can compute the attractors of this model for every possible combination of its parameter values (i.e. colors), which in this case are the valuations of the network inputs. Importantly, we can verify that for every parametrisation, there is exactly one attractor. Therefore, we can safely merge the two discovered sets of states into one attractor set.\n",
    "\n",
    "> Due to the way the on-the-fly attractor detection algorithm works, it can output multiple sets of attractors even when they in fact cover disjoint parameterisations."
   ]
  },
  {
   "cell_type": "code",
   "execution_count": 7,
   "metadata": {
    "cell_id": "6b603d3f-c1c6-4796-8a89-8a49f3466ece",
    "deepnote_app_coordinates": {
     "h": 5,
     "w": 12,
     "x": 0,
     "y": 30
    },
    "deepnote_cell_type": "code",
    "deepnote_to_be_reexecuted": true,
    "execution_millis": 823,
    "execution_start": 1643455158587,
    "source_hash": "f6618294",
    "tags": []
   },
   "outputs": [
    {
     "name": "stdout",
     "output_type": "stream",
     "text": [
      "Start interleaved transition guided reduction with 73786976294838210000[nodes:2] candidates.\n",
      " > Discarded 36893488147419103000 instances based on the BnVariable(43) extended component.\n",
      " > State space reduced to 36893488147419103000[nodes:5].\n",
      " > Discarded 18446744073709552000 instances based on the BnVariable(38) extended component.\n",
      " > State space reduced to 18446744073709552000[nodes:8].\n",
      " > Discarded 9223372036854776000 instances based on the BnVariable(31) extended component.\n",
      " > State space reduced to 9223372036854776000[nodes:11].\n",
      " > Discarded 4611686018427388000 instances based on the BnVariable(2) extended component.\n",
      " > State space reduced to 4611686018427388000[nodes:14].\n",
      " > Discarded 1130403506469994500 instances based on the BnVariable(21) extended component.\n",
      " > State space reduced to 3481282511957393400[nodes:55].\n",
      " > Discarded 1583015269020729300 instances based on the BnVariable(37) extended component.\n",
      " > State space reduced to 1898267242936664000[nodes:97].\n",
      " > Discarded 4503599627370496 instances based on the BnVariable(51) extended component.\n",
      " > State space reduced to 1893763643309293600[nodes:78].\n",
      " > Discarded 297237575406452740 instances based on the BnVariable(46) extended component.\n",
      " > State space reduced to 1596526067902840800[nodes:80].\n",
      " > Discarded 690176642894528500 instances based on the BnVariable(41) extended component.\n",
      " > State space reduced to 906349425008312300[nodes:97].\n",
      " > Discarded 307933624521457660 instances based on the BnVariable(40) extended component.\n",
      " > State space reduced to 598415800486854700[nodes:98].\n",
      " > Discarded 163818436445601800 instances based on the BnVariable(48) extended component.\n",
      " > State space reduced to 434597364041252860[nodes:101].\n",
      " > Discarded 72620543991349250 instances based on the BnVariable(42) extended component.\n",
      " > State space reduced to 361976820049903600[nodes:105].\n",
      " > Discarded 36873221949095940 instances based on the BnVariable(49) extended component.\n",
      " > State space reduced to 325103598100807700[nodes:108].\n",
      " > Discarded 18155135997837310 instances based on the BnVariable(44) extended component.\n",
      " > State space reduced to 306948462102970400[nodes:113].\n",
      " > Discarded 9077567998918656 instances based on the BnVariable(45) extended component.\n",
      " > State space reduced to 297870894104051700[nodes:116].\n",
      " > Discarded 75634116384522240 instances based on the BnVariable(32) extended component.\n",
      " > State space reduced to 222236777719529470[nodes:242].\n",
      " > Discarded 596467878199296 instances based on the BnVariable(25) extended component.\n",
      " > State space reduced to 221640309841330180[nodes:323].\n",
      " > Discarded 46926812676096 instances based on the BnVariable(8) extended component.\n",
      " > State space reduced to 221593383028654080[nodes:198].\n",
      " > Discarded 2710300457435136 instances based on the BnVariable(50) extended component.\n",
      " > State space reduced to 218883082571218940[nodes:201].\n",
      " > Discarded 1144043996184576 instances based on the BnVariable(47) extended component.\n",
      " > State space reduced to 217739038575034370[nodes:208].\n",
      " > Discarded 220178277203968 instances based on the BnVariable(52) extended component.\n",
      " > State space reduced to 217518860297830400[nodes:214].\n",
      " > Discarded 110089138601984 instances based on the BnVariable(29) extended component.\n",
      " > State space reduced to 217408771159228400[nodes:238].\n",
      " > Discarded 55044569300992 instances based on the BnVariable(28) extended component.\n",
      " > State space reduced to 217353726589927420[nodes:248].\n",
      " > Discarded 0 instances using the BnVariable(6) transition basin.\n",
      " > Discarded 190608038330105860 instances based on the BnVariable(6) extended component.\n",
      " > State space reduced to 26745688259821570[nodes:416].\n",
      " > Discarded 7645149161062400 instances based on the BnVariable(39) extended component.\n",
      " > State space reduced to 19100539098759170[nodes:426].\n",
      " > Discarded 6721743540453376 instances based on the BnVariable(10) extended component.\n",
      " > State space reduced to 12378795558305792[nodes:362].\n",
      " > Discarded 4988164145938432 instances based on the BnVariable(34) extended component.\n",
      " > State space reduced to 7390631412367360[nodes:460].\n",
      " > Discarded 1698117258838016 instances based on the BnVariable(35) extended component.\n",
      " > State space reduced to 5692514153529344[nodes:492].\n",
      " > Discarded 7443578880 instances using the BnVariable(9) transition basin.\n",
      " > State space reduced to 5692506709950464[nodes:644].\n",
      " > Discarded 0 instances based on the BnVariable(9) extended component.\n",
      " > Discarded 23756537856 instances using the BnVariable(7) transition basin.\n",
      " > State space reduced to 5692482953412608[nodes:662].\n",
      " > Discarded 0 instances based on the BnVariable(7) extended component.\n",
      " > Discarded 4160749568 instances based on the BnVariable(33) extended component.\n",
      " > State space reduced to 5692478792663040[nodes:666].\n",
      " > Discarded 13220446208 instances based on the BnVariable(36) extended component.\n",
      " > State space reduced to 5692465572216832[nodes:632].\n",
      " > Discarded 7415529472 instances based on the BnVariable(16) extended component.\n",
      " > State space reduced to 5692458156687360[nodes:641].\n",
      " > Discarded 3707764736 instances based on the BnVariable(27) extended component.\n",
      " > State space reduced to 5692454448922624[nodes:648].\n",
      " > Discarded 2080247591206912 instances based on the BnVariable(26) extended component.\n",
      " > State space reduced to 3612206857715712[nodes:887].\n",
      " > Discarded 1209279068635136 instances based on the BnVariable(23) extended component.\n",
      " > State space reduced to 2402927789080576[nodes:1331].\n",
      " > Discarded 603329569030144 instances based on the BnVariable(24) extended component.\n",
      " > State space reduced to 1799598220050432[nodes:1381].\n",
      " > Discarded 301664784515072 instances based on the BnVariable(19) extended component.\n",
      " > State space reduced to 1497933435535360[nodes:1431].\n",
      " > Discarded 111640576 instances based on the BnVariable(20) extended component.\n",
      " > State space reduced to 1497933323894784[nodes:1454].\n",
      " > Discarded 0 instances using the BnVariable(0) transition basin.\n",
      " > Discarded 26255075631104 instances based on the BnVariable(0) extended component.\n",
      " > State space reduced to 1471678248263680[nodes:1057].\n",
      " > Discarded 28991029248 instances using the BnVariable(15) transition basin.\n",
      " > State space reduced to 1471649257234432[nodes:1211].\n",
      " > Discarded 651786199040 instances based on the BnVariable(15) extended component.\n",
      " > State space reduced to 1470997471035392[nodes:1035].\n",
      " > Discarded 25851396096 instances based on the BnVariable(13) extended component.\n",
      " > State space reduced to 1470971619639296[nodes:1094].\n",
      " > Discarded 12925698048 instances based on the BnVariable(14) extended component.\n",
      " > State space reduced to 1470958693941248[nodes:1107].\n",
      " > Discarded 6462849024 instances based on the BnVariable(17) extended component.\n",
      " > State space reduced to 1470952231092224[nodes:1129].\n",
      " > Discarded 3231424512 instances based on the BnVariable(12) extended component.\n",
      " > State space reduced to 1470948999667712[nodes:1142].\n",
      " > Discarded 446145085440 instances based on the BnVariable(30) extended component.\n",
      " > State space reduced to 1470502854582272[nodes:1190].\n",
      " > Discarded 258048 instances based on the BnVariable(18) extended component.\n",
      " > State space reduced to 1470502854324224[nodes:1200].\n",
      " > Discarded 807598080 instances based on the BnVariable(1) extended component.\n",
      " > State space reduced to 1470502046726144[nodes:1227].\n",
      " > Discarded 40359674576384 instances based on the BnVariable(3) extended component.\n",
      " > State space reduced to 1430142372149760[nodes:1188].\n",
      " > Discarded 64768 instances based on the BnVariable(11) extended component.\n",
      " > State space reduced to 1430142372084992[nodes:1214].\n",
      " > Discarded 44288 instances based on the BnVariable(5) extended component.\n",
      " > State space reduced to 1430142372040704[nodes:1097].\n",
      " > Discarded 4096 instances based on the BnVariable(22) extended component.\n",
      " > State space reduced to 1430142372036608[nodes:1102].\n",
      " > Discarded 2048 instances based on the BnVariable(4) extended component.\n",
      "Interleaved transition guided reduction finished with 1430142372034560[nodes:1104] candidates.\n",
      "Start Xie-Beerel attractor detection on 1430142372034560[nodes:1104] candidates.\n",
      " > Found a bottom SCC: 395224375361584x6704[nodes:2969].\n",
      " > Found a bottom SCC: 710221824x1488[nodes:692].\n",
      "Attractor detection finished with 2 results.\n"
     ]
    }
   ],
   "source": [
    "# This can take up several seconds to compute.\n",
    "attractors = Attractors.attractors(graph)\n",
    "\n",
    "# Check that we indeed got two disjoint attractor sets.\n",
    "assert(len(attractors) == 2)\n",
    "assert(attractors[0].colors().intersect(attractors[1].colors()).is_empty())\n",
    "\n",
    "# Merge the two disjoint sets into a single attractor set.\n",
    "attractor = attractors[0].union(attractors[1])"
   ]
  },
  {
   "cell_type": "markdown",
   "metadata": {
    "cell_id": "808ff3de-fbd2-4020-aa42-bd61a50cca59",
    "deepnote_app_coordinates": {
     "h": 5,
     "w": 12,
     "x": 0,
     "y": 36
    },
    "deepnote_cell_type": "markdown",
    "tags": []
   },
   "source": [
    "Analysing this model in the AEON user interface allows us to construct a basic decision tree describing how the behaviour of the model (i.e. the discovered attractors) changes for different settings of logical parameters. Since this is to a large extent an interactive task, it is not yet supported in the Python API. For completness, we here give a screenshot of the decision tree, which will inform our subsequent steps. Note that we refer to the three leafs of the tree as mode **I**, **II**, and **III** (left to right). "
   ]
  },
  {
   "cell_type": "markdown",
   "metadata": {
    "cell_id": "5b8bd3e2-cee1-4705-a3ac-ab53bd363ba2",
    "deepnote_app_coordinates": {
     "h": 5,
     "w": 12,
     "x": 0,
     "y": 42
    },
    "deepnote_cell_type": "markdown",
    "tags": []
   },
   "source": [
    "<p align=\"center\">\n",
    "  <img src=\"./decision-tree.png\" width=\"300\" />\n",
    "</p>"
   ]
  },
  {
   "cell_type": "markdown",
   "metadata": {
    "cell_id": "ec85be2e-6ae4-4e1e-844f-44296c423602",
    "deepnote_app_coordinates": {
     "h": 5,
     "w": 12,
     "x": 0,
     "y": 48
    },
    "deepnote_cell_type": "markdown",
    "tags": []
   },
   "source": [
    "### Validating known observations\n",
    "\n",
    "To compare our attractors with existing knowledge about the pathway, we need to further explore how the individual variables of the model behave in each of the three modes (leafs of the decision tree) shown above. We can do this using simple queries about the structure of the `attractor` set:"
   ]
  },
  {
   "cell_type": "code",
   "execution_count": 8,
   "metadata": {},
   "outputs": [
    {
     "name": "stdout",
     "output_type": "stream",
     "text": [
      "112508022784 2048 867621814984704\n"
     ]
    }
   ],
   "source": [
    "# Function `mk_colors` fixes the interpretation of a single unknown function/parameter.\n",
    "# Since the parameter in question is an input (arity zero), the only possible interpretations\n",
    "# are \"true\" and \"false\".\n",
    "sigA_off = graph.mk_function_colors(\"sigA\", \"false\")\n",
    "sigA_on = graph.mk_function_colors(\"sigA\", \"true\")\n",
    "\n",
    "glucose_off = graph.mk_function_colors(\"glucose\", \"false\")\n",
    "glucose_on = graph.mk_function_colors(\"glucose\", \"true\")\n",
    "\n",
    "mode_I = attractor.intersect_colors(sigA_off)\n",
    "mode_II = attractor.intersect_colors(sigA_on).intersect_colors(glucose_off)\n",
    "mode_III = attractor.intersect_colors(sigA_on).intersect_colors(glucose_on)\n",
    "\n",
    "print(int(mode_I.cardinality()), int(mode_II.cardinality()), int(mode_III.cardinality()))"
   ]
  },
  {
   "cell_type": "code",
   "execution_count": 9,
   "metadata": {
    "cell_id": "522dc08b-c61e-4518-955a-c31e7a0af70e",
    "deepnote_app_coordinates": {
     "h": 5,
     "w": 12,
     "x": 0,
     "y": 54
    },
    "deepnote_cell_type": "code",
    "deepnote_to_be_reexecuted": true,
    "execution_millis": 3,
    "execution_start": 1643451359369,
    "source_hash": "df979bf6",
    "tags": []
   },
   "outputs": [
    {
     "name": "stdout",
     "output_type": "stream",
     "text": [
      "Mode I {'on': ColorSet(cardinality=3072, symbolic_size=6), 'off': ColorSet(cardinality=0, symbolic_size=1), 'both': ColorSet(cardinality=1024, symbolic_size=5)}\n",
      "Mode II {'on': ColorSet(cardinality=0, symbolic_size=1), 'off': ColorSet(cardinality=2048, symbolic_size=4), 'both': ColorSet(cardinality=0, symbolic_size=1)}\n",
      "Mode III {'on': ColorSet(cardinality=0, symbolic_size=1), 'off': ColorSet(cardinality=0, symbolic_size=1), 'both': ColorSet(cardinality=2048, symbolic_size=4)}\n"
     ]
    }
   ],
   "source": [
    "# Classify the colors depending on whether a variable can be always true, \n",
    "# always false, or change its value (i.e. the set states contains both instances where the \n",
    "# variable is true and false).\n",
    "def check_stability(graph, states, variable):\n",
    "    on_colors = states.intersect(graph.mk_subspace({ variable: True})).colors()\n",
    "    off_colors = states.intersect(graph.mk_subspace({ variable: False })).colors()\n",
    "    both = on_colors.intersect(off_colors)\n",
    "    return { \"on\": on_colors.minus(both), \"off\": off_colors.minus(both), \"both\": both }\n",
    "\n",
    "print(\"Mode I\", check_stability(graph, mode_I, \"butanol\"))\n",
    "print(\"Mode II\", check_stability(graph, mode_II, \"butanol\"))\n",
    "print(\"Mode III\", check_stability(graph, mode_III, \"butanol\"))"
   ]
  },
  {
   "cell_type": "markdown",
   "metadata": {
    "cell_id": "2297c601-4c14-4d95-b2b9-8e06688dac56",
    "deepnote_app_coordinates": {
     "h": 5,
     "w": 12,
     "x": 0,
     "y": 60
    },
    "deepnote_cell_type": "markdown",
    "tags": []
   },
   "source": [
    "Here, we see that in mode **I**, `butanol` production is either perpetually (*on*) or intermittently (*both*) enabled. Meanwhile, in mode **II**, the value of `butanol` remains `false` for every possible parametrisation. Finally, in mode **III**, the value changes between `true` and `false` but never stabilises to a fixed value. Since we know from the decision tree that this attractor is disordered, we can assume that this is not a periodic oscillation.\n",
    "\n",
    "For comparison, we can run this analysis for multiple variables to get a more complete picture about the state of the cell in each of the attractors. To make the data more readable, we transform the absolute numbers of parametrisations to relative percentages:"
   ]
  },
  {
   "cell_type": "code",
   "execution_count": 10,
   "metadata": {
    "cell_id": "647b7a3a-a6d7-410e-904e-a2a04cd882f8",
    "deepnote_app_coordinates": {
     "h": 5,
     "w": 12,
     "x": 0,
     "y": 66
    },
    "deepnote_cell_type": "code",
    "deepnote_to_be_reexecuted": true,
    "execution_millis": 196,
    "execution_start": 1643451594693,
    "source_hash": "152dbcef",
    "tags": []
   },
   "outputs": [
    {
     "data": {
      "text/html": [
       "<div>\n",
       "<style scoped>\n",
       "    .dataframe tbody tr th:only-of-type {\n",
       "        vertical-align: middle;\n",
       "    }\n",
       "\n",
       "    .dataframe tbody tr th {\n",
       "        vertical-align: top;\n",
       "    }\n",
       "\n",
       "    .dataframe thead th {\n",
       "        text-align: right;\n",
       "    }\n",
       "</style>\n",
       "<table border=\"1\" class=\"dataframe\">\n",
       "  <thead>\n",
       "    <tr style=\"text-align: right;\">\n",
       "      <th></th>\n",
       "      <th>variable</th>\n",
       "      <th>sigA=off (I)</th>\n",
       "      <th>glucose=off (II)</th>\n",
       "      <th>glucose=on (III)</th>\n",
       "    </tr>\n",
       "  </thead>\n",
       "  <tbody>\n",
       "    <tr>\n",
       "      <th>0</th>\n",
       "      <td>acetic_acid</td>\n",
       "      <td>{'on': 75, 'both': 25}</td>\n",
       "      <td>{'off': 100}</td>\n",
       "      <td>{'both': 100}</td>\n",
       "    </tr>\n",
       "    <tr>\n",
       "      <th>1</th>\n",
       "      <td>butyric_acid</td>\n",
       "      <td>{'both': 100}</td>\n",
       "      <td>{'off': 100}</td>\n",
       "      <td>{'both': 100}</td>\n",
       "    </tr>\n",
       "    <tr>\n",
       "      <th>2</th>\n",
       "      <td>lactic_acid</td>\n",
       "      <td>{'on': 35, 'off': 53, 'both': 12}</td>\n",
       "      <td>{'off': 100}</td>\n",
       "      <td>{'off': 52, 'both': 48}</td>\n",
       "    </tr>\n",
       "    <tr>\n",
       "      <th>3</th>\n",
       "      <td>butanol</td>\n",
       "      <td>{'on': 75, 'both': 25}</td>\n",
       "      <td>{'off': 100}</td>\n",
       "      <td>{'both': 100}</td>\n",
       "    </tr>\n",
       "    <tr>\n",
       "      <th>4</th>\n",
       "      <td>ethanol</td>\n",
       "      <td>{'on': 50, 'off': 50}</td>\n",
       "      <td>{'off': 100}</td>\n",
       "      <td>{'off': 75, 'both': 25}</td>\n",
       "    </tr>\n",
       "    <tr>\n",
       "      <th>5</th>\n",
       "      <td>acetone</td>\n",
       "      <td>{'on': 75, 'both': 25}</td>\n",
       "      <td>{'off': 100}</td>\n",
       "      <td>{'both': 100}</td>\n",
       "    </tr>\n",
       "    <tr>\n",
       "      <th>6</th>\n",
       "      <td>sporulation</td>\n",
       "      <td>{'off': 75, 'both': 25}</td>\n",
       "      <td>{'on': 100}</td>\n",
       "      <td>{'both': 100}</td>\n",
       "    </tr>\n",
       "  </tbody>\n",
       "</table>\n",
       "</div>"
      ],
      "text/plain": [
       "       variable                       sigA=off (I) glucose=off (II)  \\\n",
       "0   acetic_acid             {'on': 75, 'both': 25}     {'off': 100}   \n",
       "1  butyric_acid                      {'both': 100}     {'off': 100}   \n",
       "2   lactic_acid  {'on': 35, 'off': 53, 'both': 12}     {'off': 100}   \n",
       "3       butanol             {'on': 75, 'both': 25}     {'off': 100}   \n",
       "4       ethanol              {'on': 50, 'off': 50}     {'off': 100}   \n",
       "5       acetone             {'on': 75, 'both': 25}     {'off': 100}   \n",
       "6   sporulation            {'off': 75, 'both': 25}      {'on': 100}   \n",
       "\n",
       "          glucose=on (III)  \n",
       "0            {'both': 100}  \n",
       "1            {'both': 100}  \n",
       "2  {'off': 52, 'both': 48}  \n",
       "3            {'both': 100}  \n",
       "4  {'off': 75, 'both': 25}  \n",
       "5            {'both': 100}  \n",
       "6            {'both': 100}  "
      ]
     },
     "execution_count": 10,
     "metadata": {},
     "output_type": "execute_result"
    }
   ],
   "source": [
    "table = []\n",
    "\n",
    "def process_stability(data):\n",
    "    size_all = data[\"on\"].cardinality() + data[\"off\"].cardinality() + data[\"both\"].cardinality()\n",
    "    result = {}\n",
    "    if not data[\"on\"].is_empty():\n",
    "        result[\"on\"] = round((data[\"on\"].cardinality() / size_all) * 100.0)\n",
    "    if not data[\"off\"].is_empty():\n",
    "        result[\"off\"] = round((data[\"off\"].cardinality() / size_all) * 100.0)\n",
    "    if not data[\"both\"].is_empty():\n",
    "        result[\"both\"] = round((data[\"both\"].cardinality() / size_all) * 100.0)\n",
    "    return result\n",
    "\n",
    "def add_row(graph, modes, table, variable):\n",
    "    results = [ process_stability(check_stability(graph, mode, variable)) for mode in modes ]\n",
    "    table.append([variable] + results)\n",
    "    \n",
    "\n",
    "for variable in [\"acetic_acid\", \"butyric_acid\", \"lactic_acid\", \"butanol\", \"ethanol\", \"acetone\", \"sporulation\"]:\n",
    "    add_row(graph, [mode_I, mode_II, mode_III], table, variable)\n",
    "    \n",
    "DataFrame(table, columns=[\"variable\", \"sigA=off (I)\", \"glucose=off (II)\", \"glucose=on (III)\"])"
   ]
  },
  {
   "cell_type": "markdown",
   "metadata": {
    "cell_id": "18a61b55-1c8f-42a4-bead-3833a3447b4b",
    "deepnote_app_coordinates": {
     "h": 5,
     "w": 12,
     "x": 0,
     "y": 72
    },
    "deepnote_cell_type": "markdown",
    "tags": []
   },
   "source": [
    "We focus on modes **II** and **III** which are studied in \\[1]. Here, the attractors align with biological expectations: when the nutrient (`glucose`) is absent, `sporulation` is active, and subsequently, production of other entities is supressed. Meanwhile, with nutrients, the cell is guaranteed to produce (irregularly) all products except for `ethanol` and `lactic_acid`. For these two products, there are possible input valuations where the production does not occur. For `ethanol`, this is expected. For `lactic_acid`, we also see relatively low expression in the observed data, but it may warrant additional investigation.\n",
    "\n",
    "Below, you can compare our data with in-vivo measurements and simulation performed as part of \\[1]."
   ]
  },
  {
   "cell_type": "markdown",
   "metadata": {
    "cell_id": "294bfde8-21ed-4b01-acbf-d0bb5b04c8f3",
    "deepnote_app_coordinates": {
     "h": 5,
     "w": 12,
     "x": 0,
     "y": 84
    },
    "deepnote_cell_type": "markdown",
    "tags": []
   },
   "source": [
    "<p align=\"center\">\n",
    "  <img src=\"./butanol-measurements.png\" width=\"400\" />\n",
    "</p>\n",
    "\n",
    "<p align=\"center\">\n",
    "  <img src=\"./butanol-simulation.png\" width=\"300\" />\n",
    "</p>"
   ]
  },
  {
   "cell_type": "markdown",
   "metadata": {
    "cell_id": "37650f86-bbaa-44eb-9250-b7f72b29f83e",
    "deepnote_app_coordinates": {
     "h": 5,
     "w": 12,
     "x": 0,
     "y": 78
    },
    "deepnote_cell_type": "markdown",
    "tags": []
   },
   "source": [
    "Furthermore, we can also compute the activity of other variables, in particular genes that were ivestigated in \\[1]:"
   ]
  },
  {
   "cell_type": "code",
   "execution_count": 11,
   "metadata": {
    "cell_id": "04b3a349-a7b9-42a5-b0e1-3428908f3aaf",
    "deepnote_app_coordinates": {
     "h": 5,
     "w": 12,
     "x": 0,
     "y": 90
    },
    "deepnote_cell_type": "code",
    "deepnote_to_be_reexecuted": true,
    "execution_millis": 119,
    "execution_start": 1643451844750,
    "source_hash": "1613931",
    "tags": []
   },
   "outputs": [
    {
     "data": {
      "text/html": [
       "<div>\n",
       "<style scoped>\n",
       "    .dataframe tbody tr th:only-of-type {\n",
       "        vertical-align: middle;\n",
       "    }\n",
       "\n",
       "    .dataframe tbody tr th {\n",
       "        vertical-align: top;\n",
       "    }\n",
       "\n",
       "    .dataframe thead th {\n",
       "        text-align: right;\n",
       "    }\n",
       "</style>\n",
       "<table border=\"1\" class=\"dataframe\">\n",
       "  <thead>\n",
       "    <tr style=\"text-align: right;\">\n",
       "      <th></th>\n",
       "      <th>variable</th>\n",
       "      <th>sigA=off (I)</th>\n",
       "      <th>glucose=off (II)</th>\n",
       "      <th>glucose=on (III)</th>\n",
       "    </tr>\n",
       "  </thead>\n",
       "  <tbody>\n",
       "    <tr>\n",
       "      <th>0</th>\n",
       "      <td>ack</td>\n",
       "      <td>{'on': 75, 'both': 25}</td>\n",
       "      <td>{'off': 100}</td>\n",
       "      <td>{'both': 100}</td>\n",
       "    </tr>\n",
       "    <tr>\n",
       "      <th>1</th>\n",
       "      <td>adc</td>\n",
       "      <td>{'off': 75, 'both': 25}</td>\n",
       "      <td>{'off': 100}</td>\n",
       "      <td>{'off': 50, 'both': 50}</td>\n",
       "    </tr>\n",
       "    <tr>\n",
       "      <th>2</th>\n",
       "      <td>bdhAB</td>\n",
       "      <td>{'off': 75, 'both': 25}</td>\n",
       "      <td>{'off': 100}</td>\n",
       "      <td>{'off': 50, 'both': 50}</td>\n",
       "    </tr>\n",
       "    <tr>\n",
       "      <th>3</th>\n",
       "      <td>buk1</td>\n",
       "      <td>{'on': 75, 'both': 25}</td>\n",
       "      <td>{'off': 100}</td>\n",
       "      <td>{'both': 100}</td>\n",
       "    </tr>\n",
       "    <tr>\n",
       "      <th>4</th>\n",
       "      <td>crt</td>\n",
       "      <td>{'on': 75, 'both': 25}</td>\n",
       "      <td>{'off': 100}</td>\n",
       "      <td>{'both': 100}</td>\n",
       "    </tr>\n",
       "    <tr>\n",
       "      <th>5</th>\n",
       "      <td>hbd</td>\n",
       "      <td>{'on': 75, 'both': 25}</td>\n",
       "      <td>{'off': 100}</td>\n",
       "      <td>{'both': 100}</td>\n",
       "    </tr>\n",
       "    <tr>\n",
       "      <th>6</th>\n",
       "      <td>pta</td>\n",
       "      <td>{'on': 75, 'both': 25}</td>\n",
       "      <td>{'off': 100}</td>\n",
       "      <td>{'both': 100}</td>\n",
       "    </tr>\n",
       "  </tbody>\n",
       "</table>\n",
       "</div>"
      ],
      "text/plain": [
       "  variable             sigA=off (I) glucose=off (II)         glucose=on (III)\n",
       "0      ack   {'on': 75, 'both': 25}     {'off': 100}            {'both': 100}\n",
       "1      adc  {'off': 75, 'both': 25}     {'off': 100}  {'off': 50, 'both': 50}\n",
       "2    bdhAB  {'off': 75, 'both': 25}     {'off': 100}  {'off': 50, 'both': 50}\n",
       "3     buk1   {'on': 75, 'both': 25}     {'off': 100}            {'both': 100}\n",
       "4      crt   {'on': 75, 'both': 25}     {'off': 100}            {'both': 100}\n",
       "5      hbd   {'on': 75, 'both': 25}     {'off': 100}            {'both': 100}\n",
       "6      pta   {'on': 75, 'both': 25}     {'off': 100}            {'both': 100}"
      ]
     },
     "execution_count": 11,
     "metadata": {},
     "output_type": "execute_result"
    }
   ],
   "source": [
    "gene_table = []\n",
    "\n",
    "for variable in [\"ack\", \"adc\", \"bdhAB\", \"buk1\", \"crt\", \"hbd\", \"pta\"]:\n",
    "    add_row(graph, [mode_I, mode_II, mode_III], gene_table, variable)\n",
    "\n",
    "DataFrame(gene_table, columns=[\"variable\", \"sigA=off (I)\", \"glucose=off (II)\", \"glucose=on (III)\"])"
   ]
  },
  {
   "cell_type": "markdown",
   "metadata": {
    "cell_id": "30415874-7551-4082-96ee-03704502d224",
    "deepnote_app_coordinates": {
     "h": 5,
     "w": 12,
     "x": 0,
     "y": 96
    },
    "deepnote_cell_type": "markdown",
    "tags": []
   },
   "source": [
    "Here, we also find that we are mostly in aggreement with the behaviour measured by the authors, where activity of all genes is suppressed in the sporulation stage, but each gene should become (irregularly) active once `glucose` is present. The only exception are `adc` and `bdhAB`, which also allow configurations with no activity. Note that these two genes only appear to activate after a period of time in the original experiments, indicating a change in the environment which could align with a change of the input parameters in our model."
   ]
  },
  {
   "cell_type": "markdown",
   "metadata": {
    "cell_id": "917e253c-a257-435d-a69a-7a5a0fc66ceb",
    "deepnote_app_coordinates": {
     "h": 5,
     "w": 12,
     "x": 0,
     "y": 102
    },
    "deepnote_cell_type": "markdown",
    "tags": []
   },
   "source": [
    "### Update function repair\n",
    "\n",
    "In the first part, we had to relax the regulatory graph of the network because it was not consistent with its update functions. Now, we attempt to fix this issue by devising a new version of the model that is consistent with the original regulatory graph, but also reproduces the attractors of the original network as closely as possible (since these were experimentally confirmed).\n",
    "\n",
    "As the first step, we use the original Boolean model, but augment it with three uninterpreted Boolean functions which will stand in for the (currently) problematic parts of the update functions. Such a change would be easier to perform in the interactive model editor provided by AEON, but for completeness, we also describe it here in code:"
   ]
  },
  {
   "cell_type": "code",
   "execution_count": 12,
   "metadata": {
    "cell_id": "981c8dfa-113c-45b5-b8b5-2b0cf9801318",
    "deepnote_app_coordinates": {
     "h": 5,
     "w": 12,
     "x": 0,
     "y": 108
    },
    "deepnote_cell_type": "code",
    "deepnote_output_heights": [
     21
    ],
    "deepnote_to_be_reexecuted": true,
    "execution_millis": 759,
    "execution_start": 1643452807747,
    "source_hash": "1a43e744",
    "tags": []
   },
   "outputs": [
    {
     "name": "stdout",
     "output_type": "stream",
     "text": [
      "spo0A & phosphorylation & f_1(sigA, sporulation)\n"
     ]
    }
   ],
   "source": [
    "model = BooleanNetwork.from_file('butanol-pathway.sbml')\n",
    "\n",
    "# Declare uninterpreted functions:\n",
    "model.add_explicit_parameter(\"f_1\", 2 )\n",
    "model.add_explicit_parameter(\"f_2\", 2 )\n",
    "model.add_explicit_parameter(\"f_3\", 3 )\n",
    "\n",
    "# Change original functions and confirm that the change has been successful:\n",
    "f_spo0A_p = \"spo0A & phosphorylation & f_1(sigA, sporulation)\"\n",
    "f_glucose_PTS = \"glucose & PTS & f_2(cell_membrane, sporulation)\"\n",
    "f_spoIIAB = \"spo0A_p & f_3(sigH, spoIIAA, spoIIE)\"\n",
    "\n",
    "model.set_update_function(\"spo0A_p\", f_spo0A_p)\n",
    "model.set_update_function(\"glucose___PTS\", f_glucose_PTS)\n",
    "model.set_update_function(\"spoIIAB\", f_spoIIAB)\n",
    "\n",
    "print(model.get_update_function(\"spo0A_p\"))"
   ]
  },
  {
   "cell_type": "markdown",
   "metadata": {},
   "source": [
    "Note that in this case, we have not inlined the network inputs as parameters. This is because some of the inputs are arguments of the newly added uninterpreted functions, and we want to maintain the annotations regarding essentiality and monotonicity of those influences. If we turned them into parameters, we lose the ability to assign those requirements.\n",
    "\n",
    " > Such annotations for parameters are currently not supported, but we are intending to add them in the future.\n",
    "\n",
    "To better understand the possible behaviours of our parametrized model, we can print the individual functions that are valid for each of the uninterpreted symbols:"
   ]
  },
  {
   "cell_type": "code",
   "execution_count": 13,
   "metadata": {},
   "outputs": [
    {
     "name": "stdout",
     "output_type": "stream",
     "text": [
      "f_1: (x_0 & !x_1)\n",
      "spo0A_p update: phosphorylation & sigA & spo0A & !sporulation\n",
      "f_1: ((!x_0 & !x_1) | x_0)\n",
      "spo0A_p update: (phosphorylation & sigA & spo0A) | (phosphorylation & !sigA & spo0A & !sporulation)\n",
      "\n",
      "f_2: (x_0 & !x_1)\n",
      "glucose___PTS update: PTS & cell_membrane & glucose & !sporulation\n",
      "f_2: (!x_0 & !x_1)\n",
      "glucose___PTS update: PTS & !cell_membrane & glucose & !sporulation\n",
      "f_2: ((!x_0 & !x_1) | x_0)\n",
      "glucose___PTS update: (PTS & cell_membrane & glucose) | (PTS & !cell_membrane & glucose & !sporulation)\n",
      "f_2: (!x_0 | (x_0 & !x_1))\n",
      "glucose___PTS update: (PTS & cell_membrane & glucose & !sporulation) | (PTS & !cell_membrane & glucose)\n",
      "\n",
      "f_3: (x_0 & (!x_1 & x_2))\n",
      "spoIIAB update: sigH & spo0A_p & !spoIIAA & spoIIE\n",
      "f_3: ((!x_0 & (!x_1 & x_2)) | (x_0 & x_2))\n",
      "spoIIAB update: (sigH & spo0A_p & spoIIE) | (!sigH & spo0A_p & !spoIIAA & spoIIE)\n",
      "f_3: ((x_0 & !x_1) | (x_0 & (x_1 & x_2)))\n",
      "spoIIAB update: (sigH & spo0A_p & spoIIAA & spoIIE) | (sigH & spo0A_p & !spoIIAA)\n",
      "f_3: ((!x_0 & (!x_1 & x_2)) | (x_0 & !x_1))\n",
      "spoIIAB update: (sigH & spo0A_p & !spoIIAA) | (!sigH & spo0A_p & !spoIIAA & spoIIE)\n",
      "f_3: ((!x_0 & (!x_1 & x_2)) | ((x_0 & !x_1) | (x_0 & (x_1 & x_2))))\n",
      "spoIIAB update: (sigH & spo0A_p & spoIIAA & spoIIE) | (sigH & spo0A_p & !spoIIAA) | (!sigH & spo0A_p & !spoIIAA & spoIIE)\n",
      "f_3: ((!x_0 & x_2) | ((x_0 & !x_1) | (x_0 & (x_1 & x_2))))\n",
      "spoIIAB update: (spo0A_p & spoIIE) | (sigH & spo0A_p & !spoIIAA & !spoIIE)\n",
      "f_3: ((!x_0 & (!x_1 & x_2)) | x_0)\n",
      "spoIIAB update: (sigH & spo0A_p) | (!sigH & spo0A_p & !spoIIAA & spoIIE)\n",
      "f_3: ((!x_0 & !x_1) | ((x_0 & !x_1) | (x_0 & (x_1 & x_2))))\n",
      "spoIIAB update: (sigH & spo0A_p & spoIIAA & spoIIE) | (spo0A_p & !spoIIAA)\n",
      "f_3: ((!x_0 & !x_1) | ((!x_0 & (x_1 & x_2)) | x_0))\n",
      "spoIIAB update: (sigH & spo0A_p) | (!sigH & spo0A_p & spoIIAA & spoIIE) | (!sigH & spo0A_p & !spoIIAA)\n"
     ]
    }
   ],
   "source": [
    "graph = AsynchronousGraph(model)\n",
    "for m in graph.mk_unit_colors().items([\"f_1\"]):\n",
    "    print(\"f_1:\", m[\"f_1\"])\n",
    "    print(\"spo0A_p update:\", m.instantiate(model.get_update_function(\"spo0A_p\")))\n",
    "\n",
    "print(\"\")\n",
    "for m in graph.mk_unit_colors().items([\"f_2\"]):\n",
    "    print(\"f_2:\", m[\"f_2\"])\n",
    "    print(\"glucose___PTS update:\", m.instantiate(model.get_update_function(\"glucose___PTS\")))\n",
    "\n",
    "print()\n",
    "for m in graph.mk_unit_colors().items([\"f_3\"]):\n",
    "    print(\"f_3:\", m[\"f_3\"])\n",
    "    print(\"spoIIAB update:\", m.instantiate(model.get_update_function(\"spoIIAB\")))"
   ]
  },
  {
   "cell_type": "code",
   "execution_count": 14,
   "metadata": {
    "cell_id": "26481f38-9161-46a2-b99f-6acfbed29f5e",
    "deepnote_app_coordinates": {
     "h": 5,
     "w": 12,
     "x": 0,
     "y": 114
    },
    "deepnote_cell_type": "code",
    "deepnote_output_heights": [
     21
    ],
    "deepnote_to_be_reexecuted": true,
    "execution_millis": 2,
    "execution_start": 1643452870188,
    "source_hash": "c9910969",
    "tags": []
   },
   "outputs": [],
   "source": [
    "# Save the modified model for future reference.\n",
    "Path('butanol-pathway-f1-f2-f3.aeon').write_text(model.to_aeon());"
   ]
  },
  {
   "cell_type": "markdown",
   "metadata": {
    "cell_id": "6640f818-906d-4a6f-879c-04a68107e45b",
    "deepnote_app_coordinates": {
     "h": 5,
     "w": 12,
     "x": 0,
     "y": 120
    },
    "deepnote_cell_type": "markdown",
    "tags": []
   },
   "source": [
    "With these new explicit \"functional\" parameters, we can again compute the attractors of the network, and just as before, we end up with a single attractor. *Note that the compuation can take several minutes.* This is because AEON actually tests every combination of possible functions `f_1`, `f_2`, and `f_3`, as long as they satisfy the constraints given by the regulatory graph."
   ]
  },
  {
   "cell_type": "code",
   "execution_count": 15,
   "metadata": {
    "cell_id": "ea878fe2-7cb4-405e-92dc-176b44fffdc4",
    "deepnote_app_coordinates": {
     "h": 5,
     "w": 12,
     "x": 0,
     "y": 126
    },
    "deepnote_cell_type": "code",
    "deepnote_to_be_reexecuted": true,
    "execution_millis": 166535,
    "execution_start": 1643452920744,
    "source_hash": "18cee6af",
    "tags": []
   },
   "outputs": [
    {
     "name": "stdout",
     "output_type": "stream",
     "text": [
      "Start interleaved transition guided reduction with 43521329506126650000000000[nodes:39] candidates.\n",
      " > Discarded 21760664753063325000000000 instances based on the BnVariable(63) extended component.\n",
      " > State space reduced to 21760664753063325000000000[nodes:42].\n",
      " > Discarded 10880332376531663000000000 instances based on the BnVariable(51) extended component.\n",
      " > State space reduced to 10880332376531663000000000[nodes:45].\n",
      " > Discarded 5440166188265831000000000 instances based on the BnVariable(55) extended component.\n",
      " > State space reduced to 5440166188265831000000000[nodes:47].\n",
      " > Discarded 2720083094132915600000000 instances based on the BnVariable(46) extended component.\n",
      " > State space reduced to 2720083094132915600000000[nodes:50].\n",
      " > Discarded 1360041547066457800000000 instances based on the BnVariable(45) extended component.\n",
      " > State space reduced to 1360041547066457800000000[nodes:53].\n",
      " > Discarded 680020773533228900000000 instances based on the BnVariable(44) extended component.\n",
      " > State space reduced to 680020773533228900000000[nodes:56].\n",
      " > Discarded 340010386766614460000000 instances based on the BnVariable(43) extended component.\n",
      " > State space reduced to 340010386766614460000000[nodes:59].\n",
      " > Discarded 170005193383307230000000 instances based on the BnVariable(38) extended component.\n",
      " > State space reduced to 170005193383307230000000[nodes:62].\n",
      " > Discarded 85002596691653610000000 instances based on the BnVariable(37) extended component.\n",
      " > State space reduced to 85002596691653610000000[nodes:65].\n",
      " > Discarded 42501298345826810000000 instances based on the BnVariable(35) extended component.\n",
      " > State space reduced to 42501298345826810000000[nodes:68].\n",
      " > Discarded 21250649172913403000000 instances based on the BnVariable(6) extended component.\n",
      " > State space reduced to 21250649172913403000000[nodes:71].\n",
      " > Discarded 10625324586456702000000 instances based on the BnVariable(5) extended component.\n",
      " > State space reduced to 10625324586456702000000[nodes:74].\n",
      " > Discarded 5312662293228351000000 instances based on the BnVariable(4) extended component.\n",
      " > State space reduced to 5312662293228351000000[nodes:77].\n",
      " > Discarded 2656331146614175400000 instances based on the BnVariable(3) extended component.\n",
      " > State space reduced to 2656331146614175400000[nodes:80].\n",
      " > Discarded 1328165573307087700000 instances based on the BnVariable(2) extended component.\n",
      " > State space reduced to 1328165573307087700000[nodes:82].\n",
      " > Discarded 664082786653543900000 instances based on the BnVariable(36) extended component.\n",
      " > State space reduced to 664082786653543900000[nodes:87].\n",
      " > Discarded 332041393326771900000 instances based on the BnVariable(49) extended component.\n",
      " > State space reduced to 332041393326771900000[nodes:98].\n",
      " > Discarded 175910601445091570000 instances based on the BnVariable(58) extended component.\n",
      " > State space reduced to 156130791881680360000[nodes:267].\n",
      " > Discarded 72877249170109370000 instances based on the BnVariable(59) extended component.\n",
      " > State space reduced to 83253542711570990000[nodes:327].\n",
      " > Discarded 28413210049080460000 instances based on the BnVariable(64) extended component.\n",
      " > State space reduced to 54840332662490530000[nodes:435].\n",
      " > Discarded 9119789245425254000 instances based on the BnVariable(48) extended component.\n",
      " > State space reduced to 45720543417065275000[nodes:456].\n",
      " > Discarded 9889904781705610000 instances based on the BnVariable(32) extended component.\n",
      " > State space reduced to 35830638635359666000[nodes:578].\n",
      " > Discarded 4944952390852805000 instances based on the BnVariable(33) extended component.\n",
      " > State space reduced to 30885686244506860000[nodes:625].\n",
      " > Discarded 1817758475036393500 instances based on the BnVariable(12) extended component.\n",
      " > State space reduced to 29067927769470470000[nodes:1090].\n",
      " > Discarded 86678171667136510 instances based on the BnVariable(29) extended component.\n",
      " > Finished ITGR process. 41 processes remaining.\n",
      " > State space reduced to 28981249597803330000[nodes:1052].\n",
      " > Discarded 0 instances using the BnVariable(10) transition basin.\n",
      " > Discarded 25215945134472954000 instances based on the BnVariable(10) extended component.\n",
      " > State space reduced to 3765304463330377700[nodes:1729].\n",
      " > Discarded 25602084229349376 instances using the BnVariable(11) transition basin.\n",
      " > Finished ITGR process. 40 processes remaining.\n",
      " > State space reduced to 3739702379101028400[nodes:1376].\n",
      " > Discarded 82331430687866880 instances based on the BnVariable(11) extended component.\n",
      " > Finished ITGR process. 39 processes remaining.\n",
      " > State space reduced to 3657370948413161500[nodes:1374].\n",
      " > Discarded 232714934553673730 instances based on the BnVariable(65) extended component.\n",
      " > Finished ITGR process. 38 processes remaining.\n",
      " > State space reduced to 3424656013859488000[nodes:1386].\n",
      " > Discarded 1305907563501453300 instances based on the BnVariable(14) extended component.\n",
      " > Finished ITGR process. 37 processes remaining.\n",
      " > State space reduced to 2118748450358034400[nodes:1533].\n",
      " > Discarded 5494534481903616 instances based on the BnVariable(40) extended component.\n",
      " > Finished ITGR process. 36 processes remaining.\n",
      " > State space reduced to 2113253915876130800[nodes:1539].\n",
      " > Finished ITGR process. 36 processes remaining.\n",
      " > Discarded 808113962351591400 instances based on the BnVariable(50) extended component.\n",
      " > Finished ITGR process. 35 processes remaining.\n",
      " > State space reduced to 1305139953524539400[nodes:1654].\n",
      " > Discarded 239878733844971520 instances based on the BnVariable(39) extended component.\n",
      " > Finished ITGR process. 34 processes remaining.\n",
      " > State space reduced to 1065261219679567900[nodes:1623].\n",
      " > Discarded 474989023199232 instances based on the BnVariable(25) extended component.\n",
      " > Finished ITGR process. 33 processes remaining.\n",
      " > State space reduced to 1064786230656368600[nodes:1649].\n",
      " > Discarded 440838981106532350 instances based on the BnVariable(41) extended component.\n",
      " > Finished ITGR process. 32 processes remaining.\n",
      " > State space reduced to 623947249549836300[nodes:2220].\n",
      " > Discarded 150191621302910980 instances based on the BnVariable(42) extended component.\n",
      " > Finished ITGR process. 31 processes remaining.\n",
      " > State space reduced to 473755628246925300[nodes:2278].\n",
      " > Discarded 180941159676248060 instances based on the BnVariable(30) extended component.\n",
      " > Finished ITGR process. 30 processes remaining.\n",
      " > State space reduced to 292814468570677250[nodes:2651].\n",
      " > Discarded 159085318859915260 instances based on the BnVariable(27) extended component.\n",
      " > Finished ITGR process. 29 processes remaining.\n",
      " > State space reduced to 133729149710761980[nodes:4625].\n",
      " > Finished ITGR process. 29 processes remaining.\n",
      " > Discarded 50116813741096960 instances based on the BnVariable(23) extended component.\n",
      " > Finished ITGR process. 28 processes remaining.\n",
      " > State space reduced to 83612335969665020[nodes:4707].\n",
      " > Discarded 25058406870548480 instances based on the BnVariable(28) extended component.\n",
      " > Finished ITGR process. 27 processes remaining.\n",
      " > State space reduced to 58553929099116540[nodes:4789].\n",
      " > Discarded 14461156196352 instances based on the BnVariable(24) extended component.\n",
      " > Finished ITGR process. 26 processes remaining.\n",
      " > State space reduced to 58539467942920190[nodes:4869].\n",
      " > Discarded 1835492179968 instances using the BnVariable(0) transition basin.\n",
      " > Finished ITGR process. 26 processes remaining.\n",
      " > State space reduced to 58537632450740220[nodes:4896].\n",
      " > Discarded 2316369338302464 instances based on the BnVariable(0) extended component.\n",
      " > Finished ITGR process. 25 processes remaining.\n",
      " > State space reduced to 56221263112437760[nodes:4083].\n",
      " > Finished ITGR process. 25 processes remaining.\n",
      " > Discarded 13522007349657600 instances based on the BnVariable(7) extended component.\n",
      " > Finished ITGR process. 24 processes remaining.\n",
      " > State space reduced to 42699255762780160[nodes:4109].\n",
      " > Discarded 1311224251809792 instances based on the BnVariable(53) extended component.\n",
      " > Finished ITGR process. 23 processes remaining.\n",
      " > State space reduced to 41388031510970370[nodes:4181].\n",
      " > Discarded 551531042570240 instances based on the BnVariable(52) extended component.\n",
      " > Finished ITGR process. 22 processes remaining.\n",
      " > State space reduced to 40836500468400130[nodes:4190].\n",
      " > Discarded 275765521285120 instances based on the BnVariable(54) extended component.\n",
      " > Finished ITGR process. 21 processes remaining.\n",
      " > State space reduced to 40560734947115010[nodes:4203].\n",
      " > Discarded 137882760642560 instances based on the BnVariable(56) extended component.\n",
      " > Finished ITGR process. 20 processes remaining.\n",
      " > State space reduced to 40422852186472450[nodes:4054].\n",
      " > Discarded 294764544000 instances based on the BnVariable(31) extended component.\n",
      " > Finished ITGR process. 19 processes remaining.\n",
      " > State space reduced to 40422557421928450[nodes:4080].\n",
      " > Discarded 192354541109248 instances based on the BnVariable(57) extended component.\n",
      " > Finished ITGR process. 18 processes remaining.\n",
      " > State space reduced to 40230202880819200[nodes:4082].\n",
      " > Discarded 10746008174592 instances using the BnVariable(19) transition basin.\n",
      " > Finished ITGR process. 18 processes remaining.\n",
      " > State space reduced to 40219456872644610[nodes:4800].\n",
      " > Discarded 34458546864128 instances based on the BnVariable(19) extended component.\n",
      " > Finished ITGR process. 17 processes remaining.\n",
      " > State space reduced to 40184998325780480[nodes:4525].\n",
      " > Discarded 1875640320 instances using the BnVariable(13) transition basin.\n",
      " > Finished ITGR process. 17 processes remaining.\n",
      " > State space reduced to 40184996450140160[nodes:5052].\n",
      " > Discarded 0 instances based on the BnVariable(13) extended component.\n",
      " > Finished ITGR process. 16 processes remaining.\n",
      " > Discarded 71898937163776 instances based on the BnVariable(34) extended component.\n",
      " > Finished ITGR process. 15 processes remaining.\n",
      " > State space reduced to 40113097512976380[nodes:5015].\n",
      " > Finished ITGR process. 15 processes remaining.\n",
      " > Finished ITGR process. 15 processes remaining.\n",
      " > Discarded 665321472 instances using the BnVariable(22) transition basin.\n",
      " > Finished ITGR process. 15 processes remaining.\n",
      " > State space reduced to 40113096847654910[nodes:5100].\n",
      " > Discarded 32806600704 instances based on the BnVariable(22) extended component.\n",
      " > Finished ITGR process. 14 processes remaining.\n",
      " > State space reduced to 40113064041054210[nodes:5085].\n",
      " > Discarded 19423199232 instances based on the BnVariable(15) extended component.\n",
      " > Finished ITGR process. 13 processes remaining.\n",
      " > State space reduced to 40113044617854980[nodes:4464].\n",
      " > Finished ITGR process. 13 processes remaining.\n",
      " > Finished ITGR process. 13 processes remaining.\n",
      " > Discarded 2800312860672 instances based on the BnVariable(21) extended component.\n",
      " > Finished ITGR process. 12 processes remaining.\n",
      " > State space reduced to 40110244304994300[nodes:4668].\n",
      " > Finished ITGR process. 12 processes remaining.\n",
      " > Discarded 1400156430336 instances based on the BnVariable(17) extended component.\n",
      " > Finished ITGR process. 11 processes remaining.\n",
      " > State space reduced to 40108844148563970[nodes:4764].\n",
      " > Finished ITGR process. 11 processes remaining.\n",
      " > Discarded 700078215168 instances based on the BnVariable(18) extended component.\n",
      " > Finished ITGR process. 10 processes remaining.\n",
      " > State space reduced to 40108144070348800[nodes:4824].\n",
      " > Discarded 350039107584 instances based on the BnVariable(16) extended component.\n",
      " > State space reduced to 40107794031241220[nodes:4884].\n",
      " > Discarded 175019553792 instances based on the BnVariable(1) extended component.\n",
      " > State space reduced to 40107619011687420[nodes:5024].\n",
      " > Discarded 310196736 instances based on the BnVariable(20) extended component.\n",
      " > State space reduced to 40107618701490690[nodes:5072].\n",
      " > Discarded 16922436410368 instances based on the BnVariable(60) extended component.\n",
      " > State space reduced to 40090696265080320[nodes:5084].\n",
      " > Discarded 97963776 instances based on the BnVariable(47) extended component.\n",
      " > State space reduced to 40090696167116540[nodes:5128].\n",
      " > Discarded 11629897672576 instances based on the BnVariable(62) extended component.\n",
      " > State space reduced to 40079066269443970[nodes:5184].\n",
      " > Discarded 5814948836288 instances based on the BnVariable(61) extended component.\n",
      " > State space reduced to 40073251320607680[nodes:5212].\n",
      " > Discarded 5908032 instances based on the BnVariable(9) extended component.\n",
      " > State space reduced to 40073251314699650[nodes:5044].\n",
      " > Discarded 673920 instances based on the BnVariable(26) extended component.\n",
      " > State space reduced to 40073251314025730[nodes:5071].\n",
      " > Discarded 147456 instances based on the BnVariable(8) extended component.\n",
      "Interleaved transition guided reduction finished with 40073251313878270[nodes:4984] candidates.\n",
      "Start Xie-Beerel attractor detection on 40073251313878270[nodes:4984] candidates.\n",
      " > Found a bottom SCC: 869009652591616x459712[nodes:9541].\n",
      " > Found a bottom SCC: 159036850368x130112[nodes:3608].\n",
      "Attractor detection finished with 2 results.\n"
     ]
    }
   ],
   "source": [
    "graph = AsynchronousGraph(model)\n",
    "attractors = Attractors.attractors(graph, graph.mk_unit_colored_vertices())\n",
    "\n",
    "assert(len(attractors) == 2)\n",
    "assert(attractors[0].colors().intersect(attractors[1].colors()).is_empty())\n",
    "\n",
    "attractor = attractors[0].union(attractors[1])"
   ]
  },
  {
   "cell_type": "markdown",
   "metadata": {
    "cell_id": "bdc558fe-d4d8-4bf6-9c63-99e4cab608fa",
    "deepnote_app_coordinates": {
     "h": 5,
     "w": 12,
     "x": 0,
     "y": 132
    },
    "deepnote_cell_type": "markdown",
    "tags": []
   },
   "source": [
    "Interestingly, this (parametrised) set of attractors leads to the same bifurcation decision tree as we saw in the original model (see above).\n",
    "\n",
    "Subsequently, we can also compute a similar table of stable and unstable variables as before:"
   ]
  },
  {
   "cell_type": "code",
   "execution_count": 16,
   "metadata": {
    "cell_id": "3fde0303-b3d2-41dd-ae55-b935034fdbe2",
    "deepnote_app_coordinates": {
     "h": 5,
     "w": 12,
     "x": 0,
     "y": 138
    },
    "deepnote_cell_type": "code",
    "deepnote_to_be_reexecuted": true,
    "execution_millis": 0,
    "execution_start": 1643453437504,
    "source_hash": "46d50afe",
    "tags": []
   },
   "outputs": [
    {
     "name": "stdout",
     "output_type": "stream",
     "text": [
      "10350737997824 147456 24311321730221696\n"
     ]
    }
   ],
   "source": [
    "# Here, we did not inline the network inputs. Hence, `sigA` and `glucose` \n",
    "# are variables, not parameters and we have to use `mk_subspace` instead of `mk_colors`.\n",
    "\n",
    "sigA_off = graph.mk_subspace({ \"sigA\": False })\n",
    "sigA_on = graph.mk_subspace({ \"sigA\": True })\n",
    "\n",
    "glucose_off = graph.mk_subspace( { \"glucose\": False })\n",
    "glucose_on = graph.mk_subspace({ \"glucose\": True })\n",
    "\n",
    "mode_I = attractor.intersect(sigA_off)\n",
    "mode_II = attractor.intersect(sigA_on).intersect(glucose_off)\n",
    "mode_III = attractor.intersect(sigA_on).intersect(glucose_on)\n",
    "\n",
    "print(int(mode_I.cardinality()), int(mode_II.cardinality()), int(mode_III.cardinality()))"
   ]
  },
  {
   "cell_type": "code",
   "execution_count": 17,
   "metadata": {
    "cell_id": "099e73fa-d176-494e-ade8-8eb99c14ae6d",
    "deepnote_app_coordinates": {
     "h": 5,
     "w": 12,
     "x": 0,
     "y": 144
    },
    "deepnote_cell_type": "code",
    "deepnote_to_be_reexecuted": true,
    "execution_millis": 251,
    "execution_start": 1643453452386,
    "source_hash": "8a08efc3",
    "tags": []
   },
   "outputs": [
    {
     "data": {
      "text/html": [
       "<div>\n",
       "<style scoped>\n",
       "    .dataframe tbody tr th:only-of-type {\n",
       "        vertical-align: middle;\n",
       "    }\n",
       "\n",
       "    .dataframe tbody tr th {\n",
       "        vertical-align: top;\n",
       "    }\n",
       "\n",
       "    .dataframe thead th {\n",
       "        text-align: right;\n",
       "    }\n",
       "</style>\n",
       "<table border=\"1\" class=\"dataframe\">\n",
       "  <thead>\n",
       "    <tr style=\"text-align: right;\">\n",
       "      <th></th>\n",
       "      <th>variable</th>\n",
       "      <th>sigA=off (I)</th>\n",
       "      <th>glucose=off (II)</th>\n",
       "      <th>glucose=on (III)</th>\n",
       "    </tr>\n",
       "  </thead>\n",
       "  <tbody>\n",
       "    <tr>\n",
       "      <th>0</th>\n",
       "      <td>acetic_acid</td>\n",
       "      <td>{'on': 88, 'both': 12}</td>\n",
       "      <td>{'off': 100}</td>\n",
       "      <td>{'off': 12, 'both': 88}</td>\n",
       "    </tr>\n",
       "    <tr>\n",
       "      <th>1</th>\n",
       "      <td>butyric_acid</td>\n",
       "      <td>{'both': 100}</td>\n",
       "      <td>{'off': 100}</td>\n",
       "      <td>{'off': 12, 'both': 88}</td>\n",
       "    </tr>\n",
       "    <tr>\n",
       "      <th>2</th>\n",
       "      <td>lactic_acid</td>\n",
       "      <td>{'on': 42, 'off': 53, 'both': 6}</td>\n",
       "      <td>{'off': 100}</td>\n",
       "      <td>{'off': 52, 'both': 48}</td>\n",
       "    </tr>\n",
       "    <tr>\n",
       "      <th>3</th>\n",
       "      <td>butanol</td>\n",
       "      <td>{'on': 88, 'both': 12}</td>\n",
       "      <td>{'off': 100}</td>\n",
       "      <td>{'both': 100}</td>\n",
       "    </tr>\n",
       "    <tr>\n",
       "      <th>4</th>\n",
       "      <td>ethanol</td>\n",
       "      <td>{'on': 50, 'off': 50}</td>\n",
       "      <td>{'off': 100}</td>\n",
       "      <td>{'off': 90, 'both': 10}</td>\n",
       "    </tr>\n",
       "    <tr>\n",
       "      <th>5</th>\n",
       "      <td>acetone</td>\n",
       "      <td>{'on': 88, 'both': 12}</td>\n",
       "      <td>{'off': 100}</td>\n",
       "      <td>{'both': 100}</td>\n",
       "    </tr>\n",
       "    <tr>\n",
       "      <th>6</th>\n",
       "      <td>sporulation</td>\n",
       "      <td>{'off': 88, 'both': 12}</td>\n",
       "      <td>{'on': 100}</td>\n",
       "      <td>{'both': 100}</td>\n",
       "    </tr>\n",
       "  </tbody>\n",
       "</table>\n",
       "</div>"
      ],
      "text/plain": [
       "       variable                      sigA=off (I) glucose=off (II)  \\\n",
       "0   acetic_acid            {'on': 88, 'both': 12}     {'off': 100}   \n",
       "1  butyric_acid                     {'both': 100}     {'off': 100}   \n",
       "2   lactic_acid  {'on': 42, 'off': 53, 'both': 6}     {'off': 100}   \n",
       "3       butanol            {'on': 88, 'both': 12}     {'off': 100}   \n",
       "4       ethanol             {'on': 50, 'off': 50}     {'off': 100}   \n",
       "5       acetone            {'on': 88, 'both': 12}     {'off': 100}   \n",
       "6   sporulation           {'off': 88, 'both': 12}      {'on': 100}   \n",
       "\n",
       "          glucose=on (III)  \n",
       "0  {'off': 12, 'both': 88}  \n",
       "1  {'off': 12, 'both': 88}  \n",
       "2  {'off': 52, 'both': 48}  \n",
       "3            {'both': 100}  \n",
       "4  {'off': 90, 'both': 10}  \n",
       "5            {'both': 100}  \n",
       "6            {'both': 100}  "
      ]
     },
     "execution_count": 17,
     "metadata": {},
     "output_type": "execute_result"
    }
   ],
   "source": [
    "table = []\n",
    "\n",
    "for variable in [\"acetic_acid\", \"butyric_acid\", \"lactic_acid\", \"butanol\", \"ethanol\", \"acetone\", \"sporulation\"]:\n",
    "    add_row(graph, [mode_I, mode_II, mode_III], table, variable)\n",
    "    \n",
    "DataFrame(table, columns=[\"variable\", \"sigA=off (I)\", \"glucose=off (II)\", \"glucose=on (III)\"])"
   ]
  },
  {
   "cell_type": "markdown",
   "metadata": {
    "cell_id": "4a2e9d35-3614-49fc-9982-152288bee2dd",
    "deepnote_app_coordinates": {
     "h": 5,
     "w": 12,
     "x": 0,
     "y": 150
    },
    "deepnote_cell_type": "markdown",
    "tags": []
   },
   "source": [
    "This table is not that much different from the one we saw for the original model. Mostly, we only see a shift in the percentages. This is not a strong indicator of a real change if we don't know the actual real-world distribution of parametrisations (we could easily pollute the parameter space with parameters which are biologically unrealistic but skew the percentage towards a certain outcome). However, we see that in mode **III**, `acetic_acid` and `butyric_acid` can now become permanently inactive. This is something that isn't supported by the original observations, and as such we would generally like to avoid this behaviour.\n",
    "\n",
    "To do so, we can inspect the set of parametrisations to see whether there are some candidate functions which would lead us to the desired outcome. There are many ways of doing this. In this case, we enumeration the functions in the symbolic set. That is, we go through all possible elements of the set, but with a projection to a specific part of the Boolean network. We have already done this on the \"unit\" set to show the possible interpretations of the newly declared parameters."
   ]
  },
  {
   "cell_type": "code",
   "execution_count": 18,
   "metadata": {
    "cell_id": "a5f96d04-4201-414e-bd3d-4ca7a50bab82",
    "deepnote_app_coordinates": {
     "h": 5,
     "w": 12,
     "x": 0,
     "y": 156
    },
    "deepnote_cell_type": "code",
    "deepnote_to_be_reexecuted": true,
    "execution_millis": 0,
    "execution_start": 1643453638224,
    "source_hash": "27f751c7",
    "tags": []
   },
   "outputs": [
    {
     "name": "stdout",
     "output_type": "stream",
     "text": [
      "{'on': ColorSet(cardinality=0, symbolic_size=1), 'off': ColorSet(cardinality=18432, symbolic_size=40), 'both': ColorSet(cardinality=129024, symbolic_size=53)}\n"
     ]
    }
   ],
   "source": [
    "# Compute stability analysis for the acetic acid.\n",
    "acetic_acid_stability = check_stability(graph, mode_III, \"acetic_acid\")\n",
    "print(acetic_acid_stability)"
   ]
  },
  {
   "cell_type": "code",
   "execution_count": 19,
   "metadata": {},
   "outputs": [
    {
     "name": "stdout",
     "output_type": "stream",
     "text": [
      "Desired interpretations of f_1:\n",
      " > (x_0 & !x_1)  instantiates as  phosphorylation & sigA & spo0A & !sporulation\n",
      " > ((!x_0 & !x_1) | x_0)  instantiates as  (phosphorylation & sigA & spo0A) | (phosphorylation & !sigA & spo0A & !sporulation)\n",
      "Undesired interpretations of f_1:\n",
      " > ((!x_0 & !x_1) | x_0)  instantiates as  (phosphorylation & sigA & spo0A) | (phosphorylation & !sigA & spo0A & !sporulation)\n",
      "Desired interpretations of f_2:\n",
      " > (x_0 & !x_1)  instantiates as  PTS & cell_membrane & glucose & !sporulation\n",
      " > (!x_0 & !x_1)  instantiates as  PTS & !cell_membrane & glucose & !sporulation\n",
      " > ((!x_0 & !x_1) | x_0)  instantiates as  (PTS & cell_membrane & glucose) | (PTS & !cell_membrane & glucose & !sporulation)\n",
      " > (!x_0 | (x_0 & !x_1))  instantiates as  (PTS & cell_membrane & glucose & !sporulation) | (PTS & !cell_membrane & glucose)\n",
      "Undesired interpretations of f_2:\n",
      " > (x_0 & !x_1)  instantiates as  PTS & cell_membrane & glucose & !sporulation\n",
      " > (!x_0 & !x_1)  instantiates as  PTS & !cell_membrane & glucose & !sporulation\n",
      " > ((!x_0 & !x_1) | x_0)  instantiates as  (PTS & cell_membrane & glucose) | (PTS & !cell_membrane & glucose & !sporulation)\n",
      " > (!x_0 | (x_0 & !x_1))  instantiates as  (PTS & cell_membrane & glucose & !sporulation) | (PTS & !cell_membrane & glucose)\n",
      "Desired interpretations of f_3:\n",
      " > (x_0 & (!x_1 & x_2))  instantiates as  sigH & spo0A_p & !spoIIAA & spoIIE\n",
      " > ((!x_0 & (!x_1 & x_2)) | (x_0 & x_2))  instantiates as  (sigH & spo0A_p & spoIIE) | (!sigH & spo0A_p & !spoIIAA & spoIIE)\n",
      " > ((x_0 & !x_1) | (x_0 & (x_1 & x_2)))  instantiates as  (sigH & spo0A_p & spoIIAA & spoIIE) | (sigH & spo0A_p & !spoIIAA)\n",
      " > ((!x_0 & (!x_1 & x_2)) | (x_0 & !x_1))  instantiates as  (sigH & spo0A_p & !spoIIAA) | (!sigH & spo0A_p & !spoIIAA & spoIIE)\n",
      " > ((!x_0 & (!x_1 & x_2)) | ((x_0 & !x_1) | (x_0 & (x_1 & x_2))))  instantiates as  (sigH & spo0A_p & spoIIAA & spoIIE) | (sigH & spo0A_p & !spoIIAA) | (!sigH & spo0A_p & !spoIIAA & spoIIE)\n",
      " > ((!x_0 & x_2) | ((x_0 & !x_1) | (x_0 & (x_1 & x_2))))  instantiates as  (spo0A_p & spoIIE) | (sigH & spo0A_p & !spoIIAA & !spoIIE)\n",
      " > ((!x_0 & (!x_1 & x_2)) | x_0)  instantiates as  (sigH & spo0A_p) | (!sigH & spo0A_p & !spoIIAA & spoIIE)\n",
      " > ((!x_0 & !x_1) | ((x_0 & !x_1) | (x_0 & (x_1 & x_2))))  instantiates as  (sigH & spo0A_p & spoIIAA & spoIIE) | (spo0A_p & !spoIIAA)\n",
      " > ((!x_0 & !x_1) | ((!x_0 & (x_1 & x_2)) | x_0))  instantiates as  (sigH & spo0A_p) | (!sigH & spo0A_p & spoIIAA & spoIIE) | (!sigH & spo0A_p & !spoIIAA)\n",
      "Undesired interpretations of f_3:\n",
      " > (x_0 & (!x_1 & x_2))  instantiates as  sigH & spo0A_p & !spoIIAA & spoIIE\n",
      " > ((!x_0 & (!x_1 & x_2)) | (x_0 & x_2))  instantiates as  (sigH & spo0A_p & spoIIE) | (!sigH & spo0A_p & !spoIIAA & spoIIE)\n",
      " > ((x_0 & !x_1) | (x_0 & (x_1 & x_2)))  instantiates as  (sigH & spo0A_p & spoIIAA & spoIIE) | (sigH & spo0A_p & !spoIIAA)\n",
      " > ((!x_0 & (!x_1 & x_2)) | (x_0 & !x_1))  instantiates as  (sigH & spo0A_p & !spoIIAA) | (!sigH & spo0A_p & !spoIIAA & spoIIE)\n",
      " > ((!x_0 & (!x_1 & x_2)) | ((x_0 & !x_1) | (x_0 & (x_1 & x_2))))  instantiates as  (sigH & spo0A_p & spoIIAA & spoIIE) | (sigH & spo0A_p & !spoIIAA) | (!sigH & spo0A_p & !spoIIAA & spoIIE)\n",
      " > ((!x_0 & x_2) | ((x_0 & !x_1) | (x_0 & (x_1 & x_2))))  instantiates as  (spo0A_p & spoIIE) | (sigH & spo0A_p & !spoIIAA & !spoIIE)\n",
      " > ((!x_0 & (!x_1 & x_2)) | x_0)  instantiates as  (sigH & spo0A_p) | (!sigH & spo0A_p & !spoIIAA & spoIIE)\n",
      " > ((!x_0 & !x_1) | ((x_0 & !x_1) | (x_0 & (x_1 & x_2))))  instantiates as  (sigH & spo0A_p & spoIIAA & spoIIE) | (spo0A_p & !spoIIAA)\n",
      " > ((!x_0 & !x_1) | ((!x_0 & (x_1 & x_2)) | x_0))  instantiates as  (sigH & spo0A_p) | (!sigH & spo0A_p & spoIIAA & spoIIE) | (!sigH & spo0A_p & !spoIIAA)\n"
     ]
    }
   ],
   "source": [
    "# Since there are no \"on\" colors, we only wish to retain \"both\" and avoid \"off\".\n",
    "desired_colors = acetic_acid_stability[\"both\"]\n",
    "undesired_colors = acetic_acid_stability[\"off\"]\n",
    "\n",
    "# Next, we make a projection of these color sets to each of the three variables with\n",
    "# unknown functions to see how many possible update functions there are for each of the\n",
    "# uninterpreted functions we declared earlier.\n",
    "\n",
    "for fn, var in [(\"f_1\", \"spo0A_p\"), (\"f_2\", \"glucose___PTS\"), (\"f_3\", \"spoIIAB\")]:\n",
    "    print(f\"Desired interpretations of {fn}:\")\n",
    "    for m in desired_colors.items([fn]):\n",
    "        print(\" >\", m[fn], \" instantiates as \", m.instantiate(model.get_update_function(var)))\n",
    "    print(f\"Undesired interpretations of {fn}:\")\n",
    "    for m in undesired_colors.items([fn]):\n",
    "        print(\" >\", m[fn], \" instantiates as \", m.instantiate(model.get_update_function(var)))"
   ]
  },
  {
   "cell_type": "markdown",
   "metadata": {
    "cell_id": "5fb3a558-a9a8-468b-a6b9-135f982b7c99",
    "deepnote_app_coordinates": {
     "h": 5,
     "w": 12,
     "x": 0,
     "y": 162
    },
    "deepnote_cell_type": "markdown",
    "tags": []
   },
   "source": [
    "From this list, we can see that for `f_2` and `f_3`, all functions that appear in the \"desired\" color set also appear in the \"undesired\" color set. This means that the dependence between these two functions and the outcome is either trivial (it does not depend on them at all), or more complex than what we can see in this list (only specific combinations of the functions lead to the desired outcome). Subsequently, we could try to enumerate a projection to both `f_2` and `f_3` at the same time to decide which of these is the actual reality.\n",
    "\n",
    "However, we can also notice that for `f_!`, function `(x_0 & !x_1)` guarantees the desired outcome (i.e. it does not appear in the undesired list at all). As such, we can try to simply fix the update function accordingly to guarantee that `acetic_acid` cannot stabilise in the \"off\" state anymore.\n",
    "\n",
    "> Note that using this transformation, we are losing some information. There is a second viable update function for `spo0A_p`, which in this case, we can't tell too much about. However, since our goal is to repair the original model without any new observations or data, using the simplest possible solution is a reasonable initial position, since any of the networks in the `desired_colors` would satisfy our requirement.\n",
    "\n",
    "As such, we re-initialize the model with the new update function and continue our analysis:"
   ]
  },
  {
   "cell_type": "code",
   "execution_count": 20,
   "metadata": {
    "cell_id": "45fa940f-9d59-41b6-8580-198468361e46",
    "deepnote_app_coordinates": {
     "h": 5,
     "w": 12,
     "x": 0,
     "y": 168
    },
    "deepnote_cell_type": "code",
    "deepnote_output_heights": [
     21
    ],
    "deepnote_to_be_reexecuted": true,
    "execution_millis": 15,
    "execution_start": 1643453649347,
    "source_hash": "e9f2e9ea",
    "tags": []
   },
   "outputs": [
    {
     "name": "stdout",
     "output_type": "stream",
     "text": [
      "spo0A & phosphorylation & sigA & !sporulation\n"
     ]
    }
   ],
   "source": [
    "# Reload model again\n",
    "model = BooleanNetwork.from_sbml(Path('butanol-pathway.sbml').read_text())\n",
    "\n",
    "# Do not add f_1 any more\n",
    "model.add_explicit_parameter(\"f_2\", 2)\n",
    "model.add_explicit_parameter(\"f_3\", 3)\n",
    "\n",
    "# Re-declare update functions, using the new fixed f_1\n",
    "f_spo0A_p = \"spo0A & phosphorylation & sigA & !sporulation\"\n",
    "f_glucose_PTS = \"glucose & PTS & f_2(cell_membrane, sporulation)\"\n",
    "f_spoIIAB = \"spo0A_p & f_3(sigH, spoIIAA, spoIIE)\"\n",
    "\n",
    "model.set_update_function(\"spo0A_p\", f_spo0A_p)\n",
    "model.set_update_function(\"glucose___PTS\", f_glucose_PTS)\n",
    "model.set_update_function(\"spoIIAB\", f_spoIIAB)\n",
    "\n",
    "print(model.get_update_function(\"spo0A_p\"))"
   ]
  },
  {
   "cell_type": "code",
   "execution_count": 21,
   "metadata": {
    "cell_id": "edfc05f7-557f-4d70-818e-7d10570910b9",
    "deepnote_app_coordinates": {
     "h": 5,
     "w": 12,
     "x": 0,
     "y": 174
    },
    "deepnote_cell_type": "code",
    "deepnote_output_heights": [
     21
    ],
    "deepnote_to_be_reexecuted": true,
    "execution_millis": 7,
    "execution_start": 1643453653426,
    "source_hash": "d58b42b9",
    "tags": []
   },
   "outputs": [],
   "source": [
    "# Save the modified model for future reference.\n",
    "Path('butanol-pathway-f2-f3.aeon').write_text(model.to_aeon());"
   ]
  },
  {
   "cell_type": "code",
   "execution_count": 22,
   "metadata": {
    "cell_id": "c4d199a7-adaa-4a28-a6df-b5178423130d",
    "deepnote_app_coordinates": {
     "h": 5,
     "w": 12,
     "x": 0,
     "y": 180
    },
    "deepnote_cell_type": "code",
    "deepnote_to_be_reexecuted": true,
    "execution_millis": 0,
    "execution_start": 1643453786940,
    "source_hash": "18cee6af",
    "tags": []
   },
   "outputs": [
    {
     "name": "stdout",
     "output_type": "stream",
     "text": [
      "Start interleaved transition guided reduction with 21760664753063325000000000[nodes:32] candidates.\n",
      " > Discarded 10880332376531663000000000 instances based on the BnVariable(63) extended component.\n",
      " > State space reduced to 10880332376531663000000000[nodes:35].\n",
      " > Discarded 5440166188265831000000000 instances based on the BnVariable(51) extended component.\n",
      " > State space reduced to 5440166188265831000000000[nodes:38].\n",
      " > Discarded 2720083094132915600000000 instances based on the BnVariable(55) extended component.\n",
      " > State space reduced to 2720083094132915600000000[nodes:40].\n",
      " > Discarded 1360041547066457800000000 instances based on the BnVariable(46) extended component.\n",
      " > State space reduced to 1360041547066457800000000[nodes:43].\n",
      " > Discarded 680020773533228900000000 instances based on the BnVariable(45) extended component.\n",
      " > State space reduced to 680020773533228900000000[nodes:46].\n",
      " > Discarded 340010386766614460000000 instances based on the BnVariable(44) extended component.\n",
      " > State space reduced to 340010386766614460000000[nodes:49].\n",
      " > Discarded 170005193383307230000000 instances based on the BnVariable(43) extended component.\n",
      " > State space reduced to 170005193383307230000000[nodes:52].\n",
      " > Discarded 85002596691653610000000 instances based on the BnVariable(38) extended component.\n",
      " > State space reduced to 85002596691653610000000[nodes:55].\n",
      " > Discarded 42501298345826810000000 instances based on the BnVariable(37) extended component.\n",
      " > State space reduced to 42501298345826810000000[nodes:58].\n",
      " > Discarded 21250649172913403000000 instances based on the BnVariable(35) extended component.\n",
      " > State space reduced to 21250649172913403000000[nodes:61].\n",
      " > Discarded 10625324586456702000000 instances based on the BnVariable(6) extended component.\n",
      " > State space reduced to 10625324586456702000000[nodes:64].\n",
      " > Discarded 5312662293228351000000 instances based on the BnVariable(5) extended component.\n",
      " > State space reduced to 5312662293228351000000[nodes:67].\n",
      " > Discarded 2656331146614175400000 instances based on the BnVariable(4) extended component.\n",
      " > State space reduced to 2656331146614175400000[nodes:70].\n",
      " > Discarded 1328165573307087700000 instances based on the BnVariable(3) extended component.\n",
      " > State space reduced to 1328165573307087700000[nodes:73].\n",
      " > Discarded 664082786653543900000 instances based on the BnVariable(2) extended component.\n",
      " > State space reduced to 664082786653543900000[nodes:75].\n",
      " > Discarded 332041393326771900000 instances based on the BnVariable(36) extended component.\n",
      " > State space reduced to 332041393326771900000[nodes:80].\n",
      " > Discarded 166020696663385960000 instances based on the BnVariable(49) extended component.\n",
      " > State space reduced to 166020696663385960000[nodes:91].\n",
      " > Discarded 82848218745107640000 instances based on the BnVariable(58) extended component.\n",
      " > State space reduced to 83172477918278320000[nodes:207].\n",
      " > Discarded 30966751037799530000 instances based on the BnVariable(64) extended component.\n",
      " > State space reduced to 52205726880478790000[nodes:239].\n",
      " > Discarded 0 instances based on the BnVariable(25) extended component.\n",
      " > Discarded 10376293541461623000 instances based on the BnVariable(48) extended component.\n",
      " > State space reduced to 41829433339017170000[nodes:251].\n",
      " > Discarded 10538423128046960000 instances based on the BnVariable(33) extended component.\n",
      " > State space reduced to 31291010210970206000[nodes:294].\n",
      " > Discarded 5269211564023480000 instances based on the BnVariable(32) extended component.\n",
      " > State space reduced to 26021798646946726000[nodes:298].\n",
      " > Discarded 2634605782011740000 instances based on the BnVariable(65) extended component.\n",
      " > State space reduced to 23387192864934986000[nodes:325].\n",
      " > Discarded 6505449661736681000 instances based on the BnVariable(59) extended component.\n",
      " > State space reduced to 16881743203198304000[nodes:425].\n",
      " > Discarded 324259173170675700 instances based on the BnVariable(22) extended component.\n",
      " > State space reduced to 16557484030027629000[nodes:468].\n",
      " > Discarded 305642757685248000 instances based on the BnVariable(12) extended component.\n",
      " > State space reduced to 16251841272342380000[nodes:894].\n",
      " > Discarded 14371510328229888 instances based on the BnVariable(29) extended component.\n",
      " > State space reduced to 16237469762014150000[nodes:856].\n",
      " > Discarded 12179324660613120 instances based on the BnVariable(47) extended component.\n",
      " > State space reduced to 16225290437353538000[nodes:701].\n",
      " > Discarded 4731954448564224 instances based on the BnVariable(40) extended component.\n",
      " > State space reduced to 16220558482904973000[nodes:491].\n",
      " > Discarded 3799912185593856 instances based on the BnVariable(20) extended component.\n",
      " > State space reduced to 16216758570719380000[nodes:495].\n",
      " > Discarded 4054506302028644400 instances based on the BnVariable(39) extended component.\n",
      " > State space reduced to 12162252268690735000[nodes:590].\n",
      " > Discarded 1266637395197952 instances based on the BnVariable(31) extended component.\n",
      " > State space reduced to 12160985631295537000[nodes:598].\n",
      " > Discarded 8651514389981037000 instances based on the BnVariable(30) extended component.\n",
      " > State space reduced to 3509471241314500600[nodes:1088].\n",
      " > Discarded 303980605341696 instances based on the BnVariable(24) extended component.\n",
      " > State space reduced to 3509167260709159000[nodes:1481].\n",
      " > Discarded 10359461117952 instances using the BnVariable(23) transition basin.\n",
      " > Finished ITGR process. 31 processes remaining.\n",
      " > State space reduced to 3509156901248041000[nodes:1493].\n",
      " > Discarded 1754159651751985200 instances based on the BnVariable(27) extended component.\n",
      " > Finished ITGR process. 30 processes remaining.\n",
      " > State space reduced to 1754997249496055800[nodes:2329].\n",
      " > Discarded 853849856211419100 instances based on the BnVariable(23) extended component.\n",
      " > Finished ITGR process. 29 processes remaining.\n",
      " > State space reduced to 901147393284636700[nodes:2347].\n",
      " > Discarded 426929798598623200 instances based on the BnVariable(28) extended component.\n",
      " > Finished ITGR process. 28 processes remaining.\n",
      " > State space reduced to 474217594686013440[nodes:2395].\n",
      " > Discarded 124482255165849600 instances based on the BnVariable(53) extended component.\n",
      " > Finished ITGR process. 27 processes remaining.\n",
      " > State space reduced to 349735339520163840[nodes:1956].\n",
      " > Finished ITGR process. 27 processes remaining.\n",
      " > Discarded 248398673803739140 instances based on the BnVariable(10) extended component.\n",
      " > Finished ITGR process. 26 processes remaining.\n",
      " > State space reduced to 101336665716424700[nodes:1946].\n",
      " > Discarded 22806175410028544 instances based on the BnVariable(50) extended component.\n",
      " > Finished ITGR process. 25 processes remaining.\n",
      " > State space reduced to 78530490306396160[nodes:2276].\n",
      " > Discarded 3215620539678720 instances using the BnVariable(11) transition basin.\n",
      " > Finished ITGR process. 25 processes remaining.\n",
      " > State space reduced to 75314869766717440[nodes:2896].\n",
      " > Discarded 0 instances based on the BnVariable(11) extended component.\n",
      " > Finished ITGR process. 24 processes remaining.\n",
      " > Discarded 18863757507690496 instances based on the BnVariable(41) extended component.\n",
      " > Finished ITGR process. 23 processes remaining.\n",
      " > State space reduced to 56451112259026940[nodes:3166].\n",
      " > Discarded 5527931169275904 instances based on the BnVariable(14) extended component.\n",
      " > Finished ITGR process. 22 processes remaining.\n",
      " > State space reduced to 50923181089751040[nodes:3715].\n",
      " > Discarded 5769835507613696 instances based on the BnVariable(42) extended component.\n",
      " > Finished ITGR process. 21 processes remaining.\n",
      " > State space reduced to 45153345582137340[nodes:3803].\n",
      " > Finished ITGR process. 21 processes remaining.\n",
      " > Discarded 4194058676207616 instances based on the BnVariable(7) extended component.\n",
      " > Finished ITGR process. 20 processes remaining.\n",
      " > State space reduced to 40959286905929730[nodes:3934].\n",
      " > Discarded 35008278429696 instances using the BnVariable(19) transition basin.\n",
      " > Finished ITGR process. 20 processes remaining.\n",
      " > State space reduced to 40924278627500030[nodes:4305].\n",
      " > Discarded 285961336389632 instances based on the BnVariable(52) extended component.\n",
      " > Finished ITGR process. 19 processes remaining.\n",
      " > State space reduced to 40638317291110400[nodes:4313].\n",
      " > Discarded 142980668194816 instances based on the BnVariable(54) extended component.\n",
      " > Finished ITGR process. 18 processes remaining.\n",
      " > State space reduced to 40495336622915580[nodes:4321].\n",
      " > Discarded 71490334097408 instances based on the BnVariable(56) extended component.\n",
      " > Finished ITGR process. 17 processes remaining.\n",
      " > State space reduced to 40423846288818180[nodes:4285].\n",
      " > Discarded 35745167048704 instances based on the BnVariable(19) extended component.\n",
      " > Finished ITGR process. 16 processes remaining.\n",
      " > State space reduced to 40388101121769470[nodes:4520].\n",
      " > Discarded 0 instances using the BnVariable(13) transition basin.\n",
      " > Finished ITGR process. 16 processes remaining.\n",
      " > Discarded 0 instances based on the BnVariable(13) extended component.\n",
      " > Finished ITGR process. 15 processes remaining.\n",
      " > Finished ITGR process. 15 processes remaining.\n",
      " > Discarded 62699203592192 instances based on the BnVariable(34) extended component.\n",
      " > Finished ITGR process. 14 processes remaining.\n",
      " > State space reduced to 40325401918177280[nodes:4550].\n",
      " > Discarded 0 instances using the BnVariable(0) transition basin.\n",
      " > Finished ITGR process. 14 processes remaining.\n",
      " > Discarded 298225376493568 instances based on the BnVariable(0) extended component.\n",
      " > Finished ITGR process. 13 processes remaining.\n",
      " > State space reduced to 40027176541683710[nodes:4032].\n",
      " > Finished ITGR process. 13 processes remaining.\n",
      " > Finished ITGR process. 13 processes remaining.\n",
      " > Discarded 2780450979840 instances based on the BnVariable(21) extended component.\n",
      " > Finished ITGR process. 12 processes remaining.\n",
      " > State space reduced to 40024396090703870[nodes:4040].\n",
      " > Discarded 1390523645952 instances based on the BnVariable(17) extended component.\n",
      " > State space reduced to 40023005567057920[nodes:4100].\n",
      " > Discarded 695261822976 instances based on the BnVariable(18) extended component.\n",
      " > State space reduced to 40022310305234940[nodes:4136].\n",
      " > Discarded 347630911488 instances based on the BnVariable(16) extended component.\n",
      " > State space reduced to 40021962674323460[nodes:4172].\n",
      " > Discarded 173815455744 instances based on the BnVariable(1) extended component.\n",
      " > State space reduced to 40021788858867710[nodes:4288].\n",
      " > Discarded 5094538260480 instances based on the BnVariable(60) extended component.\n",
      " > State space reduced to 40016694320607230[nodes:4303].\n",
      " > Discarded 7612813301760 instances based on the BnVariable(62) extended component.\n",
      " > State space reduced to 40009081507305470[nodes:4333].\n",
      " > Discarded 3806406650880 instances based on the BnVariable(61) extended component.\n",
      " > State space reduced to 40005275100654590[nodes:4348].\n",
      " > Discarded 5838336 instances based on the BnVariable(15) extended component.\n",
      " > State space reduced to 40005275094816260[nodes:4420].\n",
      " > Discarded 4068864 instances based on the BnVariable(9) extended component.\n",
      " > State space reduced to 40005275090747390[nodes:4082].\n",
      " > Discarded 294912 instances based on the BnVariable(26) extended component.\n",
      " > State space reduced to 40005275090452480[nodes:4094].\n",
      " > Discarded 14814784274432 instances based on the BnVariable(57) extended component.\n",
      " > State space reduced to 39990460306178050[nodes:4042].\n",
      " > Discarded 73728 instances based on the BnVariable(8) extended component.\n",
      "Interleaved transition guided reduction finished with 39990460306104320[nodes:4048] candidates.\n",
      "Start Xie-Beerel attractor detection on 39990460306104320[nodes:4048] candidates.\n",
      " > Found a bottom SCC: 868109588510720x237376[nodes:8424].\n",
      " > Found a bottom SCC: 159036612608x57536[nodes:2174].\n",
      "Attractor detection finished with 2 results.\n"
     ]
    }
   ],
   "source": [
    "# Recompute the attractor set (this time the computation is slightly\n",
    "# faster since we removed one of the unknown functions)\n",
    "graph = AsynchronousGraph(model)\n",
    "attractors = Attractors.attractors(graph)\n",
    "\n",
    "assert(len(attractors) == 2)\n",
    "assert(attractors[0].colors().intersect(attractors[1].colors()).is_empty())\n",
    "\n",
    "attractor = attractors[0].union(attractors[1])"
   ]
  },
  {
   "cell_type": "code",
   "execution_count": 23,
   "metadata": {
    "cell_id": "1849d44b-dcf1-44a1-9255-2af66f77e9d0",
    "deepnote_app_coordinates": {
     "h": 5,
     "w": 12,
     "x": 0,
     "y": 186
    },
    "deepnote_cell_type": "code",
    "deepnote_to_be_reexecuted": true,
    "execution_millis": 205,
    "execution_start": 1643453823982,
    "source_hash": "35c74a7c",
    "tags": []
   },
   "outputs": [],
   "source": [
    "# Recompute the sets corresponding to different modes:\n",
    "sigA_off = graph.mk_subspace({ \"sigA\": False })\n",
    "sigA_on = graph.mk_subspace({ \"sigA\": True })\n",
    "\n",
    "glucose_off = graph.mk_subspace({ \"glucose\": False })\n",
    "glucose_on = graph.mk_subspace({ \"glucose\": True })\n",
    "\n",
    "mode_I = attractor.intersect(sigA_off)\n",
    "mode_II = attractor.intersect(sigA_on).intersect(glucose_off)\n",
    "mode_III = attractor.intersect(sigA_on).intersect(glucose_on)"
   ]
  },
  {
   "cell_type": "code",
   "execution_count": 24,
   "metadata": {},
   "outputs": [
    {
     "data": {
      "text/html": [
       "<div>\n",
       "<style scoped>\n",
       "    .dataframe tbody tr th:only-of-type {\n",
       "        vertical-align: middle;\n",
       "    }\n",
       "\n",
       "    .dataframe tbody tr th {\n",
       "        vertical-align: top;\n",
       "    }\n",
       "\n",
       "    .dataframe thead th {\n",
       "        text-align: right;\n",
       "    }\n",
       "</style>\n",
       "<table border=\"1\" class=\"dataframe\">\n",
       "  <thead>\n",
       "    <tr style=\"text-align: right;\">\n",
       "      <th></th>\n",
       "      <th>variable</th>\n",
       "      <th>sigA=off (I)</th>\n",
       "      <th>glucose=off (II)</th>\n",
       "      <th>glucose=on (III)</th>\n",
       "    </tr>\n",
       "  </thead>\n",
       "  <tbody>\n",
       "    <tr>\n",
       "      <th>0</th>\n",
       "      <td>acetic_acid</td>\n",
       "      <td>{'on': 100}</td>\n",
       "      <td>{'off': 100}</td>\n",
       "      <td>{'both': 100}</td>\n",
       "    </tr>\n",
       "    <tr>\n",
       "      <th>1</th>\n",
       "      <td>butyric_acid</td>\n",
       "      <td>{'both': 100}</td>\n",
       "      <td>{'off': 100}</td>\n",
       "      <td>{'both': 100}</td>\n",
       "    </tr>\n",
       "    <tr>\n",
       "      <th>2</th>\n",
       "      <td>lactic_acid</td>\n",
       "      <td>{'on': 47, 'off': 53}</td>\n",
       "      <td>{'off': 100}</td>\n",
       "      <td>{'off': 52, 'both': 48}</td>\n",
       "    </tr>\n",
       "    <tr>\n",
       "      <th>3</th>\n",
       "      <td>butanol</td>\n",
       "      <td>{'on': 100}</td>\n",
       "      <td>{'off': 100}</td>\n",
       "      <td>{'both': 100}</td>\n",
       "    </tr>\n",
       "    <tr>\n",
       "      <th>4</th>\n",
       "      <td>ethanol</td>\n",
       "      <td>{'on': 50, 'off': 50}</td>\n",
       "      <td>{'off': 100}</td>\n",
       "      <td>{'off': 81, 'both': 19}</td>\n",
       "    </tr>\n",
       "    <tr>\n",
       "      <th>5</th>\n",
       "      <td>acetone</td>\n",
       "      <td>{'on': 100}</td>\n",
       "      <td>{'off': 100}</td>\n",
       "      <td>{'both': 100}</td>\n",
       "    </tr>\n",
       "    <tr>\n",
       "      <th>6</th>\n",
       "      <td>sporulation</td>\n",
       "      <td>{'off': 100}</td>\n",
       "      <td>{'on': 100}</td>\n",
       "      <td>{'both': 100}</td>\n",
       "    </tr>\n",
       "  </tbody>\n",
       "</table>\n",
       "</div>"
      ],
      "text/plain": [
       "       variable           sigA=off (I) glucose=off (II)  \\\n",
       "0   acetic_acid            {'on': 100}     {'off': 100}   \n",
       "1  butyric_acid          {'both': 100}     {'off': 100}   \n",
       "2   lactic_acid  {'on': 47, 'off': 53}     {'off': 100}   \n",
       "3       butanol            {'on': 100}     {'off': 100}   \n",
       "4       ethanol  {'on': 50, 'off': 50}     {'off': 100}   \n",
       "5       acetone            {'on': 100}     {'off': 100}   \n",
       "6   sporulation           {'off': 100}      {'on': 100}   \n",
       "\n",
       "          glucose=on (III)  \n",
       "0            {'both': 100}  \n",
       "1            {'both': 100}  \n",
       "2  {'off': 52, 'both': 48}  \n",
       "3            {'both': 100}  \n",
       "4  {'off': 81, 'both': 19}  \n",
       "5            {'both': 100}  \n",
       "6            {'both': 100}  "
      ]
     },
     "execution_count": 24,
     "metadata": {},
     "output_type": "execute_result"
    }
   ],
   "source": [
    "# Update our \"stability analysis\" table.\n",
    "table = []\n",
    "\n",
    "for variable in [\"acetic_acid\", \"butyric_acid\", \"lactic_acid\", \"butanol\", \"ethanol\", \"acetone\", \"sporulation\"]:\n",
    "    add_row(graph, [mode_I, mode_II, mode_III], table, variable)\n",
    "    \n",
    "DataFrame(table, columns=[\"variable\", \"sigA=off (I)\", \"glucose=off (II)\", \"glucose=on (III)\"])"
   ]
  },
  {
   "cell_type": "markdown",
   "metadata": {
    "cell_id": "bb8b25f8-b403-4efa-9da8-33950f82027b",
    "deepnote_app_coordinates": {
     "h": 5,
     "w": 12,
     "x": 0,
     "y": 192
    },
    "deepnote_cell_type": "markdown",
    "tags": []
   },
   "source": [
    "From our stability analysis table, we can see that just as we expected, the inactivity of `acetic_acid` (and `butyric_acid`) in mode **III** is completely eliminated. However, if we compare this table to the previous two tables we obtained, it is also immediately obvious that this change eliminated the possibility of sporulation in mode **I**, leading to a much smaller variability of possible behaviour in this mode. In fact, the possible attractors in this mode are almost completely stable: the only variable that isn't stable is `butyric_acid` (and `butyrate`, not pictured).\n",
    "\n",
    "However, this makes perfect sense, because our new update function for `spo0A_p` now actually requires `sigA` to be active in order to initiate sporulation, which was not the case before. Hence when `sigA = off`, sporulation becomes impossible with this new update function. This is warranted, since `sigA` is a known driver of sporulation \\[4].\n",
    "\n",
    "We can also similarly explore the expression of different significant genes, just as we did before:"
   ]
  },
  {
   "cell_type": "code",
   "execution_count": 25,
   "metadata": {
    "cell_id": "18d1cfd6-4517-4ef9-92bf-721dd1f3036b",
    "deepnote_app_coordinates": {
     "h": 5,
     "w": 12,
     "x": 0,
     "y": 198
    },
    "deepnote_cell_type": "code",
    "deepnote_to_be_reexecuted": true,
    "execution_millis": 193,
    "execution_start": 1643453835999,
    "source_hash": "61e16ab5",
    "tags": []
   },
   "outputs": [
    {
     "data": {
      "text/html": [
       "<div>\n",
       "<style scoped>\n",
       "    .dataframe tbody tr th:only-of-type {\n",
       "        vertical-align: middle;\n",
       "    }\n",
       "\n",
       "    .dataframe tbody tr th {\n",
       "        vertical-align: top;\n",
       "    }\n",
       "\n",
       "    .dataframe thead th {\n",
       "        text-align: right;\n",
       "    }\n",
       "</style>\n",
       "<table border=\"1\" class=\"dataframe\">\n",
       "  <thead>\n",
       "    <tr style=\"text-align: right;\">\n",
       "      <th></th>\n",
       "      <th>variable</th>\n",
       "      <th>sigA=off (I)</th>\n",
       "      <th>glucose=off (II)</th>\n",
       "      <th>glucose=on (III)</th>\n",
       "    </tr>\n",
       "  </thead>\n",
       "  <tbody>\n",
       "    <tr>\n",
       "      <th>0</th>\n",
       "      <td>ack</td>\n",
       "      <td>{'on': 100}</td>\n",
       "      <td>{'off': 100}</td>\n",
       "      <td>{'both': 100}</td>\n",
       "    </tr>\n",
       "    <tr>\n",
       "      <th>1</th>\n",
       "      <td>adc</td>\n",
       "      <td>{'off': 100}</td>\n",
       "      <td>{'off': 100}</td>\n",
       "      <td>{'off': 50, 'both': 50}</td>\n",
       "    </tr>\n",
       "    <tr>\n",
       "      <th>2</th>\n",
       "      <td>bdhAB</td>\n",
       "      <td>{'off': 100}</td>\n",
       "      <td>{'off': 100}</td>\n",
       "      <td>{'off': 50, 'both': 50}</td>\n",
       "    </tr>\n",
       "    <tr>\n",
       "      <th>3</th>\n",
       "      <td>buk1</td>\n",
       "      <td>{'on': 100}</td>\n",
       "      <td>{'off': 100}</td>\n",
       "      <td>{'both': 100}</td>\n",
       "    </tr>\n",
       "    <tr>\n",
       "      <th>4</th>\n",
       "      <td>crt</td>\n",
       "      <td>{'on': 100}</td>\n",
       "      <td>{'off': 100}</td>\n",
       "      <td>{'both': 100}</td>\n",
       "    </tr>\n",
       "    <tr>\n",
       "      <th>5</th>\n",
       "      <td>hbd</td>\n",
       "      <td>{'on': 100}</td>\n",
       "      <td>{'off': 100}</td>\n",
       "      <td>{'both': 100}</td>\n",
       "    </tr>\n",
       "    <tr>\n",
       "      <th>6</th>\n",
       "      <td>pta</td>\n",
       "      <td>{'on': 100}</td>\n",
       "      <td>{'off': 100}</td>\n",
       "      <td>{'both': 100}</td>\n",
       "    </tr>\n",
       "  </tbody>\n",
       "</table>\n",
       "</div>"
      ],
      "text/plain": [
       "  variable  sigA=off (I) glucose=off (II)         glucose=on (III)\n",
       "0      ack   {'on': 100}     {'off': 100}            {'both': 100}\n",
       "1      adc  {'off': 100}     {'off': 100}  {'off': 50, 'both': 50}\n",
       "2    bdhAB  {'off': 100}     {'off': 100}  {'off': 50, 'both': 50}\n",
       "3     buk1   {'on': 100}     {'off': 100}            {'both': 100}\n",
       "4      crt   {'on': 100}     {'off': 100}            {'both': 100}\n",
       "5      hbd   {'on': 100}     {'off': 100}            {'both': 100}\n",
       "6      pta   {'on': 100}     {'off': 100}            {'both': 100}"
      ]
     },
     "execution_count": 25,
     "metadata": {},
     "output_type": "execute_result"
    }
   ],
   "source": [
    "gene_table = []\n",
    "\n",
    "for variable in [\"ack\", \"adc\", \"bdhAB\", \"buk1\", \"crt\", \"hbd\", \"pta\"]:\n",
    "    add_row(graph, [mode_I, mode_II, mode_III], gene_table, variable)\n",
    "\n",
    "DataFrame(gene_table, columns=[\"variable\", \"sigA=off (I)\", \"glucose=off (II)\", \"glucose=on (III)\"])"
   ]
  },
  {
   "cell_type": "markdown",
   "metadata": {
    "cell_id": "3af78a9d-c903-4941-a709-284fca352616",
    "deepnote_app_coordinates": {
     "h": 5,
     "w": 12,
     "x": 0,
     "y": 204
    },
    "deepnote_cell_type": "markdown",
    "tags": []
   },
   "source": [
    "Here we see again that ruling our sporulation in mode **I** leaves us with a much more \"stable\" profile in this mode. But for the remaining modes, the results remain unchanged compared to the original model. At this point, we could conclude that `f_2` and `f_3` simply play no significant role in the behaviour of our model, and we need more evidence to conclusively select either function.\n",
    "\n",
    "However, we can consider one more criterium in selecting the update functions. In the absence of other experimental data, assuming our model is in mode **III**, we would expect the model to describe a complex behaviour when almost the whole pathway is active. Consequently, this means that the attractors should be fairly large in terms of state (vertex) count. To asses this, we can test how the admissible attractor states change when we fix different output values of `f_2` and `f_3`. \n",
    "\n",
    "To assess this, we can look at the number of attractor states that are valid when we set a specific row of the function table of `f_2` and `f_3`. For each bit of both function tables, we compute the \"impact\" of that particular row on the number of attractor states. Here, `100` means that the sets of attractor states appearing when `row=true` and `row=false` are fully disjoint, whereas impact `0` means that fixing this `row` will not change the attractor states in any way. Furthermore, we will be looking at `true`/`false` distribution *skew*: here, the two numbers together give `100%` and represent a preference towards a particular value. That is, selecting the output value with a higher skew will result in more attractor states, proprotionally to the previously mentioned \"impact\"."
   ]
  },
  {
   "cell_type": "code",
   "execution_count": 26,
   "metadata": {
    "cell_id": "ee7451be-7ad5-4b73-a3c0-94cb1d81a8c8",
    "deepnote_app_coordinates": {
     "h": 5,
     "w": 12,
     "x": 0,
     "y": 210
    },
    "deepnote_cell_type": "code",
    "deepnote_to_be_reexecuted": true,
    "execution_millis": 612,
    "execution_start": 1643453991527,
    "source_hash": "d119119d",
    "tags": []
   },
   "outputs": [
    {
     "name": "stdout",
     "output_type": "stream",
     "text": [
      "Impact of f_2: \n",
      "[1, 1] {'true': 0.0, 'false': 100.0, 'impact': 0.007849700778291481}\n",
      "[0, 1] {'true': 0.0, 'false': 100.0, 'impact': 0.007849700778291481}\n",
      "[1, 0] {'true': 99.99816087068469, 'false': 0.0018391293153125906, 'impact': 0.007849299545830602}\n",
      "[0, 0] {'true': 0.0018391293153125906, 'false': 99.99816087068469, 'impact': 0.007849299545830602}\n",
      "=====\n",
      "Impact of f_3: \n",
      "[1, 1, 1] {'true': 100.0, 'false': 0.0, 'impact': 0.07083481371332444}\n",
      "[0, 1, 1]  - no influence\n",
      "[1, 0, 1] {'true': 100.0, 'false': 0.0, 'impact': 100.0}\n",
      "[0, 0, 1]  - no influence\n",
      "[1, 1, 0]  - no influence\n",
      "[0, 1, 0] {'true': 0.0, 'false': 100.0, 'impact': 100.0}\n",
      "[1, 0, 0] {'true': 100.0, 'false': 0.0, 'impact': 99.89876809810677}\n",
      "[0, 0, 0]  - no influence\n"
     ]
    }
   ],
   "source": [
    "def check_attractor_size(graph, function, row, attractor):\n",
    "    row_true = graph.mk_function_row_colors(function, row, True)\n",
    "    row_false = graph.mk_function_row_colors(function, row, False)\n",
    "    \n",
    "    attractor_vertices_true = attractor.intersect_colors(row_true).vertices()\n",
    "    attractor_vertices_false = attractor.intersect_colors(row_false).vertices()\n",
    "    \n",
    "    only_true = attractor_vertices_true.minus(attractor_vertices_false)\n",
    "    only_false = attractor_vertices_false.minus(attractor_vertices_true)\n",
    "    \n",
    "    all_size = only_true.cardinality() + only_false.cardinality()\n",
    "    if not int(all_size) == 0:\n",
    "        true_percent = 100.0 * only_true.cardinality() / all_size\n",
    "        false_percent = 100.0 * only_false.cardinality() / all_size\n",
    "        impact = 100.0 * all_size / attractor.vertices().cardinality()\n",
    "\n",
    "        print([int(x) for x in row], { \"true\": true_percent, \"false\": false_percent, \"impact\": impact })\n",
    "    else:\n",
    "        print([int(x) for x in row], \" - no influence\")\n",
    "\n",
    "def table_rows(arity):\n",
    "    \"\"\"Build a list of input vectors representing the rows of a function table.\"\"\"\n",
    "    if arity == 0:\n",
    "        return [[]]\n",
    "    else:\n",
    "        rows = table_rows(arity - 1)\n",
    "        return [(x + [True]) for x in rows] + [(x + [False]) for x in rows]\n",
    "\n",
    "print(\"Impact of f_2: \")\n",
    "for row in table_rows(2):\n",
    "    check_attractor_size(graph, \"f_2\", row, mode_III)\n",
    "\n",
    "print(\"=====\")\n",
    "print(\"Impact of f_3: \")\n",
    "for row in table_rows(3):\n",
    "    check_attractor_size(graph, \"f_3\", row, mode_III)"
   ]
  },
  {
   "cell_type": "markdown",
   "metadata": {
    "cell_id": "d4628b3a-a089-4301-8c17-7a4e5e36f758",
    "deepnote_app_coordinates": {
     "h": 5,
     "w": 12,
     "x": 0,
     "y": 216
    },
    "deepnote_cell_type": "markdown",
    "tags": []
   },
   "source": [
    "First, let us look at the function `f_2`. Compared to `f_3`, it clearly has smaller impact on the number of attractor states (only `0.008%` of attractor states depend on any row of this function). Now, see that `f_2[0,1]` and `f_2[1,1]` are \"perfectly skewed\" towards the value `false` (i.e. there is no benefit in picking `true` in terms of attractor size). This effectively means that to maximise the number of attractor states, we should fix `f_2(x_0, x_1) = !x_1 & f_2'(x_0)`. Finally, to determine `f_2'`, we look at `f_2[0,0]` and `f_2[1,0]`. Given our current setting, the choice of these two logical parameters effectively dictates whether `cell_membrane` regulates `glucose___PTS` positively or negatively, with the skew suggesting that positive regulation leads to more attractor states. Consequently, we end up with `f_2(x_0, x_1) = x_0 & !x_1`, giving us the update function for `glucose___PTS` as `glucose & PTS & cell_membrane & !saturation`.\n",
    "\n",
    "Now, consider function `f_3`. Here, we have two values (`f_3[0,1,0] = false` and `f_3[1,0,1] = true`) with `impact: 100` and a \"perfect skew\": these function rows simply need to be fixed if we want to obtain a function that is consistent with the regulatory graph at all. \n",
    "\n",
    "Notice that all the remaining function rows also have perfect skew, only the impact is reduced. This means that selecting the suggested output value will not eliminate any attractor states. However, note that even if we fix all the values as suggested, we still have several function rows with ambiguous values that have no influence on the number of attractor states. \n",
    "\n",
    "To resolve this ambiguity, we look at the original (inconsistent) update function: the closest modification which also satisfies all the requirements we discussed here gives us `f_3(x_0, x_1, x_2) = x_0 & (!x_1 | x_2)`, which results in the update function `spo0A_p & sigH & (spoIIE | !spoIIAA)`. But note that there are several other possible functions which produce exactly the same attractor states."
   ]
  },
  {
   "cell_type": "code",
   "execution_count": 27,
   "metadata": {
    "cell_id": "5c28a656-4dac-4826-ae15-01bbddebffae",
    "deepnote_app_coordinates": {
     "h": 5,
     "w": 12,
     "x": 0,
     "y": 228
    },
    "deepnote_cell_type": "code",
    "deepnote_output_heights": [
     21
    ],
    "deepnote_to_be_reexecuted": true,
    "execution_millis": 18,
    "execution_start": 1643454470541,
    "source_hash": "648d34a4",
    "tags": []
   },
   "outputs": [],
   "source": [
    "# Reload the model again\n",
    "model = BooleanNetwork.from_file('butanol-pathway.sbml')\n",
    "\n",
    "# Fix update functions using the repaired values\n",
    "f_spo0A_p = \"spo0A & phosphorylation & sigA & !sporulation\"\n",
    "f_glucose_PTS = \"glucose & PTS & cell_membrane & !sporulation\"\n",
    "f_spoIIAB = \"spo0A_p & sigH & (spoIIE | !spoIIAA)\"\n",
    "\n",
    "model.set_update_function(\"spo0A_p\", f_spo0A_p)\n",
    "model.set_update_function(\"glucose___PTS\", f_glucose_PTS)\n",
    "model.set_update_function(\"spoIIAB\", f_spoIIAB)\n",
    "\n",
    "Path('butanol-pathway-repaired.sbml').write_text(model.to_sbml());"
   ]
  },
  {
   "cell_type": "markdown",
   "metadata": {
    "cell_id": "55b631ed-f49e-4604-abcd-a3d27ff7cc3c",
    "deepnote_app_coordinates": {
     "h": 5,
     "w": 12,
     "x": 0,
     "y": 222
    },
    "deepnote_cell_type": "markdown",
    "tags": []
   },
   "source": [
    "### Discussion\n",
    "\n",
    "In this case study, we expanded on the results presented in \\[1]. Specifically, we perform a full attractor analysis of the proposed signalling pathway. We show that out of the `13` available logical parameters, the long-term behaviour of the model is primarily sensitive to two: `glucose` and `sigA`. We then cross-reference this attractor analysis with the simulation results and in-vivo measurements, including the stability of pathway products (`butanol`, `acetone`, `ethanol`, and other substances measured in \\[1]). We show that the attractors of the signalling pathway are indeed consistent with the known measurements and simulation. \n",
    "\n",
    "Additionally, we uncovered a small percentage of parametrisations which enable intermittent `ethanol` production. Production of `ethanol` was observed in small quantities during in-vivo measurements, but was not reproduced in network simulations. Now we have a plausible explanation for this behaviour. Similarly, for `lactic_acid`, which was the second least abundant substance during in-vivo measurements (after `ethanol`), we see a significant portion of parametrisations (`52%`) with `lactic_acid` production disabled. This suggests the network is correctly reflecting the real-world dynamics of these variables. \n",
    "\n",
    "However, we found that in the absence of `sigA`, the network admits various biologically unrealistic outcomes. In particular, sporulation can be active while the pythway is producing products. We have also identified several logical inconsistencies between network's update functions and its regulatory graph. We thus attempted to repair the network by parametrising its problematic update functions. \n",
    "\n",
    "We identified a single instantiation of the `spo0A+p` update function which both reduces unrealistic behaviour when `sigA` is inactive and preserves the agreement with in-vivo measurements. To identify the remaining update functions which do not seem to influence the network products, we analysed their impact on the total number of attractor states. Here, we discovered that the update function of `spoIIAB` has significant impact on the number of attractor states (`99.9%` of such states can be eliminated by the choice of this function). Subsequently, we selected instantiations for `spoIIAB` and `glucose___PTS` functions which maximise attractor states. We provide this repaired network in `butanol-pathway-repaired.sbml`. "
   ]
  },
  {
   "cell_type": "markdown",
   "metadata": {
    "cell_id": "68c66fa3-b3ac-46e4-a476-c540b46fe8f7",
    "deepnote_app_coordinates": {
     "h": 5,
     "w": 12,
     "x": 0,
     "y": 6
    },
    "deepnote_cell_type": "markdown",
    "tags": []
   },
   "source": [
    "### References\n",
    "\n",
    "\\[1] Jana Musilová. “Signaling Pathway for Butanol Produc- tion in Solventogenic Clostridium Bacteria.” MA thesis. Brno University of Technology, 2019.\n",
    "\n",
    "\\[2] Patakova, Petra, et al. \"Acidogenesis, solventogenesis, metabolic stress response and life cycle changes in Clostridium beijerinckii NRRL B-598 at the transcriptomic level.\" Scientific reports 9.1 (2019): 1-21.\n",
    "\n",
    "\\[3] Sedlar, Karel, et al. \"Transcription profiling of butanol producer Clostridium beijerinckii NRRL B-598 using RNA-Seq.\" BMC genomics 19.1 (2018): 1-13.\n",
    "\n",
    "\\[4] Al-Hinai, Mohab A., Shawn W. Jones, and Eleftherios T. Papoutsakis. \"The Clostridium sporulation programs: diversity and preservation of endospore differentiation.\" Microbiology and Molecular Biology Reviews 79.1 (2015): 19-37."
   ]
  }
 ],
 "metadata": {
  "deepnote": {
   "is_reactive": false
  },
  "deepnote_app_layout": "article",
  "deepnote_execution_queue": [
   {
    "cellId": "6b603d3f-c1c6-4796-8a89-8a49f3466ece",
    "msgId": "00667f3e-cef7-4468-abb5-83307f25938f",
    "sessionId": "de4375d5-161c-45ea-a59c-2b2349f00788"
   }
  ],
  "deepnote_notebook_id": "32905b34-1fa0-4719-afe0-f077b6225ea9",
  "kernelspec": {
   "display_name": "Python 3 (ipykernel)",
   "language": "python",
   "name": "python3"
  },
  "language_info": {
   "codemirror_mode": {
    "name": "ipython",
    "version": 3
   },
   "file_extension": ".py",
   "mimetype": "text/x-python",
   "name": "python",
   "nbconvert_exporter": "python",
   "pygments_lexer": "ipython3",
   "version": "3.12.1"
  }
 },
 "nbformat": 4,
 "nbformat_minor": 4
}
