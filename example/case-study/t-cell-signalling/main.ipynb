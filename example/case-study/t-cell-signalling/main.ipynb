{
 "cells": [
  {
   "cell_type": "markdown",
   "metadata": {
    "cell_id": "661a58d3-e473-4194-b42e-6b28ffcabf57",
    "deepnote_app_coordinates": {
     "h": 5,
     "w": 12,
     "x": 0,
     "y": null
    },
    "deepnote_cell_type": "markdown",
    "tags": []
   },
   "source": [
    "# Dynamical Analysis of a T-cell Survival Network\n",
    "\n",
    "In this notebook, we use [AEON](https://biodivine.fi.muni.cz/aeon/) to analyse the dynamical behaviour of a well know Boolean network describing a T-cell survival mechanism which arises in the context of T-LGL (T-cell large granular lymphocyte) leukemia. In individuals suffering from this disease, mature cytotoxic T-lymphocytes (CTLs) exhibit abnormal proliferation capabilities. Normally, CTLs are generated to eliminate cells infected by a virus. While normal CTLs undergo a programmed cell death once the virus is neutralised, leukemic CTLs remain long-term competent \\[1]. The cause of this behaviour has been identified as abnormal dysregulation of a few critical components of the signal transduction network responsible for activation of the programmed cell death mechanism \\[2].\n",
    "\n",
    "The actual Boolean network has been first described in \\[3], where it was constructed based on extensive literature search. Subsequently, network attractors and response to node pertrubation was explored using analytical methods, simulation, and network reduction in \\[4]. It consists of 60 proteins, mRNAs, and small molecules. Here, the network description was obtained from the [CellCollective](https://research.cellcollective.org/?dashboard=true#module/2407:1/tlgl-survival-network-2011/1) database as `t-lgl-survival.sbml`. The primary function of the network is regulated by the `Stimuli` input variable, which corresponds to successful detection of targeted virions. The main output node is `Apoptosis`, which models a successful initiation of the programmed cell death. Aside from `Stimuli`, there are five other input entities (i.e. logical parameters) which influence the behaviour of the network. Similarly, aside from `Apoptosis`, the network also tracks expression of `Proliferation` and `Cytoskeleton_signaling` phenotypes.\n",
    "\n",
    "As opposed to \\[4], here, we analyse the network in full (i.e. without state space reduction). Our first goal is to reproduce the analysis performed in \\[4]. Subsequently, we will attempt to add additional insight into the network behaviour by extending the analysis beyond the settings considered in \\[4]."
   ]
  },
  {
   "cell_type": "markdown",
   "metadata": {
    "cell_id": "f750ef3a-9890-463b-b86e-42a998d2ef4a",
    "deepnote_app_coordinates": {
     "h": 5,
     "w": 12,
     "x": 0,
     "y": 78
    },
    "deepnote_cell_type": "markdown",
    "tags": []
   },
   "source": [
    "### Replication study\n",
    "\n",
    "The first step is to recreate the test conditions as examined in \\[4]. This means loading the model and setting `Stimuli = IL15 = PDGF = true`, and `Stimuli2 = CD45 = TAX = false`. This model has no remaining free parameters (and conseuqently, only one colour). As a result, we can quite easily compute its attractors, as well as their basins of attraction."
   ]
  },
  {
   "cell_type": "code",
   "execution_count": 1,
   "metadata": {},
   "outputs": [
    {
     "name": "stdout",
     "output_type": "stream",
     "text": [
      "Detected IPython (`ZMQInteractiveShell`). Log level set to `LOG_ESSENTIAL`.\n"
     ]
    }
   ],
   "source": [
    "from biodivine_aeon import *"
   ]
  },
  {
   "cell_type": "code",
   "execution_count": 2,
   "metadata": {},
   "outputs": [],
   "source": [
    "model = BooleanNetwork.from_file('t-lgl-survival.sbml')\n",
    "\n",
    "# Fix input variables according to [4]\n",
    "model.set_update_function(\"Stimuli\", \"true\")\n",
    "model.set_update_function(\"IL15\", \"true\")\n",
    "model.set_update_function(\"PDGF\", \"true\")\n",
    "model.set_update_function(\"Stimuli2\", \"false\")\n",
    "model.set_update_function(\"CD45\", \"false\")\n",
    "model.set_update_function(\"TAX\", \"false\")\n",
    "\n",
    "graph = AsynchronousGraph(model)"
   ]
  },
  {
   "cell_type": "code",
   "execution_count": 3,
   "metadata": {
    "cell_id": "b340d7ed-4fb8-4095-bfcd-f324f7257300",
    "deepnote_app_coordinates": {
     "h": 5,
     "w": 12,
     "x": 0,
     "y": 6
    },
    "deepnote_cell_type": "code",
    "deepnote_output_heights": [
     21.1875
    ],
    "deepnote_to_be_reexecuted": false,
    "execution_millis": 262,
    "execution_start": 1643021138280,
    "source_hash": "f59393a8",
    "tags": []
   },
   "outputs": [
    {
     "name": "stdout",
     "output_type": "stream",
     "text": [
      "Start interleaved transition guided reduction with 1152921504606847000[nodes:2] candidates.\n",
      "Attractors: 3\n",
      "A1: 1\n",
      "A2: 4\n",
      "A3: 4\n",
      " > Discarded 576460752303423500 instances based on the BnVariable(52) extended component.\n",
      " > State space reduced to 576460752303423500[nodes:3].\n",
      " > Discarded 288230376151711740 instances based on the BnVariable(51) extended component.\n",
      " > State space reduced to 288230376151711740[nodes:4].\n",
      " > Discarded 144115188075855870 instances based on the BnVariable(50) extended component.\n",
      " > State space reduced to 144115188075855870[nodes:5].\n",
      " > Discarded 72057594037927940 instances based on the BnVariable(38) extended component.\n",
      " > State space reduced to 72057594037927940[nodes:6].\n",
      " > Discarded 36028797018963970 instances based on the BnVariable(24) extended component.\n",
      " > State space reduced to 36028797018963970[nodes:7].\n",
      " > Discarded 18014398509481984 instances based on the BnVariable(4) extended component.\n",
      " > State space reduced to 18014398509481984[nodes:8].\n",
      " > Discarded 9007199254740992 instances based on the BnVariable(47) extended component.\n",
      " > State space reduced to 9007199254740992[nodes:9].\n",
      " > Discarded 4503599627370496 instances based on the BnVariable(17) extended component.\n",
      " > State space reduced to 4503599627370496[nodes:10].\n",
      " > Discarded 3377697505935360 instances based on the BnVariable(54) extended component.\n",
      " > State space reduced to 1125902121435136[nodes:96].\n",
      " > Discarded 562949953421312 instances based on the BnVariable(44) extended component.\n",
      " > State space reduced to 562952168013824[nodes:97].\n",
      " > Discarded 281474976710656 instances based on the BnVariable(48) extended component.\n",
      " > State space reduced to 281477191303168[nodes:98].\n",
      " > Discarded 0 instances using the BnVariable(11) transition basin.\n",
      " > Discarded 140737488355328 instances based on the BnVariable(11) extended component.\n",
      " > State space reduced to 140739702947840[nodes:99].\n",
      " > Discarded 0 instances using the BnVariable(8) transition basin.\n",
      " > Discarded 70368744177664 instances based on the BnVariable(8) extended component.\n",
      " > State space reduced to 70370958770176[nodes:100].\n",
      " > Discarded 0 instances using the BnVariable(30) transition basin.\n",
      " > Discarded 35184372088832 instances based on the BnVariable(30) extended component.\n",
      " > State space reduced to 35186586681344[nodes:101].\n",
      " > Discarded 0 instances using the BnVariable(40) transition basin.\n",
      " > Discarded 17592186044416 instances based on the BnVariable(40) extended component.\n",
      " > State space reduced to 17594400636928[nodes:102].\n",
      " > Discarded 0 instances using the BnVariable(32) transition basin.\n",
      " > Discarded 8796093022208 instances based on the BnVariable(32) extended component.\n",
      " > State space reduced to 8798307614720[nodes:103].\n",
      " > Discarded 0 instances using the BnVariable(2) transition basin.\n",
      " > Discarded 4398046511104 instances based on the BnVariable(2) extended component.\n",
      " > State space reduced to 4400261103616[nodes:104].\n",
      " > Discarded 0 instances using the BnVariable(29) transition basin.\n",
      " > Discarded 2199023255552 instances based on the BnVariable(29) extended component.\n",
      " > State space reduced to 2201237848064[nodes:105].\n",
      " > Discarded 1099511627776 instances based on the BnVariable(49) extended component.\n",
      " > State space reduced to 1101726220288[nodes:106].\n",
      " > Discarded 0 instances using the BnVariable(10) transition basin.\n",
      " > Discarded 549755813888 instances based on the BnVariable(10) extended component.\n",
      " > State space reduced to 551970406400[nodes:107].\n",
      " > Discarded 274877906944 instances based on the BnVariable(39) extended component.\n",
      " > State space reduced to 277092499456[nodes:108].\n",
      " > Discarded 0 instances using the BnVariable(7) transition basin.\n",
      " > Discarded 137438953472 instances based on the BnVariable(7) extended component.\n",
      " > State space reduced to 139653545984[nodes:109].\n",
      " > Discarded 0 instances using the BnVariable(35) transition basin.\n",
      " > Discarded 68719476736 instances based on the BnVariable(35) extended component.\n",
      " > State space reduced to 70934069248[nodes:110].\n",
      " > Discarded 1409286144 instances using the BnVariable(12) transition basin.\n",
      " > State space reduced to 69524783104[nodes:67].\n",
      " > Discarded 0 instances using the BnVariable(59) transition basin.\n",
      " > Discarded 34359738368 instances based on the BnVariable(59) extended component.\n",
      " > State space reduced to 35165044736[nodes:68].\n",
      " > Discarded 0 instances using the BnVariable(14) transition basin.\n",
      " > Discarded 17179869184 instances based on the BnVariable(14) extended component.\n",
      " > State space reduced to 17985175552[nodes:69].\n",
      " > Discarded 0 instances using the BnVariable(1) transition basin.\n",
      " > Discarded 0 instances based on the BnVariable(1) extended component.\n",
      " > Discarded 8858370048 instances based on the BnVariable(41) extended component.\n",
      " > State space reduced to 9126805504[nodes:59].\n",
      " > Discarded 4294967296 instances based on the BnVariable(53) extended component.\n",
      " > State space reduced to 4831838208[nodes:60].\n",
      " > Discarded 2147483648 instances based on the BnVariable(45) extended component.\n",
      " > State space reduced to 2684354560[nodes:61].\n",
      " > Discarded 1073741824 instances based on the BnVariable(33) extended component.\n",
      " > State space reduced to 1610612736[nodes:62].\n",
      " > Discarded 536870912 instances based on the BnVariable(28) extended component.\n",
      " > State space reduced to 1073741824[nodes:63].\n",
      " > Discarded 268435456 instances based on the BnVariable(16) extended component.\n",
      " > State space reduced to 805306368[nodes:64].\n",
      " > Discarded 402653184 instances based on the BnVariable(21) extended component.\n",
      " > State space reduced to 402653184[nodes:66].\n",
      " > Discarded 201326592 instances based on the BnVariable(18) extended component.\n",
      " > State space reduced to 201326592[nodes:68].\n",
      " > Discarded 100663296 instances based on the BnVariable(34) extended component.\n",
      " > State space reduced to 100663296[nodes:70].\n",
      " > Discarded 50331648 instances based on the BnVariable(37) extended component.\n",
      " > State space reduced to 50331648[nodes:72].\n",
      " > Discarded 25165824 instances based on the BnVariable(19) extended component.\n",
      " > State space reduced to 25165824[nodes:74].\n",
      " > Discarded 12582912 instances based on the BnVariable(12) extended component.\n",
      " > State space reduced to 12582912[nodes:76].\n",
      " > Discarded 6291456 instances based on the BnVariable(0) extended component.\n",
      " > State space reduced to 6291456[nodes:78].\n",
      " > Discarded 3145728 instances based on the BnVariable(13) extended component.\n",
      " > State space reduced to 3145728[nodes:80].\n",
      " > Discarded 1572864 instances based on the BnVariable(9) extended component.\n",
      " > State space reduced to 1572864[nodes:82].\n",
      " > Discarded 786432 instances based on the BnVariable(43) extended component.\n",
      " > State space reduced to 786432[nodes:84].\n",
      " > Discarded 393216 instances based on the BnVariable(55) extended component.\n",
      " > State space reduced to 393216[nodes:86].\n",
      " > Discarded 196608 instances based on the BnVariable(15) extended component.\n",
      " > State space reduced to 196608[nodes:88].\n",
      " > Discarded 98304 instances based on the BnVariable(25) extended component.\n",
      " > State space reduced to 98304[nodes:90].\n",
      " > Discarded 49152 instances based on the BnVariable(23) extended component.\n",
      " > State space reduced to 49152[nodes:92].\n",
      " > Discarded 24576 instances based on the BnVariable(20) extended component.\n",
      " > State space reduced to 24576[nodes:94].\n",
      " > Discarded 12288 instances based on the BnVariable(57) extended component.\n",
      " > State space reduced to 12288[nodes:96].\n",
      " > Discarded 6144 instances based on the BnVariable(46) extended component.\n",
      " > State space reduced to 6144[nodes:98].\n",
      " > Discarded 3072 instances based on the BnVariable(42) extended component.\n",
      " > State space reduced to 3072[nodes:100].\n",
      " > Discarded 1536 instances based on the BnVariable(58) extended component.\n",
      " > State space reduced to 1536[nodes:102].\n",
      " > Discarded 768 instances based on the BnVariable(56) extended component.\n",
      " > State space reduced to 768[nodes:104].\n",
      " > Discarded 384 instances based on the BnVariable(27) extended component.\n",
      " > State space reduced to 384[nodes:106].\n",
      " > Discarded 192 instances based on the BnVariable(26) extended component.\n",
      " > State space reduced to 192[nodes:108].\n",
      " > Discarded 96 instances based on the BnVariable(3) extended component.\n",
      " > State space reduced to 96[nodes:110].\n",
      " > Discarded 48 instances based on the BnVariable(22) extended component.\n",
      " > State space reduced to 48[nodes:112].\n",
      " > Discarded 8 instances based on the BnVariable(36) extended component.\n",
      " > State space reduced to 40[nodes:113].\n",
      " > Discarded 20 instances based on the BnVariable(5) extended component.\n",
      " > State space reduced to 20[nodes:115].\n",
      " > Discarded 10 instances based on the BnVariable(31) extended component.\n",
      " > State space reduced to 10[nodes:117].\n",
      " > Discarded 1 instances based on the BnVariable(6) extended component.\n",
      "Interleaved transition guided reduction finished with 9[nodes:118] candidates.\n",
      "Start Xie-Beerel attractor detection on 9[nodes:118] candidates.\n",
      " > Found a bottom SCC: 1x1[nodes:62].\n",
      " > Found a bottom SCC: 4x1[nodes:60].\n",
      " > Found a bottom SCC: 4x1[nodes:60].\n",
      "Attractor detection finished with 3 results.\n"
     ]
    }
   ],
   "source": [
    "attractors = Attractors.attractors(graph)\n",
    "\n",
    "print(\"Attractors:\", len(attractors))\n",
    "\n",
    "A1 = attractors[0]\n",
    "A2 = attractors[1]\n",
    "A3 = attractors[2]\n",
    "\n",
    "print(\"A1:\", A1.vertices().cardinality())\n",
    "print(\"A2:\", A2.vertices().cardinality())\n",
    "print(\"A3:\", A3.vertices().cardinality())"
   ]
  },
  {
   "cell_type": "markdown",
   "metadata": {
    "cell_id": "bc658472-a59e-4809-93e2-e05c4bb6d8fe",
    "deepnote_app_coordinates": {
     "h": 5,
     "w": 12,
     "x": 0,
     "y": 12
    },
    "deepnote_cell_type": "markdown",
    "tags": []
   },
   "source": [
    "First claim that we'd like to verify is about the structure of the network attractors. According to \\[4], we should see a stable attractor with `Apoptosis = true`, and two unstable attractors with `Apoptosis = false`. Here, the instability when `Apoptosis = false` is caused by a feedback loop between `CTLA4` and `TCR`, while the existence of two independent unstable attractors is caused by a bi-stable regime of the variable `P2`, which otherwise plays no major role in the structure of the attractors."
   ]
  },
  {
   "cell_type": "code",
   "execution_count": 4,
   "metadata": {
    "cell_id": "afeead2c-bc6f-4f8b-b685-b331091a1b69",
    "deepnote_app_coordinates": {
     "h": 5,
     "w": 12,
     "x": 0,
     "y": 18
    },
    "deepnote_cell_type": "code",
    "deepnote_to_be_reexecuted": false,
    "execution_millis": 22,
    "execution_start": 1643021138550,
    "source_hash": "1d4da9a7",
    "tags": []
   },
   "outputs": [
    {
     "name": "stdout",
     "output_type": "stream",
     "text": [
      "==== A1 Phenotypes ====\n",
      "A1[Apoptosis] is always True: True\n",
      "A1[Proliferation] is always False: True\n",
      "A1[Cytoskeleton] is always False: True\n",
      "==== A2 Phenotypes ====\n",
      "A2[Apoptosis] is always False: True\n",
      "A2[Proliferation] is always False: True\n",
      "A2[Cytoskeleton] is always True: True\n",
      "A2[TCR] is always True: False\n",
      "A2[TCR] is always False: False\n",
      "A2[CTLA4] is always True: False\n",
      "A2[CTLA4] is always False: False\n",
      "A2[P2] is always False: True\n",
      "==== A3 Phenotypes ====\n",
      "A3[Apoptosis] is always False: True\n",
      "A3[Proliferation] is always False: True\n",
      "A3[Cytoskeleton] is always True: True\n",
      "A3[CTLA4] is always True: False\n",
      "A3[CTLA4] is always False: False\n",
      "A3[P2] is always False: True\n"
     ]
    }
   ],
   "source": [
    "apoptosis = graph.mk_subspace({\"Apoptosis\": True})\n",
    "proliferation = graph.mk_subspace({\"Proliferation\": True})\n",
    "cytoskeleton = graph.mk_subspace({\"Cytoskeleton_signaling\": True})\n",
    "tcr = graph.mk_subspace({\"TCR\": True})\n",
    "ctla4 = graph.mk_subspace({\"CTLA4\": True})\n",
    "p2 = graph.mk_subspace({\"P2\": True})\n",
    "\n",
    "print(\"==== A1 Phenotypes ====\")\n",
    "print(\"A1[Apoptosis] is always True:\", A1.minus(apoptosis).is_empty())\n",
    "print(\"A1[Proliferation] is always False:\", A1.intersect(proliferation).is_empty())\n",
    "print(\"A1[Cytoskeleton] is always False:\", A1.intersect(cytoskeleton).is_empty())\n",
    "\n",
    "print(\"==== A2 Phenotypes ====\")\n",
    "print(\"A2[Apoptosis] is always False:\", A2.intersect(apoptosis).is_empty())\n",
    "print(\"A2[Proliferation] is always False:\", A2.intersect(proliferation).is_empty())\n",
    "print(\"A2[Cytoskeleton] is always True:\", A2.minus(cytoskeleton).is_empty())\n",
    "print(\"A2[TCR] is always True:\", A2.minus(tcr).is_empty())\n",
    "print(\"A2[TCR] is always False:\", A2.intersect(tcr).is_empty())\n",
    "print(\"A2[CTLA4] is always True:\", A2.minus(ctla4).is_empty())\n",
    "print(\"A2[CTLA4] is always False:\", A2.intersect(ctla4).is_empty())\n",
    "print(\"A2[P2] is always False:\", A2.intersect(p2).is_empty())\n",
    "\n",
    "print(\"==== A3 Phenotypes ====\")\n",
    "print(\"A3[Apoptosis] is always False:\", A3.intersect(apoptosis).is_empty())\n",
    "print(\"A3[Proliferation] is always False:\", A3.intersect(proliferation).is_empty())\n",
    "print(\"A3[Cytoskeleton] is always True:\", A3.minus(cytoskeleton).is_empty())\n",
    "print(\"A3[CTLA4] is always True:\", A3.minus(ctla4).is_empty())\n",
    "print(\"A3[CTLA4] is always False:\", A3.intersect(ctla4).is_empty())\n",
    "print(\"A3[P2] is always False:\", A3.minus(p2).is_empty())"
   ]
  },
  {
   "cell_type": "markdown",
   "metadata": {
    "cell_id": "2258b524-b11e-41eb-9ae1-8587105d6efe",
    "deepnote_app_coordinates": {
     "h": 5,
     "w": 12,
     "x": 0,
     "y": 24
    },
    "deepnote_cell_type": "markdown",
    "tags": []
   },
   "source": [
    "First, note that the phenotype expression agrees with observations from \\[4], and we can also confirm that `TCR` and `CTRA4` are oscillating within the unstable attractors, with `P2` expression differing between `A2` and `A3`. Furthermore, if we load this model into AEON, we can confirm this visually using the attractor state space explorer. In this visualisation, we can also easily observe that `P2` is in fact the only variable differentiating between `A2` and `A3`, and that the original observations from \\[4] about stable values of several other network variables also hold (in particular, that `sFas = GPCR = S1P = SMAD = MCL1 = FLIP = IAP = true` in the complex attractors).\n",
    "\n",
    "Next, we can analyse the basins of these three attractors. In \\[4], this is only performed via sampling and simulation. Here, we can actually compute all strong and weak basins in full:\n"
   ]
  },
  {
   "cell_type": "code",
   "execution_count": 5,
   "metadata": {
    "cell_id": "022c6dd6-9701-4930-8ea8-a45696a0ae16",
    "deepnote_app_coordinates": {
     "h": 5,
     "w": 12,
     "x": 0,
     "y": 30
    },
    "deepnote_cell_type": "code",
    "deepnote_to_be_reexecuted": false,
    "execution_millis": 7,
    "execution_start": 1643021417276,
    "source_hash": "8776fe17",
    "tags": []
   },
   "outputs": [
    {
     "name": "stdout",
     "output_type": "stream",
     "text": [
      "Start basic symbolic reachability with 1[nodes:62] candidates.\n",
      "A1 strong basin: 50.04911422729492 %\n",
      "A1[Apoptosis = false] strong basin: 0.049114227294921875 %\n",
      "A2 strong basin: 1.9208528101444244e-07 %\n",
      "A3 strong basin: 7.683411240577698e-07 %\n",
      "A2/A3 strong basin: 3.073364496231079e-06 %\n",
      "Undetermined: 37.26784971659072 %\n",
      "Undetermined phenotype: 49.95088269934058 %\n",
      "Basic reachability done: 1152921469173366800[nodes:77] candidates. Max intermediate size: 302.\n",
      "Start basic symbolic reachability with 4[nodes:60] candidates.\n",
      "Basic reachability done: 431920877861339140[nodes:45] candidates. Max intermediate size: 2475.\n",
      "Start basic symbolic reachability with 4[nodes:60] candidates.\n",
      "Basic reachability done: 573642704001433600[nodes:37] candidates. Max intermediate size: 1339.\n"
     ]
    }
   ],
   "source": [
    "A1_weak = Reachability.reach_bwd(graph, A1)\n",
    "\n",
    "A2_weak = Reachability.reach_bwd(graph, A2)\n",
    "A3_weak = Reachability.reach_bwd(graph, A3)\n",
    "\n",
    "all_states_size = graph.mk_unit_colored_vertices().vertices().cardinality()\n",
    "\n",
    "A1_strong = A1_weak.minus(A2_weak).minus(A3_weak)\n",
    "A1_strong_card = A1_strong.vertices().cardinality()\n",
    "print(\"A1 strong basin:\", (A1_strong_card / all_states_size) * 100.0, \"%\")\n",
    "A1_realistic_strong = A1_strong.minus(apoptosis)\n",
    "A1_realistic_strong_card = A1_realistic_strong.vertices().cardinality()\n",
    "print(\"A1[Apoptosis = false] strong basin:\", (A1_realistic_strong_card / all_states_size) * 100.0, \"%\")\n",
    "A2_strong = A2_weak.minus(A1_weak).minus(A3_weak)\n",
    "A2_strong_card = A2_strong.vertices().cardinality()\n",
    "print(\"A2 strong basin:\", (A2_strong_card / all_states_size) * 100.0, \"%\")\n",
    "A3_strong = A3_weak.minus(A1_weak).minus(A2_weak)\n",
    "A3_strong_card = A3_strong.vertices().cardinality()\n",
    "print(\"A3 strong basin:\", (A3_strong_card / all_states_size) * 100.0, \"%\")\n",
    "\n",
    "A2_A3_strong = A2_weak.union(A3_weak).minus(A1_weak)\n",
    "A2_A3_strong_card = A2_A3_strong.vertices().cardinality()\n",
    "print(\"A2/A3 strong basin:\", (A2_A3_strong_card / all_states_size) * 100.0, \"%\")\n",
    "\n",
    "all_three = A1_weak.intersect(A2_weak).intersect(A3_weak)\n",
    "\n",
    "print(\"Undetermined:\", (all_three.vertices().cardinality() / all_states_size) * 100.0, \"%\")\n",
    "\n",
    "all_phenotypes = A1_weak.intersect(A2_weak.union(A3_weak))\n",
    "print(\"Undetermined phenotype:\", (all_phenotypes.vertices().cardinality() / all_states_size) * 100.0, \"%\")"
   ]
  },
  {
   "cell_type": "markdown",
   "metadata": {
    "cell_id": "c4c8905a-4fa3-40c3-a2ab-3b044ba04343",
    "deepnote_app_coordinates": {
     "h": 5,
     "w": 12,
     "x": 0,
     "y": 54
    },
    "deepnote_cell_type": "markdown",
    "tags": []
   },
   "source": [
    "Just as postulated in \\[4], the strong basin of `A1` represents slightly more than 50% of the state space, while the strong basins of other attractors are much smaller. Specifically, \\[4] measured 0.24% and 0.03% for `A2` and `A3`. Meanwhile, our numbers are significantly lower -- however, the distribution of basin states is most likely different between the original and the reduced network. Note that the high percentage of states in the strong basin of `A1` is in fact not very surprising. Any state with `Apoptosis = true` will necessarily fall into this strong basin, which is exactly 50% of states. However, these states are not realistic as initial states. If we disregard such states, the basin is still the largest of the three by far (5 orders of magnitude), but the difference is reduced significantly.\n",
    "\n",
    "Furthermore, we also compute the basin which guarantees that `A2` or `A3` is visited. Such a number is interesting since `A2` and `A3` differ only in the value of `P2`, which has little biological impact and we may thus consider them to be the manifestation of the same phenotype. In this case, we see that that the strong basin is larger than the basins of `A2` and `A3` in isolation, but is still much smaller than the basin of `A1` (4 orders of magnitude).\n",
    "\n",
    "Finally, \\[4] also mentions that a significant portion of states are completely undetermined, meaning that they can reach an arbitrary attractor. Here, this number can be calculated as the intersection of all weak basins, and is in fact quite high at 37%. Subsequently, we can also compute the number of states where the eventual phenotype of the network is undetermined at 49.95%. If we disregard the unrealistic initial states, these states amount to 74% and 99.9% of the network state space."
   ]
  },
  {
   "cell_type": "markdown",
   "metadata": {
    "cell_id": "2c386d17-d5f2-4357-9dcc-23f2db4f6cb2",
    "deepnote_app_coordinates": {
     "h": 5,
     "w": 12,
     "x": 0,
     "y": 84
    },
    "deepnote_cell_type": "markdown",
    "tags": []
   },
   "source": [
    "### Attractor Bifurcation\n",
    "\n",
    "At this point, we have successfuly demonstrated that AEON can reliably replicate existing results of \\[4], but with formal guarantees. However, the main advantage of AEON is the ability to explore multiple parametrisations of the same network simultaneously. Now, we are thus going to explore the fully parametrised network with its 6 logical parameters. Note that this number is not very high (i.e. AEON can typically handle networks with a much larger parameter space), but it serves as an easy to understand demonstration of its capabilities.\n",
    "\n",
    "This fully parametrised network can be analysed by AEON in several seconds. Subsequently, we can construct a bifurcation decision tree which depicts the impact of logical parameters on the network attractors, such as the one below. Note that this tree is *mostly* automatically generated, however, a small portion of decision nodes was picked by hand to better visually distinguish the possible modes of behaviour. The highlighted node is the one representing the conditions studied in \\[4]."
   ]
  },
  {
   "cell_type": "markdown",
   "metadata": {
    "cell_id": "1a365a77-697c-42ca-ac0d-a23be95ea420",
    "deepnote_app_coordinates": {
     "h": 5,
     "w": 12,
     "x": 0,
     "y": 66
    },
    "deepnote_cell_type": "markdown",
    "tags": []
   },
   "source": [
    "<p align=\"center\">\n",
    "  <img src=\"./t-lgl-tree-full.png\" width=\"800\"/>\n",
    "</p>"
   ]
  },
  {
   "cell_type": "markdown",
   "metadata": {
    "cell_id": "092c0b40-cba4-4e0d-9e1e-285fb5be4400",
    "deepnote_app_coordinates": {
     "h": 5,
     "w": 12,
     "x": 0,
     "y": 60
    },
    "deepnote_cell_type": "markdown",
    "tags": []
   },
   "source": [
    "Notice that in this tree, the logical parameter `Stimuli2` generally introduces an additional (diseased) attractor. By inspecting the regulatory graph, we can see that `Stimuli2` only impacts `P2`, which we identified as the primary source of multistability in our comparison with \\[4]. The reason is an autoregulation on `P2` which allows it to become bistable assuming `Stimuli2` is inactive. To study the effect of this autoregulation, we also consider a simlified version of the network where this autoregulation is removed (`t-lgl-p2.aeon`). As we can see in the resulting tree below, the spurious multistability has been mostly eliminated. Every leaf except for a single instance admits exactly one or two attractors (and as we later discuss, these differentiate between healthy and unhealthy phenotypes). In the single case where multistability is still admissible, we can observe (by inspecting attractor state space) that we have an additional diseased attractor which is otherwise identical to the healthy attractor, except for the value of `Apoptosis`."
   ]
  },
  {
   "cell_type": "markdown",
   "metadata": {
    "cell_id": "a4faa02d-6cce-4eb0-819f-11c8772d23c8",
    "deepnote_app_coordinates": {
     "h": 5,
     "w": 12,
     "x": 0,
     "y": 72
    },
    "deepnote_cell_type": "markdown",
    "tags": []
   },
   "source": [
    "<p align=\"center\">\n",
    "  <img src=\"./p2-tree-full.png\" width=\"500\"/>\n",
    "</p>"
   ]
  },
  {
   "cell_type": "markdown",
   "metadata": {
    "cell_id": "afd9e514-80c0-43ca-890f-687376cb989a",
    "deepnote_app_coordinates": {
     "h": 5,
     "w": 12,
     "x": 0,
     "y": 90
    },
    "deepnote_cell_type": "markdown",
    "tags": []
   },
   "source": [
    "#### Healthy phenotypes\n",
    "\n",
    "An interesting observation we can make about the decision tree (either the original, or the one with reduced multistability) is that every leaf consisting of a single attractor only contains the healthy stable attractor with `Apoptosis = true`. This means that, assuming `CD45` and `IL15` are kept low, sufficient presence of `TAX`, `Stimuli` or `PDGF` guarantees that the cell correctly undergoes apoptosis. As we already discussed, `Stimuli` corresponds to successful detection of the targeted viral load, and as such it is not unreasonable to assume that it ensures conditions which activate `Apoptosis`. \n",
    "\n",
    "However, both `TAX` and `PDGF` have otherwise been identified as `Apoptosis` inhibitors (see \\[3] and \\[5]). In fact, \\[3] identified `IL15` and `PDGF` as two substances whose combined activity is sufficient to represent any known leukemic deregulations. But, based on our findings, in the context of this network, in the absence of `CD45` and `IL15`, we postulate that these substances actually promote `Apoptosis`.\n",
    "\n",
    "Finally, an additional interesting observation we can draw by further experimenting with the tree is that the activity of either `CD45` or `IL15` is in fact sufficient to ensure the presence of phenotypes with deregulated `Apoptosis`. No other logical parameter has this effect."
   ]
  },
  {
   "cell_type": "markdown",
   "metadata": {
    "cell_id": "d529153a-5091-49fb-a3f8-b3ce0c503e38",
    "deepnote_app_coordinates": {
     "h": 5,
     "w": 12,
     "x": 0,
     "y": 36
    },
    "deepnote_cell_type": "markdown",
    "tags": []
   },
   "source": [
    "#### Absence of `Proliferation`\n",
    "\n",
    "We can also notice that regardles of the setting of logical parameters, `Proliferation` always stabilises to `false` in every attractor. While this is expected in attractors where `Apoptosis` is active, it may not be the desired effect in deseased cells which remain alive indefinitely. However, if we look at the regulatory graph of the model, we can quickly identify why this is the case. Aside from `Apoptosis` (which inhibits every variable), `Proliferation` is activated by `STAT3` and inhibited by `P27`. However, `P27` is also only activated by `STAT3`, and thus, assuming `STAT3` stabilises, `P27` eventually stabilises with the same value. Consequently, once `STAT3` becomes active and promotes `Proliferation`, `P27` eventually becomes active as well, and inhibits `Proliferation`. As a result, `Proliferation` can always be active only during a temporary window where `STAT3` is active, but `P27` has not been activated yet.\n",
    "\n",
    "It is unlikely that this is the desired behaviour in general, even though it may be useful in this particular case of a model describing this specific part of the pathway. Note that in the paper which originally introduces the model (i.e. \\[3]), a larger set of variables and regulations is initially considered (albeit without specific update functions). Here, we actually see a more complex network surrounding `Proliferation`. In particular, `STAT3` is now inhibited by `P27`, which may lead to oscillations of these two variables, theoretically leading to an attractor with intermittent activity of `Proliferation`. Furthermore, `STAT3` does not influence `Proliferation` directly, but rather through the variable `CMYC` (which is not included in the final model). However, `CMYC` also depends on other network variables and thus can also activate `Proliferation` in the absence of `STAT3`. As future work, one may consider re-including these regulations in the network to better model the proliferation process.\n",
    "\n",
    "To quickly demonstrate the abovementioned principle, let us consider a modified network where `STAT3` still negatively depends on `P27`, as was the case in the original network (see `t-lgl-proliferation.aeon`). Furthermore, let us set the update function of `STAT3` to `!Apoptosis & F(JAK, P27)`, where `F` is a fresh functional parameter, as we do not know the exact interaction between `JAK` and `P27`. Subsequently, using the stability analysis tool in the decision tree editor, we can see that indeed, an attractor with oscillating value of `Proliferation` is admissible. We can then devise the following decision tree fragment:"
   ]
  },
  {
   "cell_type": "markdown",
   "metadata": {
    "cell_id": "e7a42532-0a20-44c2-9403-f9358671c82a",
    "deepnote_app_coordinates": {
     "h": 5,
     "w": 12,
     "x": 0,
     "y": 96
    },
    "deepnote_cell_type": "markdown",
    "tags": []
   },
   "source": [
    "<p align=\"center\">\n",
    "  <img src=\"./proliferation-tree-fragment.png\" width=\"400\" />\n",
    "</p>"
   ]
  },
  {
   "cell_type": "markdown",
   "metadata": {
    "cell_id": "c8548995-6a00-472c-8eee-9cfef69e0c1c",
    "deepnote_app_coordinates": {
     "h": 5,
     "w": 12,
     "x": 0,
     "y": 102
    },
    "deepnote_cell_type": "markdown",
    "tags": []
   },
   "source": [
    "In this tree, both leafs only contain attractors with oscillating `Proliferation` (aside from the `Apoptosis = true` stable state) and differ again only in the bistability of `P2` induced by `Stimuli2`. Meanwhile, the remaining (not expanded) nodes only contain attractors with `Proliferation` inactive. This leads us to the conclusion that using `!Apoptosis & (JAK | !P27)` as the update function for `STAT3` indeed leads to existence of attractors with Proliferation active. However, these attractors only appear in the presence of `CD45`."
   ]
  },
  {
   "cell_type": "markdown",
   "metadata": {
    "cell_id": "b6c88c22-7fd9-4489-bae8-f5cf156bd6ff",
    "deepnote_app_coordinates": {
     "h": 5,
     "w": 12,
     "x": 0,
     "y": 42
    },
    "deepnote_cell_type": "markdown",
    "tags": []
   },
   "source": [
    "### Discussion\n",
    "\n",
    "In this short study, we have explored the dynamics of a T-lymphocyte survival pathway. The goal of this pathway is to describe the root causes of dysregulated apoptosis mechanism in individuals suffering from leukemia.\n",
    "\n",
    "First, we have confirmed the findings of \\[4] with regards to network attractors. These include the existence of two complex attractors corresponding to the diseased phenotype (`Apoptosis = false`), and one stable attractor corresponding to the healthy phenotype (`Apoptosis = true`). Furthermore, we have confirmed the stabilisation (or destabilisation) of other variables inside these attractors, as discussed in \\[4]. However, compared to \\[4], we were able to obtain these results using the whole original network, without performing any significant reductions on the regulatory graph. \n",
    "\n",
    "Subsequently, we have also analysed the basins of attraction for these three attractors. In \\[4], these were only approximated using stochastic simulation. Using our exact method, we obtained results which numerically do not match those of \\[4] (most likely due to the employed reduction and stochastic simulation), but confirm the general suggested trends. Specifically, we have confirmed that (after discounting the 50% of `Apoptosis = true` states, which are biologically unrealistic as initial states), the strong basin of the healthy phenotype is much larger than those of unhealthy phenotypes. Specifically, 5 orders of magnitued if we consider the two diseased attractors separately, and 4 orders of magnitued if considered together. However, these strong basins are very small in relative to the undetermined weak basins. In particular, 37% of the network states can reach any of the three attractors, and 49.95% can reach either phenotype. After discounting the `Apoptosis = true` states, this translates to 74% and 99.9% of realistic initial states.\n",
    "\n",
    "We follow up on this analysis by further exploring the long-term behaviour of the network under variation of parameters. To this end, we have produced a complete bifurcation decision tree which captures the influence of logical parameters on the presence of attractors. Additionally, we have also presented a decision tree for a variant of the network with `P2` autoregulation disabled. This autoregulation is the root cause for the presence of multiple diseased attractors but has otherwise very little functionality. The tree of the reduced network demonstrates this, since while the multistability is eliminated (originally triggered by `Stimuli2`, which regulates `P2`), the effect of other network parameters is preserved.\n",
    "\n",
    "Furthermore, by performing stability analysis on individual nodes of this tree, we have uncovered that in the absence of `CD45` and `IL15`, there are multiple logical parameters whose activity leads to the complete eradication of the diseased phenotype (in particular, `Stimuli`, `TAX` and `PDGF`). This is especially interesting due to the fact that in most other studies, `TAX` and `PDGF` are considered to be the drivers of apoptosis dysregulation. Aside from this effect, we have also identified `CD45` and `IL15` as two minimal sufficient conditions for the presence of diseased attractors: once either `CD45` or `IL15` is active, the network as is will always admit the diseased phenotype. Meanwhile, no other logical parameter has this property. However, `CD45` is one of the key proteins in T-lymphocyte antigen signalling \\[6]. Meanwhile, `IL15` regulates the survival and proliferation of \"memory\" T-cells in the absence of antigens. Both are thus crucial to the proper functioning of lymphocytes as part of the immune system.\n",
    "\n",
    "Finally, we have observed that the network as is only admits activity of `Proliferation` in temporary bursts outside of the network attractors. This may be a deficit in the model design, as monitoring of `Proliferation` was not the intended purpose of the network. Indeed, the regulatory mechanism of `Proliferation` is quite simplistic. We have consulted the original literature review in \\[3] to identify a potential regulation (inhibition of `STAT3` by `P27`) which is omited in this network, but has the potential to influence the activity of `Proliferation` in network attractors. We have included this regulation into the model while leaving its influence unknown on the level of update functions using functional parameters. Subsequently, using a bifurcation decision tree, we have identified the conditions under which this regulation indeed leads to intermittent activity of `Proliferation` in the network attractors satisfying `Apoptosis = false`. Interestingly, activity of `CD45` is strictly necessary to produce this behaviour (`CD45 = false` always implies `Proliferation = false` in all attractors). This is in line with biological expectations, as `CD45` triggers response to antigens which may also involve T-cell proliferation \\[7] (but is in general effected by different isoforms of `CD45` not included in this model)."
   ]
  },
  {
   "cell_type": "markdown",
   "metadata": {
    "cell_id": "faae1adc-4ef9-42d0-907d-50bb96cee4c4",
    "deepnote_app_coordinates": {
     "h": 5,
     "w": 12,
     "x": 0,
     "y": 48
    },
    "deepnote_cell_type": "markdown",
    "tags": []
   },
   "source": [
    "### References\n",
    "\n",
    "\\[1] Sokol, Lubomir, and Thomas P. Loughran Jr. \"Large granular lymphocyte leukemia.\" The oncologist 11.3 (2006): 263-273.\n",
    "\n",
    "\\[2] Shah, Mithun Vinod, Ranran Zhang, and Thomas P. Loughran Jr. \"Never say die: survival signaling in large granular lymphocyte leukemia.\" Clinical Lymphoma and Myeloma 9 (2009): S244-S253.\n",
    "\n",
    "\\[3] Zhang, Ranran, et al. \"Network model of survival signaling in large granular lymphocyte leukemia.\" Proceedings of the National Academy of Sciences 105.42 (2008): 16308-16313.\n",
    "\n",
    "\\[4] Saadatpour, Assieh, et al. \"Dynamical and structural analysis of a T cell survival network identifies novel candidate therapeutic targets for large granular lymphocyte leukemia.\" PLoS computational biology 7.11 (2011): e1002267.\n",
    "\n",
    "\\[5] Okamoto, Kazuo, et al. \"Human T‐cell leukemia virus type‐I oncoprotein Tax inhibits Fas‐mediated apoptosis by inducing cellular FLIP through activation of NF‐κB.\" Genes to Cells 11.2 (2006): 177-191.\n",
    "\n",
    "\\[6] Courtney, Adam H., et al. \"CD45 functions as a signaling gatekeeper in T cells.\" Science signaling 12.604 (2019).\n",
    "\n",
    "\\[7] Ledbetter, Jeffrey A., et al. \"CD4, CD8 and the role of CD45 in T-cell activation.\" Current opinion in immunology 5.3 (1993): 334-340."
   ]
  },
  {
   "cell_type": "code",
   "execution_count": null,
   "metadata": {},
   "outputs": [],
   "source": []
  }
 ],
 "metadata": {
  "deepnote": {
   "is_reactive": false
  },
  "deepnote_app_layout": "article",
  "deepnote_execution_queue": [],
  "deepnote_notebook_id": "e1b0f464-974d-46a0-9974-2a60eb057b27",
  "kernelspec": {
   "display_name": "Python 3 (ipykernel)",
   "language": "python",
   "name": "python3"
  },
  "language_info": {
   "codemirror_mode": {
    "name": "ipython",
    "version": 3
   },
   "file_extension": ".py",
   "mimetype": "text/x-python",
   "name": "python",
   "nbconvert_exporter": "python",
   "pygments_lexer": "ipython3",
   "version": "3.12.1"
  }
 },
 "nbformat": 4,
 "nbformat_minor": 4
}
