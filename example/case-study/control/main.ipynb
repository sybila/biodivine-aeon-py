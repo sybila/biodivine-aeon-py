{
 "cells": [
  {
   "cell_type": "code",
   "execution_count": 1,
   "id": "initial_id",
   "metadata": {
    "collapsed": true,
    "ExecuteTime": {
     "end_time": "2024-03-29T14:14:42.339466Z",
     "start_time": "2024-03-29T14:14:41.351310Z"
    }
   },
   "outputs": [
    {
     "name": "stdout",
     "output_type": "stream",
     "text": [
      "Defaulting to user installation because normal site-packages is not writeable\r\n",
      "Processing /Users/smijeva/PycharmProjects/biodivine-aeon-py/target/wheels/biodivine_aeon-0.0.9a4-cp37-abi3-macosx_11_0_arm64.whl\r\n",
      "Installing collected packages: biodivine-aeon\r\n",
      "  Attempting uninstall: biodivine-aeon\r\n",
      "    Found existing installation: biodivine_aeon 0.0.9a4\r\n",
      "    Uninstalling biodivine_aeon-0.0.9a4:\r\n",
      "      Successfully uninstalled biodivine_aeon-0.0.9a4\r\n",
      "Successfully installed biodivine-aeon-0.0.9a4\r\n",
      "\r\n",
      "\u001B[1m[\u001B[0m\u001B[34;49mnotice\u001B[0m\u001B[1;39;49m]\u001B[0m\u001B[39;49m A new release of pip is available: \u001B[0m\u001B[31;49m23.2.1\u001B[0m\u001B[39;49m -> \u001B[0m\u001B[32;49m24.0\u001B[0m\r\n",
      "\u001B[1m[\u001B[0m\u001B[34;49mnotice\u001B[0m\u001B[1;39;49m]\u001B[0m\u001B[39;49m To update, run: \u001B[0m\u001B[32;49m/Library/Developer/CommandLineTools/usr/bin/python3 -m pip install --upgrade pip\u001B[0m\r\n"
     ]
    }
   ],
   "source": [
    "!/usr/bin/python3 -m pip install --force-reinstall ./../../../target/wheels/biodivine_aeon-0.0.9a4-cp37-abi3-macosx_11_0_arm64.whl"
   ]
  },
  {
   "cell_type": "code",
   "execution_count": 2,
   "outputs": [
    {
     "name": "stdout",
     "output_type": "stream",
     "text": [
      "Defaulting to user installation because normal site-packages is not writeable\r\n",
      "Requirement already satisfied: seaborn in /Users/smijeva/Library/Python/3.9/lib/python/site-packages (0.13.2)\r\n",
      "Requirement already satisfied: numpy!=1.24.0,>=1.20 in /Library/Python/3.9/site-packages (from seaborn) (1.25.2)\r\n",
      "Requirement already satisfied: pandas>=1.2 in /Library/Python/3.9/site-packages (from seaborn) (2.0.3)\r\n",
      "Requirement already satisfied: matplotlib!=3.6.1,>=3.4 in /Users/smijeva/Library/Python/3.9/lib/python/site-packages (from seaborn) (3.8.3)\r\n",
      "Requirement already satisfied: contourpy>=1.0.1 in /Users/smijeva/Library/Python/3.9/lib/python/site-packages (from matplotlib!=3.6.1,>=3.4->seaborn) (1.2.0)\r\n",
      "Requirement already satisfied: cycler>=0.10 in /Users/smijeva/Library/Python/3.9/lib/python/site-packages (from matplotlib!=3.6.1,>=3.4->seaborn) (0.12.1)\r\n",
      "Requirement already satisfied: fonttools>=4.22.0 in /Users/smijeva/Library/Python/3.9/lib/python/site-packages (from matplotlib!=3.6.1,>=3.4->seaborn) (4.50.0)\r\n",
      "Requirement already satisfied: kiwisolver>=1.3.1 in /Users/smijeva/Library/Python/3.9/lib/python/site-packages (from matplotlib!=3.6.1,>=3.4->seaborn) (1.4.5)\r\n",
      "Requirement already satisfied: packaging>=20.0 in /Users/smijeva/Library/Python/3.9/lib/python/site-packages (from matplotlib!=3.6.1,>=3.4->seaborn) (23.1)\r\n",
      "Requirement already satisfied: pillow>=8 in /Users/smijeva/Library/Python/3.9/lib/python/site-packages (from matplotlib!=3.6.1,>=3.4->seaborn) (10.2.0)\r\n",
      "Requirement already satisfied: pyparsing>=2.3.1 in /Users/smijeva/Library/Python/3.9/lib/python/site-packages (from matplotlib!=3.6.1,>=3.4->seaborn) (3.1.2)\r\n",
      "Requirement already satisfied: python-dateutil>=2.7 in /Library/Python/3.9/site-packages (from matplotlib!=3.6.1,>=3.4->seaborn) (2.8.2)\r\n",
      "Requirement already satisfied: importlib-resources>=3.2.0 in /Users/smijeva/Library/Python/3.9/lib/python/site-packages (from matplotlib!=3.6.1,>=3.4->seaborn) (6.4.0)\r\n",
      "Requirement already satisfied: pytz>=2020.1 in /Library/Python/3.9/site-packages (from pandas>=1.2->seaborn) (2023.3.post1)\r\n",
      "Requirement already satisfied: tzdata>=2022.1 in /Library/Python/3.9/site-packages (from pandas>=1.2->seaborn) (2023.3)\r\n",
      "Requirement already satisfied: zipp>=3.1.0 in /Library/Python/3.9/site-packages (from importlib-resources>=3.2.0->matplotlib!=3.6.1,>=3.4->seaborn) (3.16.2)\r\n",
      "Requirement already satisfied: six>=1.5 in /Library/Developer/CommandLineTools/Library/Frameworks/Python3.framework/Versions/3.9/lib/python3.9/site-packages (from python-dateutil>=2.7->matplotlib!=3.6.1,>=3.4->seaborn) (1.15.0)\r\n",
      "\r\n",
      "\u001B[1m[\u001B[0m\u001B[34;49mnotice\u001B[0m\u001B[1;39;49m]\u001B[0m\u001B[39;49m A new release of pip is available: \u001B[0m\u001B[31;49m23.2.1\u001B[0m\u001B[39;49m -> \u001B[0m\u001B[32;49m24.0\u001B[0m\r\n",
      "\u001B[1m[\u001B[0m\u001B[34;49mnotice\u001B[0m\u001B[1;39;49m]\u001B[0m\u001B[39;49m To update, run: \u001B[0m\u001B[32;49m/Library/Developer/CommandLineTools/usr/bin/python3 -m pip install --upgrade pip\u001B[0m\r\n",
      "Note: you may need to restart the kernel to use updated packages.\n"
     ]
    }
   ],
   "source": [
    "%pip install seaborn"
   ],
   "metadata": {
    "collapsed": false,
    "ExecuteTime": {
     "end_time": "2024-03-29T14:14:43.302905Z",
     "start_time": "2024-03-29T14:14:42.341378Z"
    }
   },
   "id": "bf64debea804b5ba"
  },
  {
   "cell_type": "markdown",
   "source": [
    "## Demonstration of control on Myeloid model\n",
    "\n",
    "The model we will observe is coming from Krumsiek, J., Marr, C., Schroeder, T., and Theis, F. J. (2011). Hierarchical differentiation of myeloid progenitors is encoded in the transcription factor network. PloS one, 6(8), e22649.\n",
    "\n",
    "It describes myeloid cell differentiation into four possible types - erythrocytes, megakaryocytes, monocytes, and granulocytes.\n",
    "\n",
    "![Myeloid_differentiation](myeloid.png)"
   ],
   "metadata": {
    "collapsed": false
   },
   "id": "1d502125b99c6234"
  },
  {
   "cell_type": "code",
   "execution_count": 3,
   "outputs": [],
   "source": [
    "import biodivine_aeon as ba\n",
    "import seaborn as sns"
   ],
   "metadata": {
    "collapsed": false,
    "ExecuteTime": {
     "end_time": "2024-03-29T14:14:43.570561Z",
     "start_time": "2024-03-29T14:14:43.297067Z"
    }
   },
   "id": "11969bfac9ef8031"
  },
  {
   "cell_type": "code",
   "execution_count": 4,
   "outputs": [],
   "source": [
    "# Load the model and create a Perturbation Graph\n",
    "\n",
    "model = ba.BooleanNetwork.from_file('myeloid_witness.aeon')\n",
    "pstg = ba.PerturbationGraph(model)"
   ],
   "metadata": {
    "collapsed": false,
    "ExecuteTime": {
     "end_time": "2024-03-29T14:14:43.581495Z",
     "start_time": "2024-03-29T14:14:43.573743Z"
    }
   },
   "id": "c6edd4931c7190eb"
  },
  {
   "cell_type": "code",
   "execution_count": 5,
   "outputs": [],
   "source": [
    "# Find attractors representing the four possible phenotypes\n",
    "\n",
    "attractors = ba.find_attractors(pstg.as_original())\n",
    "\n",
    "erythrocyte = pstg.fix_variable(\"EKLF\", True).vertices()\n",
    "erythrocyte_att = [a.vertices() for a in attractors if a.vertices().intersect(erythrocyte).cardinality() > 0.0][0]\n",
    "\n",
    "megakaryocyte = pstg.fix_variable(\"Fli1\", True).vertices()\n",
    "megakaryocyte_att = [a.vertices() for a in attractors if a.vertices().intersect(megakaryocyte).cardinality() > 0.0][0]\n",
    "\n",
    "monocyte = pstg.fix_variable(\"cJun\", True).vertices()\n",
    "monocyte_att = [a.vertices() for a in attractors if a.vertices().intersect(monocyte).cardinality() > 0.0][0]\n",
    "\n",
    "granulocyte = pstg.fix_variable(\"Gfi1\", True).vertices()\n",
    "granulocyte_att = [a.vertices() for a in attractors if a.vertices().intersect(granulocyte).cardinality() > 0.0][0]\n",
    "\n",
    "all_atts = [(\"Erythrocyte\", erythrocyte_att), (\"Megakaryocyte\", megakaryocyte_att), (\"Monocyte\", monocyte_att), (\"Granulocyte\", granulocyte_att)]"
   ],
   "metadata": {
    "collapsed": false,
    "ExecuteTime": {
     "end_time": "2024-03-29T14:14:43.594554Z",
     "start_time": "2024-03-29T14:14:43.585602Z"
    }
   },
   "id": "3dc68ef7bec3b2d8"
  },
  {
   "cell_type": "code",
   "execution_count": 6,
   "outputs": [],
   "source": [],
   "metadata": {
    "collapsed": false,
    "ExecuteTime": {
     "end_time": "2024-03-29T14:14:43.600246Z",
     "start_time": "2024-03-29T14:14:43.590401Z"
    }
   },
   "id": "ca8b8e463ac8177c"
  },
  {
   "cell_type": "code",
   "execution_count": 7,
   "outputs": [
    {
     "name": "stdout",
     "output_type": "stream",
     "text": [
      "Erythrocyte Megakaryocyte {'EKLF': False, 'Fli1': True} {'EKLF': False} {'EKLF': False}\n",
      "Erythrocyte Monocyte {'PU1': True} {'PU1': True} {'PU1': True}\n",
      "Erythrocyte Granulocyte {'CEBPa': True, 'Gfi1': True, 'GATA1': False} {'CEBPa': True, 'EgrNab': False} {'EgrNab': False, 'CEBPa': True}\n",
      "Megakaryocyte Erythrocyte {'EKLF': True, 'Fli1': False} {'EKLF': True} {'EKLF': True}\n",
      "Megakaryocyte Monocyte {'PU1': True} {'PU1': True} {'PU1': True}\n",
      "Megakaryocyte Granulocyte {'CEBPa': True, 'GATA1': False, 'Fli1': False, 'Gfi1': True} {'CEBPa': True, 'EgrNab': False} {'CEBPa': True, 'EgrNab': False}\n",
      "Monocyte Erythrocyte {'GATA1': True, 'EKLF': True, 'PU1': False} {'GATA1': True, 'EKLF': True, 'GATA2': True} {'GATA1': True, 'EKLF': True, 'PU1': False}\n",
      "Monocyte Megakaryocyte {'Fli1': True, 'PU1': False, 'GATA1': True} {'Fli1': True, 'PU1': False} {'PU1': False, 'Fli1': True}\n",
      "Monocyte Granulocyte {'CEBPa': True, 'Gfi1': True, 'EgrNab': False} {'EgrNab': False, 'CEBPa': True} {'EgrNab': False, 'CEBPa': True}\n",
      "Granulocyte Erythrocyte {'GATA1': True, 'CEBPa': False, 'EKLF': True, 'PU1': False} {'GATA2': True, 'GATA1': True, 'EKLF': True} {'EKLF': True, 'GATA1': True, 'PU1': False}\n",
      "Granulocyte Megakaryocyte {'CEBPa': False, 'Fli1': True, 'GATA1': True, 'PU1': False} {'Fli1': True, 'PU1': False} {'Fli1': True, 'PU1': False}\n",
      "Granulocyte Monocyte {'CEBPa': False} {'CEBPa': False} {'CEBPa': False}\n"
     ]
    }
   ],
   "source": [
    "results_one_step_min_control_size = {}\n",
    "results_temporary_min_control_size = {}\n",
    "results_permanent_min_control_size = {}\n",
    "\n",
    "for source_att_name, source_att_state in all_atts:\n",
    "    results_one_step_min_control_size[source_att_name] = {}\n",
    "    results_temporary_min_control_size[source_att_name] = {}\n",
    "    results_permanent_min_control_size[source_att_name] = {}\n",
    "    for target_att_name, target_att_state in all_atts:\n",
    "        if source_att_name == target_att_name:\n",
    "            continue\n",
    "        source_vec = []\n",
    "        target_vec = []\n",
    "        for v in model.variables():\n",
    "            v_space = pstg.fix_variable(v, True).vertices()\n",
    "            if source_att_state.intersect(v_space).cardinality() > 0.0:\n",
    "                source_vec.append(True)\n",
    "            else:\n",
    "                source_vec.append(False)\n",
    "                \n",
    "            if target_att_state.intersect(v_space).cardinality() > 0.0:\n",
    "                target_vec.append(True)\n",
    "            else:\n",
    "                target_vec.append(False)\n",
    "                \n",
    "        \n",
    "        # Compute control map to query the results\n",
    "        one_step_map = pstg.one_step_control(source_vec, target_vec, True)\n",
    "        # Find the minimal control and store its size\n",
    "        try:\n",
    "            # one_step_min = len(one_step_map.working_perturbations(min_robustness=0.99, verbose=True,return_only_smallest=False)[0][0])\n",
    "            one_step_min = one_step_map.working_perturbations(min_robustness=0.99, verbose=True,return_only_smallest=False)[0][0]\n",
    "        except IndexError:\n",
    "            one_step_min = -1\n",
    "        results_one_step_min_control_size[source_att_name][target_att_name] = one_step_min\n",
    "\n",
    "        temporary_map = pstg.temporary_control(source_vec, target_vec, False)\n",
    "        try:\n",
    "            # temporary_min = len(temporary_map.working_perturbations(min_robustness=0.99, verbose=False, return_only_smallest=False)[0][0])\n",
    "            temporary_min = temporary_map.working_perturbations(min_robustness=0.99, verbose=False, return_only_smallest=False)[0][0]\n",
    "        except IndexError:\n",
    "            temporary_min = -1\n",
    "            \n",
    "        results_temporary_min_control_size[source_att_name][target_att_name] = temporary_min\n",
    "        \n",
    "        permanent_map = pstg.permanent_control(source_vec, target_vec, False)\n",
    "        # Find the minimal control and store its size\n",
    "        try:\n",
    "            # permanent_min = len(permanent_map.working_perturbations(min_robustness=0.99, verbose=False, return_only_smallest=False)[0][0])\n",
    "            permanent_min = permanent_map.working_perturbations(min_robustness=0.99, verbose=False, return_only_smallest=False)[0][0]\n",
    "        except IndexError:\n",
    "            permanent_min = -1\n",
    "        results_permanent_min_control_size[source_att_name][target_att_name] = permanent_min\n",
    "        \n",
    "        print(source_att_name, target_att_name, one_step_min, temporary_min, permanent_min)"
   ],
   "metadata": {
    "collapsed": false,
    "ExecuteTime": {
     "end_time": "2024-03-29T14:14:45.116198Z",
     "start_time": "2024-03-29T14:14:43.592739Z"
    }
   },
   "id": "e33b15bc38ab2ef"
  },
  {
   "cell_type": "markdown",
   "source": [
    "### MEGAKARYOCYTE TARGET"
   ],
   "metadata": {
    "collapsed": false
   },
   "id": "a2d8118e37b45b7"
  },
  {
   "cell_type": "code",
   "execution_count": 8,
   "outputs": [
    {
     "data": {
      "text/plain": "[({'Fli1': True, 'PU1': False}, ColorSet(cardinality=1))]"
     },
     "execution_count": 8,
     "metadata": {},
     "output_type": "execute_result"
    }
   ],
   "source": [
    "pstg.ceiled_phenotype_permanent_control(megakaryocyte_att, 5, \"Forbidden\", True, False).working_perturbations(0.99, False, False)"
   ],
   "metadata": {
    "collapsed": false,
    "ExecuteTime": {
     "end_time": "2024-03-29T14:14:45.123312Z",
     "start_time": "2024-03-29T14:14:45.121547Z"
    }
   },
   "id": "1e24d748b4301c4b"
  },
  {
   "cell_type": "code",
   "execution_count": 9,
   "outputs": [
    {
     "name": "stdout",
     "output_type": "stream",
     "text": [
      "[({'Fli1': True, 'EKLF': False}, ColorSet(cardinality=1))]\n",
      "[({'GATA1': True, 'CEBPa': False, 'PU1': False, 'Fli1': True}, ColorSet(cardinality=1))]\n",
      "[({'PU1': False, 'Fli1': True, 'GATA1': True}, ColorSet(cardinality=1))]\n",
      "[({}, ColorSet(cardinality=1))]\n"
     ]
    }
   ],
   "source": [
    "print(pstg.one_step_control(state_to_vec(model, erythrocyte_att, pstg), state_to_vec(model, megakaryocyte_att, pstg), True).working_perturbations(min_robustness=0.99, verbose=False, return_only_smallest=False))\n",
    "print(pstg.one_step_control(state_to_vec(model, granulocyte_att, pstg), state_to_vec(model, megakaryocyte_att, pstg), True).working_perturbations(min_robustness=0.99, verbose=False, return_only_smallest=False))\n",
    "print(pstg.one_step_control(state_to_vec(model, monocyte_att, pstg), state_to_vec(model, megakaryocyte_att, pstg), True).working_perturbations(min_robustness=0.99, verbose=False, return_only_smallest=False))\n",
    "print(pstg.one_step_control(state_to_vec(model, megakaryocyte_att, pstg), state_to_vec(model, megakaryocyte_att, pstg), True).working_perturbations(min_robustness=0.99, verbose=False, return_only_smallest=False))"
   ],
   "metadata": {
    "collapsed": false,
    "ExecuteTime": {
     "end_time": "2024-03-29T14:14:45.413257Z",
     "start_time": "2024-03-29T14:14:45.408687Z"
    }
   },
   "id": "eeac1027a6dd6c68"
  },
  {
   "cell_type": "code",
   "execution_count": 10,
   "outputs": [
    {
     "name": "stdout",
     "output_type": "stream",
     "text": [
      "[({'EKLF': False}, ColorSet(cardinality=1)), ({'Fli1': True}, ColorSet(cardinality=1))]\n",
      "[({'PU1': False, 'Fli1': True}, ColorSet(cardinality=1))]\n",
      "[({'PU1': False, 'Fli1': True}, ColorSet(cardinality=1))]\n",
      "[({}, ColorSet(cardinality=1))]\n"
     ]
    }
   ],
   "source": [
    "print(pstg.temporary_control(state_to_vec(model, erythrocyte_att, pstg), state_to_vec(model, megakaryocyte_att, pstg), True).working_perturbations(min_robustness=0.99, verbose=False, return_only_smallest=False))\n",
    "print(pstg.temporary_control(state_to_vec(model, granulocyte_att, pstg), state_to_vec(model, megakaryocyte_att, pstg), True).working_perturbations(min_robustness=0.99, verbose=False, return_only_smallest=False))\n",
    "print(pstg.temporary_control(state_to_vec(model, monocyte_att, pstg), state_to_vec(model, megakaryocyte_att, pstg), True).working_perturbations(min_robustness=0.99, verbose=False, return_only_smallest=False))\n",
    "print(pstg.temporary_control(state_to_vec(model, megakaryocyte_att, pstg), state_to_vec(model, megakaryocyte_att, pstg), True).working_perturbations(min_robustness=0.99, verbose=False, return_only_smallest=False))\n"
   ],
   "metadata": {
    "collapsed": false,
    "ExecuteTime": {
     "end_time": "2024-03-29T14:14:45.445700Z",
     "start_time": "2024-03-29T14:14:45.439082Z"
    }
   },
   "id": "61bd14c74cc364cc"
  },
  {
   "cell_type": "code",
   "execution_count": 11,
   "outputs": [
    {
     "name": "stdout",
     "output_type": "stream",
     "text": [
      "[({'EKLF': False}, ColorSet(cardinality=1)), ({'Fli1': True}, ColorSet(cardinality=1))]\n",
      "[({'Fli1': True, 'PU1': False}, ColorSet(cardinality=1))]\n",
      "[({'Fli1': True, 'PU1': False}, ColorSet(cardinality=1))]\n",
      "[({}, ColorSet(cardinality=1))]\n"
     ]
    }
   ],
   "source": [
    "print(pstg.permanent_control(state_to_vec(model, erythrocyte_att, pstg), state_to_vec(model, megakaryocyte_att, pstg), True).working_perturbations(min_robustness=0.99, verbose=False, return_only_smallest=False))\n",
    "print(pstg.permanent_control(state_to_vec(model, granulocyte_att, pstg), state_to_vec(model, megakaryocyte_att, pstg), True).working_perturbations(min_robustness=0.99, verbose=False, return_only_smallest=False))\n",
    "print(pstg.permanent_control(state_to_vec(model, monocyte_att, pstg), state_to_vec(model, megakaryocyte_att, pstg), True).working_perturbations(min_robustness=0.99, verbose=False, return_only_smallest=False))\n",
    "print(pstg.permanent_control(state_to_vec(model, megakaryocyte_att, pstg), state_to_vec(model, megakaryocyte_att, pstg), True).working_perturbations(min_robustness=0.99, verbose=False, return_only_smallest=False))\n"
   ],
   "metadata": {
    "collapsed": false,
    "ExecuteTime": {
     "end_time": "2024-03-29T14:14:45.483381Z",
     "start_time": "2024-03-29T14:14:45.468844Z"
    }
   },
   "id": "8cab04142ef022c1"
  },
  {
   "cell_type": "markdown",
   "source": [
    "### ERYTHROCYTE TARGET"
   ],
   "metadata": {
    "collapsed": false
   },
   "id": "d2d6f1a8ffd1cde9"
  },
  {
   "cell_type": "code",
   "execution_count": 12,
   "outputs": [
    {
     "data": {
      "text/plain": "[({'GATA1': True, 'Fli1': False, 'PU1': False}, ColorSet(cardinality=1)),\n ({'GATA1': True, 'PU1': False, 'EKLF': True}, ColorSet(cardinality=1))]"
     },
     "execution_count": 12,
     "metadata": {},
     "output_type": "execute_result"
    }
   ],
   "source": [
    "pstg.ceiled_phenotype_permanent_control(erythrocyte_att, 5, \"Forbidden\", True, False).working_perturbations(0.99, False, False)"
   ],
   "metadata": {
    "collapsed": false,
    "ExecuteTime": {
     "end_time": "2024-03-29T14:14:45.492786Z",
     "start_time": "2024-03-29T14:14:45.483494Z"
    }
   },
   "id": "d7d779b2f703341a"
  },
  {
   "cell_type": "code",
   "execution_count": 22,
   "outputs": [
    {
     "name": "stdout",
     "output_type": "stream",
     "text": [
      "[({}, ColorSet(cardinality=1))]\n",
      "[({'GATA1': True, 'CEBPa': False, 'PU1': False, 'EKLF': True}, ColorSet(cardinality=1))]\n",
      "[({'EKLF': True, 'GATA1': True, 'PU1': False}, ColorSet(cardinality=1))]\n",
      "[({'EKLF': True, 'Fli1': False}, ColorSet(cardinality=1))]\n"
     ]
    }
   ],
   "source": [
    "print(pstg.one_step_control(state_to_vec(model, erythrocyte_att, pstg), state_to_vec(model, erythrocyte_att, pstg), True).working_perturbations(min_robustness=0.99, verbose=False, return_only_smallest=False))\n",
    "print(pstg.one_step_control(state_to_vec(model, granulocyte_att, pstg), state_to_vec(model, erythrocyte_att, pstg), True).working_perturbations(min_robustness=0.99, verbose=False, return_only_smallest=False))\n",
    "print(pstg.one_step_control(state_to_vec(model, monocyte_att, pstg), state_to_vec(model, erythrocyte_att, pstg), True).working_perturbations(min_robustness=0.99, verbose=False, return_only_smallest=False))\n",
    "print(pstg.one_step_control(state_to_vec(model, megakaryocyte_att, pstg), state_to_vec(model, erythrocyte_att, pstg), True).working_perturbations(min_robustness=0.99, verbose=False, return_only_smallest=False))\n"
   ],
   "metadata": {
    "collapsed": false,
    "ExecuteTime": {
     "end_time": "2024-03-29T14:16:42.245764Z",
     "start_time": "2024-03-29T14:16:42.244058Z"
    }
   },
   "id": "59f6262368588a5d"
  },
  {
   "cell_type": "code",
   "execution_count": 23,
   "outputs": [
    {
     "name": "stdout",
     "output_type": "stream",
     "text": [
      "[({}, ColorSet(cardinality=1))]\n",
      "[({'GATA1': True, 'GATA2': True, 'EKLF': True}, ColorSet(cardinality=1)), ({'PU1': False, 'GATA1': True, 'EKLF': True}, ColorSet(cardinality=1)), ({'EKLF': True, 'GATA2': True, 'PU1': False}, ColorSet(cardinality=1)), ({'Fli1': False, 'GATA1': True, 'GATA2': True}, ColorSet(cardinality=1)), ({'GATA1': True, 'Fli1': False, 'PU1': False}, ColorSet(cardinality=1)), ({'Fli1': False, 'GATA2': True, 'PU1': False}, ColorSet(cardinality=1))]\n",
      "[({'EKLF': True, 'GATA1': True, 'GATA2': True}, ColorSet(cardinality=1)), ({'PU1': False, 'EKLF': True, 'GATA1': True}, ColorSet(cardinality=1)), ({'EKLF': True, 'PU1': False, 'GATA2': True}, ColorSet(cardinality=1)), ({'GATA1': True, 'Fli1': False, 'GATA2': True}, ColorSet(cardinality=1)), ({'Fli1': False, 'PU1': False, 'GATA1': True}, ColorSet(cardinality=1)), ({'PU1': False, 'Fli1': False, 'GATA2': True}, ColorSet(cardinality=1))]\n",
      "[({'EKLF': True}, ColorSet(cardinality=1)), ({'Fli1': False}, ColorSet(cardinality=1))]\n"
     ]
    }
   ],
   "source": [
    "print(pstg.temporary_control(state_to_vec(model, erythrocyte_att, pstg), state_to_vec(model, erythrocyte_att, pstg), True).working_perturbations(min_robustness=0.99, verbose=False, return_only_smallest=False))\n",
    "print(pstg.temporary_control(state_to_vec(model, granulocyte_att, pstg), state_to_vec(model, erythrocyte_att, pstg), True).working_perturbations(min_robustness=0.99, verbose=False, return_only_smallest=False))\n",
    "print(pstg.temporary_control(state_to_vec(model, monocyte_att, pstg), state_to_vec(model, erythrocyte_att, pstg), True).working_perturbations(min_robustness=0.99, verbose=False, return_only_smallest=False))\n",
    "print(pstg.temporary_control(state_to_vec(model, megakaryocyte_att, pstg), state_to_vec(model, erythrocyte_att, pstg), True).working_perturbations(min_robustness=0.99, verbose=False, return_only_smallest=False))\n"
   ],
   "metadata": {
    "collapsed": false,
    "ExecuteTime": {
     "end_time": "2024-03-29T14:16:48.400318Z",
     "start_time": "2024-03-29T14:16:48.398195Z"
    }
   },
   "id": "fc3c6a4684f21185"
  },
  {
   "cell_type": "code",
   "execution_count": 24,
   "outputs": [
    {
     "name": "stdout",
     "output_type": "stream",
     "text": [
      "[({}, ColorSet(cardinality=1))]\n",
      "[({'EKLF': True, 'GATA1': True, 'PU1': False}, ColorSet(cardinality=1)), ({'PU1': False, 'GATA1': True, 'Fli1': False}, ColorSet(cardinality=1))]\n",
      "[({'EKLF': True, 'GATA1': True, 'PU1': False}, ColorSet(cardinality=1)), ({'Fli1': False, 'GATA1': True, 'PU1': False}, ColorSet(cardinality=1))]\n",
      "[({'EKLF': True}, ColorSet(cardinality=1)), ({'Fli1': False}, ColorSet(cardinality=1))]\n"
     ]
    }
   ],
   "source": [
    "print(pstg.permanent_control(state_to_vec(model, erythrocyte_att, pstg), state_to_vec(model, erythrocyte_att, pstg), True).working_perturbations(min_robustness=0.99, verbose=False, return_only_smallest=False))\n",
    "print(pstg.permanent_control(state_to_vec(model, granulocyte_att, pstg), state_to_vec(model, erythrocyte_att, pstg), True).working_perturbations(min_robustness=0.99, verbose=False, return_only_smallest=False))\n",
    "print(pstg.permanent_control(state_to_vec(model, monocyte_att, pstg), state_to_vec(model, erythrocyte_att, pstg), True).working_perturbations(min_robustness=0.99, verbose=False, return_only_smallest=False))\n",
    "print(pstg.permanent_control(state_to_vec(model, megakaryocyte_att, pstg), state_to_vec(model, erythrocyte_att, pstg), True).working_perturbations(min_robustness=0.99, verbose=False, return_only_smallest=False))\n"
   ],
   "metadata": {
    "collapsed": false,
    "ExecuteTime": {
     "end_time": "2024-03-29T14:17:12.514951Z",
     "start_time": "2024-03-29T14:17:12.378154Z"
    }
   },
   "id": "d5cb36bce564995d"
  },
  {
   "cell_type": "markdown",
   "source": [
    "### MONOCYTE TARGET"
   ],
   "metadata": {
    "collapsed": false
   },
   "id": "165c43c0cdad6d37"
  },
  {
   "cell_type": "code",
   "execution_count": 25,
   "outputs": [
    {
     "data": {
      "text/plain": "[({'PU1': True, 'CEBPa': False}, ColorSet(cardinality=1))]"
     },
     "execution_count": 25,
     "metadata": {},
     "output_type": "execute_result"
    }
   ],
   "source": [
    "pstg.ceiled_phenotype_permanent_control(monocyte_att, 5, \"Forbidden\", True, False).working_perturbations(0.99, False, False)"
   ],
   "metadata": {
    "collapsed": false,
    "ExecuteTime": {
     "end_time": "2024-03-29T14:17:28.012667Z",
     "start_time": "2024-03-29T14:17:28.004375Z"
    }
   },
   "id": "72dc358009fae602"
  },
  {
   "cell_type": "code",
   "execution_count": 26,
   "outputs": [
    {
     "name": "stdout",
     "output_type": "stream",
     "text": [
      "[({'PU1': True}, ColorSet(cardinality=1))]\n",
      "[({'CEBPa': False}, ColorSet(cardinality=1))]\n",
      "[({}, ColorSet(cardinality=1))]\n",
      "[({'PU1': True}, ColorSet(cardinality=1))]\n"
     ]
    }
   ],
   "source": [
    "print(pstg.one_step_control(state_to_vec(model, erythrocyte_att, pstg), state_to_vec(model, monocyte_att, pstg), True).working_perturbations(min_robustness=0.99, verbose=False, return_only_smallest=False))\n",
    "print(pstg.one_step_control(state_to_vec(model, granulocyte_att, pstg), state_to_vec(model, monocyte_att, pstg), True).working_perturbations(min_robustness=0.99, verbose=False, return_only_smallest=False))\n",
    "print(pstg.one_step_control(state_to_vec(model, monocyte_att, pstg), state_to_vec(model, monocyte_att, pstg), True).working_perturbations(min_robustness=0.99, verbose=False, return_only_smallest=False))\n",
    "print(pstg.one_step_control(state_to_vec(model, megakaryocyte_att, pstg), state_to_vec(model, monocyte_att, pstg), True).working_perturbations(min_robustness=0.99, verbose=False, return_only_smallest=False))"
   ],
   "metadata": {
    "collapsed": false,
    "ExecuteTime": {
     "end_time": "2024-03-29T14:17:28.297407Z",
     "start_time": "2024-03-29T14:17:28.289116Z"
    }
   },
   "id": "a9944408dee7a22e"
  },
  {
   "cell_type": "code",
   "execution_count": 27,
   "outputs": [
    {
     "name": "stdout",
     "output_type": "stream",
     "text": [
      "[({'PU1': True}, ColorSet(cardinality=1))]\n",
      "[({'CEBPa': False}, ColorSet(cardinality=1))]\n",
      "[({}, ColorSet(cardinality=1))]\n",
      "[({'PU1': True}, ColorSet(cardinality=1))]\n"
     ]
    }
   ],
   "source": [
    "print(pstg.temporary_control(state_to_vec(model, erythrocyte_att, pstg), state_to_vec(model, monocyte_att, pstg), True).working_perturbations(min_robustness=0.99, verbose=False, return_only_smallest=False))\n",
    "print(pstg.temporary_control(state_to_vec(model, granulocyte_att, pstg), state_to_vec(model, monocyte_att, pstg), True).working_perturbations(min_robustness=0.99, verbose=False, return_only_smallest=False))\n",
    "print(pstg.temporary_control(state_to_vec(model, monocyte_att, pstg), state_to_vec(model, monocyte_att, pstg), True).working_perturbations(min_robustness=0.99, verbose=False, return_only_smallest=False))\n",
    "print(pstg.temporary_control(state_to_vec(model, megakaryocyte_att, pstg), state_to_vec(model, monocyte_att, pstg), True).working_perturbations(min_robustness=0.99, verbose=False, return_only_smallest=False))"
   ],
   "metadata": {
    "collapsed": false,
    "ExecuteTime": {
     "end_time": "2024-03-29T14:18:00.508680Z",
     "start_time": "2024-03-29T14:18:00.493299Z"
    }
   },
   "id": "27aefecb680cfe2f"
  },
  {
   "cell_type": "code",
   "execution_count": 28,
   "outputs": [
    {
     "name": "stdout",
     "output_type": "stream",
     "text": [
      "[({'PU1': True}, ColorSet(cardinality=1))]\n",
      "[({'CEBPa': False}, ColorSet(cardinality=1))]\n",
      "[({}, ColorSet(cardinality=1))]\n",
      "[({'PU1': True}, ColorSet(cardinality=1))]\n"
     ]
    }
   ],
   "source": [
    "print(pstg.permanent_control(state_to_vec(model, erythrocyte_att, pstg), state_to_vec(model, monocyte_att, pstg), True).working_perturbations(min_robustness=0.99, verbose=False, return_only_smallest=False))\n",
    "print(pstg.permanent_control(state_to_vec(model, granulocyte_att, pstg), state_to_vec(model, monocyte_att, pstg), True).working_perturbations(min_robustness=0.99, verbose=False, return_only_smallest=False))\n",
    "print(pstg.permanent_control(state_to_vec(model, monocyte_att, pstg), state_to_vec(model, monocyte_att, pstg), True).working_perturbations(min_robustness=0.99, verbose=False, return_only_smallest=False))\n",
    "print(pstg.permanent_control(state_to_vec(model, megakaryocyte_att, pstg), state_to_vec(model, monocyte_att, pstg), True).working_perturbations(min_robustness=0.99, verbose=False, return_only_smallest=False))\n"
   ],
   "metadata": {
    "collapsed": false,
    "ExecuteTime": {
     "end_time": "2024-03-29T14:18:01.989390Z",
     "start_time": "2024-03-29T14:18:01.985330Z"
    }
   },
   "id": "5ee86a90c9acde59"
  },
  {
   "cell_type": "markdown",
   "source": [
    "### GRANULOCYTE TARGET"
   ],
   "metadata": {
    "collapsed": false
   },
   "id": "9abe99bdd4ce459d"
  },
  {
   "cell_type": "code",
   "execution_count": 29,
   "outputs": [
    {
     "data": {
      "text/plain": "[({'CEBPa': True, 'cJun': False}, ColorSet(cardinality=1)),\n ({'Gfi1': True, 'CEBPa': True}, ColorSet(cardinality=1)),\n ({'CEBPa': True, 'EgrNab': False}, ColorSet(cardinality=1))]"
     },
     "execution_count": 29,
     "metadata": {},
     "output_type": "execute_result"
    }
   ],
   "source": [
    "pstg.ceiled_phenotype_permanent_control(granulocyte_att, 5, \"Forbidden\", True, False).working_perturbations(0.99, False, False)"
   ],
   "metadata": {
    "collapsed": false,
    "ExecuteTime": {
     "end_time": "2024-03-29T14:18:30.522670Z",
     "start_time": "2024-03-29T14:18:30.509639Z"
    }
   },
   "id": "e6d99a6321e5c0a2"
  },
  {
   "cell_type": "code",
   "execution_count": 30,
   "outputs": [
    {
     "name": "stdout",
     "output_type": "stream",
     "text": [
      "[({'CEBPa': True, 'GATA1': False, 'Gfi1': True}, ColorSet(cardinality=1))]\n",
      "[({}, ColorSet(cardinality=1))]\n",
      "[({'CEBPa': True, 'EgrNab': False, 'Gfi1': True}, ColorSet(cardinality=1))]\n",
      "[({'GATA1': False, 'CEBPa': True, 'Fli1': False, 'Gfi1': True}, ColorSet(cardinality=1)), ({'PU1': True, 'CEBPa': True, 'Gfi1': True, 'GATA1': False}, ColorSet(cardinality=1)), ({'PU1': True, 'SCL': False, 'CEBPa': True, 'Gfi1': True}, ColorSet(cardinality=1))]\n"
     ]
    }
   ],
   "source": [
    "print(pstg.one_step_control(state_to_vec(model, erythrocyte_att, pstg), state_to_vec(model, granulocyte_att, pstg), True).working_perturbations(min_robustness=0.99, verbose=False, return_only_smallest=False))\n",
    "print(pstg.one_step_control(state_to_vec(model, granulocyte_att, pstg), state_to_vec(model, granulocyte_att, pstg), True).working_perturbations(min_robustness=0.99, verbose=False, return_only_smallest=False))\n",
    "print(pstg.one_step_control(state_to_vec(model, monocyte_att, pstg), state_to_vec(model, granulocyte_att, pstg), True).working_perturbations(min_robustness=0.99, verbose=False, return_only_smallest=False))\n",
    "print(pstg.one_step_control(state_to_vec(model, megakaryocyte_att, pstg), state_to_vec(model, granulocyte_att, pstg), True).working_perturbations(min_robustness=0.99, verbose=False, return_only_smallest=False))\n"
   ],
   "metadata": {
    "collapsed": false,
    "ExecuteTime": {
     "end_time": "2024-03-29T14:18:31.789691Z",
     "start_time": "2024-03-29T14:18:31.501035Z"
    }
   },
   "id": "27db9bab45b867cc"
  },
  {
   "cell_type": "code",
   "execution_count": 31,
   "outputs": [
    {
     "name": "stdout",
     "output_type": "stream",
     "text": [
      "[({'CEBPa': True, 'EgrNab': False}, ColorSet(cardinality=1)), ({'CEBPa': True, 'Gfi1': True}, ColorSet(cardinality=1)), ({'CEBPa': True, 'cJun': False}, ColorSet(cardinality=1))]\n",
      "[({}, ColorSet(cardinality=1))]\n",
      "[({'CEBPa': True, 'EgrNab': False}, ColorSet(cardinality=1)), ({'CEBPa': True, 'Gfi1': True}, ColorSet(cardinality=1)), ({'CEBPa': True, 'PU1': False}, ColorSet(cardinality=1)), ({'CEBPa': True, 'cJun': False}, ColorSet(cardinality=1))]\n",
      "[({'CEBPa': True, 'EgrNab': False}, ColorSet(cardinality=1)), ({'Gfi1': True, 'CEBPa': True}, ColorSet(cardinality=1)), ({'CEBPa': True, 'cJun': False}, ColorSet(cardinality=1))]\n"
     ]
    }
   ],
   "source": [
    "print(pstg.temporary_control(state_to_vec(model, erythrocyte_att, pstg), state_to_vec(model, granulocyte_att, pstg), True).working_perturbations(min_robustness=0.99, verbose=False, return_only_smallest=False))\n",
    "print(pstg.temporary_control(state_to_vec(model, granulocyte_att, pstg), state_to_vec(model, granulocyte_att, pstg), True).working_perturbations(min_robustness=0.99, verbose=False, return_only_smallest=False))\n",
    "print(pstg.temporary_control(state_to_vec(model, monocyte_att, pstg), state_to_vec(model, granulocyte_att, pstg), True).working_perturbations(min_robustness=0.99, verbose=False, return_only_smallest=False))\n",
    "print(pstg.temporary_control(state_to_vec(model, megakaryocyte_att, pstg), state_to_vec(model, granulocyte_att, pstg), True).working_perturbations(min_robustness=0.99, verbose=False, return_only_smallest=False))\n"
   ],
   "metadata": {
    "collapsed": false,
    "ExecuteTime": {
     "end_time": "2024-03-29T14:18:34.357217Z",
     "start_time": "2024-03-29T14:18:34.316642Z"
    }
   },
   "id": "ed1cb0e36ad524b4"
  },
  {
   "cell_type": "code",
   "execution_count": 32,
   "outputs": [
    {
     "name": "stdout",
     "output_type": "stream",
     "text": [
      "[({'EgrNab': False, 'CEBPa': True}, ColorSet(cardinality=1)), ({'CEBPa': True, 'Gfi1': True}, ColorSet(cardinality=1)), ({'CEBPa': True, 'cJun': False}, ColorSet(cardinality=1))]\n",
      "[({}, ColorSet(cardinality=1))]\n",
      "[({'CEBPa': True, 'EgrNab': False}, ColorSet(cardinality=1)), ({'Gfi1': True, 'CEBPa': True}, ColorSet(cardinality=1)), ({'CEBPa': True, 'cJun': False}, ColorSet(cardinality=1))]\n",
      "[({'EgrNab': False, 'CEBPa': True}, ColorSet(cardinality=1)), ({'Gfi1': True, 'CEBPa': True}, ColorSet(cardinality=1)), ({'CEBPa': True, 'cJun': False}, ColorSet(cardinality=1))]\n"
     ]
    }
   ],
   "source": [
    "print(pstg.permanent_control(state_to_vec(model, erythrocyte_att, pstg), state_to_vec(model, granulocyte_att, pstg), True).working_perturbations(min_robustness=0.99, verbose=False, return_only_smallest=False))\n",
    "print(pstg.permanent_control(state_to_vec(model, granulocyte_att, pstg), state_to_vec(model, granulocyte_att, pstg), True).working_perturbations(min_robustness=0.99, verbose=False, return_only_smallest=False))\n",
    "print(pstg.permanent_control(state_to_vec(model, monocyte_att, pstg), state_to_vec(model, granulocyte_att, pstg), True).working_perturbations(min_robustness=0.99, verbose=False, return_only_smallest=False))\n",
    "print(pstg.permanent_control(state_to_vec(model, megakaryocyte_att, pstg), state_to_vec(model, granulocyte_att, pstg), True).working_perturbations(min_robustness=0.99, verbose=False, return_only_smallest=False))\n"
   ],
   "metadata": {
    "collapsed": false,
    "ExecuteTime": {
     "end_time": "2024-03-29T14:18:38.288917Z",
     "start_time": "2024-03-29T14:18:38.271240Z"
    }
   },
   "id": "79eadd118ece786d"
  },
  {
   "cell_type": "code",
   "execution_count": 32,
   "outputs": [],
   "source": [],
   "metadata": {
    "collapsed": false,
    "ExecuteTime": {
     "end_time": "2024-03-29T14:18:39.066239Z",
     "start_time": "2024-03-29T14:18:39.017349Z"
    }
   },
   "id": "23590a2bb7f7d015"
  },
  {
   "cell_type": "code",
   "execution_count": null,
   "outputs": [],
   "source": [],
   "metadata": {
    "collapsed": false
   },
   "id": "c096a460df90e3eb"
  }
 ],
 "metadata": {
  "kernelspec": {
   "display_name": "Python 3",
   "language": "python",
   "name": "python3"
  },
  "language_info": {
   "codemirror_mode": {
    "name": "ipython",
    "version": 2
   },
   "file_extension": ".py",
   "mimetype": "text/x-python",
   "name": "python",
   "nbconvert_exporter": "python",
   "pygments_lexer": "ipython2",
   "version": "2.7.6"
  }
 },
 "nbformat": 4,
 "nbformat_minor": 5
}
