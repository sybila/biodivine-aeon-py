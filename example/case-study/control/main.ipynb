{
 "cells": [
  {
   "cell_type": "markdown",
   "id": "1d502125b99c6234",
   "metadata": {
    "collapsed": false
   },
   "source": [
    "## Demonstration of control on Myeloid model\n",
    "\n",
    "The model we will observe is coming from Krumsiek, J., Marr, C., Schroeder, T., and Theis, F. J. (2011). Hierarchical differentiation of myeloid progenitors is encoded in the transcription factor network. PloS one, 6(8), e22649.\n",
    "\n",
    "It describes myeloid cell differentiation into four possible types - erythrocytes, megakaryocytes, monocytes, and granulocytes.\n",
    "\n",
    "![Myeloid_differentiation](myeloid.png)"
   ]
  },
  {
   "cell_type": "code",
   "execution_count": 19,
   "id": "11969bfac9ef8031",
   "metadata": {
    "collapsed": false,
    "ExecuteTime": {
     "end_time": "2024-10-03T09:26:12.454050Z",
     "start_time": "2024-10-03T09:26:12.370630Z"
    }
   },
   "outputs": [],
   "source": [
    "import biodivine_aeon as ba \n",
    "import pandas as pd"
   ]
  },
  {
   "cell_type": "code",
   "execution_count": 20,
   "outputs": [],
   "source": [
    "ba.LOG_LEVEL = ba.LOG_NOTHING"
   ],
   "metadata": {
    "collapsed": false,
    "ExecuteTime": {
     "end_time": "2024-10-03T09:26:12.455971Z",
     "start_time": "2024-10-03T09:26:12.375169Z"
    }
   },
   "id": "788666fa4f3fd9c7"
  },
  {
   "cell_type": "code",
   "execution_count": 21,
   "id": "c6edd4931c7190eb",
   "metadata": {
    "collapsed": false,
    "ExecuteTime": {
     "end_time": "2024-10-03T09:26:12.494233Z",
     "start_time": "2024-10-03T09:26:12.381322Z"
    }
   },
   "outputs": [],
   "source": [
    "# Load the model and create a Perturbation Graph\n",
    "\n",
    "model = ba.BooleanNetwork.from_file('myeloid_witness.aeon')\n",
    "pstg = ba.AsynchronousPerturbationGraph(model)"
   ]
  },
  {
   "cell_type": "code",
   "execution_count": 22,
   "id": "3dc68ef7bec3b2d8",
   "metadata": {
    "collapsed": false,
    "ExecuteTime": {
     "end_time": "2024-10-03T09:26:12.517660Z",
     "start_time": "2024-10-03T09:26:12.393429Z"
    }
   },
   "outputs": [
    {
     "name": "stdout",
     "output_type": "stream",
     "text": [
      "erythrocyte attractor size (should be 1): 1\n",
      "erythrocyte attractor: [[('CEBPa', False), ('EKLF', True), ('EgrNab', False), ('FOG1', True), ('Fli1', False), ('GATA1', True), ('GATA2', False), ('Gfi1', False), ('PU1', False), ('SCL', True), ('cJun', False)]]\n",
      "megakaryocyte attractor size (should be 1): 1\n",
      "megakaryocyte megakaryocyte: [[('CEBPa', False), ('EKLF', False), ('EgrNab', False), ('FOG1', True), ('Fli1', True), ('GATA1', True), ('GATA2', False), ('Gfi1', False), ('PU1', False), ('SCL', True), ('cJun', False)]]\n",
      "monocyte attractor size (should be 1): 1\n",
      "monocyte attractor: [[('CEBPa', False), ('EKLF', False), ('EgrNab', True), ('FOG1', False), ('Fli1', False), ('GATA1', False), ('GATA2', False), ('Gfi1', False), ('PU1', True), ('SCL', False), ('cJun', True)]]\n",
      "granulocyte attractor size (should be 1): 1\n",
      "granulocyte attractor: [[('CEBPa', True), ('EKLF', False), ('EgrNab', False), ('FOG1', False), ('Fli1', False), ('GATA1', False), ('GATA2', False), ('Gfi1', True), ('PU1', True), ('SCL', False), ('cJun', False)]]\n"
     ]
    }
   ],
   "source": [
    "# Find attractors representing the four possible phenotypes\n",
    "\n",
    "attractors = ba.Attractors.attractors(pstg)\n",
    "attractors = [ a.vertices() for a in attractors ]\n",
    "\n",
    "erythrocyte = pstg.mk_subspace_vertices({ \"EKLF\": True })\n",
    "erythrocyte_att = [ a for a in attractors if not a.intersect(erythrocyte).is_empty() ][0]\n",
    "print('erythrocyte attractor size (should be 1):', erythrocyte_att.cardinality())\n",
    "print('erythrocyte attractor:', [sorted(x.to_named_dict().items()) for x in  erythrocyte_att.items()])\n",
    "\n",
    "megakaryocyte = pstg.mk_subspace_vertices({ \"Fli1\": True })\n",
    "megakaryocyte_att = [ a for a in attractors if not a.intersect(megakaryocyte).is_empty() ][0]\n",
    "print('megakaryocyte attractor size (should be 1):', megakaryocyte_att.cardinality())\n",
    "print('megakaryocyte megakaryocyte:', [sorted(x.to_named_dict().items()) for x in  megakaryocyte_att.items()])\n",
    "\n",
    "monocyte = pstg.mk_subspace_vertices({ \"cJun\": True })\n",
    "monocyte_att = [ a for a in attractors if not a.intersect(monocyte).is_empty() ][0]\n",
    "print('monocyte attractor size (should be 1):', monocyte_att.cardinality())\n",
    "print('monocyte attractor:', [sorted(x.to_named_dict().items()) for x in  monocyte_att.items()])\n",
    "\n",
    "\n",
    "granulocyte = pstg.mk_subspace_vertices({ \"Gfi1\": True })\n",
    "granulocyte_att = [ a for a in attractors if not a.intersect(granulocyte).is_empty() ][0]\n",
    "print('granulocyte attractor size (should be 1):', granulocyte_att.cardinality())\n",
    "print('granulocyte attractor:', [sorted(x.to_named_dict().items()) for x in  granulocyte_att.items()])"
   ]
  },
  {
   "cell_type": "code",
   "execution_count": 23,
   "id": "ad993245710ad338",
   "metadata": {
    "collapsed": false,
    "ExecuteTime": {
     "end_time": "2024-10-03T09:26:12.518582Z",
     "start_time": "2024-10-03T09:26:12.402554Z"
    }
   },
   "outputs": [
    {
     "data": {
      "text/plain": "ColoredPerturbationSet(cardinality=5832, colors=1, perturbations=5832, symbolic_size=12)"
     },
     "execution_count": 23,
     "metadata": {},
     "output_type": "execute_result"
    }
   ],
   "source": [
    "# Let's demonstrate now, how we can compute source-target control.\n",
    "\n",
    "# First we need to compute a symbolic structure containing the perurbations and results\n",
    "sym_results = ba.Control.attractor_one_step(pstg, erythrocyte_att, megakaryocyte_att)\n",
    "sym_results"
   ]
  },
  {
   "cell_type": "code",
   "execution_count": 24,
   "id": "8fc32f37fe13d238",
   "metadata": {
    "collapsed": false,
    "ExecuteTime": {
     "end_time": "2024-10-03T09:26:12.518916Z",
     "start_time": "2024-10-03T09:26:12.406628Z"
    }
   },
   "outputs": [
    {
     "data": {
      "text/plain": "ColorSet(cardinality=0, symbolic_size=1)"
     },
     "execution_count": 24,
     "metadata": {},
     "output_type": "execute_result"
    }
   ],
   "source": [
    "# Now we can either look up for what colors does a specific perturbation work\n",
    "sym_results.select_perturbation({ \"EKLF\" : True }) # A perturbation where only EKLF is perturbed to 1.\n",
    "# Cardinality 0 -> not working"
   ]
  },
  {
   "cell_type": "code",
   "execution_count": 25,
   "id": "f194bcc2-4a77-4664-abcd-31a2fbc81db3",
   "metadata": {
    "ExecuteTime": {
     "end_time": "2024-10-03T09:26:12.519004Z",
     "start_time": "2024-10-03T09:26:12.412090Z"
    }
   },
   "outputs": [
    {
     "data": {
      "text/plain": "ColorSet(cardinality=0, symbolic_size=1)"
     },
     "execution_count": 25,
     "metadata": {},
     "output_type": "execute_result"
    }
   ],
   "source": [
    "sym_results.select_perturbation({ \"EKLF\" : False }) # A perturbation where only EKLF is perturbed to 0\n",
    "# Cardinality 0 -> not working"
   ]
  },
  {
   "cell_type": "code",
   "execution_count": 26,
   "id": "a1414912-870b-4f89-902a-525de599a4e9",
   "metadata": {
    "ExecuteTime": {
     "end_time": "2024-10-03T09:26:12.519100Z",
     "start_time": "2024-10-03T09:26:12.415269Z"
    }
   },
   "outputs": [
    {
     "data": {
      "text/plain": "ColorSet(cardinality=0, symbolic_size=1)"
     },
     "execution_count": 26,
     "metadata": {},
     "output_type": "execute_result"
    }
   ],
   "source": [
    "sym_results.select_perturbation({ \"EKLF\" : None }) # A perturbations where EKLF is unperturbed (and everything else is also unperturbed).\n",
    "# Cardinality 0 -> not working"
   ]
  },
  {
   "cell_type": "code",
   "execution_count": 27,
   "id": "fd6ae910-fc07-44f4-a468-65c6350da5de",
   "metadata": {
    "ExecuteTime": {
     "end_time": "2024-10-03T09:26:12.519206Z",
     "start_time": "2024-10-03T09:26:12.418769Z"
    }
   },
   "outputs": [
    {
     "data": {
      "text/plain": "ColorSet(cardinality=1, symbolic_size=13)"
     },
     "execution_count": 27,
     "metadata": {},
     "output_type": "execute_result"
    }
   ],
   "source": [
    "sym_results.select_perturbation({ \"EKLF\" : False, \"Fli1\": True }) # A perturbation that we know works."
   ]
  },
  {
   "cell_type": "code",
   "execution_count": 28,
   "id": "21f94010e630c102",
   "metadata": {
    "collapsed": false,
    "ExecuteTime": {
     "end_time": "2024-10-03T09:26:12.519284Z",
     "start_time": "2024-10-03T09:26:12.423698Z"
    }
   },
   "outputs": [
    {
     "name": "stdout",
     "output_type": "stream",
     "text": [
      "{'EKLF': False, 'Fli1': True}\n"
     ]
    }
   ],
   "source": [
    "# Or just retrieve all smallest colours with a given minimal robustness to avoid guessing\n",
    "(p, r, c) = sym_results.select_by_robustness(threshold=0.99, result_limit=10)[0]\n",
    "print(p.perturbed_named_dict())"
   ]
  },
  {
   "cell_type": "code",
   "execution_count": 29,
   "id": "63cbeae745ce11b1",
   "metadata": {
    "collapsed": false,
    "ExecuteTime": {
     "end_time": "2024-10-03T09:26:12.519331Z",
     "start_time": "2024-10-03T09:26:12.430944Z"
    }
   },
   "outputs": [],
   "source": [
    "# In a similar manner, we can also compute phenotype control. Nonetheless, providing just the target state \n",
    "# (or a set of states) is sufficient in this case)\n",
    "\n",
    "# There are three possible configurations of oscillation\n",
    "# Forbidden -> attractor where model stabilizes therefore cannot oscillate through the phenotype (must stabilize fully within the phenotype)\n",
    "# Allowed -> attractor where model stabilizes may oscillate\n",
    "# Required -> attractor where model stabilizes MUST oscillate through the phenotype (i.e. have states both inside and outside of the phenotype space)\n",
    "\n",
    "# In this demonstration we use forbidden type of oscillation, since myeloid model does not show oscillations \n",
    "# and this type is most similar to the source-target control.\n",
    "\n",
    "# Even though the model is small, using ceiled version of the function is recommended, since it allows stop_early \n",
    "# functionality, computing the perturbations until 100% robustness is hit or specifying a sensible size_bounc\n",
    "phen_sym_results = ba.Control.phenotype_permanent(\n",
    "    graph=pstg,\n",
    "    phenotype=megakaryocyte_att,\n",
    "    oscillation_type=\"forbidden\",\n",
    "    size_limit=10,\n",
    "    stop_when_found=True\n",
    ")"
   ]
  },
  {
   "cell_type": "code",
   "execution_count": 30,
   "id": "316cc1e1-4d03-4eed-aaf8-94a01ac3cd4f",
   "metadata": {
    "ExecuteTime": {
     "end_time": "2024-10-03T09:26:12.519404Z",
     "start_time": "2024-10-03T09:26:12.434815Z"
    }
   },
   "outputs": [
    {
     "name": "stdout",
     "output_type": "stream",
     "text": [
      "{'Fli1': True, 'PU1': False}\n"
     ]
    }
   ],
   "source": [
    "(p, r, c) = phen_sym_results.select_by_robustness(threshold=0.99, result_limit=1)[0]\n",
    "print(p.perturbed_named_dict())"
   ]
  },
  {
   "cell_type": "code",
   "execution_count": 31,
   "id": "247b6e3dbaef4a9e",
   "metadata": {
    "collapsed": false,
    "ExecuteTime": {
     "end_time": "2024-10-03T09:26:12.519447Z",
     "start_time": "2024-10-03T09:26:12.437501Z"
    }
   },
   "outputs": [],
   "source": [
    "# Now we can compute a full sets of results for all pairs of source-target control"
   ]
  },
  {
   "cell_type": "code",
   "execution_count": 32,
   "id": "405ad725fbc5e9e1",
   "metadata": {
    "collapsed": false,
    "ExecuteTime": {
     "end_time": "2024-10-03T09:26:12.519489Z",
     "start_time": "2024-10-03T09:26:12.444002Z"
    }
   },
   "outputs": [],
   "source": [
    "all_atts = {\n",
    "    \"Erythrocyte\": erythrocyte_att,\n",
    "    \"Megakaryocyte\": megakaryocyte_att,\n",
    "    \"Monocyte\": monocyte_att,\n",
    "    \"Granulocyte\": granulocyte_att\n",
    "}\n",
    "\n",
    "# Generate al pair possibilities for computing the source-target control\n",
    "all_att_pairs = [(s,t) for s in all_atts.keys() for t in all_atts.keys() if s != t]"
   ]
  },
  {
   "cell_type": "code",
   "execution_count": 33,
   "id": "86ea9b904b0027de",
   "metadata": {
    "collapsed": false,
    "ExecuteTime": {
     "end_time": "2024-10-03T09:26:12.636047Z",
     "start_time": "2024-10-03T09:26:12.469663Z"
    }
   },
   "outputs": [],
   "source": [
    "# Pick the minimal perturbations with perfect robustness and then only return the\n",
    "# values of variables that are actually perturbed (to simplify presentation).\n",
    "# We are not returning the robustness here becasue it is always 1.0 anyway.\n",
    "def pick_result(data: ba.ColoredPerturbationSet) -> dict[str, bool]:\n",
    "    (min_model, _, _) = data.select_by_robustness(threshold=1.0, result_limit=1)[0]\n",
    "    picked = data.select_by_size(size=min_model.perturbation_size(), up_to=False)\n",
    "    picked = picked.select_by_robustness(threshold=1.0, result_limit=100)\n",
    "    return [ model.perturbed_named_dict() for (model, _, _) in picked ]\n",
    "\n",
    "data = {\n",
    "    'source': [s for s, _ in all_att_pairs],\n",
    "    'target': [t for _, t in all_att_pairs],\n",
    "    'onestep': [pick_result(ba.Control.attractor_one_step(pstg, all_atts[s], all_atts[t])) for s, t in all_att_pairs],\n",
    "    'temporary': [pick_result(ba.Control.attractor_temporary(pstg, all_atts[s], all_atts[t])) for s, t in all_att_pairs],\n",
    "    'permanent': [pick_result(ba.Control.attractor_permanent(pstg, all_atts[s], all_atts[t])) for s, t in all_att_pairs],\n",
    "}\n",
    "\n",
    "df = pd.DataFrame(data)"
   ]
  },
  {
   "cell_type": "code",
   "execution_count": 34,
   "id": "e33b15bc38ab2ef",
   "metadata": {
    "collapsed": false,
    "ExecuteTime": {
     "end_time": "2024-10-03T09:26:12.661959Z",
     "start_time": "2024-10-03T09:26:12.639616Z"
    }
   },
   "outputs": [
    {
     "data": {
      "text/plain": "           source         target  \\\n0     Erythrocyte  Megakaryocyte   \n1     Erythrocyte       Monocyte   \n2     Erythrocyte    Granulocyte   \n3   Megakaryocyte    Erythrocyte   \n4   Megakaryocyte       Monocyte   \n5   Megakaryocyte    Granulocyte   \n6        Monocyte    Erythrocyte   \n7        Monocyte  Megakaryocyte   \n8        Monocyte    Granulocyte   \n9     Granulocyte    Erythrocyte   \n10    Granulocyte  Megakaryocyte   \n11    Granulocyte       Monocyte   \n\n                                              onestep  \\\n0                     [{'EKLF': False, 'Fli1': True}]   \n1                                     [{'PU1': True}]   \n2     [{'CEBPa': True, 'GATA1': False, 'Gfi1': True}]   \n3                     [{'Fli1': False, 'EKLF': True}]   \n4                                     [{'PU1': True}]   \n5   [{'CEBPa': True, 'SCL': False, 'PU1': True, 'G...   \n6       [{'EKLF': True, 'GATA1': True, 'PU1': False}]   \n7       [{'PU1': False, 'Fli1': True, 'GATA1': True}]   \n8    [{'CEBPa': True, 'EgrNab': False, 'Gfi1': True}]   \n9   [{'CEBPa': False, 'EKLF': True, 'GATA1': True,...   \n10  [{'GATA1': True, 'Fli1': True, 'PU1': False, '...   \n11                                 [{'CEBPa': False}]   \n\n                                            temporary  \\\n0                   [{'Fli1': True}, {'EKLF': False}]   \n1                                     [{'PU1': True}]   \n2   [{'CEBPa': True, 'cJun': False}, {'Gfi1': True...   \n3                   [{'Fli1': False}, {'EKLF': True}]   \n4                                     [{'PU1': True}]   \n5   [{'cJun': False, 'CEBPa': True}, {'Gfi1': True...   \n6   [{'PU1': False, 'GATA2': True, 'Fli1': False},...   \n7                      [{'Fli1': True, 'PU1': False}]   \n8   [{'CEBPa': True, 'cJun': False}, {'CEBPa': Tru...   \n9   [{'Fli1': False, 'GATA2': True, 'PU1': False},...   \n10                     [{'Fli1': True, 'PU1': False}]   \n11                                 [{'CEBPa': False}]   \n\n                                            permanent  \n0                   [{'Fli1': True}, {'EKLF': False}]  \n1                                     [{'PU1': True}]  \n2   [{'CEBPa': True, 'cJun': False}, {'Gfi1': True...  \n3                   [{'Fli1': False}, {'EKLF': True}]  \n4                                     [{'PU1': True}]  \n5   [{'CEBPa': True, 'cJun': False}, {'CEBPa': Tru...  \n6   [{'GATA1': True, 'Fli1': False, 'PU1': False},...  \n7                      [{'PU1': False, 'Fli1': True}]  \n8   [{'cJun': False, 'CEBPa': True}, {'CEBPa': Tru...  \n9   [{'Fli1': False, 'GATA1': True, 'PU1': False},...  \n10                     [{'Fli1': True, 'PU1': False}]  \n11                                 [{'CEBPa': False}]  ",
      "text/html": "<div>\n<style scoped>\n    .dataframe tbody tr th:only-of-type {\n        vertical-align: middle;\n    }\n\n    .dataframe tbody tr th {\n        vertical-align: top;\n    }\n\n    .dataframe thead th {\n        text-align: right;\n    }\n</style>\n<table border=\"1\" class=\"dataframe\">\n  <thead>\n    <tr style=\"text-align: right;\">\n      <th></th>\n      <th>source</th>\n      <th>target</th>\n      <th>onestep</th>\n      <th>temporary</th>\n      <th>permanent</th>\n    </tr>\n  </thead>\n  <tbody>\n    <tr>\n      <th>0</th>\n      <td>Erythrocyte</td>\n      <td>Megakaryocyte</td>\n      <td>[{'EKLF': False, 'Fli1': True}]</td>\n      <td>[{'Fli1': True}, {'EKLF': False}]</td>\n      <td>[{'Fli1': True}, {'EKLF': False}]</td>\n    </tr>\n    <tr>\n      <th>1</th>\n      <td>Erythrocyte</td>\n      <td>Monocyte</td>\n      <td>[{'PU1': True}]</td>\n      <td>[{'PU1': True}]</td>\n      <td>[{'PU1': True}]</td>\n    </tr>\n    <tr>\n      <th>2</th>\n      <td>Erythrocyte</td>\n      <td>Granulocyte</td>\n      <td>[{'CEBPa': True, 'GATA1': False, 'Gfi1': True}]</td>\n      <td>[{'CEBPa': True, 'cJun': False}, {'Gfi1': True...</td>\n      <td>[{'CEBPa': True, 'cJun': False}, {'Gfi1': True...</td>\n    </tr>\n    <tr>\n      <th>3</th>\n      <td>Megakaryocyte</td>\n      <td>Erythrocyte</td>\n      <td>[{'Fli1': False, 'EKLF': True}]</td>\n      <td>[{'Fli1': False}, {'EKLF': True}]</td>\n      <td>[{'Fli1': False}, {'EKLF': True}]</td>\n    </tr>\n    <tr>\n      <th>4</th>\n      <td>Megakaryocyte</td>\n      <td>Monocyte</td>\n      <td>[{'PU1': True}]</td>\n      <td>[{'PU1': True}]</td>\n      <td>[{'PU1': True}]</td>\n    </tr>\n    <tr>\n      <th>5</th>\n      <td>Megakaryocyte</td>\n      <td>Granulocyte</td>\n      <td>[{'CEBPa': True, 'SCL': False, 'PU1': True, 'G...</td>\n      <td>[{'cJun': False, 'CEBPa': True}, {'Gfi1': True...</td>\n      <td>[{'CEBPa': True, 'cJun': False}, {'CEBPa': Tru...</td>\n    </tr>\n    <tr>\n      <th>6</th>\n      <td>Monocyte</td>\n      <td>Erythrocyte</td>\n      <td>[{'EKLF': True, 'GATA1': True, 'PU1': False}]</td>\n      <td>[{'PU1': False, 'GATA2': True, 'Fli1': False},...</td>\n      <td>[{'GATA1': True, 'Fli1': False, 'PU1': False},...</td>\n    </tr>\n    <tr>\n      <th>7</th>\n      <td>Monocyte</td>\n      <td>Megakaryocyte</td>\n      <td>[{'PU1': False, 'Fli1': True, 'GATA1': True}]</td>\n      <td>[{'Fli1': True, 'PU1': False}]</td>\n      <td>[{'PU1': False, 'Fli1': True}]</td>\n    </tr>\n    <tr>\n      <th>8</th>\n      <td>Monocyte</td>\n      <td>Granulocyte</td>\n      <td>[{'CEBPa': True, 'EgrNab': False, 'Gfi1': True}]</td>\n      <td>[{'CEBPa': True, 'cJun': False}, {'CEBPa': Tru...</td>\n      <td>[{'cJun': False, 'CEBPa': True}, {'CEBPa': Tru...</td>\n    </tr>\n    <tr>\n      <th>9</th>\n      <td>Granulocyte</td>\n      <td>Erythrocyte</td>\n      <td>[{'CEBPa': False, 'EKLF': True, 'GATA1': True,...</td>\n      <td>[{'Fli1': False, 'GATA2': True, 'PU1': False},...</td>\n      <td>[{'Fli1': False, 'GATA1': True, 'PU1': False},...</td>\n    </tr>\n    <tr>\n      <th>10</th>\n      <td>Granulocyte</td>\n      <td>Megakaryocyte</td>\n      <td>[{'GATA1': True, 'Fli1': True, 'PU1': False, '...</td>\n      <td>[{'Fli1': True, 'PU1': False}]</td>\n      <td>[{'Fli1': True, 'PU1': False}]</td>\n    </tr>\n    <tr>\n      <th>11</th>\n      <td>Granulocyte</td>\n      <td>Monocyte</td>\n      <td>[{'CEBPa': False}]</td>\n      <td>[{'CEBPa': False}]</td>\n      <td>[{'CEBPa': False}]</td>\n    </tr>\n  </tbody>\n</table>\n</div>"
     },
     "execution_count": 34,
     "metadata": {},
     "output_type": "execute_result"
    }
   ],
   "source": [
    "df"
   ]
  },
  {
   "cell_type": "code",
   "execution_count": 35,
   "id": "657408a776cdc2c",
   "metadata": {
    "collapsed": false,
    "ExecuteTime": {
     "end_time": "2024-10-03T09:26:12.686214Z",
     "start_time": "2024-10-03T09:26:12.658597Z"
    }
   },
   "outputs": [
    {
     "name": "stdout",
     "output_type": "stream",
     "text": [
      "Erythrocyte -> Megakaryocyte : [{'Fli1': True}, {'EKLF': False}]\n",
      "Erythrocyte -> Monocyte : [{'PU1': True}]\n",
      "Erythrocyte -> Granulocyte : [{'CEBPa': True, 'cJun': False}, {'Gfi1': True, 'CEBPa': True}, {'CEBPa': True, 'EgrNab': False}]\n",
      "Megakaryocyte -> Erythrocyte : [{'Fli1': False}, {'EKLF': True}]\n",
      "Megakaryocyte -> Monocyte : [{'PU1': True}]\n",
      "Megakaryocyte -> Granulocyte : [{'CEBPa': True, 'cJun': False}, {'CEBPa': True, 'Gfi1': True}, {'CEBPa': True, 'EgrNab': False}]\n",
      "Monocyte -> Erythrocyte : [{'GATA1': True, 'Fli1': False, 'PU1': False}, {'EKLF': True, 'PU1': False, 'GATA1': True}]\n",
      "Monocyte -> Megakaryocyte : [{'PU1': False, 'Fli1': True}]\n",
      "Monocyte -> Granulocyte : [{'cJun': False, 'CEBPa': True}, {'CEBPa': True, 'Gfi1': True}, {'EgrNab': False, 'CEBPa': True}]\n",
      "Granulocyte -> Erythrocyte : [{'Fli1': False, 'GATA1': True, 'PU1': False}, {'GATA1': True, 'PU1': False, 'EKLF': True}]\n",
      "Granulocyte -> Megakaryocyte : [{'Fli1': True, 'PU1': False}]\n",
      "Granulocyte -> Monocyte : [{'CEBPa': False}]\n"
     ]
    }
   ],
   "source": [
    "for _, r in df.iterrows():\n",
    "    print(r['source'], \"->\", r[\"target\"], ':', r['permanent'])"
   ]
  },
  {
   "cell_type": "markdown",
   "id": "72386675c6ad8d68",
   "metadata": {
    "collapsed": false
   },
   "source": [
    "From this data, we can (manually) derive a following source-target diagram, showing all minimal source-target controls.\n",
    "\n",
    "![Source_target_controls](myeloid_source_target.png)"
   ]
  },
  {
   "cell_type": "code",
   "execution_count": 36,
   "id": "ba3e6537eb9844c2",
   "metadata": {
    "collapsed": false,
    "ExecuteTime": {
     "end_time": "2024-10-03T09:26:12.712377Z",
     "start_time": "2024-10-03T09:26:12.668245Z"
    }
   },
   "outputs": [
    {
     "data": {
      "text/plain": "           source         target  min_onestep_size  min_onestep_options  \\\n0     Erythrocyte  Megakaryocyte                 2                    1   \n1     Erythrocyte       Monocyte                 1                    1   \n2     Erythrocyte    Granulocyte                 3                    1   \n3   Megakaryocyte    Erythrocyte                 2                    1   \n4   Megakaryocyte       Monocyte                 1                    1   \n5   Megakaryocyte    Granulocyte                 4                    3   \n6        Monocyte    Erythrocyte                 3                    1   \n7        Monocyte  Megakaryocyte                 3                    1   \n8        Monocyte    Granulocyte                 3                    1   \n9     Granulocyte    Erythrocyte                 4                    1   \n10    Granulocyte  Megakaryocyte                 4                    1   \n11    Granulocyte       Monocyte                 1                    1   \n\n    min_temporary_size  min_temporary_options  min_permanent_size  \\\n0                    1                      2                   1   \n1                    1                      1                   1   \n2                    2                      3                   2   \n3                    1                      2                   1   \n4                    1                      1                   1   \n5                    2                      3                   2   \n6                    3                      6                   3   \n7                    2                      1                   2   \n8                    2                      4                   2   \n9                    3                      6                   3   \n10                   2                      1                   2   \n11                   1                      1                   1   \n\n    min_permanent_options  \n0                       2  \n1                       1  \n2                       3  \n3                       2  \n4                       1  \n5                       3  \n6                       2  \n7                       1  \n8                       3  \n9                       2  \n10                      1  \n11                      1  ",
      "text/html": "<div>\n<style scoped>\n    .dataframe tbody tr th:only-of-type {\n        vertical-align: middle;\n    }\n\n    .dataframe tbody tr th {\n        vertical-align: top;\n    }\n\n    .dataframe thead th {\n        text-align: right;\n    }\n</style>\n<table border=\"1\" class=\"dataframe\">\n  <thead>\n    <tr style=\"text-align: right;\">\n      <th></th>\n      <th>source</th>\n      <th>target</th>\n      <th>min_onestep_size</th>\n      <th>min_onestep_options</th>\n      <th>min_temporary_size</th>\n      <th>min_temporary_options</th>\n      <th>min_permanent_size</th>\n      <th>min_permanent_options</th>\n    </tr>\n  </thead>\n  <tbody>\n    <tr>\n      <th>0</th>\n      <td>Erythrocyte</td>\n      <td>Megakaryocyte</td>\n      <td>2</td>\n      <td>1</td>\n      <td>1</td>\n      <td>2</td>\n      <td>1</td>\n      <td>2</td>\n    </tr>\n    <tr>\n      <th>1</th>\n      <td>Erythrocyte</td>\n      <td>Monocyte</td>\n      <td>1</td>\n      <td>1</td>\n      <td>1</td>\n      <td>1</td>\n      <td>1</td>\n      <td>1</td>\n    </tr>\n    <tr>\n      <th>2</th>\n      <td>Erythrocyte</td>\n      <td>Granulocyte</td>\n      <td>3</td>\n      <td>1</td>\n      <td>2</td>\n      <td>3</td>\n      <td>2</td>\n      <td>3</td>\n    </tr>\n    <tr>\n      <th>3</th>\n      <td>Megakaryocyte</td>\n      <td>Erythrocyte</td>\n      <td>2</td>\n      <td>1</td>\n      <td>1</td>\n      <td>2</td>\n      <td>1</td>\n      <td>2</td>\n    </tr>\n    <tr>\n      <th>4</th>\n      <td>Megakaryocyte</td>\n      <td>Monocyte</td>\n      <td>1</td>\n      <td>1</td>\n      <td>1</td>\n      <td>1</td>\n      <td>1</td>\n      <td>1</td>\n    </tr>\n    <tr>\n      <th>5</th>\n      <td>Megakaryocyte</td>\n      <td>Granulocyte</td>\n      <td>4</td>\n      <td>3</td>\n      <td>2</td>\n      <td>3</td>\n      <td>2</td>\n      <td>3</td>\n    </tr>\n    <tr>\n      <th>6</th>\n      <td>Monocyte</td>\n      <td>Erythrocyte</td>\n      <td>3</td>\n      <td>1</td>\n      <td>3</td>\n      <td>6</td>\n      <td>3</td>\n      <td>2</td>\n    </tr>\n    <tr>\n      <th>7</th>\n      <td>Monocyte</td>\n      <td>Megakaryocyte</td>\n      <td>3</td>\n      <td>1</td>\n      <td>2</td>\n      <td>1</td>\n      <td>2</td>\n      <td>1</td>\n    </tr>\n    <tr>\n      <th>8</th>\n      <td>Monocyte</td>\n      <td>Granulocyte</td>\n      <td>3</td>\n      <td>1</td>\n      <td>2</td>\n      <td>4</td>\n      <td>2</td>\n      <td>3</td>\n    </tr>\n    <tr>\n      <th>9</th>\n      <td>Granulocyte</td>\n      <td>Erythrocyte</td>\n      <td>4</td>\n      <td>1</td>\n      <td>3</td>\n      <td>6</td>\n      <td>3</td>\n      <td>2</td>\n    </tr>\n    <tr>\n      <th>10</th>\n      <td>Granulocyte</td>\n      <td>Megakaryocyte</td>\n      <td>4</td>\n      <td>1</td>\n      <td>2</td>\n      <td>1</td>\n      <td>2</td>\n      <td>1</td>\n    </tr>\n    <tr>\n      <th>11</th>\n      <td>Granulocyte</td>\n      <td>Monocyte</td>\n      <td>1</td>\n      <td>1</td>\n      <td>1</td>\n      <td>1</td>\n      <td>1</td>\n      <td>1</td>\n    </tr>\n  </tbody>\n</table>\n</div>"
     },
     "execution_count": 36,
     "metadata": {},
     "output_type": "execute_result"
    }
   ],
   "source": [
    "# We can easily compute the min sizes and options for the same sized control\n",
    "df['min_onestep_size'] = df['onestep'].apply(lambda x: len(x[0]))\n",
    "df['min_onestep_options'] = df['onestep'].apply(lambda x: len(x))\n",
    "df['min_temporary_size'] = df['temporary'].apply(lambda x: len(x[0]))\n",
    "df['min_temporary_options'] = df['temporary'].apply(lambda x: len(x))\n",
    "df['min_permanent_size'] = df['permanent'].apply(lambda x: len(x[0]))\n",
    "df['min_permanent_options'] = df['permanent'].apply(lambda x: len(x))\n",
    "df.filter(regex='^(source|target|min_)')"
   ]
  },
  {
   "cell_type": "code",
   "execution_count": 37,
   "id": "d59e4afbb48c9154",
   "metadata": {
    "collapsed": false,
    "ExecuteTime": {
     "end_time": "2024-10-03T09:26:12.816135Z",
     "start_time": "2024-10-03T09:26:12.744392Z"
    }
   },
   "outputs": [],
   "source": [
    "# In a similar manner, we can compute phenotype control, even though this time, only target attractor\n",
    "# (or phenotype, but in this case we consider attractor to be phenotype) is known.\n",
    "\n",
    "df['phenotype'] = df['target'].apply(lambda t: pick_result(ba.Control.phenotype_permanent(\n",
    "    graph=pstg,\n",
    "    phenotype=all_atts[t],\n",
    "    oscillation_type=\"forbidden\",\n",
    "    size_limit=10,\n",
    "    stop_when_found=True\n",
    ")))"
   ]
  },
  {
   "cell_type": "code",
   "execution_count": 38,
   "id": "3a63fa0825ea5b5d",
   "metadata": {
    "collapsed": false,
    "ExecuteTime": {
     "end_time": "2024-10-03T09:26:12.817067Z",
     "start_time": "2024-10-03T09:26:12.785151Z"
    }
   },
   "outputs": [],
   "source": [
    "df['min_phenotype_size'] = df['phenotype'].apply(lambda x: len(x[0]))\n",
    "df['min_phenotype_options'] = df['phenotype'].apply(lambda x: len(x))"
   ]
  },
  {
   "cell_type": "code",
   "execution_count": 39,
   "id": "3eed11a720075285",
   "metadata": {
    "collapsed": false,
    "ExecuteTime": {
     "end_time": "2024-10-03T09:26:12.819694Z",
     "start_time": "2024-10-03T09:26:12.806347Z"
    }
   },
   "outputs": [
    {
     "data": {
      "text/plain": "           source         target  min_onestep_size  min_onestep_options  \\\n0     Erythrocyte  Megakaryocyte                 2                    1   \n1     Erythrocyte       Monocyte                 1                    1   \n2     Erythrocyte    Granulocyte                 3                    1   \n3   Megakaryocyte    Erythrocyte                 2                    1   \n4   Megakaryocyte       Monocyte                 1                    1   \n5   Megakaryocyte    Granulocyte                 4                    3   \n6        Monocyte    Erythrocyte                 3                    1   \n7        Monocyte  Megakaryocyte                 3                    1   \n8        Monocyte    Granulocyte                 3                    1   \n9     Granulocyte    Erythrocyte                 4                    1   \n10    Granulocyte  Megakaryocyte                 4                    1   \n11    Granulocyte       Monocyte                 1                    1   \n\n    min_temporary_size  min_temporary_options  min_permanent_size  \\\n0                    1                      2                   1   \n1                    1                      1                   1   \n2                    2                      3                   2   \n3                    1                      2                   1   \n4                    1                      1                   1   \n5                    2                      3                   2   \n6                    3                      6                   3   \n7                    2                      1                   2   \n8                    2                      4                   2   \n9                    3                      6                   3   \n10                   2                      1                   2   \n11                   1                      1                   1   \n\n    min_permanent_options  min_phenotype_size  min_phenotype_options  \n0                       2                   2                      1  \n1                       1                   2                      1  \n2                       3                   2                      3  \n3                       2                   3                      2  \n4                       1                   2                      1  \n5                       3                   2                      3  \n6                       2                   3                      2  \n7                       1                   2                      1  \n8                       3                   2                      3  \n9                       2                   3                      2  \n10                      1                   2                      1  \n11                      1                   2                      1  ",
      "text/html": "<div>\n<style scoped>\n    .dataframe tbody tr th:only-of-type {\n        vertical-align: middle;\n    }\n\n    .dataframe tbody tr th {\n        vertical-align: top;\n    }\n\n    .dataframe thead th {\n        text-align: right;\n    }\n</style>\n<table border=\"1\" class=\"dataframe\">\n  <thead>\n    <tr style=\"text-align: right;\">\n      <th></th>\n      <th>source</th>\n      <th>target</th>\n      <th>min_onestep_size</th>\n      <th>min_onestep_options</th>\n      <th>min_temporary_size</th>\n      <th>min_temporary_options</th>\n      <th>min_permanent_size</th>\n      <th>min_permanent_options</th>\n      <th>min_phenotype_size</th>\n      <th>min_phenotype_options</th>\n    </tr>\n  </thead>\n  <tbody>\n    <tr>\n      <th>0</th>\n      <td>Erythrocyte</td>\n      <td>Megakaryocyte</td>\n      <td>2</td>\n      <td>1</td>\n      <td>1</td>\n      <td>2</td>\n      <td>1</td>\n      <td>2</td>\n      <td>2</td>\n      <td>1</td>\n    </tr>\n    <tr>\n      <th>1</th>\n      <td>Erythrocyte</td>\n      <td>Monocyte</td>\n      <td>1</td>\n      <td>1</td>\n      <td>1</td>\n      <td>1</td>\n      <td>1</td>\n      <td>1</td>\n      <td>2</td>\n      <td>1</td>\n    </tr>\n    <tr>\n      <th>2</th>\n      <td>Erythrocyte</td>\n      <td>Granulocyte</td>\n      <td>3</td>\n      <td>1</td>\n      <td>2</td>\n      <td>3</td>\n      <td>2</td>\n      <td>3</td>\n      <td>2</td>\n      <td>3</td>\n    </tr>\n    <tr>\n      <th>3</th>\n      <td>Megakaryocyte</td>\n      <td>Erythrocyte</td>\n      <td>2</td>\n      <td>1</td>\n      <td>1</td>\n      <td>2</td>\n      <td>1</td>\n      <td>2</td>\n      <td>3</td>\n      <td>2</td>\n    </tr>\n    <tr>\n      <th>4</th>\n      <td>Megakaryocyte</td>\n      <td>Monocyte</td>\n      <td>1</td>\n      <td>1</td>\n      <td>1</td>\n      <td>1</td>\n      <td>1</td>\n      <td>1</td>\n      <td>2</td>\n      <td>1</td>\n    </tr>\n    <tr>\n      <th>5</th>\n      <td>Megakaryocyte</td>\n      <td>Granulocyte</td>\n      <td>4</td>\n      <td>3</td>\n      <td>2</td>\n      <td>3</td>\n      <td>2</td>\n      <td>3</td>\n      <td>2</td>\n      <td>3</td>\n    </tr>\n    <tr>\n      <th>6</th>\n      <td>Monocyte</td>\n      <td>Erythrocyte</td>\n      <td>3</td>\n      <td>1</td>\n      <td>3</td>\n      <td>6</td>\n      <td>3</td>\n      <td>2</td>\n      <td>3</td>\n      <td>2</td>\n    </tr>\n    <tr>\n      <th>7</th>\n      <td>Monocyte</td>\n      <td>Megakaryocyte</td>\n      <td>3</td>\n      <td>1</td>\n      <td>2</td>\n      <td>1</td>\n      <td>2</td>\n      <td>1</td>\n      <td>2</td>\n      <td>1</td>\n    </tr>\n    <tr>\n      <th>8</th>\n      <td>Monocyte</td>\n      <td>Granulocyte</td>\n      <td>3</td>\n      <td>1</td>\n      <td>2</td>\n      <td>4</td>\n      <td>2</td>\n      <td>3</td>\n      <td>2</td>\n      <td>3</td>\n    </tr>\n    <tr>\n      <th>9</th>\n      <td>Granulocyte</td>\n      <td>Erythrocyte</td>\n      <td>4</td>\n      <td>1</td>\n      <td>3</td>\n      <td>6</td>\n      <td>3</td>\n      <td>2</td>\n      <td>3</td>\n      <td>2</td>\n    </tr>\n    <tr>\n      <th>10</th>\n      <td>Granulocyte</td>\n      <td>Megakaryocyte</td>\n      <td>4</td>\n      <td>1</td>\n      <td>2</td>\n      <td>1</td>\n      <td>2</td>\n      <td>1</td>\n      <td>2</td>\n      <td>1</td>\n    </tr>\n    <tr>\n      <th>11</th>\n      <td>Granulocyte</td>\n      <td>Monocyte</td>\n      <td>1</td>\n      <td>1</td>\n      <td>1</td>\n      <td>1</td>\n      <td>1</td>\n      <td>1</td>\n      <td>2</td>\n      <td>1</td>\n    </tr>\n  </tbody>\n</table>\n</div>"
     },
     "execution_count": 39,
     "metadata": {},
     "output_type": "execute_result"
    }
   ],
   "source": [
    "df.filter(regex='^(source|target|min_)')"
   ]
  },
  {
   "cell_type": "markdown",
   "id": "fa89267c86134af8",
   "metadata": {
    "collapsed": false
   },
   "source": [
    "We can use the phenotype control results to compare whether they are in align with phenotype branching observed in the source of the model"
   ]
  },
  {
   "cell_type": "code",
   "execution_count": 40,
   "id": "4f62a27affb31f06",
   "metadata": {
    "collapsed": false,
    "ExecuteTime": {
     "end_time": "2024-10-03T09:26:12.827016Z",
     "start_time": "2024-10-03T09:26:12.818993Z"
    }
   },
   "outputs": [
    {
     "name": "stdout",
     "output_type": "stream",
     "text": [
      "Erythrocyte [{'PU1': False, 'GATA1': True, 'Fli1': False}, {'EKLF': True, 'GATA1': True, 'PU1': False}]\n",
      "Megakaryocyte [{'Fli1': True, 'PU1': False}]\n",
      "Monocyte [{'CEBPa': False, 'PU1': True}]\n",
      "Granulocyte [{'CEBPa': True, 'cJun': False}, {'Gfi1': True, 'CEBPa': True}, {'EgrNab': False, 'CEBPa': True}]\n"
     ]
    }
   ],
   "source": [
    "for a in all_atts.keys():\n",
    "    pd_select = df.loc[df['target'] == a, 'phenotype'].iloc[0]\n",
    "    print(a, pd_select)"
   ]
  },
  {
   "cell_type": "markdown",
   "id": "d053b4dc01f053f9",
   "metadata": {
    "collapsed": false
   },
   "source": [
    "We can also compare the results with the original study\n",
    "\n",
    "![image](myeloid_phenotype.png)\n",
    "![image](phenotypes.png)\n"
   ]
  },
  {
   "cell_type": "markdown",
   "id": "2499343d058927f3",
   "metadata": {
    "collapsed": false
   },
   "source": [
    "We can see that the results are consistent, because:\n",
    "\n",
    "- Phenotype control is very similar to the original study. Since study does not assume all initial states, the control is slightly different and there are some extra variables to control (i.e. min phenotype controls with size greater than 2) but they are not in contradiction with the results. \n",
    "- There are some extra possible ways for the phenotype control, esp. negation of the last branch\n",
    "- Phenotype control is for most of the cases is a super set of the source-targets control. No source-target control is in a contradiction with the phenotype control.\n",
    "    - This shows that if we know the source and specific target in advance, we can further minimize the size of the control"
   ]
  },
  {
   "cell_type": "markdown",
   "id": "ecdd1de8bf44f49d",
   "metadata": {
    "collapsed": false
   },
   "source": [
    "## Control of partially unknown model\n",
    "\n",
    "Now let's imagine, that some functions of the original model are unknown\n",
    "\n",
    "![image](unknowns.png)"
   ]
  },
  {
   "cell_type": "code",
   "execution_count": 41,
   "id": "f7c8237823b3721a",
   "metadata": {
    "collapsed": false,
    "ExecuteTime": {
     "end_time": "2024-10-03T09:26:12.917681Z",
     "start_time": "2024-10-03T09:26:12.875169Z"
    }
   },
   "outputs": [],
   "source": [
    "# Load the model and create a Perturbation Graph\n",
    "\n",
    "model_unknown = ba.BooleanNetwork.from_file('myeloid_3unknown.aeon')\n",
    "pstg_unknown = ba.AsynchronousPerturbationGraph(model_unknown)"
   ]
  },
  {
   "cell_type": "code",
   "execution_count": 42,
   "outputs": [
    {
     "name": "stdout",
     "output_type": "stream",
     "text": [
      "Erythrocyte -> Megakaryocyte : [{'Fli1': True}, {'EKLF': False}] : [0.848605, 0.848605]\n",
      "Erythrocyte -> Monocyte : [{'PU1': True}] : [0.019736]\n",
      "Erythrocyte -> Granulocyte : [{'CEBPa': True, 'cJun': False}, {'Gfi1': True, 'CEBPa': True}, {'CEBPa': True, 'EgrNab': False}] : [0.122306, 0.122306, 0.122306]\n",
      "Megakaryocyte -> Erythrocyte : [{'Fli1': False}, {'EKLF': True}] : [0.848605, 0.424436]\n",
      "Megakaryocyte -> Monocyte : [{'PU1': True}] : [0.019736]\n",
      "Megakaryocyte -> Granulocyte : [{'CEBPa': True, 'cJun': False}, {'CEBPa': True, 'Gfi1': True}, {'CEBPa': True, 'EgrNab': False}] : [0.122306, 0.122306, 0.122306]\n",
      "Monocyte -> Erythrocyte : [{'GATA1': True, 'Fli1': False, 'PU1': False}, {'EKLF': True, 'PU1': False, 'GATA1': True}] : [0.642197, 0.321098]\n",
      "Monocyte -> Megakaryocyte : [{'PU1': False, 'Fli1': True}] : [0.476685]\n",
      "Monocyte -> Granulocyte : [{'cJun': False, 'CEBPa': True}, {'CEBPa': True, 'Gfi1': True}, {'EgrNab': False, 'CEBPa': True}] : [0.251692, 0.251692, 0.251692]\n",
      "Granulocyte -> Erythrocyte : [{'Fli1': False, 'GATA1': True, 'PU1': False}, {'GATA1': True, 'PU1': False, 'EKLF': True}] : [0.630193, 0.315096]\n",
      "Granulocyte -> Megakaryocyte : [{'Fli1': True, 'PU1': False}] : [0.476685]\n",
      "Granulocyte -> Monocyte : [{'CEBPa': False}] : [0.231955]\n"
     ]
    }
   ],
   "source": [
    "# We can easily assign the robustness to the perturbations of source-target controls\n",
    "\n",
    "for _, r in df.iterrows():\n",
    "    control = ba.Control.attractor_permanent(pstg_unknown, all_atts[r['source']], all_atts[r['target']])\n",
    "    robustness = [control.perturbation_robustness(p) for p in r['permanent']]\n",
    "    print(r['source'], \"->\", r[\"target\"], ':', r['permanent'], ':', robustness)"
   ],
   "metadata": {
    "collapsed": false,
    "ExecuteTime": {
     "end_time": "2024-10-03T09:26:20.628702Z",
     "start_time": "2024-10-03T09:26:14.049821Z"
    }
   },
   "id": "43eb966b338646b5"
  },
  {
   "cell_type": "markdown",
   "source": [
    "As for permanent phenotype control, the case might be a little more complicated. Since phenotype offers a possibility to specify any subset of states. Therefore, our phenotypes (monocyte, granulocyte, megakaryocyte, erythrocyte) might correspond to more than a single state (which was the case of the original model and only possible specification for the source-target control). Let's have a look at attractors present in the phenotypes. "
   ],
   "metadata": {
    "collapsed": false
   },
   "id": "fa1ea72b466a1d27"
  },
  {
   "cell_type": "code",
   "execution_count": 43,
   "id": "b7b2281d-f0a7-4839-8e9b-88f816f83fdd",
   "metadata": {
    "ExecuteTime": {
     "end_time": "2024-10-03T09:26:22.493117Z",
     "start_time": "2024-10-03T09:26:20.917553Z"
    }
   },
   "outputs": [
    {
     "name": "stdout",
     "output_type": "stream",
     "text": [
      "erythrocyte states_count 4\n",
      "megakaryocyte states_count 122\n",
      "monocyte states_count 8\n",
      "granulocyte states_count 73\n"
     ]
    }
   ],
   "source": [
    "erythrocyte = pstg_unknown.mk_subspace({ \"EKLF\": True })\n",
    "ery_atts = ba.Attractors.attractors(pstg_unknown, erythrocyte)\n",
    "ery_union = pstg_unknown.mk_empty_vertices()\n",
    "for a in ery_atts:\n",
    "    ery_union = ery_union.union(a.vertices())\n",
    "print('erythrocyte states_count', ery_union.cardinality())\n",
    "\n",
    "megakaryocyte = pstg_unknown.mk_subspace({ \"Fli1\": True })\n",
    "meg_atts = ba.Attractors.attractors(pstg_unknown, megakaryocyte)\n",
    "meg_union = pstg_unknown.mk_empty_vertices()\n",
    "for a in meg_atts:\n",
    "    meg_union = meg_union.union(a.vertices())\n",
    "print('megakaryocyte states_count', meg_union.cardinality())\n",
    "\n",
    "monocyte = pstg_unknown.mk_subspace({ \"cJun\": True })\n",
    "mon_atts = ba.Attractors.attractors(pstg_unknown, monocyte)\n",
    "mon_union = pstg_unknown.mk_empty_vertices()\n",
    "for a in mon_atts:\n",
    "    mon_union = mon_union.union(a.vertices())\n",
    "print('monocyte states_count', mon_union.cardinality())\n",
    "\n",
    "granulocyte = pstg_unknown.mk_subspace({ \"Gfi1\": True })\n",
    "gra_atts = ba.Attractors.attractors(pstg_unknown, granulocyte)\n",
    "gra_union = pstg_unknown.mk_empty_vertices()\n",
    "for a in gra_atts:\n",
    "    gra_union = gra_union.union(a.vertices())\n",
    "print('granulocyte states_count', gra_union.cardinality())"
   ]
  },
  {
   "cell_type": "code",
   "execution_count": 44,
   "outputs": [
    {
     "name": "stdout",
     "output_type": "stream",
     "text": [
      "phenotype 0 intersect with others: 2\n",
      "phenotype 1 intersect with others: 28\n",
      "phenotype 2 intersect with others: 4\n",
      "phenotype 3 intersect with others: 26\n"
     ]
    }
   ],
   "source": [
    "# Let's verify, that the attractor states do not have any intersections\n",
    "all_phenotype_atts = [ery_union, meg_union, mon_union, gra_union]\n",
    "for i in range(4):\n",
    "    other_atts_union = pstg_unknown.mk_empty_vertices()\n",
    "    for j in range(4):\n",
    "        if i == j:\n",
    "            continue\n",
    "        other_atts_union = other_atts_union.union(all_phenotype_atts[j])\n",
    "    print('phenotype', i, 'intersect with others:', all_phenotype_atts[i].intersect(other_atts_union).cardinality())"
   ],
   "metadata": {
    "collapsed": false,
    "ExecuteTime": {
     "end_time": "2024-10-03T09:26:22.498493Z",
     "start_time": "2024-10-03T09:26:22.494172Z"
    }
   },
   "id": "f144fba50be7c9a7"
  },
  {
   "cell_type": "markdown",
   "source": [
    "Since the attractors within phenotypes are not disjoint (which is against our understanding of the emodel, where a call can specialize into a single cell type), we need to better specify the phenotypes for control"
   ],
   "metadata": {
    "collapsed": false
   },
   "id": "d3df98009a632a79"
  },
  {
   "cell_type": "code",
   "execution_count": 50,
   "outputs": [
    {
     "name": "stdout",
     "output_type": "stream",
     "text": [
      "erythrocyte states_count 2\n",
      "erythrocyte states\n",
      "erythrocyte variables differing from the original:\n",
      "State # 0\n",
      "State # 1\n",
      "GATA2 True\n",
      "megakaryocyte states_count 2\n",
      "megakaryocyte variables differing from the original:\n",
      "State # 0\n",
      "State # 1\n",
      "GATA2 True\n",
      "monocyte states_count 4\n",
      "monocyte variables differing from the original:\n",
      "State # 0\n",
      "State # 1\n",
      "CEBPa True\n",
      "State # 2\n",
      "GATA2 True\n",
      "State # 3\n",
      "CEBPa True\n",
      "GATA2 True\n",
      "granulocyte states_count 3\n",
      "granulocyte variables differing from the original:\n",
      "State # 0\n",
      "PU1 False\n",
      "State # 1\n",
      "State # 2\n",
      "GATA2 True\n"
     ]
    }
   ],
   "source": [
    "erythrocyte = pstg_unknown.mk_subspace({ \"EKLF\": True, \"Gfi1\": False, \"cJun\": False, \"Fli1\": False })\n",
    "ery_atts = ba.Attractors.attractors(pstg_unknown, erythrocyte)\n",
    "ery_union = pstg_unknown.mk_empty_vertices()\n",
    "for a in ery_atts:\n",
    "    ery_union = ery_union.union(a.vertices())\n",
    "print('erythrocyte states_count', ery_union.cardinality())\n",
    "print('erythrocyte states')\n",
    "print('erythrocyte variables differing from the original:')\n",
    "for c, a in enumerate(ery_union.items()):\n",
    "    print('State #', c)\n",
    "    for i, j in zip(sorted(next(erythrocyte_att.items()).to_named_dict().items()), sorted(a.to_named_dict().items())):\n",
    "        if i[1] != j[1]:\n",
    "            print(j[0], j[1])\n",
    "\n",
    "megakaryocyte = pstg_unknown.mk_subspace({ \"Fli1\": True, \"Gfi1\": False, \"cJun\": False, \"EKLF\": False })\n",
    "meg_atts = ba.Attractors.attractors(pstg_unknown, megakaryocyte)\n",
    "meg_union = pstg_unknown.mk_empty_vertices()\n",
    "for a in meg_atts:\n",
    "    meg_union = meg_union.union(a.vertices())\n",
    "print('megakaryocyte states_count', meg_union.cardinality())\n",
    "print('megakaryocyte variables differing from the original:')\n",
    "for c, a in enumerate(meg_union.items()):\n",
    "    print('State #', c)\n",
    "    for i, j in zip(sorted(next(megakaryocyte_att.items()).to_named_dict().items()), sorted(a.to_named_dict().items())):\n",
    "        if i[1] != j[1]:\n",
    "            print(j[0], j[1])\n",
    "\n",
    "monocyte = pstg_unknown.mk_subspace({ \"cJun\": True, \"Gfi1\": False, \"Fli1\": False, \"EKLF\": False })\n",
    "mon_atts = ba.Attractors.attractors(pstg_unknown, monocyte)\n",
    "mon_union = pstg_unknown.mk_empty_vertices()\n",
    "for a in mon_atts:\n",
    "    mon_union = mon_union.union(a.vertices())\n",
    "print('monocyte states_count', mon_union.cardinality())\n",
    "print('monocyte variables differing from the original:')\n",
    "for c, a in enumerate(mon_union.items()):\n",
    "    print('State #', c)\n",
    "    for i, j in zip(sorted(next(monocyte_att.items()).to_named_dict().items()), sorted(a.to_named_dict().items())):\n",
    "        if i[1] != j[1]:\n",
    "            print(j[0], j[1])\n",
    "\n",
    "granulocyte = pstg_unknown.mk_subspace({ \"Gfi1\": True, \"cJun\": False, \"Fli1\": False, \"EKLF\": False })\n",
    "gra_atts = ba.Attractors.attractors(pstg_unknown, granulocyte)\n",
    "gra_union = pstg_unknown.mk_empty_vertices()\n",
    "for a in gra_atts:\n",
    "    gra_union = gra_union.union(a.vertices())\n",
    "print('granulocyte states_count', gra_union.cardinality())\n",
    "print('granulocyte variables differing from the original:')\n",
    "for c, a in enumerate(gra_union.items()):\n",
    "    print('State #', c)    \n",
    "    for i, j in zip(sorted(next(granulocyte_att.items()).to_named_dict().items()), sorted(a.to_named_dict().items())):\n",
    "        if i[1] != j[1]:\n",
    "            print(j[0], j[1])"
   ],
   "metadata": {
    "collapsed": false,
    "ExecuteTime": {
     "end_time": "2024-10-03T09:48:53.782161Z",
     "start_time": "2024-10-03T09:48:53.657974Z"
    }
   },
   "id": "2339e00dc762d6e9"
  },
  {
   "cell_type": "markdown",
   "source": [
    "In the original article, there is also an analysis of the progenitors.\n",
    "\n",
    "<img alt=\"image\" src=\"measurements.png\" width=\"1500\"/>\n",
    "\n",
    "\n",
    "From the looks, we can observe, that all states differing from the original attractor differ in variables which are exposed by progenitors. The exception is monocyte, where actually CEBPa vlaue in the original model do not correspond to the progenitor state as well as the GATA2 value which is True in for some model colors, while there is only a small hint of GATA 2 in the observed progenitor.\n",
    "\n",
    "These small discrepancies are out of scope for this case study, but might be interesting for further analysis.\n",
    "\n",
    "The conclusion is, that refined - more specific phenotypes are a reasonable choice for phenotype control.\n",
    "\n",
    "We can now assign robustness to the original phenotype control"
   ],
   "metadata": {
    "collapsed": false
   },
   "id": "82961effb11d690b"
  },
  {
   "cell_type": "code",
   "execution_count": 56,
   "outputs": [
    {
     "name": "stdout",
     "output_type": "stream",
     "text": [
      "Erythrocyte [{'PU1': False, 'GATA1': True, 'Fli1': False}, {'EKLF': True, 'GATA1': True, 'PU1': False}] [0.921052, 0.460526]\n",
      "Megakaryocyte [{'Fli1': True, 'PU1': False}] [0.921052]\n",
      "Monocyte [{'CEBPa': False, 'PU1': True}] [0.5]\n",
      "Granulocyte [{'CEBPa': True, 'cJun': False}, {'Gfi1': True, 'CEBPa': True}, {'EgrNab': False, 'CEBPa': True}] [0.143044, 0.143044, 0.143044]\n"
     ]
    }
   ],
   "source": [
    "phen_spaces = {\n",
    "    \"Erythrocyte\": ery_union,\n",
    "    \"Megakaryocyte\": meg_union,\n",
    "    \"Monocyte\": mon_union,\n",
    "    \"Granulocyte\": gra_union\n",
    "}\n",
    "\n",
    "for a in phen_spaces.keys():\n",
    "    old_perturbations = df.loc[df['target'] == a, 'phenotype'].iloc[0]\n",
    "    control = ba.Control.phenotype_permanent(pstg_unknown, phen_spaces[a])\n",
    "    robustness = [control.perturbation_robustness(p) for p in old_perturbations]\n",
    "    print(a, old_perturbations, robustness)"
   ],
   "metadata": {
    "collapsed": false,
    "ExecuteTime": {
     "end_time": "2024-10-03T11:15:47.417519Z",
     "start_time": "2024-10-03T11:15:31.629609Z"
    }
   },
   "id": "6a39cd29c3eb48a"
  },
  {
   "cell_type": "markdown",
   "source": [
    "Now we can assign robustness to all former perturbations.\n",
    "\n",
    "![Perturbations_robustness](perturbations_robustness.png)\n",
    "\n",
    "We can notice, that the robustness is highly variable and in some cases perturbations of the same size significantly stand out compared to other perturbations (e.g. Megacaryocyte -> Erythrocyte)\n",
    "\n",
    "Also, contra-intuitively, phenotype control has higher robustness than in some specific source-target perturbations. This is probably thanks to considering similar attrators as the same phenotype, what is not easily achievable in the source-target control. Here, we would need to compute source-target control for each of the attractors separately and than union the results."
   ],
   "metadata": {
    "collapsed": false
   },
   "id": "b047104bc836b6ab"
  },
  {
   "cell_type": "markdown",
   "source": [],
   "metadata": {
    "collapsed": false
   },
   "id": "5fa6231d0ba6bad1"
  }
 ],
 "metadata": {
  "kernelspec": {
   "display_name": "Python 3 (ipykernel)",
   "language": "python",
   "name": "python3"
  },
  "language_info": {
   "codemirror_mode": {
    "name": "ipython",
    "version": 3
   },
   "file_extension": ".py",
   "mimetype": "text/x-python",
   "name": "python",
   "nbconvert_exporter": "python",
   "pygments_lexer": "ipython3",
   "version": "3.12.3"
  }
 },
 "nbformat": 4,
 "nbformat_minor": 5
}
