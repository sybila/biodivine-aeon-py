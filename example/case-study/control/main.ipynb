{
 "cells": [
  {
   "cell_type": "code",
   "execution_count": null,
   "id": "initial_id",
   "metadata": {
    "ExecuteTime": {
     "end_time": "2024-09-01T15:22:53.671586Z",
     "start_time": "2024-09-01T15:22:52.437870Z"
    }
   },
   "outputs": [],
   "source": [
    "# Use this command to install the local development version of AEON.py if desired\n",
    "!/usr/bin/python3 -m pip install --force-reinstall ./../../../target/wheels/biodivine_aeon-1.0.0a10-cp37-abi3-macosx_11_0_arm64.whl"
   ]
  },
  {
   "cell_type": "markdown",
   "id": "1d502125b99c6234",
   "metadata": {
    "collapsed": false,
    "jupyter": {
     "outputs_hidden": false
    }
   },
   "source": [
    "## Demonstration of control on Myeloid model\n",
    "\n",
    "The model we will observe is coming from Krumsiek, J., Marr, C., Schroeder, T., and Theis, F. J. (2011). Hierarchical differentiation of myeloid progenitors is encoded in the transcription factor network. PloS one, 6(8), e22649.\n",
    "\n",
    "It describes myeloid cell differentiation into four possible types - erythrocytes, megakaryocytes, monocytes, and granulocytes.\n",
    "\n",
    "![Myeloid_differentiation](myeloid.png)"
   ]
  },
  {
   "cell_type": "code",
   "execution_count": 1,
   "id": "11969bfac9ef8031",
   "metadata": {
    "ExecuteTime": {
     "end_time": "2024-09-01T15:22:53.679323Z",
     "start_time": "2024-09-01T15:22:53.672705Z"
    },
    "collapsed": false,
    "jupyter": {
     "outputs_hidden": false
    }
   },
   "outputs": [],
   "source": [
    "import biodivine_aeon as ba \n",
    "import pandas as pd\n",
    "from functools import reduce"
   ]
  },
  {
   "cell_type": "code",
   "execution_count": 2,
   "id": "788666fa4f3fd9c7",
   "metadata": {
    "ExecuteTime": {
     "end_time": "2024-09-01T15:22:53.679553Z",
     "start_time": "2024-09-01T15:22:53.674793Z"
    },
    "collapsed": false,
    "jupyter": {
     "outputs_hidden": false
    }
   },
   "outputs": [],
   "source": [
    "ba.LOG_LEVEL = ba.LOG_NOTHING"
   ]
  },
  {
   "cell_type": "code",
   "execution_count": 3,
   "id": "c6edd4931c7190eb",
   "metadata": {
    "ExecuteTime": {
     "end_time": "2024-09-01T15:22:53.687253Z",
     "start_time": "2024-09-01T15:22:53.682322Z"
    },
    "collapsed": false,
    "jupyter": {
     "outputs_hidden": false
    }
   },
   "outputs": [],
   "source": [
    "# Load the model and create a Perturbation Graph\n",
    "\n",
    "model = ba.BooleanNetwork.from_file('myeloid_witness.aeon')\n",
    "pstg = ba.AsynchronousPerturbationGraph(model)"
   ]
  },
  {
   "cell_type": "code",
   "execution_count": 4,
   "id": "3dc68ef7bec3b2d8",
   "metadata": {
    "ExecuteTime": {
     "end_time": "2024-09-01T15:22:53.703012Z",
     "start_time": "2024-09-01T15:22:53.691913Z"
    },
    "collapsed": false,
    "jupyter": {
     "outputs_hidden": false
    }
   },
   "outputs": [
    {
     "name": "stdout",
     "output_type": "stream",
     "text": [
      "erythrocyte attractor size (should be 1): 1\n",
      "erythrocyte attractor: [[('CEBPa', False), ('EKLF', True), ('EgrNab', False), ('FOG1', True), ('Fli1', False), ('GATA1', True), ('GATA2', False), ('Gfi1', False), ('PU1', False), ('SCL', True), ('cJun', False)]]\n",
      "megakaryocyte attractor size (should be 1): 1\n",
      "megakaryocyte megakaryocyte: [[('CEBPa', False), ('EKLF', False), ('EgrNab', False), ('FOG1', True), ('Fli1', True), ('GATA1', True), ('GATA2', False), ('Gfi1', False), ('PU1', False), ('SCL', True), ('cJun', False)]]\n",
      "monocyte attractor size (should be 1): 1\n",
      "monocyte attractor: [[('CEBPa', False), ('EKLF', False), ('EgrNab', True), ('FOG1', False), ('Fli1', False), ('GATA1', False), ('GATA2', False), ('Gfi1', False), ('PU1', True), ('SCL', False), ('cJun', True)]]\n",
      "granulocyte attractor size (should be 1): 1\n",
      "granulocyte attractor: [[('CEBPa', True), ('EKLF', False), ('EgrNab', False), ('FOG1', False), ('Fli1', False), ('GATA1', False), ('GATA2', False), ('Gfi1', True), ('PU1', True), ('SCL', False), ('cJun', False)]]\n"
     ]
    }
   ],
   "source": [
    "# Find attractors representing the four possible phenotypes\n",
    "\n",
    "attractors = ba.Attractors.attractors(pstg)\n",
    "attractors = [ a.vertices() for a in attractors ]\n",
    "\n",
    "erythrocyte = pstg.mk_subspace_vertices({ \"EKLF\": True })\n",
    "erythrocyte_att = [ a for a in attractors if not a.intersect(erythrocyte).is_empty() ][0]\n",
    "print('erythrocyte attractor size (should be 1):', erythrocyte_att.cardinality())\n",
    "print('erythrocyte attractor:', [sorted(x.to_named_dict().items()) for x in  erythrocyte_att.items()])\n",
    "\n",
    "megakaryocyte = pstg.mk_subspace_vertices({ \"Fli1\": True })\n",
    "megakaryocyte_att = [ a for a in attractors if not a.intersect(megakaryocyte).is_empty() ][0]\n",
    "print('megakaryocyte attractor size (should be 1):', megakaryocyte_att.cardinality())\n",
    "print('megakaryocyte megakaryocyte:', [sorted(x.to_named_dict().items()) for x in  megakaryocyte_att.items()])\n",
    "\n",
    "monocyte = pstg.mk_subspace_vertices({ \"cJun\": True })\n",
    "monocyte_att = [ a for a in attractors if not a.intersect(monocyte).is_empty() ][0]\n",
    "print('monocyte attractor size (should be 1):', monocyte_att.cardinality())\n",
    "print('monocyte attractor:', [sorted(x.to_named_dict().items()) for x in  monocyte_att.items()])\n",
    "\n",
    "\n",
    "granulocyte = pstg.mk_subspace_vertices({ \"Gfi1\": True })\n",
    "granulocyte_att = [ a for a in attractors if not a.intersect(granulocyte).is_empty() ][0]\n",
    "print('granulocyte attractor size (should be 1):', granulocyte_att.cardinality())\n",
    "print('granulocyte attractor:', [sorted(x.to_named_dict().items()) for x in  granulocyte_att.items()])"
   ]
  },
  {
   "cell_type": "code",
   "execution_count": 5,
   "id": "ad993245710ad338",
   "metadata": {
    "ExecuteTime": {
     "end_time": "2024-09-01T15:22:53.703580Z",
     "start_time": "2024-09-01T15:22:53.693804Z"
    },
    "collapsed": false,
    "jupyter": {
     "outputs_hidden": false
    }
   },
   "outputs": [
    {
     "data": {
      "text/plain": [
       "ColoredPerturbationSet(cardinality=5832, colors=1, perturbations=5832, symbolic_size=12)"
      ]
     },
     "execution_count": 5,
     "metadata": {},
     "output_type": "execute_result"
    }
   ],
   "source": [
    "# Let's demonstrate now, how we can compute source-target control.\n",
    "\n",
    "# First we need to compute a symbolic structure containing the perurbations and results\n",
    "sym_results = ba.Control.attractor_one_step(pstg, erythrocyte_att, megakaryocyte_att)\n",
    "sym_results"
   ]
  },
  {
   "cell_type": "code",
   "execution_count": 6,
   "id": "8fc32f37fe13d238",
   "metadata": {
    "ExecuteTime": {
     "end_time": "2024-09-01T15:22:53.703727Z",
     "start_time": "2024-09-01T15:22:53.699931Z"
    },
    "collapsed": false,
    "jupyter": {
     "outputs_hidden": false
    }
   },
   "outputs": [
    {
     "data": {
      "text/plain": [
       "ColorSet(cardinality=0, symbolic_size=1)"
      ]
     },
     "execution_count": 6,
     "metadata": {},
     "output_type": "execute_result"
    }
   ],
   "source": [
    "# Now we can either look up for what colors does a specific perturbation work\n",
    "sym_results.select_perturbation({ \"EKLF\" : True }) # A perturbation where only EKLF is perturbed to 1.\n",
    "# Cardinality 0 -> not working"
   ]
  },
  {
   "cell_type": "code",
   "execution_count": 7,
   "id": "f194bcc2-4a77-4664-abcd-31a2fbc81db3",
   "metadata": {
    "ExecuteTime": {
     "end_time": "2024-09-01T15:22:53.715506Z",
     "start_time": "2024-09-01T15:22:53.703352Z"
    }
   },
   "outputs": [
    {
     "data": {
      "text/plain": [
       "ColorSet(cardinality=0, symbolic_size=1)"
      ]
     },
     "execution_count": 7,
     "metadata": {},
     "output_type": "execute_result"
    }
   ],
   "source": [
    "sym_results.select_perturbation({ \"EKLF\" : False }) # A perturbation where only EKLF is perturbed to 0\n",
    "# Cardinality 0 -> not working"
   ]
  },
  {
   "cell_type": "code",
   "execution_count": 8,
   "id": "a1414912-870b-4f89-902a-525de599a4e9",
   "metadata": {
    "ExecuteTime": {
     "end_time": "2024-09-01T15:22:53.716666Z",
     "start_time": "2024-09-01T15:22:53.706644Z"
    }
   },
   "outputs": [
    {
     "data": {
      "text/plain": [
       "ColorSet(cardinality=0, symbolic_size=1)"
      ]
     },
     "execution_count": 8,
     "metadata": {},
     "output_type": "execute_result"
    }
   ],
   "source": [
    "sym_results.select_perturbation({ \"EKLF\" : None }) # A perturbations where EKLF is unperturbed (and everything else is also unperturbed).\n",
    "# Cardinality 0 -> not working"
   ]
  },
  {
   "cell_type": "code",
   "execution_count": 9,
   "id": "fd6ae910-fc07-44f4-a468-65c6350da5de",
   "metadata": {
    "ExecuteTime": {
     "end_time": "2024-09-01T15:22:53.716868Z",
     "start_time": "2024-09-01T15:22:53.712009Z"
    }
   },
   "outputs": [
    {
     "data": {
      "text/plain": [
       "ColorSet(cardinality=1, symbolic_size=13)"
      ]
     },
     "execution_count": 9,
     "metadata": {},
     "output_type": "execute_result"
    }
   ],
   "source": [
    "sym_results.select_perturbation({ \"EKLF\" : False, \"Fli1\": True }) # A perturbation that we know works."
   ]
  },
  {
   "cell_type": "code",
   "execution_count": 10,
   "id": "21f94010e630c102",
   "metadata": {
    "ExecuteTime": {
     "end_time": "2024-09-01T15:22:53.720537Z",
     "start_time": "2024-09-01T15:22:53.714861Z"
    },
    "collapsed": false,
    "jupyter": {
     "outputs_hidden": false
    }
   },
   "outputs": [
    {
     "name": "stdout",
     "output_type": "stream",
     "text": [
      "{'EKLF': False, 'Fli1': True}\n"
     ]
    }
   ],
   "source": [
    "# Or just retrieve all smallest colours with a given minimal robustness to avoid guessing\n",
    "(p, r, c) = sym_results.select_by_robustness(threshold=0.99, result_limit=10)[0]\n",
    "print(p.perturbed_named_dict())"
   ]
  },
  {
   "cell_type": "code",
   "execution_count": 11,
   "id": "63cbeae745ce11b1",
   "metadata": {
    "ExecuteTime": {
     "end_time": "2024-09-01T15:22:53.809516Z",
     "start_time": "2024-09-01T15:22:53.724514Z"
    },
    "collapsed": false,
    "jupyter": {
     "outputs_hidden": false
    }
   },
   "outputs": [],
   "source": [
    "# In a similar manner, we can also compute phenotype control. Nonetheless, providing just the target state \n",
    "# (or a set of states) is sufficient in this case)\n",
    "\n",
    "# There are three possible configurations of oscillation\n",
    "# Forbidden -> attractor where model stabilizes therefore cannot oscillate through the phenotype (must stabilize fully within the phenotype)\n",
    "# Allowed -> attractor where model stabilizes may oscillate\n",
    "# Required -> attractor where model stabilizes MUST oscillate through the phenotype (i.e. have states both inside and outside of the phenotype space)\n",
    "\n",
    "# In this demonstration we use forbidden type of oscillation, since myeloid model does not show oscillations \n",
    "# and this type is most similar to the source-target control.\n",
    "\n",
    "# Even though the model is small, using ceiled version of the function is recommended, since it allows stop_early \n",
    "# functionality, computing the perturbations until 100% robustness is hit or specifying a sensible size_bounc\n",
    "phen_sym_results = ba.Control.phenotype_permanent(\n",
    "    graph=pstg,\n",
    "    phenotype=megakaryocyte_att,\n",
    "    oscillation_type=\"forbidden\",\n",
    "    size_limit=10,\n",
    "    stop_when_found=True\n",
    ")"
   ]
  },
  {
   "cell_type": "code",
   "execution_count": 12,
   "id": "316cc1e1-4d03-4eed-aaf8-94a01ac3cd4f",
   "metadata": {
    "ExecuteTime": {
     "end_time": "2024-09-01T15:22:53.819687Z",
     "start_time": "2024-09-01T15:22:53.726466Z"
    }
   },
   "outputs": [
    {
     "name": "stdout",
     "output_type": "stream",
     "text": [
      "{'PU1': False, 'Fli1': True}\n"
     ]
    }
   ],
   "source": [
    "(p, r, c) = phen_sym_results.select_by_robustness(threshold=0.99, result_limit=1)[0]\n",
    "print(p.perturbed_named_dict())"
   ]
  },
  {
   "cell_type": "code",
   "execution_count": 13,
   "id": "247b6e3dbaef4a9e",
   "metadata": {
    "ExecuteTime": {
     "end_time": "2024-09-01T15:22:53.820070Z",
     "start_time": "2024-09-01T15:22:53.730449Z"
    },
    "collapsed": false,
    "jupyter": {
     "outputs_hidden": false
    }
   },
   "outputs": [],
   "source": [
    "# Now we can compute a full sets of results for all pairs of source-target control"
   ]
  },
  {
   "cell_type": "code",
   "execution_count": 14,
   "id": "405ad725fbc5e9e1",
   "metadata": {
    "ExecuteTime": {
     "end_time": "2024-09-01T15:22:53.820149Z",
     "start_time": "2024-09-01T15:22:53.733526Z"
    },
    "collapsed": false,
    "jupyter": {
     "outputs_hidden": false
    }
   },
   "outputs": [],
   "source": [
    "all_atts = {\n",
    "    \"Erythrocyte\": erythrocyte_att,\n",
    "    \"Megakaryocyte\": megakaryocyte_att,\n",
    "    \"Monocyte\": monocyte_att,\n",
    "    \"Granulocyte\": granulocyte_att\n",
    "}\n",
    "\n",
    "# Generate al pair possibilities for computing the source-target control\n",
    "all_att_pairs = [(s,t) for s in all_atts.keys() for t in all_atts.keys() if s != t]"
   ]
  },
  {
   "cell_type": "code",
   "execution_count": 15,
   "id": "86ea9b904b0027de",
   "metadata": {
    "ExecuteTime": {
     "end_time": "2024-09-01T15:22:53.928773Z",
     "start_time": "2024-09-01T15:22:53.815637Z"
    },
    "collapsed": false,
    "jupyter": {
     "outputs_hidden": false
    }
   },
   "outputs": [],
   "source": [
    "# Pick the minimal perturbations with perfect robustness and then only return the\n",
    "# values of variables that are actually perturbed (to simplify presentation).\n",
    "# We are not returning the robustness here becasue it is always 1.0 anyway.\n",
    "def pick_result(data: ba.ColoredPerturbationSet) -> dict[str, bool]:\n",
    "    (min_model, _, _) = data.select_by_robustness(threshold=1.0, result_limit=1)[0]\n",
    "    picked = data.select_by_size(size=min_model.perturbation_size(), up_to=False)\n",
    "    picked = picked.select_by_robustness(threshold=1.0, result_limit=100)\n",
    "    return [ model.perturbed_named_dict() for (model, _, _) in picked ]\n",
    "\n",
    "data = {\n",
    "    'source': [s for s, _ in all_att_pairs],\n",
    "    'target': [t for _, t in all_att_pairs],\n",
    "    'onestep': [pick_result(ba.Control.attractor_one_step(pstg, all_atts[s], all_atts[t])) for s, t in all_att_pairs],\n",
    "    'temporary': [pick_result(ba.Control.attractor_temporary(pstg, all_atts[s], all_atts[t])) for s, t in all_att_pairs],\n",
    "    'permanent': [pick_result(ba.Control.attractor_permanent(pstg, all_atts[s], all_atts[t])) for s, t in all_att_pairs],\n",
    "}\n",
    "\n",
    "df = pd.DataFrame(data)"
   ]
  },
  {
   "cell_type": "code",
   "execution_count": 16,
   "id": "e33b15bc38ab2ef",
   "metadata": {
    "ExecuteTime": {
     "end_time": "2024-09-01T15:22:53.945035Z",
     "start_time": "2024-09-01T15:22:53.942884Z"
    },
    "collapsed": false,
    "jupyter": {
     "outputs_hidden": false
    }
   },
   "outputs": [
    {
     "data": {
      "text/html": [
       "<div>\n",
       "<style scoped>\n",
       "    .dataframe tbody tr th:only-of-type {\n",
       "        vertical-align: middle;\n",
       "    }\n",
       "\n",
       "    .dataframe tbody tr th {\n",
       "        vertical-align: top;\n",
       "    }\n",
       "\n",
       "    .dataframe thead th {\n",
       "        text-align: right;\n",
       "    }\n",
       "</style>\n",
       "<table border=\"1\" class=\"dataframe\">\n",
       "  <thead>\n",
       "    <tr style=\"text-align: right;\">\n",
       "      <th></th>\n",
       "      <th>source</th>\n",
       "      <th>target</th>\n",
       "      <th>onestep</th>\n",
       "      <th>temporary</th>\n",
       "      <th>permanent</th>\n",
       "    </tr>\n",
       "  </thead>\n",
       "  <tbody>\n",
       "    <tr>\n",
       "      <th>0</th>\n",
       "      <td>Erythrocyte</td>\n",
       "      <td>Megakaryocyte</td>\n",
       "      <td>[{'EKLF': False, 'Fli1': True}]</td>\n",
       "      <td>[{'Fli1': True}, {'EKLF': False}]</td>\n",
       "      <td>[{'Fli1': True}, {'EKLF': False}]</td>\n",
       "    </tr>\n",
       "    <tr>\n",
       "      <th>1</th>\n",
       "      <td>Erythrocyte</td>\n",
       "      <td>Monocyte</td>\n",
       "      <td>[{'PU1': True}]</td>\n",
       "      <td>[{'PU1': True}]</td>\n",
       "      <td>[{'PU1': True}]</td>\n",
       "    </tr>\n",
       "    <tr>\n",
       "      <th>2</th>\n",
       "      <td>Erythrocyte</td>\n",
       "      <td>Granulocyte</td>\n",
       "      <td>[{'Gfi1': True, 'CEBPa': True, 'GATA1': False}]</td>\n",
       "      <td>[{'CEBPa': True, 'cJun': False}, {'Gfi1': True...</td>\n",
       "      <td>[{'cJun': False, 'CEBPa': True}, {'Gfi1': True...</td>\n",
       "    </tr>\n",
       "    <tr>\n",
       "      <th>3</th>\n",
       "      <td>Megakaryocyte</td>\n",
       "      <td>Erythrocyte</td>\n",
       "      <td>[{'EKLF': True, 'Fli1': False}]</td>\n",
       "      <td>[{'Fli1': False}, {'EKLF': True}]</td>\n",
       "      <td>[{'Fli1': False}, {'EKLF': True}]</td>\n",
       "    </tr>\n",
       "    <tr>\n",
       "      <th>4</th>\n",
       "      <td>Megakaryocyte</td>\n",
       "      <td>Monocyte</td>\n",
       "      <td>[{'PU1': True}]</td>\n",
       "      <td>[{'PU1': True}]</td>\n",
       "      <td>[{'PU1': True}]</td>\n",
       "    </tr>\n",
       "    <tr>\n",
       "      <th>5</th>\n",
       "      <td>Megakaryocyte</td>\n",
       "      <td>Granulocyte</td>\n",
       "      <td>[{'CEBPa': True, 'Gfi1': True, 'SCL': False, '...</td>\n",
       "      <td>[{'cJun': False, 'CEBPa': True}, {'CEBPa': Tru...</td>\n",
       "      <td>[{'cJun': False, 'CEBPa': True}, {'CEBPa': Tru...</td>\n",
       "    </tr>\n",
       "    <tr>\n",
       "      <th>6</th>\n",
       "      <td>Monocyte</td>\n",
       "      <td>Erythrocyte</td>\n",
       "      <td>[{'EKLF': True, 'GATA1': True, 'PU1': False}]</td>\n",
       "      <td>[{'Fli1': False, 'GATA2': True, 'PU1': False},...</td>\n",
       "      <td>[{'Fli1': False, 'GATA1': True, 'PU1': False},...</td>\n",
       "    </tr>\n",
       "    <tr>\n",
       "      <th>7</th>\n",
       "      <td>Monocyte</td>\n",
       "      <td>Megakaryocyte</td>\n",
       "      <td>[{'GATA1': True, 'Fli1': True, 'PU1': False}]</td>\n",
       "      <td>[{'Fli1': True, 'PU1': False}]</td>\n",
       "      <td>[{'Fli1': True, 'PU1': False}]</td>\n",
       "    </tr>\n",
       "    <tr>\n",
       "      <th>8</th>\n",
       "      <td>Monocyte</td>\n",
       "      <td>Granulocyte</td>\n",
       "      <td>[{'EgrNab': False, 'Gfi1': True, 'CEBPa': True}]</td>\n",
       "      <td>[{'CEBPa': True, 'cJun': False}, {'PU1': False...</td>\n",
       "      <td>[{'cJun': False, 'CEBPa': True}, {'Gfi1': True...</td>\n",
       "    </tr>\n",
       "    <tr>\n",
       "      <th>9</th>\n",
       "      <td>Granulocyte</td>\n",
       "      <td>Erythrocyte</td>\n",
       "      <td>[{'EKLF': True, 'CEBPa': False, 'GATA1': True,...</td>\n",
       "      <td>[{'Fli1': False, 'GATA2': True, 'PU1': False},...</td>\n",
       "      <td>[{'PU1': False, 'Fli1': False, 'GATA1': True},...</td>\n",
       "    </tr>\n",
       "    <tr>\n",
       "      <th>10</th>\n",
       "      <td>Granulocyte</td>\n",
       "      <td>Megakaryocyte</td>\n",
       "      <td>[{'Fli1': True, 'CEBPa': False, 'PU1': False, ...</td>\n",
       "      <td>[{'Fli1': True, 'PU1': False}]</td>\n",
       "      <td>[{'PU1': False, 'Fli1': True}]</td>\n",
       "    </tr>\n",
       "    <tr>\n",
       "      <th>11</th>\n",
       "      <td>Granulocyte</td>\n",
       "      <td>Monocyte</td>\n",
       "      <td>[{'CEBPa': False}]</td>\n",
       "      <td>[{'CEBPa': False}]</td>\n",
       "      <td>[{'CEBPa': False}]</td>\n",
       "    </tr>\n",
       "  </tbody>\n",
       "</table>\n",
       "</div>"
      ],
      "text/plain": [
       "           source         target  \\\n",
       "0     Erythrocyte  Megakaryocyte   \n",
       "1     Erythrocyte       Monocyte   \n",
       "2     Erythrocyte    Granulocyte   \n",
       "3   Megakaryocyte    Erythrocyte   \n",
       "4   Megakaryocyte       Monocyte   \n",
       "5   Megakaryocyte    Granulocyte   \n",
       "6        Monocyte    Erythrocyte   \n",
       "7        Monocyte  Megakaryocyte   \n",
       "8        Monocyte    Granulocyte   \n",
       "9     Granulocyte    Erythrocyte   \n",
       "10    Granulocyte  Megakaryocyte   \n",
       "11    Granulocyte       Monocyte   \n",
       "\n",
       "                                              onestep  \\\n",
       "0                     [{'EKLF': False, 'Fli1': True}]   \n",
       "1                                     [{'PU1': True}]   \n",
       "2     [{'Gfi1': True, 'CEBPa': True, 'GATA1': False}]   \n",
       "3                     [{'EKLF': True, 'Fli1': False}]   \n",
       "4                                     [{'PU1': True}]   \n",
       "5   [{'CEBPa': True, 'Gfi1': True, 'SCL': False, '...   \n",
       "6       [{'EKLF': True, 'GATA1': True, 'PU1': False}]   \n",
       "7       [{'GATA1': True, 'Fli1': True, 'PU1': False}]   \n",
       "8    [{'EgrNab': False, 'Gfi1': True, 'CEBPa': True}]   \n",
       "9   [{'EKLF': True, 'CEBPa': False, 'GATA1': True,...   \n",
       "10  [{'Fli1': True, 'CEBPa': False, 'PU1': False, ...   \n",
       "11                                 [{'CEBPa': False}]   \n",
       "\n",
       "                                            temporary  \\\n",
       "0                   [{'Fli1': True}, {'EKLF': False}]   \n",
       "1                                     [{'PU1': True}]   \n",
       "2   [{'CEBPa': True, 'cJun': False}, {'Gfi1': True...   \n",
       "3                   [{'Fli1': False}, {'EKLF': True}]   \n",
       "4                                     [{'PU1': True}]   \n",
       "5   [{'cJun': False, 'CEBPa': True}, {'CEBPa': Tru...   \n",
       "6   [{'Fli1': False, 'GATA2': True, 'PU1': False},...   \n",
       "7                      [{'Fli1': True, 'PU1': False}]   \n",
       "8   [{'CEBPa': True, 'cJun': False}, {'PU1': False...   \n",
       "9   [{'Fli1': False, 'GATA2': True, 'PU1': False},...   \n",
       "10                     [{'Fli1': True, 'PU1': False}]   \n",
       "11                                 [{'CEBPa': False}]   \n",
       "\n",
       "                                            permanent  \n",
       "0                   [{'Fli1': True}, {'EKLF': False}]  \n",
       "1                                     [{'PU1': True}]  \n",
       "2   [{'cJun': False, 'CEBPa': True}, {'Gfi1': True...  \n",
       "3                   [{'Fli1': False}, {'EKLF': True}]  \n",
       "4                                     [{'PU1': True}]  \n",
       "5   [{'cJun': False, 'CEBPa': True}, {'CEBPa': Tru...  \n",
       "6   [{'Fli1': False, 'GATA1': True, 'PU1': False},...  \n",
       "7                      [{'Fli1': True, 'PU1': False}]  \n",
       "8   [{'cJun': False, 'CEBPa': True}, {'Gfi1': True...  \n",
       "9   [{'PU1': False, 'Fli1': False, 'GATA1': True},...  \n",
       "10                     [{'PU1': False, 'Fli1': True}]  \n",
       "11                                 [{'CEBPa': False}]  "
      ]
     },
     "execution_count": 16,
     "metadata": {},
     "output_type": "execute_result"
    }
   ],
   "source": [
    "df"
   ]
  },
  {
   "cell_type": "code",
   "execution_count": 17,
   "id": "657408a776cdc2c",
   "metadata": {
    "ExecuteTime": {
     "end_time": "2024-09-01T15:22:53.952112Z",
     "start_time": "2024-09-01T15:22:53.946610Z"
    },
    "collapsed": false,
    "jupyter": {
     "outputs_hidden": false
    }
   },
   "outputs": [
    {
     "name": "stdout",
     "output_type": "stream",
     "text": [
      "Erythrocyte -> Megakaryocyte : [{'Fli1': True}, {'EKLF': False}]\n",
      "Erythrocyte -> Monocyte : [{'PU1': True}]\n",
      "Erythrocyte -> Granulocyte : [{'cJun': False, 'CEBPa': True}, {'Gfi1': True, 'CEBPa': True}, {'CEBPa': True, 'EgrNab': False}]\n",
      "Megakaryocyte -> Erythrocyte : [{'Fli1': False}, {'EKLF': True}]\n",
      "Megakaryocyte -> Monocyte : [{'PU1': True}]\n",
      "Megakaryocyte -> Granulocyte : [{'cJun': False, 'CEBPa': True}, {'CEBPa': True, 'Gfi1': True}, {'CEBPa': True, 'EgrNab': False}]\n",
      "Monocyte -> Erythrocyte : [{'Fli1': False, 'GATA1': True, 'PU1': False}, {'EKLF': True, 'GATA1': True, 'PU1': False}]\n",
      "Monocyte -> Megakaryocyte : [{'Fli1': True, 'PU1': False}]\n",
      "Monocyte -> Granulocyte : [{'cJun': False, 'CEBPa': True}, {'Gfi1': True, 'CEBPa': True}, {'CEBPa': True, 'EgrNab': False}]\n",
      "Granulocyte -> Erythrocyte : [{'PU1': False, 'Fli1': False, 'GATA1': True}, {'GATA1': True, 'EKLF': True, 'PU1': False}]\n",
      "Granulocyte -> Megakaryocyte : [{'PU1': False, 'Fli1': True}]\n",
      "Granulocyte -> Monocyte : [{'CEBPa': False}]\n"
     ]
    }
   ],
   "source": [
    "for _, r in df.iterrows():\n",
    "    print(r['source'], \"->\", r[\"target\"], ':', r['permanent'])"
   ]
  },
  {
   "cell_type": "markdown",
   "id": "72386675c6ad8d68",
   "metadata": {
    "collapsed": false,
    "jupyter": {
     "outputs_hidden": false
    }
   },
   "source": [
    "From this data, we can (manually) derive a following source-target diagram, showing all minimal source-target controls.\n",
    "\n",
    "![Source_target_controls](myeloid_source_target.png)"
   ]
  },
  {
   "cell_type": "code",
   "execution_count": 18,
   "id": "ba3e6537eb9844c2",
   "metadata": {
    "ExecuteTime": {
     "end_time": "2024-09-01T15:22:53.965776Z",
     "start_time": "2024-09-01T15:22:53.951961Z"
    },
    "collapsed": false,
    "jupyter": {
     "outputs_hidden": false
    }
   },
   "outputs": [],
   "source": [
    "df['min_onestep_size'] = df['onestep'].apply(lambda x: len(x[0]))\n",
    "df['min_onestep_options'] = df['onestep'].apply(lambda x: len(x))\n",
    "df['min_temporary_size'] = df['temporary'].apply(lambda x: len(x[0]))\n",
    "df['min_temporary_options'] = df['temporary'].apply(lambda x: len(x))\n",
    "df['min_permanent_size'] = df['permanent'].apply(lambda x: len(x[0]))\n",
    "df['min_permanent_options'] = df['permanent'].apply(lambda x: len(x))"
   ]
  },
  {
   "cell_type": "code",
   "execution_count": 19,
   "id": "6ff8cdacaf3a933e",
   "metadata": {
    "ExecuteTime": {
     "end_time": "2024-09-01T15:22:54.009119Z",
     "start_time": "2024-09-01T15:22:53.956172Z"
    },
    "collapsed": false,
    "jupyter": {
     "outputs_hidden": false
    }
   },
   "outputs": [
    {
     "data": {
      "text/html": [
       "<div>\n",
       "<style scoped>\n",
       "    .dataframe tbody tr th:only-of-type {\n",
       "        vertical-align: middle;\n",
       "    }\n",
       "\n",
       "    .dataframe tbody tr th {\n",
       "        vertical-align: top;\n",
       "    }\n",
       "\n",
       "    .dataframe thead th {\n",
       "        text-align: right;\n",
       "    }\n",
       "</style>\n",
       "<table border=\"1\" class=\"dataframe\">\n",
       "  <thead>\n",
       "    <tr style=\"text-align: right;\">\n",
       "      <th></th>\n",
       "      <th>source</th>\n",
       "      <th>target</th>\n",
       "      <th>min_onestep_size</th>\n",
       "      <th>min_onestep_options</th>\n",
       "      <th>min_temporary_size</th>\n",
       "      <th>min_temporary_options</th>\n",
       "      <th>min_permanent_size</th>\n",
       "      <th>min_permanent_options</th>\n",
       "    </tr>\n",
       "  </thead>\n",
       "  <tbody>\n",
       "    <tr>\n",
       "      <th>0</th>\n",
       "      <td>Erythrocyte</td>\n",
       "      <td>Megakaryocyte</td>\n",
       "      <td>2</td>\n",
       "      <td>1</td>\n",
       "      <td>1</td>\n",
       "      <td>2</td>\n",
       "      <td>1</td>\n",
       "      <td>2</td>\n",
       "    </tr>\n",
       "    <tr>\n",
       "      <th>1</th>\n",
       "      <td>Erythrocyte</td>\n",
       "      <td>Monocyte</td>\n",
       "      <td>1</td>\n",
       "      <td>1</td>\n",
       "      <td>1</td>\n",
       "      <td>1</td>\n",
       "      <td>1</td>\n",
       "      <td>1</td>\n",
       "    </tr>\n",
       "    <tr>\n",
       "      <th>2</th>\n",
       "      <td>Erythrocyte</td>\n",
       "      <td>Granulocyte</td>\n",
       "      <td>3</td>\n",
       "      <td>1</td>\n",
       "      <td>2</td>\n",
       "      <td>3</td>\n",
       "      <td>2</td>\n",
       "      <td>3</td>\n",
       "    </tr>\n",
       "    <tr>\n",
       "      <th>3</th>\n",
       "      <td>Megakaryocyte</td>\n",
       "      <td>Erythrocyte</td>\n",
       "      <td>2</td>\n",
       "      <td>1</td>\n",
       "      <td>1</td>\n",
       "      <td>2</td>\n",
       "      <td>1</td>\n",
       "      <td>2</td>\n",
       "    </tr>\n",
       "    <tr>\n",
       "      <th>4</th>\n",
       "      <td>Megakaryocyte</td>\n",
       "      <td>Monocyte</td>\n",
       "      <td>1</td>\n",
       "      <td>1</td>\n",
       "      <td>1</td>\n",
       "      <td>1</td>\n",
       "      <td>1</td>\n",
       "      <td>1</td>\n",
       "    </tr>\n",
       "    <tr>\n",
       "      <th>5</th>\n",
       "      <td>Megakaryocyte</td>\n",
       "      <td>Granulocyte</td>\n",
       "      <td>4</td>\n",
       "      <td>3</td>\n",
       "      <td>2</td>\n",
       "      <td>3</td>\n",
       "      <td>2</td>\n",
       "      <td>3</td>\n",
       "    </tr>\n",
       "    <tr>\n",
       "      <th>6</th>\n",
       "      <td>Monocyte</td>\n",
       "      <td>Erythrocyte</td>\n",
       "      <td>3</td>\n",
       "      <td>1</td>\n",
       "      <td>3</td>\n",
       "      <td>6</td>\n",
       "      <td>3</td>\n",
       "      <td>2</td>\n",
       "    </tr>\n",
       "    <tr>\n",
       "      <th>7</th>\n",
       "      <td>Monocyte</td>\n",
       "      <td>Megakaryocyte</td>\n",
       "      <td>3</td>\n",
       "      <td>1</td>\n",
       "      <td>2</td>\n",
       "      <td>1</td>\n",
       "      <td>2</td>\n",
       "      <td>1</td>\n",
       "    </tr>\n",
       "    <tr>\n",
       "      <th>8</th>\n",
       "      <td>Monocyte</td>\n",
       "      <td>Granulocyte</td>\n",
       "      <td>3</td>\n",
       "      <td>1</td>\n",
       "      <td>2</td>\n",
       "      <td>4</td>\n",
       "      <td>2</td>\n",
       "      <td>3</td>\n",
       "    </tr>\n",
       "    <tr>\n",
       "      <th>9</th>\n",
       "      <td>Granulocyte</td>\n",
       "      <td>Erythrocyte</td>\n",
       "      <td>4</td>\n",
       "      <td>1</td>\n",
       "      <td>3</td>\n",
       "      <td>6</td>\n",
       "      <td>3</td>\n",
       "      <td>2</td>\n",
       "    </tr>\n",
       "    <tr>\n",
       "      <th>10</th>\n",
       "      <td>Granulocyte</td>\n",
       "      <td>Megakaryocyte</td>\n",
       "      <td>4</td>\n",
       "      <td>1</td>\n",
       "      <td>2</td>\n",
       "      <td>1</td>\n",
       "      <td>2</td>\n",
       "      <td>1</td>\n",
       "    </tr>\n",
       "    <tr>\n",
       "      <th>11</th>\n",
       "      <td>Granulocyte</td>\n",
       "      <td>Monocyte</td>\n",
       "      <td>1</td>\n",
       "      <td>1</td>\n",
       "      <td>1</td>\n",
       "      <td>1</td>\n",
       "      <td>1</td>\n",
       "      <td>1</td>\n",
       "    </tr>\n",
       "  </tbody>\n",
       "</table>\n",
       "</div>"
      ],
      "text/plain": [
       "           source         target  min_onestep_size  min_onestep_options  \\\n",
       "0     Erythrocyte  Megakaryocyte                 2                    1   \n",
       "1     Erythrocyte       Monocyte                 1                    1   \n",
       "2     Erythrocyte    Granulocyte                 3                    1   \n",
       "3   Megakaryocyte    Erythrocyte                 2                    1   \n",
       "4   Megakaryocyte       Monocyte                 1                    1   \n",
       "5   Megakaryocyte    Granulocyte                 4                    3   \n",
       "6        Monocyte    Erythrocyte                 3                    1   \n",
       "7        Monocyte  Megakaryocyte                 3                    1   \n",
       "8        Monocyte    Granulocyte                 3                    1   \n",
       "9     Granulocyte    Erythrocyte                 4                    1   \n",
       "10    Granulocyte  Megakaryocyte                 4                    1   \n",
       "11    Granulocyte       Monocyte                 1                    1   \n",
       "\n",
       "    min_temporary_size  min_temporary_options  min_permanent_size  \\\n",
       "0                    1                      2                   1   \n",
       "1                    1                      1                   1   \n",
       "2                    2                      3                   2   \n",
       "3                    1                      2                   1   \n",
       "4                    1                      1                   1   \n",
       "5                    2                      3                   2   \n",
       "6                    3                      6                   3   \n",
       "7                    2                      1                   2   \n",
       "8                    2                      4                   2   \n",
       "9                    3                      6                   3   \n",
       "10                   2                      1                   2   \n",
       "11                   1                      1                   1   \n",
       "\n",
       "    min_permanent_options  \n",
       "0                       2  \n",
       "1                       1  \n",
       "2                       3  \n",
       "3                       2  \n",
       "4                       1  \n",
       "5                       3  \n",
       "6                       2  \n",
       "7                       1  \n",
       "8                       3  \n",
       "9                       2  \n",
       "10                      1  \n",
       "11                      1  "
      ]
     },
     "execution_count": 19,
     "metadata": {},
     "output_type": "execute_result"
    }
   ],
   "source": [
    "df.filter(regex='^(source|target|min_)')"
   ]
  },
  {
   "cell_type": "code",
   "execution_count": 20,
   "id": "d59e4afbb48c9154",
   "metadata": {
    "ExecuteTime": {
     "end_time": "2024-09-01T15:22:54.083942Z",
     "start_time": "2024-09-01T15:22:54.002988Z"
    },
    "collapsed": false,
    "jupyter": {
     "outputs_hidden": false
    }
   },
   "outputs": [],
   "source": [
    "# In a similar manner, we can compute phenotype control, even though this time, only target attractor\n",
    "# (or phenotype, but in this case we consider attractor to be phenotype) is known.\n",
    "\n",
    "df['phenotype'] = df['target'].apply(lambda t: pick_result(ba.Control.phenotype_permanent(\n",
    "    graph=pstg,\n",
    "    phenotype=all_atts[t],\n",
    "    oscillation_type=\"forbidden\",\n",
    "    size_limit=10,\n",
    "    stop_when_found=True\n",
    ")))"
   ]
  },
  {
   "cell_type": "code",
   "execution_count": 21,
   "id": "3a63fa0825ea5b5d",
   "metadata": {
    "ExecuteTime": {
     "end_time": "2024-09-01T15:22:54.087122Z",
     "start_time": "2024-09-01T15:22:54.073300Z"
    },
    "collapsed": false,
    "jupyter": {
     "outputs_hidden": false
    }
   },
   "outputs": [],
   "source": [
    "df['min_phenotype_size'] = df['phenotype'].apply(lambda x: len(x[0]))\n",
    "df['min_phenotype_options'] = df['phenotype'].apply(lambda x: len(x))"
   ]
  },
  {
   "cell_type": "code",
   "execution_count": 22,
   "id": "3eed11a720075285",
   "metadata": {
    "ExecuteTime": {
     "end_time": "2024-09-01T15:22:54.088130Z",
     "start_time": "2024-09-01T15:22:54.081388Z"
    },
    "collapsed": false,
    "jupyter": {
     "outputs_hidden": false
    }
   },
   "outputs": [
    {
     "data": {
      "text/html": [
       "<div>\n",
       "<style scoped>\n",
       "    .dataframe tbody tr th:only-of-type {\n",
       "        vertical-align: middle;\n",
       "    }\n",
       "\n",
       "    .dataframe tbody tr th {\n",
       "        vertical-align: top;\n",
       "    }\n",
       "\n",
       "    .dataframe thead th {\n",
       "        text-align: right;\n",
       "    }\n",
       "</style>\n",
       "<table border=\"1\" class=\"dataframe\">\n",
       "  <thead>\n",
       "    <tr style=\"text-align: right;\">\n",
       "      <th></th>\n",
       "      <th>source</th>\n",
       "      <th>target</th>\n",
       "      <th>min_onestep_size</th>\n",
       "      <th>min_onestep_options</th>\n",
       "      <th>min_temporary_size</th>\n",
       "      <th>min_temporary_options</th>\n",
       "      <th>min_permanent_size</th>\n",
       "      <th>min_permanent_options</th>\n",
       "      <th>min_phenotype_size</th>\n",
       "      <th>min_phenotype_options</th>\n",
       "    </tr>\n",
       "  </thead>\n",
       "  <tbody>\n",
       "    <tr>\n",
       "      <th>0</th>\n",
       "      <td>Erythrocyte</td>\n",
       "      <td>Megakaryocyte</td>\n",
       "      <td>2</td>\n",
       "      <td>1</td>\n",
       "      <td>1</td>\n",
       "      <td>2</td>\n",
       "      <td>1</td>\n",
       "      <td>2</td>\n",
       "      <td>2</td>\n",
       "      <td>1</td>\n",
       "    </tr>\n",
       "    <tr>\n",
       "      <th>1</th>\n",
       "      <td>Erythrocyte</td>\n",
       "      <td>Monocyte</td>\n",
       "      <td>1</td>\n",
       "      <td>1</td>\n",
       "      <td>1</td>\n",
       "      <td>1</td>\n",
       "      <td>1</td>\n",
       "      <td>1</td>\n",
       "      <td>2</td>\n",
       "      <td>1</td>\n",
       "    </tr>\n",
       "    <tr>\n",
       "      <th>2</th>\n",
       "      <td>Erythrocyte</td>\n",
       "      <td>Granulocyte</td>\n",
       "      <td>3</td>\n",
       "      <td>1</td>\n",
       "      <td>2</td>\n",
       "      <td>3</td>\n",
       "      <td>2</td>\n",
       "      <td>3</td>\n",
       "      <td>2</td>\n",
       "      <td>3</td>\n",
       "    </tr>\n",
       "    <tr>\n",
       "      <th>3</th>\n",
       "      <td>Megakaryocyte</td>\n",
       "      <td>Erythrocyte</td>\n",
       "      <td>2</td>\n",
       "      <td>1</td>\n",
       "      <td>1</td>\n",
       "      <td>2</td>\n",
       "      <td>1</td>\n",
       "      <td>2</td>\n",
       "      <td>3</td>\n",
       "      <td>2</td>\n",
       "    </tr>\n",
       "    <tr>\n",
       "      <th>4</th>\n",
       "      <td>Megakaryocyte</td>\n",
       "      <td>Monocyte</td>\n",
       "      <td>1</td>\n",
       "      <td>1</td>\n",
       "      <td>1</td>\n",
       "      <td>1</td>\n",
       "      <td>1</td>\n",
       "      <td>1</td>\n",
       "      <td>2</td>\n",
       "      <td>1</td>\n",
       "    </tr>\n",
       "    <tr>\n",
       "      <th>5</th>\n",
       "      <td>Megakaryocyte</td>\n",
       "      <td>Granulocyte</td>\n",
       "      <td>4</td>\n",
       "      <td>3</td>\n",
       "      <td>2</td>\n",
       "      <td>3</td>\n",
       "      <td>2</td>\n",
       "      <td>3</td>\n",
       "      <td>2</td>\n",
       "      <td>3</td>\n",
       "    </tr>\n",
       "    <tr>\n",
       "      <th>6</th>\n",
       "      <td>Monocyte</td>\n",
       "      <td>Erythrocyte</td>\n",
       "      <td>3</td>\n",
       "      <td>1</td>\n",
       "      <td>3</td>\n",
       "      <td>6</td>\n",
       "      <td>3</td>\n",
       "      <td>2</td>\n",
       "      <td>3</td>\n",
       "      <td>2</td>\n",
       "    </tr>\n",
       "    <tr>\n",
       "      <th>7</th>\n",
       "      <td>Monocyte</td>\n",
       "      <td>Megakaryocyte</td>\n",
       "      <td>3</td>\n",
       "      <td>1</td>\n",
       "      <td>2</td>\n",
       "      <td>1</td>\n",
       "      <td>2</td>\n",
       "      <td>1</td>\n",
       "      <td>2</td>\n",
       "      <td>1</td>\n",
       "    </tr>\n",
       "    <tr>\n",
       "      <th>8</th>\n",
       "      <td>Monocyte</td>\n",
       "      <td>Granulocyte</td>\n",
       "      <td>3</td>\n",
       "      <td>1</td>\n",
       "      <td>2</td>\n",
       "      <td>4</td>\n",
       "      <td>2</td>\n",
       "      <td>3</td>\n",
       "      <td>2</td>\n",
       "      <td>3</td>\n",
       "    </tr>\n",
       "    <tr>\n",
       "      <th>9</th>\n",
       "      <td>Granulocyte</td>\n",
       "      <td>Erythrocyte</td>\n",
       "      <td>4</td>\n",
       "      <td>1</td>\n",
       "      <td>3</td>\n",
       "      <td>6</td>\n",
       "      <td>3</td>\n",
       "      <td>2</td>\n",
       "      <td>3</td>\n",
       "      <td>2</td>\n",
       "    </tr>\n",
       "    <tr>\n",
       "      <th>10</th>\n",
       "      <td>Granulocyte</td>\n",
       "      <td>Megakaryocyte</td>\n",
       "      <td>4</td>\n",
       "      <td>1</td>\n",
       "      <td>2</td>\n",
       "      <td>1</td>\n",
       "      <td>2</td>\n",
       "      <td>1</td>\n",
       "      <td>2</td>\n",
       "      <td>1</td>\n",
       "    </tr>\n",
       "    <tr>\n",
       "      <th>11</th>\n",
       "      <td>Granulocyte</td>\n",
       "      <td>Monocyte</td>\n",
       "      <td>1</td>\n",
       "      <td>1</td>\n",
       "      <td>1</td>\n",
       "      <td>1</td>\n",
       "      <td>1</td>\n",
       "      <td>1</td>\n",
       "      <td>2</td>\n",
       "      <td>1</td>\n",
       "    </tr>\n",
       "  </tbody>\n",
       "</table>\n",
       "</div>"
      ],
      "text/plain": [
       "           source         target  min_onestep_size  min_onestep_options  \\\n",
       "0     Erythrocyte  Megakaryocyte                 2                    1   \n",
       "1     Erythrocyte       Monocyte                 1                    1   \n",
       "2     Erythrocyte    Granulocyte                 3                    1   \n",
       "3   Megakaryocyte    Erythrocyte                 2                    1   \n",
       "4   Megakaryocyte       Monocyte                 1                    1   \n",
       "5   Megakaryocyte    Granulocyte                 4                    3   \n",
       "6        Monocyte    Erythrocyte                 3                    1   \n",
       "7        Monocyte  Megakaryocyte                 3                    1   \n",
       "8        Monocyte    Granulocyte                 3                    1   \n",
       "9     Granulocyte    Erythrocyte                 4                    1   \n",
       "10    Granulocyte  Megakaryocyte                 4                    1   \n",
       "11    Granulocyte       Monocyte                 1                    1   \n",
       "\n",
       "    min_temporary_size  min_temporary_options  min_permanent_size  \\\n",
       "0                    1                      2                   1   \n",
       "1                    1                      1                   1   \n",
       "2                    2                      3                   2   \n",
       "3                    1                      2                   1   \n",
       "4                    1                      1                   1   \n",
       "5                    2                      3                   2   \n",
       "6                    3                      6                   3   \n",
       "7                    2                      1                   2   \n",
       "8                    2                      4                   2   \n",
       "9                    3                      6                   3   \n",
       "10                   2                      1                   2   \n",
       "11                   1                      1                   1   \n",
       "\n",
       "    min_permanent_options  min_phenotype_size  min_phenotype_options  \n",
       "0                       2                   2                      1  \n",
       "1                       1                   2                      1  \n",
       "2                       3                   2                      3  \n",
       "3                       2                   3                      2  \n",
       "4                       1                   2                      1  \n",
       "5                       3                   2                      3  \n",
       "6                       2                   3                      2  \n",
       "7                       1                   2                      1  \n",
       "8                       3                   2                      3  \n",
       "9                       2                   3                      2  \n",
       "10                      1                   2                      1  \n",
       "11                      1                   2                      1  "
      ]
     },
     "execution_count": 22,
     "metadata": {},
     "output_type": "execute_result"
    }
   ],
   "source": [
    "df.filter(regex='^(source|target|min_)')"
   ]
  },
  {
   "cell_type": "markdown",
   "id": "fa89267c86134af8",
   "metadata": {
    "collapsed": false,
    "jupyter": {
     "outputs_hidden": false
    }
   },
   "source": [
    "We can use the phenotype control results to compare whether they are in align with phenotype branching observed in the source of the model"
   ]
  },
  {
   "cell_type": "code",
   "execution_count": 23,
   "id": "4f62a27affb31f06",
   "metadata": {
    "ExecuteTime": {
     "end_time": "2024-09-01T15:22:54.091240Z",
     "start_time": "2024-09-01T15:22:54.083736Z"
    },
    "collapsed": false,
    "jupyter": {
     "outputs_hidden": false
    }
   },
   "outputs": [
    {
     "name": "stdout",
     "output_type": "stream",
     "text": [
      "Erythrocyte [{'Fli1': False, 'GATA1': True, 'PU1': False}, {'PU1': False, 'GATA1': True, 'EKLF': True}]\n",
      "Megakaryocyte [{'Fli1': True, 'PU1': False}]\n",
      "Monocyte [{'CEBPa': False, 'PU1': True}]\n",
      "Granulocyte [{'cJun': False, 'CEBPa': True}, {'Gfi1': True, 'CEBPa': True}, {'EgrNab': False, 'CEBPa': True}]\n"
     ]
    }
   ],
   "source": [
    "for a in all_atts.keys():\n",
    "    pd_select = df.loc[df['target'] == a, 'phenotype'].iloc[0]\n",
    "    print(a, pd_select)"
   ]
  },
  {
   "cell_type": "markdown",
   "id": "d053b4dc01f053f9",
   "metadata": {
    "collapsed": false,
    "jupyter": {
     "outputs_hidden": false
    }
   },
   "source": [
    "We can also compare the results with the original study\n",
    "\n",
    "![image](myeloid_phenotype.png)\n",
    "![image](phenotypes.png)\n"
   ]
  },
  {
   "cell_type": "markdown",
   "id": "2499343d058927f3",
   "metadata": {
    "collapsed": false,
    "jupyter": {
     "outputs_hidden": false
    }
   },
   "source": [
    "We can see that the results are consistent, because:\n",
    "\n",
    "- Phenotype control is very similar to the original study. Since study does not assume all initial states, the control is slightly different and there are some extra variables to control (i.e. min phenotype controls with size greater than 2) but they are not in contradiction with the results. \n",
    "- There are some extra possible ways for the phenotype control, esp. negation of the last branch\n",
    "- Phenotype control is for most of the cases is a super set of the source-targets control. No source-target control is in a contradiction with the phenotype control.\n",
    "    - This shows that if we know the source and specific target in advance, we can further minimize the size of the control"
   ]
  },
  {
   "cell_type": "markdown",
   "id": "ecdd1de8bf44f49d",
   "metadata": {
    "collapsed": false,
    "jupyter": {
     "outputs_hidden": false
    }
   },
   "source": [
    "## Everything below is just WIP\n",
    "\n",
    "Now let's imagine, that some functions of the original model are unknown\n",
    "\n",
    "![image](unknowns.png)"
   ]
  },
  {
   "cell_type": "code",
   "execution_count": 24,
   "id": "f7c8237823b3721a",
   "metadata": {
    "ExecuteTime": {
     "end_time": "2024-09-01T15:22:54.158092Z",
     "start_time": "2024-09-01T15:22:54.138517Z"
    },
    "collapsed": false,
    "jupyter": {
     "outputs_hidden": false
    }
   },
   "outputs": [],
   "source": [
    "# Load the model and create a Perturbation Graph\n",
    "\n",
    "model_unknown = ba.BooleanNetwork.from_file('myeloid_3unknown.aeon')\n",
    "pstg_unknown = ba.AsynchronousPerturbationGraph(model_unknown)"
   ]
  },
  {
   "cell_type": "code",
   "execution_count": 25,
   "id": "65b4a118960ff54c",
   "metadata": {
    "ExecuteTime": {
     "end_time": "2024-09-01T15:22:54.205583Z",
     "start_time": "2024-09-01T15:22:54.140998Z"
    },
    "collapsed": false,
    "jupyter": {
     "outputs_hidden": false
    }
   },
   "outputs": [
    {
     "data": {
      "text/plain": [
       "2963088"
      ]
     },
     "execution_count": 25,
     "metadata": {},
     "output_type": "execute_result"
    }
   ],
   "source": [
    "# From the original graph, we can see how many colours there are (perturbed contains extra colors representing perturbations)\n",
    "\n",
    "ba.AsynchronousGraph(model_unknown).mk_unit_colors()\n",
    "CARDINALITY = ba.AsynchronousGraph(model_unknown).mk_unit_colors().cardinality()\n",
    "CARDINALITY"
   ]
  },
  {
   "cell_type": "code",
   "execution_count": 26,
   "id": "e95278c1beaf415d",
   "metadata": {
    "ExecuteTime": {
     "end_time": "2024-09-01T15:22:55.791317Z",
     "start_time": "2024-09-01T15:22:54.189351Z"
    },
    "collapsed": false,
    "jupyter": {
     "outputs_hidden": false
    }
   },
   "outputs": [
    {
     "name": "stdout",
     "output_type": "stream",
     "text": [
      "Erythrocyte attractor states: 4\n",
      "Megakaryocyte attractor states: 122\n",
      "Monocyte attractor states: 8\n",
      "Granulocyte attractor states: 73\n"
     ]
    }
   ],
   "source": [
    "# Find attractors representing the four possible phenotypes\n",
    "\n",
    "erythrocyte = pstg_unknown.mk_subspace({ \"EKLF\": True })\n",
    "erythrocyte_attractors = ba.Attractors.attractors(pstg_unknown, erythrocyte)\n",
    "erythrocyte_att = reduce(lambda x, y: x.union(y), erythrocyte_attractors).vertices()\n",
    "print(f'Erythrocyte attractor states: {erythrocyte_att.cardinality()}')\n",
    "\n",
    "megakaryocyte = pstg_unknown.mk_subspace({ \"Fli1\": True })\n",
    "megakaryocyte_attractors = ba.Attractors.attractors(pstg_unknown, megakaryocyte)\n",
    "megakaryocyte_att = reduce(lambda x, y: x.union(y), megakaryocyte_attractors).vertices()\n",
    "print(f'Megakaryocyte attractor states: {megakaryocyte_att.cardinality()}')\n",
    "\n",
    "monocyte = pstg_unknown.mk_subspace({ \"cJun\": True })\n",
    "monocyte_attractors = ba.Attractors.attractors(pstg_unknown, monocyte)\n",
    "monocyte_att = reduce(lambda x, y: x.union(y), monocyte_attractors).vertices()\n",
    "print(f'Monocyte attractor states: {monocyte_att.cardinality()}')\n",
    "\n",
    "granulocyte = pstg_unknown.mk_subspace({ \"Gfi1\": True })\n",
    "granulocyte_attractors = ba.Attractors.attractors(pstg_unknown, granulocyte)\n",
    "granulocyte_att = reduce(lambda x, y: x.union(y), granulocyte_attractors).vertices()\n",
    "print(f'Granulocyte attractor states: {granulocyte_att.cardinality()}')"
   ]
  },
  {
   "cell_type": "code",
   "execution_count": 27,
   "id": "705bbeb0a7fd71f5",
   "metadata": {
    "ExecuteTime": {
     "end_time": "2024-09-01T15:23:17.589740Z",
     "start_time": "2024-09-01T15:23:17.580858Z"
    },
    "collapsed": false,
    "jupyter": {
     "outputs_hidden": false
    }
   },
   "outputs": [
    {
     "name": "stdout",
     "output_type": "stream",
     "text": [
      "[1, 1, 1, 1, 1, 1]\n",
      "[11, 318, 84, 58, 14, 14, 11, 10, 6, 5, 4, 3, 1]\n",
      "Class [\"stability\", \"stability\", \"stability\", \"stability\", \"stability\", \"stability\", \"stability\", \"stability\", \"stability\", \"stability\"] has 10 attractors and 59793408 networks.\n",
      "Class [\"stability\", \"stability\", \"stability\", \"stability\", \"stability\", \"stability\", \"stability\", \"stability\"] has 8 attractors and 461715456 networks.\n",
      "Class [\"disorder\", \"stability\"] has 2 attractors and 811008 networks.\n",
      "Class [\"stability\"] has 1 attractors and 56125440 networks.\n",
      "Class [\"disorder\", \"stability\", \"stability\"] has 3 attractors and 2433024 networks.\n",
      "Class [\"stability\", \"stability\"] has 2 attractors and 226566144 networks.\n",
      "Class [\"stability\", \"stability\", \"stability\", \"stability\", \"stability\", \"stability\", \"stability\", \"stability\", \"stability\", \"stability\", \"stability\", \"stability\"] has 12 attractors and 16404480 networks.\n",
      "Class [\"stability\", \"stability\", \"stability\"] has 3 attractors and 875741184 networks.\n",
      "Class [\"stability\", \"stability\", \"stability\", \"stability\", \"stability\", \"stability\", \"stability\", \"stability\", \"stability\"] has 9 attractors and 17903616 networks.\n",
      "Class [\"stability\", \"stability\", \"stability\", \"stability\", \"stability\", \"stability\"] has 6 attractors and 1738266624 networks.\n",
      "Class [\"stability\", \"stability\", \"stability\", \"stability\"] has 4 attractors and 1756760064 networks.\n",
      "Class [\"stability\", \"stability\", \"stability\", \"stability\", \"stability\"] has 5 attractors and 737716224 networks.\n",
      "Class [\"stability\", \"stability\", \"stability\", \"stability\", \"stability\", \"stability\", \"stability\", \"stability\", \"stability\", \"stability\", \"stability\"] has 11 attractors and 921600 networks.\n",
      "Class [\"stability\", \"stability\", \"stability\", \"stability\", \"stability\", \"stability\", \"stability\"] has 7 attractors and 116987904 networks.\n",
      "Class [\"stability\", \"stability\", \"stability\", \"stability\", \"stability\", \"stability\", \"stability\", \"stability\", \"stability\", \"stability\", \"stability\", \"stability\", \"stability\"] has 13 attractors and 258048 networks.\n"
     ]
    }
   ],
   "source": [
    "# The original model has 6 fixed-point attractors.\n",
    "attractors = ba.Attractors.attractors(pstg)\n",
    "attractors = [ a.vertices().cardinality() for a in attractors ]\n",
    "print(attractors)\n",
    "\n",
    "# In the partially specified model, the attractors are much more varied.\n",
    "attractors = ba.Attractors.attractors(pstg_unknown)\n",
    "attractor_sizes = [ a.vertices().cardinality() for a in attractors ]\n",
    "print(attractor_sizes)\n",
    "\n",
    "# As we can see below, in most cases, the model has only fixed-point attractors \n",
    "# (from 2 to 13), but it can also exhibit a single disordered attractor.\n",
    "classes = ba.Classification.classify_attractor_bifurcation(pstg_unknown, attractors)\n",
    "for (cls, colors) in classes.items():\n",
    "    print(f\"Class {cls} has {len(cls.feature_list())} attractors and {colors.cardinality()} networks.\")\n",
    "\n",
    "# Note that in the list of sizes above, we don't see sets of size 1, since AEON will \"group\" multiple\n",
    "# fixed-points into a single set, as long as they appear in different network interpretations.\n",
    "# So a set with 10 vertices can contain 10 distinct fixed-points, a disordered attractor or\n",
    "# anything in-between, as long as the vertices are associated with a correct color (network interpretation)."
   ]
  },
  {
   "cell_type": "code",
   "execution_count": 28,
   "id": "ee72658ed1ee4e83",
   "metadata": {
    "ExecuteTime": {
     "end_time": "2024-08-31T17:52:03.349308Z",
     "start_time": "2024-08-31T17:52:03.343619Z"
    },
    "collapsed": false,
    "jupyter": {
     "outputs_hidden": false
    }
   },
   "outputs": [],
   "source": [
    "# erythrocyte = pstg_unknown.mk_subspace_vertices({'Gfi1': False, 'EKLF': True, 'FOG1': True, 'GATA2': False, 'PU1': False, 'GATA1': True, 'SCL': True, 'cJun': False, 'Fli1': False, 'CEBPa': False, 'EgrNab': False})\n",
    "# \n",
    "# megakaryocyte = pstg_unknown.mk_subspace_vertices(({'CEBPa': False,'EKLF': False,'EgrNab': False,'FOG1': True,'Fli1': True,'GATA1': True,'GATA2': False,'Gfi1': False,'PU1': False,'SCL': True,'cJun': False}))\n",
    "# \n",
    "# monocyte = pstg_unknown.mk_subspace_vertices({'CEBPa': False,'EKLF': False,'EgrNab': True,'FOG1': False,'Fli1': False,'GATA1': False,'GATA2': False,'Gfi1': False,'PU1': True,'SCL': False,'cJun': True})\n",
    "# \n",
    "# granulocyte = pstg_unknown.mk_subspace_vertices({'CEBPa': True,'EKLF': False,'EgrNab': False,'FOG1': False,'Fli1': False,'GATA1': False,'GATA2': False,'Gfi1': True,'PU1': True,'SCL': False,'cJun': False})\n",
    "# \n",
    "# all_atts = {\n",
    "#     \"Erythrocyte\": erythrocyte_att,\n",
    "#     \"Megakaryocyte\": megakaryocyte_att,\n",
    "#     \"Monocyte\": monocyte_att,\n",
    "#     \"Granulocyte\": granulocyte_att\n",
    "# }\n",
    "# \n",
    "# # Generate al pair possibilities for computing the source-target control\n",
    "# all_att_pairs = [(s,t) for s in all_atts.keys() for t in all_atts.keys() if s != t]"
   ]
  },
  {
   "cell_type": "code",
   "execution_count": 29,
   "id": "e501b574a8792453",
   "metadata": {
    "ExecuteTime": {
     "end_time": "2024-08-31T17:52:03.385682Z",
     "start_time": "2024-08-31T17:52:03.345892Z"
    },
    "collapsed": false,
    "jupyter": {
     "outputs_hidden": false
    }
   },
   "outputs": [
    {
     "data": {
      "text/html": [
       "<div>\n",
       "<style scoped>\n",
       "    .dataframe tbody tr th:only-of-type {\n",
       "        vertical-align: middle;\n",
       "    }\n",
       "\n",
       "    .dataframe tbody tr th {\n",
       "        vertical-align: top;\n",
       "    }\n",
       "\n",
       "    .dataframe thead th {\n",
       "        text-align: right;\n",
       "    }\n",
       "</style>\n",
       "<table border=\"1\" class=\"dataframe\">\n",
       "  <thead>\n",
       "    <tr style=\"text-align: right;\">\n",
       "      <th></th>\n",
       "      <th>source</th>\n",
       "      <th>target</th>\n",
       "      <th>onestep</th>\n",
       "      <th>temporary</th>\n",
       "      <th>permanent</th>\n",
       "      <th>min_onestep_size</th>\n",
       "      <th>min_onestep_options</th>\n",
       "      <th>min_temporary_size</th>\n",
       "      <th>min_temporary_options</th>\n",
       "      <th>min_permanent_size</th>\n",
       "      <th>min_permanent_options</th>\n",
       "      <th>phenotype</th>\n",
       "      <th>min_phenotype_size</th>\n",
       "      <th>min_phenotype_options</th>\n",
       "    </tr>\n",
       "  </thead>\n",
       "  <tbody>\n",
       "    <tr>\n",
       "      <th>0</th>\n",
       "      <td>Erythrocyte</td>\n",
       "      <td>Megakaryocyte</td>\n",
       "      <td>[{'EKLF': False, 'Fli1': True}]</td>\n",
       "      <td>[{'Fli1': True}, {'EKLF': False}]</td>\n",
       "      <td>[{'Fli1': True}, {'EKLF': False}]</td>\n",
       "      <td>2</td>\n",
       "      <td>1</td>\n",
       "      <td>1</td>\n",
       "      <td>2</td>\n",
       "      <td>1</td>\n",
       "      <td>2</td>\n",
       "      <td>[{'Fli1': True, 'PU1': False}]</td>\n",
       "      <td>2</td>\n",
       "      <td>1</td>\n",
       "    </tr>\n",
       "    <tr>\n",
       "      <th>1</th>\n",
       "      <td>Erythrocyte</td>\n",
       "      <td>Monocyte</td>\n",
       "      <td>[{'PU1': True}]</td>\n",
       "      <td>[{'PU1': True}]</td>\n",
       "      <td>[{'PU1': True}]</td>\n",
       "      <td>1</td>\n",
       "      <td>1</td>\n",
       "      <td>1</td>\n",
       "      <td>1</td>\n",
       "      <td>1</td>\n",
       "      <td>1</td>\n",
       "      <td>[{'CEBPa': False, 'PU1': True}]</td>\n",
       "      <td>2</td>\n",
       "      <td>1</td>\n",
       "    </tr>\n",
       "    <tr>\n",
       "      <th>2</th>\n",
       "      <td>Erythrocyte</td>\n",
       "      <td>Granulocyte</td>\n",
       "      <td>[{'Gfi1': True, 'CEBPa': True, 'GATA1': False}]</td>\n",
       "      <td>[{'CEBPa': True, 'cJun': False}, {'Gfi1': True...</td>\n",
       "      <td>[{'cJun': False, 'CEBPa': True}, {'Gfi1': True...</td>\n",
       "      <td>3</td>\n",
       "      <td>1</td>\n",
       "      <td>2</td>\n",
       "      <td>3</td>\n",
       "      <td>2</td>\n",
       "      <td>3</td>\n",
       "      <td>[{'cJun': False, 'CEBPa': True}, {'Gfi1': True...</td>\n",
       "      <td>2</td>\n",
       "      <td>3</td>\n",
       "    </tr>\n",
       "    <tr>\n",
       "      <th>3</th>\n",
       "      <td>Megakaryocyte</td>\n",
       "      <td>Erythrocyte</td>\n",
       "      <td>[{'EKLF': True, 'Fli1': False}]</td>\n",
       "      <td>[{'Fli1': False}, {'EKLF': True}]</td>\n",
       "      <td>[{'Fli1': False}, {'EKLF': True}]</td>\n",
       "      <td>2</td>\n",
       "      <td>1</td>\n",
       "      <td>1</td>\n",
       "      <td>2</td>\n",
       "      <td>1</td>\n",
       "      <td>2</td>\n",
       "      <td>[{'Fli1': False, 'GATA1': True, 'PU1': False},...</td>\n",
       "      <td>3</td>\n",
       "      <td>2</td>\n",
       "    </tr>\n",
       "    <tr>\n",
       "      <th>4</th>\n",
       "      <td>Megakaryocyte</td>\n",
       "      <td>Monocyte</td>\n",
       "      <td>[{'PU1': True}]</td>\n",
       "      <td>[{'PU1': True}]</td>\n",
       "      <td>[{'PU1': True}]</td>\n",
       "      <td>1</td>\n",
       "      <td>1</td>\n",
       "      <td>1</td>\n",
       "      <td>1</td>\n",
       "      <td>1</td>\n",
       "      <td>1</td>\n",
       "      <td>[{'CEBPa': False, 'PU1': True}]</td>\n",
       "      <td>2</td>\n",
       "      <td>1</td>\n",
       "    </tr>\n",
       "    <tr>\n",
       "      <th>5</th>\n",
       "      <td>Megakaryocyte</td>\n",
       "      <td>Granulocyte</td>\n",
       "      <td>[{'CEBPa': True, 'Gfi1': True, 'SCL': False, '...</td>\n",
       "      <td>[{'cJun': False, 'CEBPa': True}, {'CEBPa': Tru...</td>\n",
       "      <td>[{'cJun': False, 'CEBPa': True}, {'CEBPa': Tru...</td>\n",
       "      <td>4</td>\n",
       "      <td>3</td>\n",
       "      <td>2</td>\n",
       "      <td>3</td>\n",
       "      <td>2</td>\n",
       "      <td>3</td>\n",
       "      <td>[{'cJun': False, 'CEBPa': True}, {'CEBPa': Tru...</td>\n",
       "      <td>2</td>\n",
       "      <td>3</td>\n",
       "    </tr>\n",
       "    <tr>\n",
       "      <th>6</th>\n",
       "      <td>Monocyte</td>\n",
       "      <td>Erythrocyte</td>\n",
       "      <td>[{'EKLF': True, 'GATA1': True, 'PU1': False}]</td>\n",
       "      <td>[{'Fli1': False, 'GATA2': True, 'PU1': False},...</td>\n",
       "      <td>[{'Fli1': False, 'GATA1': True, 'PU1': False},...</td>\n",
       "      <td>3</td>\n",
       "      <td>1</td>\n",
       "      <td>3</td>\n",
       "      <td>6</td>\n",
       "      <td>3</td>\n",
       "      <td>2</td>\n",
       "      <td>[{'PU1': False, 'Fli1': False, 'GATA1': True},...</td>\n",
       "      <td>3</td>\n",
       "      <td>2</td>\n",
       "    </tr>\n",
       "    <tr>\n",
       "      <th>7</th>\n",
       "      <td>Monocyte</td>\n",
       "      <td>Megakaryocyte</td>\n",
       "      <td>[{'GATA1': True, 'Fli1': True, 'PU1': False}]</td>\n",
       "      <td>[{'Fli1': True, 'PU1': False}]</td>\n",
       "      <td>[{'Fli1': True, 'PU1': False}]</td>\n",
       "      <td>3</td>\n",
       "      <td>1</td>\n",
       "      <td>2</td>\n",
       "      <td>1</td>\n",
       "      <td>2</td>\n",
       "      <td>1</td>\n",
       "      <td>[{'Fli1': True, 'PU1': False}]</td>\n",
       "      <td>2</td>\n",
       "      <td>1</td>\n",
       "    </tr>\n",
       "    <tr>\n",
       "      <th>8</th>\n",
       "      <td>Monocyte</td>\n",
       "      <td>Granulocyte</td>\n",
       "      <td>[{'EgrNab': False, 'Gfi1': True, 'CEBPa': True}]</td>\n",
       "      <td>[{'CEBPa': True, 'cJun': False}, {'PU1': False...</td>\n",
       "      <td>[{'cJun': False, 'CEBPa': True}, {'Gfi1': True...</td>\n",
       "      <td>3</td>\n",
       "      <td>1</td>\n",
       "      <td>2</td>\n",
       "      <td>4</td>\n",
       "      <td>2</td>\n",
       "      <td>3</td>\n",
       "      <td>[{'CEBPa': True, 'cJun': False}, {'Gfi1': True...</td>\n",
       "      <td>2</td>\n",
       "      <td>3</td>\n",
       "    </tr>\n",
       "    <tr>\n",
       "      <th>9</th>\n",
       "      <td>Granulocyte</td>\n",
       "      <td>Erythrocyte</td>\n",
       "      <td>[{'EKLF': True, 'CEBPa': False, 'GATA1': True,...</td>\n",
       "      <td>[{'Fli1': False, 'GATA2': True, 'PU1': False},...</td>\n",
       "      <td>[{'PU1': False, 'Fli1': False, 'GATA1': True},...</td>\n",
       "      <td>4</td>\n",
       "      <td>1</td>\n",
       "      <td>3</td>\n",
       "      <td>6</td>\n",
       "      <td>3</td>\n",
       "      <td>2</td>\n",
       "      <td>[{'PU1': False, 'Fli1': False, 'GATA1': True},...</td>\n",
       "      <td>3</td>\n",
       "      <td>2</td>\n",
       "    </tr>\n",
       "    <tr>\n",
       "      <th>10</th>\n",
       "      <td>Granulocyte</td>\n",
       "      <td>Megakaryocyte</td>\n",
       "      <td>[{'Fli1': True, 'CEBPa': False, 'PU1': False, ...</td>\n",
       "      <td>[{'Fli1': True, 'PU1': False}]</td>\n",
       "      <td>[{'PU1': False, 'Fli1': True}]</td>\n",
       "      <td>4</td>\n",
       "      <td>1</td>\n",
       "      <td>2</td>\n",
       "      <td>1</td>\n",
       "      <td>2</td>\n",
       "      <td>1</td>\n",
       "      <td>[{'Fli1': True, 'PU1': False}]</td>\n",
       "      <td>2</td>\n",
       "      <td>1</td>\n",
       "    </tr>\n",
       "    <tr>\n",
       "      <th>11</th>\n",
       "      <td>Granulocyte</td>\n",
       "      <td>Monocyte</td>\n",
       "      <td>[{'CEBPa': False}]</td>\n",
       "      <td>[{'CEBPa': False}]</td>\n",
       "      <td>[{'CEBPa': False}]</td>\n",
       "      <td>1</td>\n",
       "      <td>1</td>\n",
       "      <td>1</td>\n",
       "      <td>1</td>\n",
       "      <td>1</td>\n",
       "      <td>1</td>\n",
       "      <td>[{'CEBPa': False, 'PU1': True}]</td>\n",
       "      <td>2</td>\n",
       "      <td>1</td>\n",
       "    </tr>\n",
       "  </tbody>\n",
       "</table>\n",
       "</div>"
      ],
      "text/plain": [
       "           source         target  \\\n",
       "0     Erythrocyte  Megakaryocyte   \n",
       "1     Erythrocyte       Monocyte   \n",
       "2     Erythrocyte    Granulocyte   \n",
       "3   Megakaryocyte    Erythrocyte   \n",
       "4   Megakaryocyte       Monocyte   \n",
       "5   Megakaryocyte    Granulocyte   \n",
       "6        Monocyte    Erythrocyte   \n",
       "7        Monocyte  Megakaryocyte   \n",
       "8        Monocyte    Granulocyte   \n",
       "9     Granulocyte    Erythrocyte   \n",
       "10    Granulocyte  Megakaryocyte   \n",
       "11    Granulocyte       Monocyte   \n",
       "\n",
       "                                              onestep  \\\n",
       "0                     [{'EKLF': False, 'Fli1': True}]   \n",
       "1                                     [{'PU1': True}]   \n",
       "2     [{'Gfi1': True, 'CEBPa': True, 'GATA1': False}]   \n",
       "3                     [{'EKLF': True, 'Fli1': False}]   \n",
       "4                                     [{'PU1': True}]   \n",
       "5   [{'CEBPa': True, 'Gfi1': True, 'SCL': False, '...   \n",
       "6       [{'EKLF': True, 'GATA1': True, 'PU1': False}]   \n",
       "7       [{'GATA1': True, 'Fli1': True, 'PU1': False}]   \n",
       "8    [{'EgrNab': False, 'Gfi1': True, 'CEBPa': True}]   \n",
       "9   [{'EKLF': True, 'CEBPa': False, 'GATA1': True,...   \n",
       "10  [{'Fli1': True, 'CEBPa': False, 'PU1': False, ...   \n",
       "11                                 [{'CEBPa': False}]   \n",
       "\n",
       "                                            temporary  \\\n",
       "0                   [{'Fli1': True}, {'EKLF': False}]   \n",
       "1                                     [{'PU1': True}]   \n",
       "2   [{'CEBPa': True, 'cJun': False}, {'Gfi1': True...   \n",
       "3                   [{'Fli1': False}, {'EKLF': True}]   \n",
       "4                                     [{'PU1': True}]   \n",
       "5   [{'cJun': False, 'CEBPa': True}, {'CEBPa': Tru...   \n",
       "6   [{'Fli1': False, 'GATA2': True, 'PU1': False},...   \n",
       "7                      [{'Fli1': True, 'PU1': False}]   \n",
       "8   [{'CEBPa': True, 'cJun': False}, {'PU1': False...   \n",
       "9   [{'Fli1': False, 'GATA2': True, 'PU1': False},...   \n",
       "10                     [{'Fli1': True, 'PU1': False}]   \n",
       "11                                 [{'CEBPa': False}]   \n",
       "\n",
       "                                            permanent  min_onestep_size  \\\n",
       "0                   [{'Fli1': True}, {'EKLF': False}]                 2   \n",
       "1                                     [{'PU1': True}]                 1   \n",
       "2   [{'cJun': False, 'CEBPa': True}, {'Gfi1': True...                 3   \n",
       "3                   [{'Fli1': False}, {'EKLF': True}]                 2   \n",
       "4                                     [{'PU1': True}]                 1   \n",
       "5   [{'cJun': False, 'CEBPa': True}, {'CEBPa': Tru...                 4   \n",
       "6   [{'Fli1': False, 'GATA1': True, 'PU1': False},...                 3   \n",
       "7                      [{'Fli1': True, 'PU1': False}]                 3   \n",
       "8   [{'cJun': False, 'CEBPa': True}, {'Gfi1': True...                 3   \n",
       "9   [{'PU1': False, 'Fli1': False, 'GATA1': True},...                 4   \n",
       "10                     [{'PU1': False, 'Fli1': True}]                 4   \n",
       "11                                 [{'CEBPa': False}]                 1   \n",
       "\n",
       "    min_onestep_options  min_temporary_size  min_temporary_options  \\\n",
       "0                     1                   1                      2   \n",
       "1                     1                   1                      1   \n",
       "2                     1                   2                      3   \n",
       "3                     1                   1                      2   \n",
       "4                     1                   1                      1   \n",
       "5                     3                   2                      3   \n",
       "6                     1                   3                      6   \n",
       "7                     1                   2                      1   \n",
       "8                     1                   2                      4   \n",
       "9                     1                   3                      6   \n",
       "10                    1                   2                      1   \n",
       "11                    1                   1                      1   \n",
       "\n",
       "    min_permanent_size  min_permanent_options  \\\n",
       "0                    1                      2   \n",
       "1                    1                      1   \n",
       "2                    2                      3   \n",
       "3                    1                      2   \n",
       "4                    1                      1   \n",
       "5                    2                      3   \n",
       "6                    3                      2   \n",
       "7                    2                      1   \n",
       "8                    2                      3   \n",
       "9                    3                      2   \n",
       "10                   2                      1   \n",
       "11                   1                      1   \n",
       "\n",
       "                                            phenotype  min_phenotype_size  \\\n",
       "0                      [{'Fli1': True, 'PU1': False}]                   2   \n",
       "1                     [{'CEBPa': False, 'PU1': True}]                   2   \n",
       "2   [{'cJun': False, 'CEBPa': True}, {'Gfi1': True...                   2   \n",
       "3   [{'Fli1': False, 'GATA1': True, 'PU1': False},...                   3   \n",
       "4                     [{'CEBPa': False, 'PU1': True}]                   2   \n",
       "5   [{'cJun': False, 'CEBPa': True}, {'CEBPa': Tru...                   2   \n",
       "6   [{'PU1': False, 'Fli1': False, 'GATA1': True},...                   3   \n",
       "7                      [{'Fli1': True, 'PU1': False}]                   2   \n",
       "8   [{'CEBPa': True, 'cJun': False}, {'Gfi1': True...                   2   \n",
       "9   [{'PU1': False, 'Fli1': False, 'GATA1': True},...                   3   \n",
       "10                     [{'Fli1': True, 'PU1': False}]                   2   \n",
       "11                    [{'CEBPa': False, 'PU1': True}]                   2   \n",
       "\n",
       "    min_phenotype_options  \n",
       "0                       1  \n",
       "1                       1  \n",
       "2                       3  \n",
       "3                       2  \n",
       "4                       1  \n",
       "5                       3  \n",
       "6                       2  \n",
       "7                       1  \n",
       "8                       3  \n",
       "9                       2  \n",
       "10                      1  \n",
       "11                      1  "
      ]
     },
     "execution_count": 29,
     "metadata": {},
     "output_type": "execute_result"
    }
   ],
   "source": [
    "df"
   ]
  },
  {
   "cell_type": "code",
   "execution_count": 30,
   "id": "7c8650db1719e74a",
   "metadata": {
    "ExecuteTime": {
     "end_time": "2024-08-31T17:52:10.501072Z",
     "start_time": "2024-08-31T17:52:05.935052Z"
    },
    "collapsed": false,
    "jupyter": {
     "outputs_hidden": false
    }
   },
   "outputs": [
    {
     "name": "stdout",
     "output_type": "stream",
     "text": [
      "Erythrocyte -> Megakaryocyte : [{'Fli1': True}, {'EKLF': False}] : [0.848605, 0.848605]\n",
      "Erythrocyte -> Monocyte : [{'PU1': True}] : [0.019736]\n",
      "Erythrocyte -> Granulocyte : [{'cJun': False, 'CEBPa': True}, {'Gfi1': True, 'CEBPa': True}, {'CEBPa': True, 'EgrNab': False}] : [0.122306, 0.122306, 0.122306]\n",
      "Megakaryocyte -> Erythrocyte : [{'Fli1': False}, {'EKLF': True}] : [0.848605, 0.424436]\n",
      "Megakaryocyte -> Monocyte : [{'PU1': True}] : [0.019736]\n",
      "Megakaryocyte -> Granulocyte : [{'cJun': False, 'CEBPa': True}, {'CEBPa': True, 'Gfi1': True}, {'CEBPa': True, 'EgrNab': False}] : [0.122306, 0.122306, 0.122306]\n",
      "Monocyte -> Erythrocyte : [{'Fli1': False, 'GATA1': True, 'PU1': False}, {'EKLF': True, 'GATA1': True, 'PU1': False}] : [0.642197, 0.321098]\n",
      "Monocyte -> Megakaryocyte : [{'Fli1': True, 'PU1': False}] : [0.476685]\n",
      "Monocyte -> Granulocyte : [{'cJun': False, 'CEBPa': True}, {'Gfi1': True, 'CEBPa': True}, {'CEBPa': True, 'EgrNab': False}] : [0.251692, 0.251692, 0.251692]\n",
      "Granulocyte -> Erythrocyte : [{'PU1': False, 'Fli1': False, 'GATA1': True}, {'GATA1': True, 'EKLF': True, 'PU1': False}] : [0.630193, 0.315096]\n",
      "Granulocyte -> Megakaryocyte : [{'PU1': False, 'Fli1': True}] : [0.476685]\n",
      "Granulocyte -> Monocyte : [{'CEBPa': False}] : [0.231955]\n"
     ]
    }
   ],
   "source": [
    "for _, r in df.iterrows():\n",
    "    control = ba.Control.attractor_permanent(pstg_unknown, all_atts[r['source']], all_atts[r['target']])\n",
    "    robustness = [control.perturbation_robustness(p) for p in r['permanent']]\n",
    "    print(r['source'], \"->\", r[\"target\"], ':', r['permanent'], ':', robustness)"
   ]
  },
  {
   "cell_type": "code",
   "execution_count": 31,
   "id": "12731ca169477a75",
   "metadata": {
    "ExecuteTime": {
     "end_time": "2024-09-01T15:17:29.759708Z",
     "start_time": "2024-09-01T15:17:29.756653Z"
    },
    "collapsed": false,
    "jupyter": {
     "outputs_hidden": false
    }
   },
   "outputs": [
    {
     "name": "stdout",
     "output_type": "stream",
     "text": [
      "ColoredPerturbationSet(cardinality=8245449, symbolic_size=3422)\n"
     ]
    }
   ],
   "source": [
    "# An example of the phenotype control computation\n",
    "phen_sym_results = ba.Control.phenotype_permanent(\n",
    "    graph=pstg_unknown,\n",
    "    phenotype=erythrocyte_att,\n",
    "    oscillation_type=\"forbidden\",\n",
    "    size_limit=2,\n",
    "    stop_when_found=True,\n",
    ")\n",
    "\n",
    "print(phen_sym_results)"
   ]
  },
  {
   "cell_type": "code",
   "execution_count": 32,
   "id": "baf00ff9-7f1f-405b-9c31-e948fb0445cc",
   "metadata": {},
   "outputs": [
    {
     "name": "stdout",
     "output_type": "stream",
     "text": [
      "{'Fli1': False} 116172 0.039206\n",
      "{'cJun': False, 'Fli1': False} 116172 0.039206\n",
      "{'SCL': True, 'Fli1': False} 172404 0.058183\n",
      "{'PU1': False, 'Fli1': False} 2729160 0.921052\n",
      "{'Gfi1': False, 'Fli1': False} 107730 0.036357\n",
      "{'Fli1': False, 'GATA2': True} 233928 0.078947\n",
      "{'Fli1': False, 'GATA1': True} 857736 0.289473\n",
      "{'Fli1': False, 'FOG1': True} 33876 0.011432\n",
      "{'EgrNab': False, 'Fli1': False} 116172 0.039206\n",
      "{'EKLF': True} 58086 0.019603\n",
      "{'cJun': False, 'EKLF': True} 58086 0.019603\n",
      "{'SCL': True, 'EKLF': True} 86202 0.029091\n",
      "{'EKLF': True, 'PU1': False} 1364580 0.460526\n",
      "{'Gfi1': False, 'EKLF': True} 53865 0.018178\n",
      "{'GATA2': True, 'EKLF': True} 116964 0.039473\n",
      "{'EKLF': True, 'GATA1': True} 428868 0.144736\n",
      "{'EKLF': True, 'Fli1': False} 116172 0.039206\n",
      "{'EKLF': True, 'FOG1': True} 16938 0.005716\n",
      "{'EKLF': True, 'EgrNab': False} 58086 0.019603\n",
      "{'Fli1': False, 'CEBPa': False} 829236 0.279855\n",
      "{'EKLF': True, 'CEBPa': False} 414618 0.139927\n",
      "{'CEBPa': True, 'Fli1': False} 106932 0.036088\n",
      "{'CEBPa': True, 'EKLF': True} 53466 0.018044\n"
     ]
    }
   ],
   "source": [
    "# Why there is a working phenotype control of 1? Probably attractor got matched to some other state?\n",
    "for r in phen_sym_results.select_by_size(size=2, up_to=True).perturbations():\n",
    "    print(\n",
    "        r.perturbed_named_dict(), \n",
    "        phen_sym_results.select_perturbation(r.to_dict()).cardinality(), \n",
    "        phen_sym_results.perturbation_robustness(r.to_dict())\n",
    "    )"
   ]
  },
  {
   "cell_type": "code",
   "execution_count": 33,
   "id": "af65f16f17f1600b",
   "metadata": {
    "collapsed": false,
    "jupyter": {
     "outputs_hidden": false
    }
   },
   "outputs": [],
   "source": [
    "# We can find out the robustness of previously computed perturbations\n",
    "mega_phen = ba.Control.phenotype_permanent(\n",
    "    graph=pstg_unknown,\n",
    "    phenotype=megakaryocyte_att,\n",
    "    oscillation_type=\"forbidden\",\n",
    "    size_limit=3,\n",
    "    stop_when_found=False\n",
    ")"
   ]
  },
  {
   "cell_type": "code",
   "execution_count": 34,
   "id": "27467579-9d7b-49c1-bcb0-55ae9f414831",
   "metadata": {},
   "outputs": [
    {
     "data": {
      "text/plain": [
       "1.0"
      ]
     },
     "execution_count": 34,
     "metadata": {},
     "output_type": "execute_result"
    }
   ],
   "source": [
    "p = { v: None for v in pstg_unknown.perturbable_network_variable_names() }\n",
    "p[\"Fli1\"] = True\n",
    "p[\"PU1\"] = False\n",
    "mega_phen.perturbation_robustness(p)"
   ]
  },
  {
   "cell_type": "code",
   "execution_count": 35,
   "id": "9a2f8ee50f53c90a",
   "metadata": {
    "collapsed": false,
    "jupyter": {
     "outputs_hidden": false
    }
   },
   "outputs": [],
   "source": [
    "# We can find out the robustness of previously computed perturbations\n",
    "mega_erythro = ba.Control.attractor_permanent(\n",
    "    graph=pstg_unknown,\n",
    "    source=megakaryocyte_att.pick_singleton(),\n",
    "    target=erythrocyte_att.pick_singleton()\n",
    ")"
   ]
  },
  {
   "cell_type": "code",
   "execution_count": 36,
   "id": "0228af8d-b894-44fe-bca9-e9746c23b99c",
   "metadata": {},
   "outputs": [
    {
     "data": {
      "text/plain": [
       "0.000735"
      ]
     },
     "execution_count": 36,
     "metadata": {},
     "output_type": "execute_result"
    }
   ],
   "source": [
    "p = { v: None for v in pstg_unknown.perturbable_network_variable_names() }\n",
    "p[\"EKLF\"] = True\n",
    "mega_erythro.perturbation_robustness(p)"
   ]
  },
  {
   "cell_type": "code",
   "execution_count": 37,
   "id": "8d08832afedafc1e",
   "metadata": {
    "collapsed": false,
    "jupyter": {
     "outputs_hidden": false
    }
   },
   "outputs": [],
   "source": [
    "results = mega_erythro.select_by_size(size=3, up_to=True).select_by_robustness(\n",
    "    threshold=0.99,    \n",
    "    result_limit=100\n",
    ")\n",
    "for (model, r, colors) in results:\n",
    "    print(model.perturbed_named_dict(), r, colors)"
   ]
  },
  {
   "cell_type": "code",
   "execution_count": null,
   "id": "b7b2281d-f0a7-4839-8e9b-88f816f83fdd",
   "metadata": {},
   "outputs": [],
   "source": []
  }
 ],
 "metadata": {
  "kernelspec": {
   "display_name": "Python 3 (ipykernel)",
   "language": "python",
   "name": "python3"
  },
  "language_info": {
   "codemirror_mode": {
    "name": "ipython",
    "version": 3
   },
   "file_extension": ".py",
   "mimetype": "text/x-python",
   "name": "python",
   "nbconvert_exporter": "python",
   "pygments_lexer": "ipython3",
   "version": "3.12.3"
  }
 },
 "nbformat": 4,
 "nbformat_minor": 5
}
