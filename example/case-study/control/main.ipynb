{
 "cells": [
  {
   "cell_type": "code",
   "execution_count": 35,
   "id": "initial_id",
   "metadata": {
    "collapsed": true,
    "jupyter": {
     "outputs_hidden": true
    },
    "ExecuteTime": {
     "end_time": "2024-09-01T15:22:53.671586Z",
     "start_time": "2024-09-01T15:22:52.437870Z"
    }
   },
   "outputs": [
    {
     "name": "stdout",
     "output_type": "stream",
     "text": [
      "Defaulting to user installation because normal site-packages is not writeable\r\n",
      "Processing /Users/smijeva/PycharmProjects/biodivine-aeon-py/target/wheels/biodivine_aeon-1.0.0a10-cp37-abi3-macosx_11_0_arm64.whl\r\n",
      "Installing collected packages: biodivine-aeon\r\n",
      "  Attempting uninstall: biodivine-aeon\r\n",
      "    Found existing installation: biodivine_aeon 1.0.0a10\r\n",
      "    Uninstalling biodivine_aeon-1.0.0a10:\r\n",
      "      Successfully uninstalled biodivine_aeon-1.0.0a10\r\n",
      "Successfully installed biodivine-aeon-1.0.0a10\r\n",
      "\r\n",
      "\u001B[1m[\u001B[0m\u001B[34;49mnotice\u001B[0m\u001B[1;39;49m]\u001B[0m\u001B[39;49m A new release of pip is available: \u001B[0m\u001B[31;49m23.2.1\u001B[0m\u001B[39;49m -> \u001B[0m\u001B[32;49m24.2\u001B[0m\r\n",
      "\u001B[1m[\u001B[0m\u001B[34;49mnotice\u001B[0m\u001B[1;39;49m]\u001B[0m\u001B[39;49m To update, run: \u001B[0m\u001B[32;49m/Library/Developer/CommandLineTools/usr/bin/python3 -m pip install --upgrade pip\u001B[0m\r\n"
     ]
    }
   ],
   "source": [
    "# Use this command to install the local development version of AEON.py if desired\n",
    "!/usr/bin/python3 -m pip install --force-reinstall ./../../../target/wheels/biodivine_aeon-1.0.0a10-cp37-abi3-macosx_11_0_arm64.whl"
   ]
  },
  {
   "cell_type": "markdown",
   "id": "1d502125b99c6234",
   "metadata": {
    "collapsed": false
   },
   "source": [
    "## Demonstration of control on Myeloid model\n",
    "\n",
    "The model we will observe is coming from Krumsiek, J., Marr, C., Schroeder, T., and Theis, F. J. (2011). Hierarchical differentiation of myeloid progenitors is encoded in the transcription factor network. PloS one, 6(8), e22649.\n",
    "\n",
    "It describes myeloid cell differentiation into four possible types - erythrocytes, megakaryocytes, monocytes, and granulocytes.\n",
    "\n",
    "![Myeloid_differentiation](myeloid.png)"
   ]
  },
  {
   "cell_type": "code",
   "execution_count": 1,
   "id": "11969bfac9ef8031",
   "metadata": {
    "collapsed": false,
    "ExecuteTime": {
     "end_time": "2024-09-05T15:15:37.986223Z",
     "start_time": "2024-09-05T15:15:37.524791Z"
    }
   },
   "outputs": [],
   "source": [
    "import biodivine_aeon as ba \n",
    "import pandas as pd"
   ]
  },
  {
   "cell_type": "code",
   "execution_count": 2,
   "outputs": [],
   "source": [
    "ba.LOG_LEVEL = ba.LOG_NOTHING"
   ],
   "metadata": {
    "collapsed": false,
    "ExecuteTime": {
     "end_time": "2024-09-05T15:15:37.993308Z",
     "start_time": "2024-09-05T15:15:37.987127Z"
    }
   },
   "id": "788666fa4f3fd9c7"
  },
  {
   "cell_type": "code",
   "execution_count": 3,
   "id": "c6edd4931c7190eb",
   "metadata": {
    "collapsed": false,
    "ExecuteTime": {
     "end_time": "2024-09-05T15:15:38.001894Z",
     "start_time": "2024-09-05T15:15:37.989133Z"
    }
   },
   "outputs": [],
   "source": [
    "# Load the model and create a Perturbation Graph\n",
    "\n",
    "model = ba.BooleanNetwork.from_file('myeloid_witness.aeon')\n",
    "pstg = ba.AsynchronousPerturbationGraph(model)"
   ]
  },
  {
   "cell_type": "code",
   "execution_count": 4,
   "id": "3dc68ef7bec3b2d8",
   "metadata": {
    "collapsed": false,
    "ExecuteTime": {
     "end_time": "2024-09-05T15:15:38.013506Z",
     "start_time": "2024-09-05T15:15:38.009960Z"
    }
   },
   "outputs": [
    {
     "name": "stdout",
     "output_type": "stream",
     "text": [
      "erythrocyte attractor size (should be 1): 1\n",
      "erythrocyte attractor: [[('CEBPa', False), ('EKLF', True), ('EgrNab', False), ('FOG1', True), ('Fli1', False), ('GATA1', True), ('GATA2', False), ('Gfi1', False), ('PU1', False), ('SCL', True), ('cJun', False)]]\n",
      "megakaryocyte attractor size (should be 1): 1\n",
      "megakaryocyte megakaryocyte: [[('CEBPa', False), ('EKLF', False), ('EgrNab', False), ('FOG1', True), ('Fli1', True), ('GATA1', True), ('GATA2', False), ('Gfi1', False), ('PU1', False), ('SCL', True), ('cJun', False)]]\n",
      "monocyte attractor size (should be 1): 1\n",
      "monocyte attractor: [[('CEBPa', False), ('EKLF', False), ('EgrNab', True), ('FOG1', False), ('Fli1', False), ('GATA1', False), ('GATA2', False), ('Gfi1', False), ('PU1', True), ('SCL', False), ('cJun', True)]]\n",
      "granulocyte attractor size (should be 1): 1\n",
      "granulocyte attractor: [[('CEBPa', True), ('EKLF', False), ('EgrNab', False), ('FOG1', False), ('Fli1', False), ('GATA1', False), ('GATA2', False), ('Gfi1', True), ('PU1', True), ('SCL', False), ('cJun', False)]]\n"
     ]
    }
   ],
   "source": [
    "# Find attractors representing the four possible phenotypes\n",
    "\n",
    "attractors = ba.Attractors.attractors(pstg)\n",
    "attractors = [ a.vertices() for a in attractors ]\n",
    "\n",
    "erythrocyte = pstg.mk_subspace_vertices({ \"EKLF\": True })\n",
    "erythrocyte_att = [ a for a in attractors if not a.intersect(erythrocyte).is_empty() ][0]\n",
    "print('erythrocyte attractor size (should be 1):', erythrocyte_att.cardinality())\n",
    "print('erythrocyte attractor:', [sorted(x.to_named_dict().items()) for x in  erythrocyte_att.items()])\n",
    "\n",
    "megakaryocyte = pstg.mk_subspace_vertices({ \"Fli1\": True })\n",
    "megakaryocyte_att = [ a for a in attractors if not a.intersect(megakaryocyte).is_empty() ][0]\n",
    "print('megakaryocyte attractor size (should be 1):', megakaryocyte_att.cardinality())\n",
    "print('megakaryocyte megakaryocyte:', [sorted(x.to_named_dict().items()) for x in  megakaryocyte_att.items()])\n",
    "\n",
    "monocyte = pstg.mk_subspace_vertices({ \"cJun\": True })\n",
    "monocyte_att = [ a for a in attractors if not a.intersect(monocyte).is_empty() ][0]\n",
    "print('monocyte attractor size (should be 1):', monocyte_att.cardinality())\n",
    "print('monocyte attractor:', [sorted(x.to_named_dict().items()) for x in  monocyte_att.items()])\n",
    "\n",
    "\n",
    "granulocyte = pstg.mk_subspace_vertices({ \"Gfi1\": True })\n",
    "granulocyte_att = [ a for a in attractors if not a.intersect(granulocyte).is_empty() ][0]\n",
    "print('granulocyte attractor size (should be 1):', granulocyte_att.cardinality())\n",
    "print('granulocyte attractor:', [sorted(x.to_named_dict().items()) for x in  granulocyte_att.items()])"
   ]
  },
  {
   "cell_type": "code",
   "execution_count": 5,
   "id": "ad993245710ad338",
   "metadata": {
    "collapsed": false,
    "ExecuteTime": {
     "end_time": "2024-09-05T15:15:38.020631Z",
     "start_time": "2024-09-05T15:15:38.015458Z"
    }
   },
   "outputs": [
    {
     "data": {
      "text/plain": "ColoredPerturbationSet(cardinality=5832, colors=1, perturbations=5832, symbolic_size=12)"
     },
     "execution_count": 5,
     "metadata": {},
     "output_type": "execute_result"
    }
   ],
   "source": [
    "# Let's demonstrate now, how we can compute source-target control.\n",
    "\n",
    "# First we need to compute a symbolic structure containing the perurbations and results\n",
    "sym_results = ba.Control.attractor_one_step(pstg, erythrocyte_att, megakaryocyte_att)\n",
    "sym_results"
   ]
  },
  {
   "cell_type": "code",
   "execution_count": 6,
   "id": "8fc32f37fe13d238",
   "metadata": {
    "collapsed": false,
    "ExecuteTime": {
     "end_time": "2024-09-05T15:15:38.021663Z",
     "start_time": "2024-09-05T15:15:38.018295Z"
    }
   },
   "outputs": [
    {
     "data": {
      "text/plain": "ColorSet(cardinality=0, symbolic_size=1)"
     },
     "execution_count": 6,
     "metadata": {},
     "output_type": "execute_result"
    }
   ],
   "source": [
    "# Now we can either look up for what colors does a specific perturbation work\n",
    "sym_results.select_perturbation({ \"EKLF\" : True }) # A perturbation where only EKLF is perturbed to 1.\n",
    "# Cardinality 0 -> not working"
   ]
  },
  {
   "cell_type": "code",
   "execution_count": 7,
   "id": "f194bcc2-4a77-4664-abcd-31a2fbc81db3",
   "metadata": {
    "ExecuteTime": {
     "end_time": "2024-09-05T15:15:38.024347Z",
     "start_time": "2024-09-05T15:15:38.021612Z"
    }
   },
   "outputs": [
    {
     "data": {
      "text/plain": "ColorSet(cardinality=0, symbolic_size=1)"
     },
     "execution_count": 7,
     "metadata": {},
     "output_type": "execute_result"
    }
   ],
   "source": [
    "sym_results.select_perturbation({ \"EKLF\" : False }) # A perturbation where only EKLF is perturbed to 0\n",
    "# Cardinality 0 -> not working"
   ]
  },
  {
   "cell_type": "code",
   "execution_count": 8,
   "id": "a1414912-870b-4f89-902a-525de599a4e9",
   "metadata": {
    "ExecuteTime": {
     "end_time": "2024-09-05T15:15:38.183624Z",
     "start_time": "2024-09-05T15:15:38.180416Z"
    }
   },
   "outputs": [
    {
     "data": {
      "text/plain": "ColorSet(cardinality=0, symbolic_size=1)"
     },
     "execution_count": 8,
     "metadata": {},
     "output_type": "execute_result"
    }
   ],
   "source": [
    "sym_results.select_perturbation({ \"EKLF\" : None }) # A perturbations where EKLF is unperturbed (and everything else is also unperturbed).\n",
    "# Cardinality 0 -> not working"
   ]
  },
  {
   "cell_type": "code",
   "execution_count": 9,
   "id": "fd6ae910-fc07-44f4-a468-65c6350da5de",
   "metadata": {
    "ExecuteTime": {
     "end_time": "2024-09-05T15:15:38.736793Z",
     "start_time": "2024-09-05T15:15:38.733171Z"
    }
   },
   "outputs": [
    {
     "data": {
      "text/plain": "ColorSet(cardinality=1, symbolic_size=13)"
     },
     "execution_count": 9,
     "metadata": {},
     "output_type": "execute_result"
    }
   ],
   "source": [
    "sym_results.select_perturbation({ \"EKLF\" : False, \"Fli1\": True }) # A perturbation that we know works."
   ]
  },
  {
   "cell_type": "code",
   "execution_count": 10,
   "id": "21f94010e630c102",
   "metadata": {
    "collapsed": false,
    "ExecuteTime": {
     "end_time": "2024-09-05T15:15:38.940190Z",
     "start_time": "2024-09-05T15:15:38.938239Z"
    }
   },
   "outputs": [
    {
     "name": "stdout",
     "output_type": "stream",
     "text": [
      "{'EKLF': False, 'Fli1': True}\n"
     ]
    }
   ],
   "source": [
    "# Or just retrieve all smallest colours with a given minimal robustness to avoid guessing\n",
    "(p, r, c) = sym_results.select_by_robustness(threshold=0.99, result_limit=10)[0]\n",
    "print(p.perturbed_named_dict())"
   ]
  },
  {
   "cell_type": "code",
   "execution_count": 11,
   "id": "63cbeae745ce11b1",
   "metadata": {
    "collapsed": false,
    "ExecuteTime": {
     "end_time": "2024-09-05T15:15:39.092200Z",
     "start_time": "2024-09-05T15:15:39.088854Z"
    }
   },
   "outputs": [],
   "source": [
    "# In a similar manner, we can also compute phenotype control. Nonetheless, providing just the target state \n",
    "# (or a set of states) is sufficient in this case)\n",
    "\n",
    "# There are three possible configurations of oscillation\n",
    "# Forbidden -> attractor where model stabilizes therefore cannot oscillate through the phenotype (must stabilize fully within the phenotype)\n",
    "# Allowed -> attractor where model stabilizes may oscillate\n",
    "# Required -> attractor where model stabilizes MUST oscillate through the phenotype (i.e. have states both inside and outside of the phenotype space)\n",
    "\n",
    "# In this demonstration we use forbidden type of oscillation, since myeloid model does not show oscillations \n",
    "# and this type is most similar to the source-target control.\n",
    "\n",
    "# Even though the model is small, using ceiled version of the function is recommended, since it allows stop_early \n",
    "# functionality, computing the perturbations until 100% robustness is hit or specifying a sensible size_bounc\n",
    "phen_sym_results = ba.Control.phenotype_permanent(\n",
    "    graph=pstg,\n",
    "    phenotype=megakaryocyte_att,\n",
    "    oscillation_type=\"forbidden\",\n",
    "    size_limit=10,\n",
    "    stop_when_found=True\n",
    ")"
   ]
  },
  {
   "cell_type": "code",
   "execution_count": 12,
   "id": "316cc1e1-4d03-4eed-aaf8-94a01ac3cd4f",
   "metadata": {
    "ExecuteTime": {
     "end_time": "2024-09-05T15:15:39.582435Z",
     "start_time": "2024-09-05T15:15:39.575672Z"
    }
   },
   "outputs": [
    {
     "name": "stdout",
     "output_type": "stream",
     "text": [
      "{'PU1': False, 'Fli1': True}\n"
     ]
    }
   ],
   "source": [
    "(p, r, c) = phen_sym_results.select_by_robustness(threshold=0.99, result_limit=1)[0]\n",
    "print(p.perturbed_named_dict())"
   ]
  },
  {
   "cell_type": "code",
   "execution_count": 13,
   "id": "247b6e3dbaef4a9e",
   "metadata": {
    "collapsed": false,
    "ExecuteTime": {
     "end_time": "2024-09-05T15:15:39.783148Z",
     "start_time": "2024-09-05T15:15:39.777851Z"
    }
   },
   "outputs": [],
   "source": [
    "# Now we can compute a full sets of results for all pairs of source-target control"
   ]
  },
  {
   "cell_type": "code",
   "execution_count": 14,
   "id": "405ad725fbc5e9e1",
   "metadata": {
    "collapsed": false,
    "ExecuteTime": {
     "end_time": "2024-09-05T15:15:40.040565Z",
     "start_time": "2024-09-05T15:15:40.038603Z"
    }
   },
   "outputs": [],
   "source": [
    "all_atts = {\n",
    "    \"Erythrocyte\": erythrocyte_att,\n",
    "    \"Megakaryocyte\": megakaryocyte_att,\n",
    "    \"Monocyte\": monocyte_att,\n",
    "    \"Granulocyte\": granulocyte_att\n",
    "}\n",
    "\n",
    "# Generate al pair possibilities for computing the source-target control\n",
    "all_att_pairs = [(s,t) for s in all_atts.keys() for t in all_atts.keys() if s != t]"
   ]
  },
  {
   "cell_type": "code",
   "execution_count": 15,
   "id": "86ea9b904b0027de",
   "metadata": {
    "collapsed": false,
    "ExecuteTime": {
     "end_time": "2024-09-05T15:15:40.579632Z",
     "start_time": "2024-09-05T15:15:40.394740Z"
    }
   },
   "outputs": [],
   "source": [
    "# Pick the minimal perturbations with perfect robustness and then only return the\n",
    "# values of variables that are actually perturbed (to simplify presentation).\n",
    "# We are not returning the robustness here becasue it is always 1.0 anyway.\n",
    "def pick_result(data: ba.ColoredPerturbationSet) -> dict[str, bool]:\n",
    "    (min_model, _, _) = data.select_by_robustness(threshold=1.0, result_limit=1)[0]\n",
    "    picked = data.select_by_size(size=min_model.perturbation_size(), up_to=False)\n",
    "    picked = picked.select_by_robustness(threshold=1.0, result_limit=100)\n",
    "    return [ model.perturbed_named_dict() for (model, _, _) in picked ]\n",
    "\n",
    "data = {\n",
    "    'source': [s for s, _ in all_att_pairs],\n",
    "    'target': [t for _, t in all_att_pairs],\n",
    "    'onestep': [pick_result(ba.Control.attractor_one_step(pstg, all_atts[s], all_atts[t])) for s, t in all_att_pairs],\n",
    "    'temporary': [pick_result(ba.Control.attractor_temporary(pstg, all_atts[s], all_atts[t])) for s, t in all_att_pairs],\n",
    "    'permanent': [pick_result(ba.Control.attractor_permanent(pstg, all_atts[s], all_atts[t])) for s, t in all_att_pairs],\n",
    "}\n",
    "\n",
    "df = pd.DataFrame(data)"
   ]
  },
  {
   "cell_type": "code",
   "execution_count": 16,
   "id": "e33b15bc38ab2ef",
   "metadata": {
    "collapsed": false,
    "ExecuteTime": {
     "end_time": "2024-09-05T15:15:40.882908Z",
     "start_time": "2024-09-05T15:15:40.865535Z"
    }
   },
   "outputs": [
    {
     "data": {
      "text/plain": "           source         target  \\\n0     Erythrocyte  Megakaryocyte   \n1     Erythrocyte       Monocyte   \n2     Erythrocyte    Granulocyte   \n3   Megakaryocyte    Erythrocyte   \n4   Megakaryocyte       Monocyte   \n5   Megakaryocyte    Granulocyte   \n6        Monocyte    Erythrocyte   \n7        Monocyte  Megakaryocyte   \n8        Monocyte    Granulocyte   \n9     Granulocyte    Erythrocyte   \n10    Granulocyte  Megakaryocyte   \n11    Granulocyte       Monocyte   \n\n                                              onestep  \\\n0                     [{'Fli1': True, 'EKLF': False}]   \n1                                     [{'PU1': True}]   \n2     [{'Gfi1': True, 'GATA1': False, 'CEBPa': True}]   \n3                     [{'EKLF': True, 'Fli1': False}]   \n4                                     [{'PU1': True}]   \n5   [{'PU1': True, 'CEBPa': True, 'Gfi1': True, 'S...   \n6       [{'GATA1': True, 'EKLF': True, 'PU1': False}]   \n7       [{'GATA1': True, 'PU1': False, 'Fli1': True}]   \n8    [{'CEBPa': True, 'Gfi1': True, 'EgrNab': False}]   \n9   [{'EKLF': True, 'PU1': False, 'CEBPa': False, ...   \n10  [{'Fli1': True, 'CEBPa': False, 'GATA1': True,...   \n11                                 [{'CEBPa': False}]   \n\n                                            temporary  \\\n0                   [{'Fli1': True}, {'EKLF': False}]   \n1                                     [{'PU1': True}]   \n2   [{'cJun': False, 'CEBPa': True}, {'Gfi1': True...   \n3                   [{'Fli1': False}, {'EKLF': True}]   \n4                                     [{'PU1': True}]   \n5   [{'cJun': False, 'CEBPa': True}, {'CEBPa': Tru...   \n6   [{'PU1': False, 'Fli1': False, 'GATA2': True},...   \n7                      [{'PU1': False, 'Fli1': True}]   \n8   [{'cJun': False, 'CEBPa': True}, {'CEBPa': Tru...   \n9   [{'Fli1': False, 'PU1': False, 'GATA2': True},...   \n10                     [{'PU1': False, 'Fli1': True}]   \n11                                 [{'CEBPa': False}]   \n\n                                            permanent  \n0                   [{'Fli1': True}, {'EKLF': False}]  \n1                                     [{'PU1': True}]  \n2   [{'cJun': False, 'CEBPa': True}, {'CEBPa': Tru...  \n3                   [{'Fli1': False}, {'EKLF': True}]  \n4                                     [{'PU1': True}]  \n5   [{'CEBPa': True, 'cJun': False}, {'Gfi1': True...  \n6   [{'Fli1': False, 'GATA1': True, 'PU1': False},...  \n7                      [{'PU1': False, 'Fli1': True}]  \n8   [{'CEBPa': True, 'cJun': False}, {'Gfi1': True...  \n9   [{'PU1': False, 'GATA1': True, 'Fli1': False},...  \n10                     [{'PU1': False, 'Fli1': True}]  \n11                                 [{'CEBPa': False}]  ",
      "text/html": "<div>\n<style scoped>\n    .dataframe tbody tr th:only-of-type {\n        vertical-align: middle;\n    }\n\n    .dataframe tbody tr th {\n        vertical-align: top;\n    }\n\n    .dataframe thead th {\n        text-align: right;\n    }\n</style>\n<table border=\"1\" class=\"dataframe\">\n  <thead>\n    <tr style=\"text-align: right;\">\n      <th></th>\n      <th>source</th>\n      <th>target</th>\n      <th>onestep</th>\n      <th>temporary</th>\n      <th>permanent</th>\n    </tr>\n  </thead>\n  <tbody>\n    <tr>\n      <th>0</th>\n      <td>Erythrocyte</td>\n      <td>Megakaryocyte</td>\n      <td>[{'Fli1': True, 'EKLF': False}]</td>\n      <td>[{'Fli1': True}, {'EKLF': False}]</td>\n      <td>[{'Fli1': True}, {'EKLF': False}]</td>\n    </tr>\n    <tr>\n      <th>1</th>\n      <td>Erythrocyte</td>\n      <td>Monocyte</td>\n      <td>[{'PU1': True}]</td>\n      <td>[{'PU1': True}]</td>\n      <td>[{'PU1': True}]</td>\n    </tr>\n    <tr>\n      <th>2</th>\n      <td>Erythrocyte</td>\n      <td>Granulocyte</td>\n      <td>[{'Gfi1': True, 'GATA1': False, 'CEBPa': True}]</td>\n      <td>[{'cJun': False, 'CEBPa': True}, {'Gfi1': True...</td>\n      <td>[{'cJun': False, 'CEBPa': True}, {'CEBPa': Tru...</td>\n    </tr>\n    <tr>\n      <th>3</th>\n      <td>Megakaryocyte</td>\n      <td>Erythrocyte</td>\n      <td>[{'EKLF': True, 'Fli1': False}]</td>\n      <td>[{'Fli1': False}, {'EKLF': True}]</td>\n      <td>[{'Fli1': False}, {'EKLF': True}]</td>\n    </tr>\n    <tr>\n      <th>4</th>\n      <td>Megakaryocyte</td>\n      <td>Monocyte</td>\n      <td>[{'PU1': True}]</td>\n      <td>[{'PU1': True}]</td>\n      <td>[{'PU1': True}]</td>\n    </tr>\n    <tr>\n      <th>5</th>\n      <td>Megakaryocyte</td>\n      <td>Granulocyte</td>\n      <td>[{'PU1': True, 'CEBPa': True, 'Gfi1': True, 'S...</td>\n      <td>[{'cJun': False, 'CEBPa': True}, {'CEBPa': Tru...</td>\n      <td>[{'CEBPa': True, 'cJun': False}, {'Gfi1': True...</td>\n    </tr>\n    <tr>\n      <th>6</th>\n      <td>Monocyte</td>\n      <td>Erythrocyte</td>\n      <td>[{'GATA1': True, 'EKLF': True, 'PU1': False}]</td>\n      <td>[{'PU1': False, 'Fli1': False, 'GATA2': True},...</td>\n      <td>[{'Fli1': False, 'GATA1': True, 'PU1': False},...</td>\n    </tr>\n    <tr>\n      <th>7</th>\n      <td>Monocyte</td>\n      <td>Megakaryocyte</td>\n      <td>[{'GATA1': True, 'PU1': False, 'Fli1': True}]</td>\n      <td>[{'PU1': False, 'Fli1': True}]</td>\n      <td>[{'PU1': False, 'Fli1': True}]</td>\n    </tr>\n    <tr>\n      <th>8</th>\n      <td>Monocyte</td>\n      <td>Granulocyte</td>\n      <td>[{'CEBPa': True, 'Gfi1': True, 'EgrNab': False}]</td>\n      <td>[{'cJun': False, 'CEBPa': True}, {'CEBPa': Tru...</td>\n      <td>[{'CEBPa': True, 'cJun': False}, {'Gfi1': True...</td>\n    </tr>\n    <tr>\n      <th>9</th>\n      <td>Granulocyte</td>\n      <td>Erythrocyte</td>\n      <td>[{'EKLF': True, 'PU1': False, 'CEBPa': False, ...</td>\n      <td>[{'Fli1': False, 'PU1': False, 'GATA2': True},...</td>\n      <td>[{'PU1': False, 'GATA1': True, 'Fli1': False},...</td>\n    </tr>\n    <tr>\n      <th>10</th>\n      <td>Granulocyte</td>\n      <td>Megakaryocyte</td>\n      <td>[{'Fli1': True, 'CEBPa': False, 'GATA1': True,...</td>\n      <td>[{'PU1': False, 'Fli1': True}]</td>\n      <td>[{'PU1': False, 'Fli1': True}]</td>\n    </tr>\n    <tr>\n      <th>11</th>\n      <td>Granulocyte</td>\n      <td>Monocyte</td>\n      <td>[{'CEBPa': False}]</td>\n      <td>[{'CEBPa': False}]</td>\n      <td>[{'CEBPa': False}]</td>\n    </tr>\n  </tbody>\n</table>\n</div>"
     },
     "execution_count": 16,
     "metadata": {},
     "output_type": "execute_result"
    }
   ],
   "source": [
    "df"
   ]
  },
  {
   "cell_type": "code",
   "execution_count": 17,
   "id": "657408a776cdc2c",
   "metadata": {
    "collapsed": false,
    "ExecuteTime": {
     "end_time": "2024-09-05T15:15:41.815202Z",
     "start_time": "2024-09-05T15:15:41.806613Z"
    }
   },
   "outputs": [
    {
     "name": "stdout",
     "output_type": "stream",
     "text": [
      "Erythrocyte -> Megakaryocyte : [{'Fli1': True}, {'EKLF': False}]\n",
      "Erythrocyte -> Monocyte : [{'PU1': True}]\n",
      "Erythrocyte -> Granulocyte : [{'cJun': False, 'CEBPa': True}, {'CEBPa': True, 'Gfi1': True}, {'EgrNab': False, 'CEBPa': True}]\n",
      "Megakaryocyte -> Erythrocyte : [{'Fli1': False}, {'EKLF': True}]\n",
      "Megakaryocyte -> Monocyte : [{'PU1': True}]\n",
      "Megakaryocyte -> Granulocyte : [{'CEBPa': True, 'cJun': False}, {'Gfi1': True, 'CEBPa': True}, {'CEBPa': True, 'EgrNab': False}]\n",
      "Monocyte -> Erythrocyte : [{'Fli1': False, 'GATA1': True, 'PU1': False}, {'GATA1': True, 'EKLF': True, 'PU1': False}]\n",
      "Monocyte -> Megakaryocyte : [{'PU1': False, 'Fli1': True}]\n",
      "Monocyte -> Granulocyte : [{'CEBPa': True, 'cJun': False}, {'Gfi1': True, 'CEBPa': True}, {'CEBPa': True, 'EgrNab': False}]\n",
      "Granulocyte -> Erythrocyte : [{'PU1': False, 'GATA1': True, 'Fli1': False}, {'EKLF': True, 'PU1': False, 'GATA1': True}]\n",
      "Granulocyte -> Megakaryocyte : [{'PU1': False, 'Fli1': True}]\n",
      "Granulocyte -> Monocyte : [{'CEBPa': False}]\n"
     ]
    }
   ],
   "source": [
    "for _, r in df.iterrows():\n",
    "    print(r['source'], \"->\", r[\"target\"], ':', r['permanent'])"
   ]
  },
  {
   "cell_type": "markdown",
   "id": "72386675c6ad8d68",
   "metadata": {
    "collapsed": false
   },
   "source": [
    "From this data, we can (manually) derive a following source-target diagram, showing all minimal source-target controls.\n",
    "\n",
    "![Source_target_controls](myeloid_source_target.png)"
   ]
  },
  {
   "cell_type": "code",
   "execution_count": 18,
   "id": "ba3e6537eb9844c2",
   "metadata": {
    "collapsed": false,
    "ExecuteTime": {
     "end_time": "2024-09-05T15:15:43.527773Z",
     "start_time": "2024-09-05T15:15:43.522379Z"
    }
   },
   "outputs": [],
   "source": [
    "df['min_onestep_size'] = df['onestep'].apply(lambda x: len(x[0]))\n",
    "df['min_onestep_options'] = df['onestep'].apply(lambda x: len(x))\n",
    "df['min_temporary_size'] = df['temporary'].apply(lambda x: len(x[0]))\n",
    "df['min_temporary_options'] = df['temporary'].apply(lambda x: len(x))\n",
    "df['min_permanent_size'] = df['permanent'].apply(lambda x: len(x[0]))\n",
    "df['min_permanent_options'] = df['permanent'].apply(lambda x: len(x))"
   ]
  },
  {
   "cell_type": "code",
   "execution_count": 19,
   "id": "6ff8cdacaf3a933e",
   "metadata": {
    "collapsed": false,
    "ExecuteTime": {
     "end_time": "2024-09-05T15:15:45.437924Z",
     "start_time": "2024-09-05T15:15:45.431867Z"
    }
   },
   "outputs": [
    {
     "data": {
      "text/plain": "           source         target  min_onestep_size  min_onestep_options  \\\n0     Erythrocyte  Megakaryocyte                 2                    1   \n1     Erythrocyte       Monocyte                 1                    1   \n2     Erythrocyte    Granulocyte                 3                    1   \n3   Megakaryocyte    Erythrocyte                 2                    1   \n4   Megakaryocyte       Monocyte                 1                    1   \n5   Megakaryocyte    Granulocyte                 4                    3   \n6        Monocyte    Erythrocyte                 3                    1   \n7        Monocyte  Megakaryocyte                 3                    1   \n8        Monocyte    Granulocyte                 3                    1   \n9     Granulocyte    Erythrocyte                 4                    1   \n10    Granulocyte  Megakaryocyte                 4                    1   \n11    Granulocyte       Monocyte                 1                    1   \n\n    min_temporary_size  min_temporary_options  min_permanent_size  \\\n0                    1                      2                   1   \n1                    1                      1                   1   \n2                    2                      3                   2   \n3                    1                      2                   1   \n4                    1                      1                   1   \n5                    2                      3                   2   \n6                    3                      6                   3   \n7                    2                      1                   2   \n8                    2                      4                   2   \n9                    3                      6                   3   \n10                   2                      1                   2   \n11                   1                      1                   1   \n\n    min_permanent_options  \n0                       2  \n1                       1  \n2                       3  \n3                       2  \n4                       1  \n5                       3  \n6                       2  \n7                       1  \n8                       3  \n9                       2  \n10                      1  \n11                      1  ",
      "text/html": "<div>\n<style scoped>\n    .dataframe tbody tr th:only-of-type {\n        vertical-align: middle;\n    }\n\n    .dataframe tbody tr th {\n        vertical-align: top;\n    }\n\n    .dataframe thead th {\n        text-align: right;\n    }\n</style>\n<table border=\"1\" class=\"dataframe\">\n  <thead>\n    <tr style=\"text-align: right;\">\n      <th></th>\n      <th>source</th>\n      <th>target</th>\n      <th>min_onestep_size</th>\n      <th>min_onestep_options</th>\n      <th>min_temporary_size</th>\n      <th>min_temporary_options</th>\n      <th>min_permanent_size</th>\n      <th>min_permanent_options</th>\n    </tr>\n  </thead>\n  <tbody>\n    <tr>\n      <th>0</th>\n      <td>Erythrocyte</td>\n      <td>Megakaryocyte</td>\n      <td>2</td>\n      <td>1</td>\n      <td>1</td>\n      <td>2</td>\n      <td>1</td>\n      <td>2</td>\n    </tr>\n    <tr>\n      <th>1</th>\n      <td>Erythrocyte</td>\n      <td>Monocyte</td>\n      <td>1</td>\n      <td>1</td>\n      <td>1</td>\n      <td>1</td>\n      <td>1</td>\n      <td>1</td>\n    </tr>\n    <tr>\n      <th>2</th>\n      <td>Erythrocyte</td>\n      <td>Granulocyte</td>\n      <td>3</td>\n      <td>1</td>\n      <td>2</td>\n      <td>3</td>\n      <td>2</td>\n      <td>3</td>\n    </tr>\n    <tr>\n      <th>3</th>\n      <td>Megakaryocyte</td>\n      <td>Erythrocyte</td>\n      <td>2</td>\n      <td>1</td>\n      <td>1</td>\n      <td>2</td>\n      <td>1</td>\n      <td>2</td>\n    </tr>\n    <tr>\n      <th>4</th>\n      <td>Megakaryocyte</td>\n      <td>Monocyte</td>\n      <td>1</td>\n      <td>1</td>\n      <td>1</td>\n      <td>1</td>\n      <td>1</td>\n      <td>1</td>\n    </tr>\n    <tr>\n      <th>5</th>\n      <td>Megakaryocyte</td>\n      <td>Granulocyte</td>\n      <td>4</td>\n      <td>3</td>\n      <td>2</td>\n      <td>3</td>\n      <td>2</td>\n      <td>3</td>\n    </tr>\n    <tr>\n      <th>6</th>\n      <td>Monocyte</td>\n      <td>Erythrocyte</td>\n      <td>3</td>\n      <td>1</td>\n      <td>3</td>\n      <td>6</td>\n      <td>3</td>\n      <td>2</td>\n    </tr>\n    <tr>\n      <th>7</th>\n      <td>Monocyte</td>\n      <td>Megakaryocyte</td>\n      <td>3</td>\n      <td>1</td>\n      <td>2</td>\n      <td>1</td>\n      <td>2</td>\n      <td>1</td>\n    </tr>\n    <tr>\n      <th>8</th>\n      <td>Monocyte</td>\n      <td>Granulocyte</td>\n      <td>3</td>\n      <td>1</td>\n      <td>2</td>\n      <td>4</td>\n      <td>2</td>\n      <td>3</td>\n    </tr>\n    <tr>\n      <th>9</th>\n      <td>Granulocyte</td>\n      <td>Erythrocyte</td>\n      <td>4</td>\n      <td>1</td>\n      <td>3</td>\n      <td>6</td>\n      <td>3</td>\n      <td>2</td>\n    </tr>\n    <tr>\n      <th>10</th>\n      <td>Granulocyte</td>\n      <td>Megakaryocyte</td>\n      <td>4</td>\n      <td>1</td>\n      <td>2</td>\n      <td>1</td>\n      <td>2</td>\n      <td>1</td>\n    </tr>\n    <tr>\n      <th>11</th>\n      <td>Granulocyte</td>\n      <td>Monocyte</td>\n      <td>1</td>\n      <td>1</td>\n      <td>1</td>\n      <td>1</td>\n      <td>1</td>\n      <td>1</td>\n    </tr>\n  </tbody>\n</table>\n</div>"
     },
     "execution_count": 19,
     "metadata": {},
     "output_type": "execute_result"
    }
   ],
   "source": [
    "df.filter(regex='^(source|target|min_)')"
   ]
  },
  {
   "cell_type": "code",
   "execution_count": 20,
   "id": "d59e4afbb48c9154",
   "metadata": {
    "collapsed": false,
    "ExecuteTime": {
     "end_time": "2024-09-05T15:15:45.771455Z",
     "start_time": "2024-09-05T15:15:45.702941Z"
    }
   },
   "outputs": [],
   "source": [
    "# In a similar manner, we can compute phenotype control, even though this time, only target attractor\n",
    "# (or phenotype, but in this case we consider attractor to be phenotype) is known.\n",
    "\n",
    "df['phenotype'] = df['target'].apply(lambda t: pick_result(ba.Control.phenotype_permanent(\n",
    "    graph=pstg,\n",
    "    phenotype=all_atts[t],\n",
    "    oscillation_type=\"forbidden\",\n",
    "    size_limit=10,\n",
    "    stop_when_found=True\n",
    ")))"
   ]
  },
  {
   "cell_type": "code",
   "execution_count": 21,
   "id": "3a63fa0825ea5b5d",
   "metadata": {
    "collapsed": false,
    "ExecuteTime": {
     "end_time": "2024-09-05T15:15:46.881404Z",
     "start_time": "2024-09-05T15:15:46.872712Z"
    }
   },
   "outputs": [],
   "source": [
    "df['min_phenotype_size'] = df['phenotype'].apply(lambda x: len(x[0]))\n",
    "df['min_phenotype_options'] = df['phenotype'].apply(lambda x: len(x))"
   ]
  },
  {
   "cell_type": "code",
   "execution_count": 22,
   "id": "3eed11a720075285",
   "metadata": {
    "collapsed": false,
    "ExecuteTime": {
     "end_time": "2024-09-05T15:15:48.880878Z",
     "start_time": "2024-09-05T15:15:48.863179Z"
    }
   },
   "outputs": [
    {
     "data": {
      "text/plain": "           source         target  min_onestep_size  min_onestep_options  \\\n0     Erythrocyte  Megakaryocyte                 2                    1   \n1     Erythrocyte       Monocyte                 1                    1   \n2     Erythrocyte    Granulocyte                 3                    1   \n3   Megakaryocyte    Erythrocyte                 2                    1   \n4   Megakaryocyte       Monocyte                 1                    1   \n5   Megakaryocyte    Granulocyte                 4                    3   \n6        Monocyte    Erythrocyte                 3                    1   \n7        Monocyte  Megakaryocyte                 3                    1   \n8        Monocyte    Granulocyte                 3                    1   \n9     Granulocyte    Erythrocyte                 4                    1   \n10    Granulocyte  Megakaryocyte                 4                    1   \n11    Granulocyte       Monocyte                 1                    1   \n\n    min_temporary_size  min_temporary_options  min_permanent_size  \\\n0                    1                      2                   1   \n1                    1                      1                   1   \n2                    2                      3                   2   \n3                    1                      2                   1   \n4                    1                      1                   1   \n5                    2                      3                   2   \n6                    3                      6                   3   \n7                    2                      1                   2   \n8                    2                      4                   2   \n9                    3                      6                   3   \n10                   2                      1                   2   \n11                   1                      1                   1   \n\n    min_permanent_options  min_phenotype_size  min_phenotype_options  \n0                       2                   2                      1  \n1                       1                   2                      1  \n2                       3                   2                      3  \n3                       2                   3                      2  \n4                       1                   2                      1  \n5                       3                   2                      3  \n6                       2                   3                      2  \n7                       1                   2                      1  \n8                       3                   2                      3  \n9                       2                   3                      2  \n10                      1                   2                      1  \n11                      1                   2                      1  ",
      "text/html": "<div>\n<style scoped>\n    .dataframe tbody tr th:only-of-type {\n        vertical-align: middle;\n    }\n\n    .dataframe tbody tr th {\n        vertical-align: top;\n    }\n\n    .dataframe thead th {\n        text-align: right;\n    }\n</style>\n<table border=\"1\" class=\"dataframe\">\n  <thead>\n    <tr style=\"text-align: right;\">\n      <th></th>\n      <th>source</th>\n      <th>target</th>\n      <th>min_onestep_size</th>\n      <th>min_onestep_options</th>\n      <th>min_temporary_size</th>\n      <th>min_temporary_options</th>\n      <th>min_permanent_size</th>\n      <th>min_permanent_options</th>\n      <th>min_phenotype_size</th>\n      <th>min_phenotype_options</th>\n    </tr>\n  </thead>\n  <tbody>\n    <tr>\n      <th>0</th>\n      <td>Erythrocyte</td>\n      <td>Megakaryocyte</td>\n      <td>2</td>\n      <td>1</td>\n      <td>1</td>\n      <td>2</td>\n      <td>1</td>\n      <td>2</td>\n      <td>2</td>\n      <td>1</td>\n    </tr>\n    <tr>\n      <th>1</th>\n      <td>Erythrocyte</td>\n      <td>Monocyte</td>\n      <td>1</td>\n      <td>1</td>\n      <td>1</td>\n      <td>1</td>\n      <td>1</td>\n      <td>1</td>\n      <td>2</td>\n      <td>1</td>\n    </tr>\n    <tr>\n      <th>2</th>\n      <td>Erythrocyte</td>\n      <td>Granulocyte</td>\n      <td>3</td>\n      <td>1</td>\n      <td>2</td>\n      <td>3</td>\n      <td>2</td>\n      <td>3</td>\n      <td>2</td>\n      <td>3</td>\n    </tr>\n    <tr>\n      <th>3</th>\n      <td>Megakaryocyte</td>\n      <td>Erythrocyte</td>\n      <td>2</td>\n      <td>1</td>\n      <td>1</td>\n      <td>2</td>\n      <td>1</td>\n      <td>2</td>\n      <td>3</td>\n      <td>2</td>\n    </tr>\n    <tr>\n      <th>4</th>\n      <td>Megakaryocyte</td>\n      <td>Monocyte</td>\n      <td>1</td>\n      <td>1</td>\n      <td>1</td>\n      <td>1</td>\n      <td>1</td>\n      <td>1</td>\n      <td>2</td>\n      <td>1</td>\n    </tr>\n    <tr>\n      <th>5</th>\n      <td>Megakaryocyte</td>\n      <td>Granulocyte</td>\n      <td>4</td>\n      <td>3</td>\n      <td>2</td>\n      <td>3</td>\n      <td>2</td>\n      <td>3</td>\n      <td>2</td>\n      <td>3</td>\n    </tr>\n    <tr>\n      <th>6</th>\n      <td>Monocyte</td>\n      <td>Erythrocyte</td>\n      <td>3</td>\n      <td>1</td>\n      <td>3</td>\n      <td>6</td>\n      <td>3</td>\n      <td>2</td>\n      <td>3</td>\n      <td>2</td>\n    </tr>\n    <tr>\n      <th>7</th>\n      <td>Monocyte</td>\n      <td>Megakaryocyte</td>\n      <td>3</td>\n      <td>1</td>\n      <td>2</td>\n      <td>1</td>\n      <td>2</td>\n      <td>1</td>\n      <td>2</td>\n      <td>1</td>\n    </tr>\n    <tr>\n      <th>8</th>\n      <td>Monocyte</td>\n      <td>Granulocyte</td>\n      <td>3</td>\n      <td>1</td>\n      <td>2</td>\n      <td>4</td>\n      <td>2</td>\n      <td>3</td>\n      <td>2</td>\n      <td>3</td>\n    </tr>\n    <tr>\n      <th>9</th>\n      <td>Granulocyte</td>\n      <td>Erythrocyte</td>\n      <td>4</td>\n      <td>1</td>\n      <td>3</td>\n      <td>6</td>\n      <td>3</td>\n      <td>2</td>\n      <td>3</td>\n      <td>2</td>\n    </tr>\n    <tr>\n      <th>10</th>\n      <td>Granulocyte</td>\n      <td>Megakaryocyte</td>\n      <td>4</td>\n      <td>1</td>\n      <td>2</td>\n      <td>1</td>\n      <td>2</td>\n      <td>1</td>\n      <td>2</td>\n      <td>1</td>\n    </tr>\n    <tr>\n      <th>11</th>\n      <td>Granulocyte</td>\n      <td>Monocyte</td>\n      <td>1</td>\n      <td>1</td>\n      <td>1</td>\n      <td>1</td>\n      <td>1</td>\n      <td>1</td>\n      <td>2</td>\n      <td>1</td>\n    </tr>\n  </tbody>\n</table>\n</div>"
     },
     "execution_count": 22,
     "metadata": {},
     "output_type": "execute_result"
    }
   ],
   "source": [
    "df.filter(regex='^(source|target|min_)')"
   ]
  },
  {
   "cell_type": "markdown",
   "id": "fa89267c86134af8",
   "metadata": {
    "collapsed": false
   },
   "source": [
    "We can use the phenotype control results to compare whether they are in align with phenotype branching observed in the source of the model"
   ]
  },
  {
   "cell_type": "code",
   "execution_count": 23,
   "id": "4f62a27affb31f06",
   "metadata": {
    "collapsed": false,
    "ExecuteTime": {
     "end_time": "2024-09-05T15:15:50.868010Z",
     "start_time": "2024-09-05T15:15:50.857652Z"
    }
   },
   "outputs": [
    {
     "name": "stdout",
     "output_type": "stream",
     "text": [
      "Erythrocyte [{'Fli1': False, 'GATA1': True, 'PU1': False}, {'EKLF': True, 'GATA1': True, 'PU1': False}]\n",
      "Megakaryocyte [{'PU1': False, 'Fli1': True}]\n",
      "Monocyte [{'CEBPa': False, 'PU1': True}]\n",
      "Granulocyte [{'cJun': False, 'CEBPa': True}, {'Gfi1': True, 'CEBPa': True}, {'EgrNab': False, 'CEBPa': True}]\n"
     ]
    }
   ],
   "source": [
    "for a in all_atts.keys():\n",
    "    pd_select = df.loc[df['target'] == a, 'phenotype'].iloc[0]\n",
    "    print(a, pd_select)"
   ]
  },
  {
   "cell_type": "markdown",
   "id": "d053b4dc01f053f9",
   "metadata": {
    "collapsed": false
   },
   "source": [
    "We can also compare the results with the original study\n",
    "\n",
    "![image](myeloid_phenotype.png)\n",
    "![image](phenotypes.png)\n"
   ]
  },
  {
   "cell_type": "markdown",
   "id": "2499343d058927f3",
   "metadata": {
    "collapsed": false
   },
   "source": [
    "We can see that the results are consistent, because:\n",
    "\n",
    "- Phenotype control is very similar to the original study. Since study does not assume all initial states, the control is slightly different and there are some extra variables to control (i.e. min phenotype controls with size greater than 2) but they are not in contradiction with the results. \n",
    "- There are some extra possible ways for the phenotype control, esp. negation of the last branch\n",
    "- Phenotype control is for most of the cases is a super set of the source-targets control. No source-target control is in a contradiction with the phenotype control.\n",
    "    - This shows that if we know the source and specific target in advance, we can further minimize the size of the control"
   ]
  },
  {
   "cell_type": "markdown",
   "id": "ecdd1de8bf44f49d",
   "metadata": {
    "collapsed": false
   },
   "source": [
    "## Everything below is just WIP\n",
    "\n",
    "Now let's imagine, that some functions of the original model are unknown\n",
    "\n",
    "![image](unknowns.png)"
   ]
  },
  {
   "cell_type": "code",
   "execution_count": 60,
   "id": "f7c8237823b3721a",
   "metadata": {
    "collapsed": false,
    "ExecuteTime": {
     "end_time": "2024-09-05T16:13:19.555317Z",
     "start_time": "2024-09-05T16:13:19.554392Z"
    }
   },
   "outputs": [],
   "source": [
    "# Load the model and create a Perturbation Graph\n",
    "\n",
    "model_unknown = ba.BooleanNetwork.from_file('myeloid_3unknown.aeon')\n",
    "pstg_unknown = ba.AsynchronousPerturbationGraph(model_unknown)"
   ]
  },
  {
   "cell_type": "code",
   "execution_count": 27,
   "id": "65b4a118960ff54c",
   "metadata": {
    "collapsed": false,
    "ExecuteTime": {
     "end_time": "2024-09-05T15:19:10.412717Z",
     "start_time": "2024-09-05T15:19:10.410332Z"
    }
   },
   "outputs": [
    {
     "data": {
      "text/plain": "1481544"
     },
     "execution_count": 27,
     "metadata": {},
     "output_type": "execute_result"
    }
   ],
   "source": [
    "# From the original graph, we can see how many colours there are (perturbed contains extra colors representing perturbations)\n",
    "\n",
    "ba.AsynchronousGraph(model_unknown).mk_unit_colors()\n",
    "CARDINALITY = ba.AsynchronousGraph(model_unknown).mk_unit_colors().cardinality()\n",
    "CARDINALITY"
   ]
  },
  {
   "cell_type": "code",
   "execution_count": 31,
   "outputs": [
    {
     "name": "stdout",
     "output_type": "stream",
     "text": [
      "Erythrocyte -> Megakaryocyte : [{'Fli1': True}, {'EKLF': False}] : [0.848337, 0.460526]\n",
      "Erythrocyte -> Monocyte : [{'PU1': True}] : [0.072714]\n",
      "Erythrocyte -> Granulocyte : [{'cJun': False, 'CEBPa': True}, {'CEBPa': True, 'Gfi1': True}, {'EgrNab': False, 'CEBPa': True}] : [0.671052, 0.671052, 0.671052]\n",
      "Megakaryocyte -> Erythrocyte : [{'Fli1': False}, {'EKLF': True}] : [0.460526, 0.460526]\n",
      "Megakaryocyte -> Monocyte : [{'PU1': True}] : [0.039473]\n",
      "Megakaryocyte -> Granulocyte : [{'CEBPa': True, 'cJun': False}, {'Gfi1': True, 'CEBPa': True}, {'CEBPa': True, 'EgrNab': False}] : [0.28324, 0.28324, 0.28324]\n",
      "Monocyte -> Erythrocyte : [{'Fli1': False, 'GATA1': True, 'PU1': False}, {'GATA1': True, 'EKLF': True, 'PU1': False}] : [0.938596, 0.938596]\n",
      "Monocyte -> Megakaryocyte : [{'PU1': False, 'Fli1': True}] : [0.460526]\n",
      "Monocyte -> Granulocyte : [{'CEBPa': True, 'cJun': False}, {'Gfi1': True, 'CEBPa': True}, {'CEBPa': True, 'EgrNab': False}] : [1.0, 1.0, 1.0]\n",
      "Granulocyte -> Erythrocyte : [{'PU1': False, 'GATA1': True, 'Fli1': False}, {'EKLF': True, 'PU1': False, 'GATA1': True}] : [0.921052, 0.921052]\n",
      "Granulocyte -> Megakaryocyte : [{'PU1': False, 'Fli1': True}] : [0.460526]\n",
      "Granulocyte -> Monocyte : [{'CEBPa': False}] : [0.921052]\n"
     ]
    }
   ],
   "source": [
    "# Find attractors representing the four possible phenotypes\n",
    "\n",
    "attractors = ba.Attractors.attractors(pstg_unknown)\n",
    "attractors = [ a.vertices() for a in attractors ]\n",
    "\n",
    "erythrocyte = pstg_unknown.mk_subspace_vertices({ \"EKLF\": True })\n",
    "erythrocyte_att = [ a for a in attractors if not a.intersect(erythrocyte).is_empty() ][0]\n",
    "print('erythrocyte attractor:',erythrocyte_att.cardinality())\n",
    "\n",
    "megakaryocyte = pstg_unknown.mk_subspace_vertices({ \"Fli1\": True })\n",
    "megakaryocyte_att = [ a for a in attractors if not a.intersect(megakaryocyte).is_empty() ][0]\n",
    "print('megakaryocyte attractor:', megakaryocyte_att.cardinality())\n",
    "\n",
    "monocyte = pstg_unknown.mk_subspace_vertices({ \"cJun\": True })\n",
    "monocyte_att = [ a for a in attractors if not a.intersect(monocyte).is_empty() ][0]\n",
    "print('monocyte attractor:', monocyte_att.cardinality())\n",
    "\n",
    "\n",
    "granulocyte = pstg_unknown.mk_subspace_vertices({ \"Gfi1\": True })\n",
    "granulocyte_att = [ a for a in attractors if not a.intersect(granulocyte).is_empty() ][0]\n",
    "print('granulocyte attractor:', granulocyte_att.cardinality())"
   ],
   "metadata": {
    "collapsed": false,
    "ExecuteTime": {
     "end_time": "2024-09-05T15:25:24.662033Z",
     "start_time": "2024-09-05T15:25:19.235841Z"
    }
   },
   "id": "e95278c1beaf415d"
  },
  {
   "cell_type": "code",
   "execution_count": 62,
   "outputs": [
    {
     "name": "stdout",
     "output_type": "stream",
     "text": [
      "erythrocyte attractors 5\n",
      "erythrocyte attractor sizes [3, 4, 3, 2, 1]\n",
      "erythrocyte states 5\n",
      "megakaryocyte attractors 5\n",
      "megakaryocyte attractor sizes [3, 4, 3, 2, 1]\n",
      "megakaryocyte states 5\n",
      "monocyte attractors 6\n",
      "monocyte attractor sizes [3, 4, 4, 3, 2, 1]\n",
      "monocyte states 6\n",
      "granulocyte attractors 7\n",
      "granulocyte attractor sizes [2, 4, 5, 4, 3, 2, 1]\n",
      "granulocyte states 7\n"
     ]
    }
   ],
   "source": [
    "# TODO: There were 6 single-state attractors in the original model, why there is just one in the version of the model with three unknown variables?\n",
    "attractors = ba.Attractors.attractors(pstg)\n",
    "attractors = [ a.vertices().cardinality() for a in attractors ]\n",
    "print(attractors)\n",
    "\n",
    "attractors = ba.Attractors.attractors(pstg_unknown)\n",
    "attractors = [ a.vertices().cardinality() for a in attractors ]\n",
    "print(attractors)"
   ],
   "metadata": {
    "collapsed": false,
    "ExecuteTime": {
     "end_time": "2024-09-05T16:17:56.877641Z",
     "start_time": "2024-09-05T16:17:55.845223Z"
    }
   },
   "id": "705bbeb0a7fd71f5"
  },
  {
   "cell_type": "code",
   "execution_count": 41,
   "id": "ee72658ed1ee4e83",
   "metadata": {
    "collapsed": false,
    "ExecuteTime": {
     "end_time": "2024-09-05T15:49:06.658392Z",
     "start_time": "2024-09-05T15:49:06.652037Z"
    }
   },
   "outputs": [
    {
     "name": "stdout",
     "output_type": "stream",
     "text": [
      "{'SCL': None, 'cJun': None, 'EgrNab': None, 'CEBPa': None, 'FOG1': True, 'Fli1': False, 'GATA2': False, 'EKLF': True, 'GATA1': True, 'Gfi1': None, 'PU1': None}\n"
     ]
    }
   ],
   "source": [
    "# erythrocyte = pstg_unknown.mk_subspace_vertices({'Gfi1': False, 'EKLF': True, 'FOG1': True, 'GATA2': False, 'PU1': False, 'GATA1': True, 'SCL': True, 'cJun': False, 'Fli1': False, 'CEBPa': False, 'EgrNab': False})\n",
    "# \n",
    "# megakaryocyte = pstg_unknown.mk_subspace_vertices(({'CEBPa': False,'EKLF': False,'EgrNab': False,'FOG1': True,'Fli1': True,'GATA1': True,'GATA2': False,'Gfi1': False,'PU1': False,'SCL': True,'cJun': False}))\n",
    "# \n",
    "# monocyte = pstg_unknown.mk_subspace_vertices({'CEBPa': False,'EKLF': False,'EgrNab': True,'FOG1': False,'Fli1': False,'GATA1': False,'GATA2': False,'Gfi1': False,'PU1': True,'SCL': False,'cJun': True})\n",
    "# \n",
    "# granulocyte = pstg_unknown.mk_subspace_vertices({'CEBPa': True,'EKLF': False,'EgrNab': False,'FOG1': False,'Fli1': False,'GATA1': False,'GATA2': False,'Gfi1': True,'PU1': True,'SCL': False,'cJun': False})\n",
    "# \n",
    "# all_atts = {\n",
    "#     \"Erythrocyte\": erythrocyte_att,\n",
    "#     \"Megakaryocyte\": megakaryocyte_att,\n",
    "#     \"Monocyte\": monocyte_att,\n",
    "#     \"Granulocyte\": granulocyte_att\n",
    "# }\n",
    "# \n",
    "# # Generate al pair possibilities for computing the source-target control\n",
    "# all_att_pairs = [(s,t) for s in all_atts.keys() for t in all_atts.keys() if s != t]"
   ]
  },
  {
   "cell_type": "code",
   "execution_count": 55,
   "outputs": [
    {
     "ename": "TypeError",
     "evalue": "'biodivine_aeon.VertexSet' object is not an iterator",
     "output_type": "error",
     "traceback": [
      "\u001B[0;31m---------------------------------------------------------------------------\u001B[0m",
      "\u001B[0;31mTypeError\u001B[0m                                 Traceback (most recent call last)",
      "Cell \u001B[0;32mIn[55], line 1\u001B[0m\n\u001B[0;32m----> 1\u001B[0m \u001B[38;5;28;43mnext\u001B[39;49m\u001B[43m(\u001B[49m\u001B[43merythrocyte_att\u001B[49m\u001B[43m)\u001B[49m[\u001B[38;5;241m0\u001B[39m]\u001B[38;5;241m.\u001B[39mto_named_dict()\n",
      "\u001B[0;31mTypeError\u001B[0m: 'biodivine_aeon.VertexSet' object is not an iterator"
     ]
    }
   ],
   "source": [
    "df"
   ],
   "metadata": {
    "collapsed": false,
    "ExecuteTime": {
     "end_time": "2024-09-05T16:00:32.255192Z",
     "start_time": "2024-09-05T16:00:32.253002Z"
    }
   },
   "id": "e501b574a8792453"
  },
  {
   "cell_type": "code",
   "execution_count": 56,
   "outputs": [
    {
     "ename": "AttributeError",
     "evalue": "'biodivine_aeon.VertexSet' object has no attribute '__next__'",
     "output_type": "error",
     "traceback": [
      "\u001B[0;31m---------------------------------------------------------------------------\u001B[0m",
      "\u001B[0;31mAttributeError\u001B[0m                            Traceback (most recent call last)",
      "Cell \u001B[0;32mIn[56], line 1\u001B[0m\n\u001B[0;32m----> 1\u001B[0m \u001B[43merythrocyte_att\u001B[49m\u001B[38;5;241;43m.\u001B[39;49m\u001B[38;5;21;43m__next__\u001B[39;49m()\n",
      "\u001B[0;31mAttributeError\u001B[0m: 'biodivine_aeon.VertexSet' object has no attribute '__next__'"
     ]
    }
   ],
   "source": [
    "for _, r in df.iterrows():\n",
    "    control = ba.Control.attractor_permanent(pstg_unknown, all_atts[r['source']], all_atts[r['target']])\n",
    "    robustness = [control.perturbation_robustness(p) for p in r['permanent']]\n",
    "    print(r['source'], \"->\", r[\"target\"], ':', r['permanent'], ':', robustness)\n"
   ],
   "metadata": {
    "collapsed": false,
    "ExecuteTime": {
     "end_time": "2024-09-05T16:00:46.966665Z",
     "start_time": "2024-09-05T16:00:46.953868Z"
    }
   },
   "id": "7c8650db1719e74a"
  },
  {
   "cell_type": "code",
   "execution_count": 59,
   "outputs": [
    {
     "data": {
      "text/plain": "{'GATA2': False,\n 'cJun': False,\n 'PU1': False,\n 'EgrNab': False,\n 'FOG1': True,\n 'Fli1': False,\n 'CEBPa': False,\n 'GATA1': True,\n 'SCL': True,\n 'EKLF': True,\n 'Gfi1': False}"
     },
     "execution_count": 59,
     "metadata": {},
     "output_type": "execute_result"
    }
   ],
   "source": [
    "ba.LOG_LEVEL = ba.LOG_VERBOSE"
   ],
   "metadata": {
    "collapsed": false,
    "ExecuteTime": {
     "end_time": "2024-09-05T16:01:05.650155Z",
     "start_time": "2024-09-05T16:01:05.642737Z"
    }
   },
   "id": "421a60c2a25ddcec"
  },
  {
   "cell_type": "code",
   "execution_count": 58,
   "id": "12731ca169477a75",
   "metadata": {
    "collapsed": false,
    "ExecuteTime": {
     "end_time": "2024-09-05T16:00:50.793933Z",
     "start_time": "2024-09-05T16:00:50.790429Z"
    }
   },
   "outputs": [
    {
     "name": "stdout",
     "output_type": "stream",
     "text": [
      "1\n"
     ]
    }
   ],
   "source": [
    "# An example of the phenotype control computation\n",
    "\n",
    "# TODO: This will compute ad infinitum, removing phen_sym_results.select_by_size helps\n",
    "\n",
    "phen_sym_results = ba.Control.phenotype_permanent(\n",
    "    graph=pstg_unknown,\n",
    "    phenotype=erythrocyte_att,\n",
    "    oscillation_type=\"forbidden\",\n",
    "    size_limit=2,\n",
    "    stop_when_found=True,\n",
    ")\n",
    "\n",
    "# Why there is a working phenotype control of 1? Probably attractor got matched to some other state?\n",
    "print([r for r in phen_sym_results.select_by_size(size=2, up_to=True)])"
   ]
  },
  {
   "cell_type": "code",
   "execution_count": null,
   "id": "af65f16f17f1600b",
   "metadata": {
    "collapsed": false
   },
   "outputs": [],
   "source": [
    "# We can find out the robustness of previously computed perturbations\n",
    "mega_phen = ba.Control.phenotype_permanent(\n",
    "    graph=pstg_unknown,\n",
    "    phenotype=megakaryocyte_att,\n",
    "    oscillation_type=\"forbidden\",\n",
    "    size_limit=3,\n",
    "    stop_when_found=False\n",
    ")"
   ]
  },
  {
   "cell_type": "code",
   "execution_count": null,
   "id": "27467579-9d7b-49c1-bcb0-55ae9f414831",
   "metadata": {},
   "outputs": [],
   "source": [
    "p = { v: None for v in pstg_unknown.perturbable_network_variable_names() }\n",
    "p[\"Fli1\"] = True\n",
    "p[\"PU1\"] = False\n",
    "mega_phen.perturbation_robustness(p)"
   ]
  },
  {
   "cell_type": "code",
   "execution_count": null,
   "id": "9a2f8ee50f53c90a",
   "metadata": {
    "collapsed": false
   },
   "outputs": [],
   "source": [
    "# We can find out the robustness of previously computed perturbations\n",
    "mega_erythro = ba.Control.attractor_permanent(\n",
    "    graph=pstg_unknown,\n",
    "    source=megakaryocyte_att.pick_singleton(),\n",
    "    target=erythrocyte_att.pick_singleton()\n",
    ")"
   ]
  },
  {
   "cell_type": "code",
   "execution_count": null,
   "id": "0228af8d-b894-44fe-bca9-e9746c23b99c",
   "metadata": {},
   "outputs": [],
   "source": [
    "p = { v: None for v in pstg_unknown.perturbable_network_variable_names() }\n",
    "p[\"EKLF\"] = True\n",
    "mega_erythro.perturbation_robustness(p)"
   ]
  },
  {
   "cell_type": "code",
   "execution_count": null,
   "id": "8d08832afedafc1e",
   "metadata": {
    "collapsed": false
   },
   "outputs": [],
   "source": [
    "results = mega_erythro.select_by_size(size=3, up_to=True).select_by_robustness(\n",
    "    threshold=0.99,    \n",
    "    result_limit=100\n",
    ")\n",
    "for (model, r, colors) in results:\n",
    "    print(model.perturbed_named_dict(), r, colors)"
   ]
  },
  {
   "cell_type": "code",
   "execution_count": null,
   "id": "b7b2281d-f0a7-4839-8e9b-88f816f83fdd",
   "metadata": {},
   "outputs": [],
   "source": []
  }
 ],
 "metadata": {
  "kernelspec": {
   "display_name": "Python 3 (ipykernel)",
   "language": "python",
   "name": "python3"
  },
  "language_info": {
   "codemirror_mode": {
    "name": "ipython",
    "version": 3
   },
   "file_extension": ".py",
   "mimetype": "text/x-python",
   "name": "python",
   "nbconvert_exporter": "python",
   "pygments_lexer": "ipython3",
   "version": "3.12.3"
  }
 },
 "nbformat": 4,
 "nbformat_minor": 5
}
