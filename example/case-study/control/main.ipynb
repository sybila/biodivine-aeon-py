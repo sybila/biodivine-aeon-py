{
 "cells": [
  {
   "cell_type": "code",
   "execution_count": 1,
   "id": "initial_id",
   "metadata": {
    "collapsed": true,
    "ExecuteTime": {
     "end_time": "2024-04-03T13:47:12.001572Z",
     "start_time": "2024-04-03T13:47:10.934313Z"
    }
   },
   "outputs": [
    {
     "name": "stdout",
     "output_type": "stream",
     "text": [
      "Defaulting to user installation because normal site-packages is not writeable\r\n",
      "Processing /Users/smijeva/PycharmProjects/biodivine-aeon-py/target/wheels/biodivine_aeon-0.0.9a4-cp37-abi3-macosx_11_0_arm64.whl\r\n",
      "Installing collected packages: biodivine-aeon\r\n",
      "  Attempting uninstall: biodivine-aeon\r\n",
      "    Found existing installation: biodivine_aeon 0.0.9a4\r\n",
      "    Uninstalling biodivine_aeon-0.0.9a4:\r\n",
      "      Successfully uninstalled biodivine_aeon-0.0.9a4\r\n",
      "Successfully installed biodivine-aeon-0.0.9a4\r\n",
      "\r\n",
      "\u001B[1m[\u001B[0m\u001B[34;49mnotice\u001B[0m\u001B[1;39;49m]\u001B[0m\u001B[39;49m A new release of pip is available: \u001B[0m\u001B[31;49m23.2.1\u001B[0m\u001B[39;49m -> \u001B[0m\u001B[32;49m24.0\u001B[0m\r\n",
      "\u001B[1m[\u001B[0m\u001B[34;49mnotice\u001B[0m\u001B[1;39;49m]\u001B[0m\u001B[39;49m To update, run: \u001B[0m\u001B[32;49m/Library/Developer/CommandLineTools/usr/bin/python3 -m pip install --upgrade pip\u001B[0m\r\n"
     ]
    }
   ],
   "source": [
    "!/usr/bin/python3 -m pip install --force-reinstall ./../../../target/wheels/biodivine_aeon-0.0.9a4-cp37-abi3-macosx_11_0_arm64.whl"
   ]
  },
  {
   "cell_type": "markdown",
   "source": [
    "## Demonstration of control on Myeloid model\n",
    "\n",
    "The model we will observe is coming from Krumsiek, J., Marr, C., Schroeder, T., and Theis, F. J. (2011). Hierarchical differentiation of myeloid progenitors is encoded in the transcription factor network. PloS one, 6(8), e22649.\n",
    "\n",
    "It describes myeloid cell differentiation into four possible types - erythrocytes, megakaryocytes, monocytes, and granulocytes.\n",
    "\n",
    "![Myeloid_differentiation](myeloid.png)"
   ],
   "metadata": {
    "collapsed": false
   },
   "id": "1d502125b99c6234"
  },
  {
   "cell_type": "code",
   "execution_count": 2,
   "outputs": [],
   "source": [
    "import biodivine_aeon as ba\n",
    "import pandas as pd"
   ],
   "metadata": {
    "collapsed": false,
    "ExecuteTime": {
     "end_time": "2024-04-03T13:47:12.546847Z",
     "start_time": "2024-04-03T13:47:12.002230Z"
    }
   },
   "id": "11969bfac9ef8031"
  },
  {
   "cell_type": "code",
   "execution_count": 3,
   "outputs": [],
   "source": [
    "# Load the model and create a Perturbation Graph\n",
    "\n",
    "model = ba.BooleanNetwork.from_file('myeloid_witness.aeon')\n",
    "pstg = ba.PerturbationGraph(model)"
   ],
   "metadata": {
    "collapsed": false,
    "ExecuteTime": {
     "end_time": "2024-04-03T13:47:12.555854Z",
     "start_time": "2024-04-03T13:47:12.547174Z"
    }
   },
   "id": "c6edd4931c7190eb"
  },
  {
   "cell_type": "code",
   "execution_count": 4,
   "outputs": [],
   "source": [
    "# Find attractors representing the four possible phenotypes\n",
    "\n",
    "attractors = ba.find_attractors(pstg.as_original())\n",
    "\n",
    "erythrocyte = pstg.fix_variable(\"EKLF\", True).vertices()\n",
    "erythrocyte_att = [a.vertices() for a in attractors if a.vertices().intersect(erythrocyte).cardinality() > 0.0][0]\n",
    "\n",
    "megakaryocyte = pstg.fix_variable(\"Fli1\", True).vertices()\n",
    "megakaryocyte_att = [a.vertices() for a in attractors if a.vertices().intersect(megakaryocyte).cardinality() > 0.0][0]\n",
    "\n",
    "monocyte = pstg.fix_variable(\"cJun\", True).vertices()\n",
    "monocyte_att = [a.vertices() for a in attractors if a.vertices().intersect(monocyte).cardinality() > 0.0][0]\n",
    "\n",
    "granulocyte = pstg.fix_variable(\"Gfi1\", True).vertices()\n",
    "granulocyte_att = [a.vertices() for a in attractors if a.vertices().intersect(granulocyte).cardinality() > 0.0][0]"
   ],
   "metadata": {
    "collapsed": false,
    "ExecuteTime": {
     "end_time": "2024-04-03T13:47:12.564892Z",
     "start_time": "2024-04-03T13:47:12.562030Z"
    }
   },
   "id": "3dc68ef7bec3b2d8"
  },
  {
   "cell_type": "code",
   "execution_count": 5,
   "outputs": [],
   "source": [
    "# Let's demonstrate now, how we can compute source-target control.\n",
    "\n",
    "# First we need to compute a symbolic structure containing the perurbations and results\n",
    "sym_results: ba.AttractorControlMap = pstg.one_step_control(erythrocyte_att, megakaryocyte_att, verbose=True)"
   ],
   "metadata": {
    "collapsed": false,
    "ExecuteTime": {
     "end_time": "2024-04-03T13:47:12.579059Z",
     "start_time": "2024-04-03T13:47:12.574702Z"
    }
   },
   "id": "ad993245710ad338"
  },
  {
   "cell_type": "code",
   "execution_count": 6,
   "outputs": [
    {
     "data": {
      "text/plain": "ColorSet(cardinality=0)"
     },
     "execution_count": 6,
     "metadata": {},
     "output_type": "execute_result"
    }
   ],
   "source": [
    "# Now we can either look up for what colors does a specific perturbation work\n",
    "sym_results.perturbation_working_colors({\"v_EKLF\": True})"
   ],
   "metadata": {
    "collapsed": false,
    "ExecuteTime": {
     "end_time": "2024-04-03T13:47:12.583721Z",
     "start_time": "2024-04-03T13:47:12.579504Z"
    }
   },
   "id": "8fc32f37fe13d238"
  },
  {
   "cell_type": "code",
   "execution_count": 7,
   "outputs": [
    {
     "data": {
      "text/plain": "[({'EKLF': False, 'Fli1': True}, ColorSet(cardinality=1))]"
     },
     "execution_count": 7,
     "metadata": {},
     "output_type": "execute_result"
    }
   ],
   "source": [
    "# Or just retrieve all smallest colours with a given minimal robustness to avoid guessing\n",
    "sym_results.working_perturbations(min_robustness=0.99, verbose=False,return_all=False)"
   ],
   "metadata": {
    "collapsed": false,
    "ExecuteTime": {
     "end_time": "2024-04-03T13:47:12.596686Z",
     "start_time": "2024-04-03T13:47:12.592258Z"
    }
   },
   "id": "21f94010e630c102"
  },
  {
   "cell_type": "code",
   "execution_count": 8,
   "outputs": [
    {
     "name": "stdout",
     "output_type": "stream",
     "text": [
      "[0] >> Admissible fixed(Q) sets: 1\n",
      ">>>>>>>>>>>>> Computing phenotype control with allowed perturbations of cardinality 1\n"
     ]
    },
    {
     "data": {
      "text/plain": "[({'PU1': False, 'Fli1': True}, ColorSet(cardinality=1))]"
     },
     "execution_count": 8,
     "metadata": {},
     "output_type": "execute_result"
    },
    {
     "name": "stdout",
     "output_type": "stream",
     "text": [
      "Trap cardinality 1\n",
      "Cardinality of phenotype trap set: 1\n",
      "Inverse trap cardinality 1088\n",
      "Cardinality of inversed trap set: 1088\n",
      "Inverse control cardinality 2048\n",
      "Cardinality of inversed control map: 2048\n",
      "Cardinality of control map: 0\n",
      "Best robustness 0 observed in 0 perturbations.\n",
      ">>>>>> Elapsed: 0ms\n",
      "Best robustness 0 observed in 0 perturbations.\n",
      "Robustness 0 achieved for perturbation size 0.\n",
      "[1] >> Admissible fixed(Q) sets: 11\n",
      ">>>>>>>>>>>>> Computing phenotype control with allowed perturbations of cardinality 11\n",
      "Trap cardinality 11\n",
      "Cardinality of phenotype trap set: 11\n",
      "Inverse trap cardinality 16768\n",
      "Cardinality of inversed trap set: 16768\n",
      "Inverse control cardinality 22528\n",
      "Cardinality of inversed control map: 22528\n",
      "Cardinality of control map: 0\n",
      "Best robustness 0 observed in 0 perturbations.\n",
      ">>>>>> Elapsed: 1ms\n",
      "Best robustness 0 observed in 0 perturbations.\n",
      "Robustness 0 achieved for perturbation size 1.\n",
      "[2] >> Admissible fixed(Q) sets: 55\n",
      ">>>>>>>>>>>>> Computing phenotype control with allowed perturbations of cardinality 55\n",
      "Trap cardinality 55\n",
      "Cardinality of phenotype trap set: 55\n",
      "Inverse trap cardinality 97008\n",
      "Cardinality of inversed trap set: 97008\n",
      "Inverse control cardinality 112128\n",
      "Cardinality of inversed control map: 112128\n",
      "Cardinality of control map: 512\n",
      ">>> {\"PU1\": false, \"Fli1\": true}: 1; rho = 1.000\n",
      "Best robustness 1 observed in 1 perturbations.\n",
      ">>>>>> Elapsed: 1ms\n",
      ">>> {\"Fli1\": true, \"PU1\": false}: 1; rho = 1.000\n",
      "Best robustness 1 observed in 1 perturbations.\n",
      "Robustness 1 achieved for perturbation size 2.\n",
      "Robustness 1 achieved for perturbation size 2.\n"
     ]
    }
   ],
   "source": [
    "# In a similar manner, we can also compute phenotype control. Nonetheless, providing jus target state (or a set of states) is sufficient in this case)\n",
    "\n",
    "# There are three possible configurations of oscillation\n",
    "# Forbidden -> attractor where model stabilizes cannot oscillate trhough the phenotype (must stabilize in it)\n",
    "# Allowed -> attractor where model stabilizes may oscillate\n",
    "# Required -> attractor where model stabilizes MUST oscillate through the phenotype (i.e. have states both inside and outside of the phenotype space)\n",
    "\n",
    "# In this demonstration we use forbidden type of oscillation, since myeloid model does not show oscillations and this type is most similar to the source-target control\n",
    "\n",
    "# Even though the model is small, using ceiled version of the function is recommended, since it allows stop_early functionality, computing the perturbations until 100% robustness is hit or specifying a sensible size_bounc\n",
    "# phen_sym_results = pstg.phenotype_permanent_control(phenotype=megakaryocyte_att, oscillation=\"Forbidden\", verbose=True)\n",
    "phen_sym_results = pstg.ceiled_phenotype_permanent_control(\n",
    "        phenotype=megakaryocyte_att,\n",
    "        size_bound=11,\n",
    "        oscillation=\"Forbidden\",\n",
    "        stop_early=True,\n",
    "        verbose=True)\n",
    "phen_sym_results.working_perturbations(min_robustness=0.99, verbose=False,return_all=True)"
   ],
   "metadata": {
    "collapsed": false,
    "ExecuteTime": {
     "end_time": "2024-04-03T13:47:12.619546Z",
     "start_time": "2024-04-03T13:47:12.602433Z"
    }
   },
   "id": "63cbeae745ce11b1"
  },
  {
   "cell_type": "code",
   "execution_count": 9,
   "outputs": [],
   "source": [
    "# Now we can compute a full sets of results for all pairs of source-target control"
   ],
   "metadata": {
    "collapsed": false,
    "ExecuteTime": {
     "end_time": "2024-04-03T13:47:12.619704Z",
     "start_time": "2024-04-03T13:47:12.606992Z"
    }
   },
   "id": "247b6e3dbaef4a9e"
  },
  {
   "cell_type": "code",
   "execution_count": 10,
   "outputs": [],
   "source": [
    "all_atts = {\n",
    "    \"Erythrocyte\": erythrocyte_att,\n",
    "    \"Megakaryocyte\": megakaryocyte_att,\n",
    "    \"Monocyte\": monocyte_att,\n",
    "    \"Granulocyte\": granulocyte_att\n",
    "}\n",
    "\n",
    "# Generate al pair possibilities for computing the source-target control\n",
    "all_att_pairs = [(s,t) for s in all_atts.keys() for t in all_atts.keys() if s != t]"
   ],
   "metadata": {
    "collapsed": false,
    "ExecuteTime": {
     "end_time": "2024-04-03T13:47:12.619766Z",
     "start_time": "2024-04-03T13:47:12.610946Z"
    }
   },
   "id": "405ad725fbc5e9e1"
  },
  {
   "cell_type": "code",
   "execution_count": 11,
   "outputs": [],
   "source": [
    "data = {\n",
    "    'source': [s for s, _ in all_att_pairs],\n",
    "    'target': [t for _, t in all_att_pairs],\n",
    "    'onestep': [pstg.one_step_control(all_atts[s], all_atts[t], True).working_perturbations(min_robustness=0.99, verbose=False,return_all=False) for s, t in all_att_pairs],\n",
    "    'temporary': [pstg.temporary_control(all_atts[s], all_atts[t], True).working_perturbations(min_robustness=0.99, verbose=False,return_all=False) for s, t in all_att_pairs],\n",
    "    'permanent': [pstg.permanent_control(all_atts[s], all_atts[t], True).working_perturbations(min_robustness=0.99, verbose=False,return_all=False) for s, t in all_att_pairs],\n",
    "}\n",
    "\n",
    "df = pd.DataFrame(data)"
   ],
   "metadata": {
    "collapsed": false,
    "ExecuteTime": {
     "end_time": "2024-04-03T13:47:13.924143Z",
     "start_time": "2024-04-03T13:47:13.584568Z"
    }
   },
   "id": "86ea9b904b0027de"
  },
  {
   "cell_type": "code",
   "execution_count": 12,
   "outputs": [
    {
     "data": {
      "text/plain": "           source         target  \\\n0     Erythrocyte  Megakaryocyte   \n1     Erythrocyte       Monocyte   \n2     Erythrocyte    Granulocyte   \n3   Megakaryocyte    Erythrocyte   \n4   Megakaryocyte       Monocyte   \n5   Megakaryocyte    Granulocyte   \n6        Monocyte    Erythrocyte   \n7        Monocyte  Megakaryocyte   \n8        Monocyte    Granulocyte   \n9     Granulocyte    Erythrocyte   \n10    Granulocyte  Megakaryocyte   \n11    Granulocyte       Monocyte   \n\n                                              onestep  \\\n0   [({'EKLF': False, 'Fli1': True}, ColorSet(card...   \n1          [({'PU1': True}, ColorSet(cardinality=1))]   \n2   [({'CEBPa': True, 'GATA1': False, 'Gfi1': True...   \n3   [({'Fli1': False, 'EKLF': True}, ColorSet(card...   \n4          [({'PU1': True}, ColorSet(cardinality=1))]   \n5   [({'CEBPa': True, 'Fli1': False, 'Gfi1': True,...   \n6   [({'PU1': False, 'EKLF': True, 'GATA1': True},...   \n7   [({'Fli1': True, 'GATA1': True, 'PU1': False},...   \n8   [({'Gfi1': True, 'EgrNab': False, 'CEBPa': Tru...   \n9   [({'GATA1': True, 'EKLF': True, 'PU1': False, ...   \n10  [({'CEBPa': False, 'Fli1': True, 'PU1': False,...   \n11      [({'CEBPa': False}, ColorSet(cardinality=1))]   \n\n                                            temporary  \\\n0   [({'EKLF': False}, ColorSet(cardinality=1)), (...   \n1          [({'PU1': True}, ColorSet(cardinality=1))]   \n2   [({'EgrNab': False, 'CEBPa': True}, ColorSet(c...   \n3   [({'EKLF': True}, ColorSet(cardinality=1)), ({...   \n4          [({'PU1': True}, ColorSet(cardinality=1))]   \n5   [({'CEBPa': True, 'EgrNab': False}, ColorSet(c...   \n6   [({'GATA2': True, 'EKLF': True, 'GATA1': True}...   \n7   [({'Fli1': True, 'PU1': False}, ColorSet(cardi...   \n8   [({'CEBPa': True, 'EgrNab': False}, ColorSet(c...   \n9   [({'GATA2': True, 'GATA1': True, 'EKLF': True}...   \n10  [({'PU1': False, 'Fli1': True}, ColorSet(cardi...   \n11      [({'CEBPa': False}, ColorSet(cardinality=1))]   \n\n                                            permanent  \n0   [({'EKLF': False}, ColorSet(cardinality=1)), (...  \n1          [({'PU1': True}, ColorSet(cardinality=1))]  \n2   [({'CEBPa': True, 'EgrNab': False}, ColorSet(c...  \n3   [({'EKLF': True}, ColorSet(cardinality=1)), ({...  \n4          [({'PU1': True}, ColorSet(cardinality=1))]  \n5   [({'CEBPa': True, 'EgrNab': False}, ColorSet(c...  \n6   [({'GATA1': True, 'PU1': False, 'EKLF': True},...  \n7   [({'Fli1': True, 'PU1': False}, ColorSet(cardi...  \n8   [({'CEBPa': True, 'EgrNab': False}, ColorSet(c...  \n9   [({'GATA1': True, 'EKLF': True, 'PU1': False},...  \n10  [({'Fli1': True, 'PU1': False}, ColorSet(cardi...  \n11      [({'CEBPa': False}, ColorSet(cardinality=1))]  ",
      "text/html": "<div>\n<style scoped>\n    .dataframe tbody tr th:only-of-type {\n        vertical-align: middle;\n    }\n\n    .dataframe tbody tr th {\n        vertical-align: top;\n    }\n\n    .dataframe thead th {\n        text-align: right;\n    }\n</style>\n<table border=\"1\" class=\"dataframe\">\n  <thead>\n    <tr style=\"text-align: right;\">\n      <th></th>\n      <th>source</th>\n      <th>target</th>\n      <th>onestep</th>\n      <th>temporary</th>\n      <th>permanent</th>\n    </tr>\n  </thead>\n  <tbody>\n    <tr>\n      <th>0</th>\n      <td>Erythrocyte</td>\n      <td>Megakaryocyte</td>\n      <td>[({'EKLF': False, 'Fli1': True}, ColorSet(card...</td>\n      <td>[({'EKLF': False}, ColorSet(cardinality=1)), (...</td>\n      <td>[({'EKLF': False}, ColorSet(cardinality=1)), (...</td>\n    </tr>\n    <tr>\n      <th>1</th>\n      <td>Erythrocyte</td>\n      <td>Monocyte</td>\n      <td>[({'PU1': True}, ColorSet(cardinality=1))]</td>\n      <td>[({'PU1': True}, ColorSet(cardinality=1))]</td>\n      <td>[({'PU1': True}, ColorSet(cardinality=1))]</td>\n    </tr>\n    <tr>\n      <th>2</th>\n      <td>Erythrocyte</td>\n      <td>Granulocyte</td>\n      <td>[({'CEBPa': True, 'GATA1': False, 'Gfi1': True...</td>\n      <td>[({'EgrNab': False, 'CEBPa': True}, ColorSet(c...</td>\n      <td>[({'CEBPa': True, 'EgrNab': False}, ColorSet(c...</td>\n    </tr>\n    <tr>\n      <th>3</th>\n      <td>Megakaryocyte</td>\n      <td>Erythrocyte</td>\n      <td>[({'Fli1': False, 'EKLF': True}, ColorSet(card...</td>\n      <td>[({'EKLF': True}, ColorSet(cardinality=1)), ({...</td>\n      <td>[({'EKLF': True}, ColorSet(cardinality=1)), ({...</td>\n    </tr>\n    <tr>\n      <th>4</th>\n      <td>Megakaryocyte</td>\n      <td>Monocyte</td>\n      <td>[({'PU1': True}, ColorSet(cardinality=1))]</td>\n      <td>[({'PU1': True}, ColorSet(cardinality=1))]</td>\n      <td>[({'PU1': True}, ColorSet(cardinality=1))]</td>\n    </tr>\n    <tr>\n      <th>5</th>\n      <td>Megakaryocyte</td>\n      <td>Granulocyte</td>\n      <td>[({'CEBPa': True, 'Fli1': False, 'Gfi1': True,...</td>\n      <td>[({'CEBPa': True, 'EgrNab': False}, ColorSet(c...</td>\n      <td>[({'CEBPa': True, 'EgrNab': False}, ColorSet(c...</td>\n    </tr>\n    <tr>\n      <th>6</th>\n      <td>Monocyte</td>\n      <td>Erythrocyte</td>\n      <td>[({'PU1': False, 'EKLF': True, 'GATA1': True},...</td>\n      <td>[({'GATA2': True, 'EKLF': True, 'GATA1': True}...</td>\n      <td>[({'GATA1': True, 'PU1': False, 'EKLF': True},...</td>\n    </tr>\n    <tr>\n      <th>7</th>\n      <td>Monocyte</td>\n      <td>Megakaryocyte</td>\n      <td>[({'Fli1': True, 'GATA1': True, 'PU1': False},...</td>\n      <td>[({'Fli1': True, 'PU1': False}, ColorSet(cardi...</td>\n      <td>[({'Fli1': True, 'PU1': False}, ColorSet(cardi...</td>\n    </tr>\n    <tr>\n      <th>8</th>\n      <td>Monocyte</td>\n      <td>Granulocyte</td>\n      <td>[({'Gfi1': True, 'EgrNab': False, 'CEBPa': Tru...</td>\n      <td>[({'CEBPa': True, 'EgrNab': False}, ColorSet(c...</td>\n      <td>[({'CEBPa': True, 'EgrNab': False}, ColorSet(c...</td>\n    </tr>\n    <tr>\n      <th>9</th>\n      <td>Granulocyte</td>\n      <td>Erythrocyte</td>\n      <td>[({'GATA1': True, 'EKLF': True, 'PU1': False, ...</td>\n      <td>[({'GATA2': True, 'GATA1': True, 'EKLF': True}...</td>\n      <td>[({'GATA1': True, 'EKLF': True, 'PU1': False},...</td>\n    </tr>\n    <tr>\n      <th>10</th>\n      <td>Granulocyte</td>\n      <td>Megakaryocyte</td>\n      <td>[({'CEBPa': False, 'Fli1': True, 'PU1': False,...</td>\n      <td>[({'PU1': False, 'Fli1': True}, ColorSet(cardi...</td>\n      <td>[({'Fli1': True, 'PU1': False}, ColorSet(cardi...</td>\n    </tr>\n    <tr>\n      <th>11</th>\n      <td>Granulocyte</td>\n      <td>Monocyte</td>\n      <td>[({'CEBPa': False}, ColorSet(cardinality=1))]</td>\n      <td>[({'CEBPa': False}, ColorSet(cardinality=1))]</td>\n      <td>[({'CEBPa': False}, ColorSet(cardinality=1))]</td>\n    </tr>\n  </tbody>\n</table>\n</div>"
     },
     "execution_count": 12,
     "metadata": {},
     "output_type": "execute_result"
    }
   ],
   "source": [
    "df"
   ],
   "metadata": {
    "collapsed": false,
    "ExecuteTime": {
     "end_time": "2024-04-03T13:47:13.948593Z",
     "start_time": "2024-04-03T13:47:13.924951Z"
    }
   },
   "id": "e33b15bc38ab2ef"
  },
  {
   "cell_type": "code",
   "execution_count": 13,
   "outputs": [
    {
     "name": "stdout",
     "output_type": "stream",
     "text": [
      "Erythrocyte -> Megakaryocyte : [{'EKLF': False}, {'Fli1': True}]\n",
      "Erythrocyte -> Monocyte : [{'PU1': True}]\n",
      "Erythrocyte -> Granulocyte : [{'CEBPa': True, 'EgrNab': False}, {'Gfi1': True, 'CEBPa': True}, {'CEBPa': True, 'cJun': False}]\n",
      "Megakaryocyte -> Erythrocyte : [{'EKLF': True}, {'Fli1': False}]\n",
      "Megakaryocyte -> Monocyte : [{'PU1': True}]\n",
      "Megakaryocyte -> Granulocyte : [{'CEBPa': True, 'EgrNab': False}, {'Gfi1': True, 'CEBPa': True}, {'cJun': False, 'CEBPa': True}]\n",
      "Monocyte -> Erythrocyte : [{'GATA1': True, 'PU1': False, 'EKLF': True}, {'PU1': False, 'GATA1': True, 'Fli1': False}]\n",
      "Monocyte -> Megakaryocyte : [{'Fli1': True, 'PU1': False}]\n",
      "Monocyte -> Granulocyte : [{'CEBPa': True, 'EgrNab': False}, {'CEBPa': True, 'Gfi1': True}, {'CEBPa': True, 'cJun': False}]\n",
      "Granulocyte -> Erythrocyte : [{'GATA1': True, 'EKLF': True, 'PU1': False}, {'PU1': False, 'Fli1': False, 'GATA1': True}]\n",
      "Granulocyte -> Megakaryocyte : [{'Fli1': True, 'PU1': False}]\n",
      "Granulocyte -> Monocyte : [{'CEBPa': False}]\n"
     ]
    }
   ],
   "source": [
    "for _, r in df.iterrows():\n",
    "    print(r['source'], \"->\", r[\"target\"], ':', [x[0] for x in r['permanent']])"
   ],
   "metadata": {
    "collapsed": false,
    "ExecuteTime": {
     "end_time": "2024-04-03T13:47:13.952702Z",
     "start_time": "2024-04-03T13:47:13.949151Z"
    }
   },
   "id": "657408a776cdc2c"
  },
  {
   "cell_type": "markdown",
   "source": [
    "From this data, we can (manually) derive a following source-target diagram, showing all minimal source-target controls.\n",
    "\n",
    "![Source_target_controls](myeloid_source_target.png)"
   ],
   "metadata": {
    "collapsed": false
   },
   "id": "72386675c6ad8d68"
  },
  {
   "cell_type": "code",
   "execution_count": 14,
   "outputs": [],
   "source": [
    "df['min_onestep_size'] = df['onestep'].apply(lambda x: len(x[0][0]))\n",
    "df['min_onestep_options'] = df['onestep'].apply(lambda x: len(x))\n",
    "df['min_temporary_size'] = df['temporary'].apply(lambda x: len(x[0][0]))\n",
    "df['min_temporary_options'] = df['temporary'].apply(lambda x: len(x))\n",
    "df['min_permanent_size'] = df['permanent'].apply(lambda x: len(x[0][0]))\n",
    "df['min_permanent_options'] = df['permanent'].apply(lambda x: len(x))"
   ],
   "metadata": {
    "collapsed": false,
    "ExecuteTime": {
     "end_time": "2024-04-03T13:47:13.958079Z",
     "start_time": "2024-04-03T13:47:13.956793Z"
    }
   },
   "id": "ba3e6537eb9844c2"
  },
  {
   "cell_type": "code",
   "execution_count": 15,
   "outputs": [
    {
     "data": {
      "text/plain": "           source         target  min_onestep_size  min_onestep_options  \\\n0     Erythrocyte  Megakaryocyte                 2                    1   \n1     Erythrocyte       Monocyte                 1                    1   \n2     Erythrocyte    Granulocyte                 3                    1   \n3   Megakaryocyte    Erythrocyte                 2                    1   \n4   Megakaryocyte       Monocyte                 1                    1   \n5   Megakaryocyte    Granulocyte                 4                    3   \n6        Monocyte    Erythrocyte                 3                    1   \n7        Monocyte  Megakaryocyte                 3                    1   \n8        Monocyte    Granulocyte                 3                    1   \n9     Granulocyte    Erythrocyte                 4                    1   \n10    Granulocyte  Megakaryocyte                 4                    1   \n11    Granulocyte       Monocyte                 1                    1   \n\n    min_temporary_size  min_temporary_options  min_permanent_size  \\\n0                    1                      2                   1   \n1                    1                      1                   1   \n2                    2                      3                   2   \n3                    1                      2                   1   \n4                    1                      1                   1   \n5                    2                      3                   2   \n6                    3                      6                   3   \n7                    2                      1                   2   \n8                    2                      4                   2   \n9                    3                      6                   3   \n10                   2                      1                   2   \n11                   1                      1                   1   \n\n    min_permanent_options  \n0                       2  \n1                       1  \n2                       3  \n3                       2  \n4                       1  \n5                       3  \n6                       2  \n7                       1  \n8                       3  \n9                       2  \n10                      1  \n11                      1  ",
      "text/html": "<div>\n<style scoped>\n    .dataframe tbody tr th:only-of-type {\n        vertical-align: middle;\n    }\n\n    .dataframe tbody tr th {\n        vertical-align: top;\n    }\n\n    .dataframe thead th {\n        text-align: right;\n    }\n</style>\n<table border=\"1\" class=\"dataframe\">\n  <thead>\n    <tr style=\"text-align: right;\">\n      <th></th>\n      <th>source</th>\n      <th>target</th>\n      <th>min_onestep_size</th>\n      <th>min_onestep_options</th>\n      <th>min_temporary_size</th>\n      <th>min_temporary_options</th>\n      <th>min_permanent_size</th>\n      <th>min_permanent_options</th>\n    </tr>\n  </thead>\n  <tbody>\n    <tr>\n      <th>0</th>\n      <td>Erythrocyte</td>\n      <td>Megakaryocyte</td>\n      <td>2</td>\n      <td>1</td>\n      <td>1</td>\n      <td>2</td>\n      <td>1</td>\n      <td>2</td>\n    </tr>\n    <tr>\n      <th>1</th>\n      <td>Erythrocyte</td>\n      <td>Monocyte</td>\n      <td>1</td>\n      <td>1</td>\n      <td>1</td>\n      <td>1</td>\n      <td>1</td>\n      <td>1</td>\n    </tr>\n    <tr>\n      <th>2</th>\n      <td>Erythrocyte</td>\n      <td>Granulocyte</td>\n      <td>3</td>\n      <td>1</td>\n      <td>2</td>\n      <td>3</td>\n      <td>2</td>\n      <td>3</td>\n    </tr>\n    <tr>\n      <th>3</th>\n      <td>Megakaryocyte</td>\n      <td>Erythrocyte</td>\n      <td>2</td>\n      <td>1</td>\n      <td>1</td>\n      <td>2</td>\n      <td>1</td>\n      <td>2</td>\n    </tr>\n    <tr>\n      <th>4</th>\n      <td>Megakaryocyte</td>\n      <td>Monocyte</td>\n      <td>1</td>\n      <td>1</td>\n      <td>1</td>\n      <td>1</td>\n      <td>1</td>\n      <td>1</td>\n    </tr>\n    <tr>\n      <th>5</th>\n      <td>Megakaryocyte</td>\n      <td>Granulocyte</td>\n      <td>4</td>\n      <td>3</td>\n      <td>2</td>\n      <td>3</td>\n      <td>2</td>\n      <td>3</td>\n    </tr>\n    <tr>\n      <th>6</th>\n      <td>Monocyte</td>\n      <td>Erythrocyte</td>\n      <td>3</td>\n      <td>1</td>\n      <td>3</td>\n      <td>6</td>\n      <td>3</td>\n      <td>2</td>\n    </tr>\n    <tr>\n      <th>7</th>\n      <td>Monocyte</td>\n      <td>Megakaryocyte</td>\n      <td>3</td>\n      <td>1</td>\n      <td>2</td>\n      <td>1</td>\n      <td>2</td>\n      <td>1</td>\n    </tr>\n    <tr>\n      <th>8</th>\n      <td>Monocyte</td>\n      <td>Granulocyte</td>\n      <td>3</td>\n      <td>1</td>\n      <td>2</td>\n      <td>4</td>\n      <td>2</td>\n      <td>3</td>\n    </tr>\n    <tr>\n      <th>9</th>\n      <td>Granulocyte</td>\n      <td>Erythrocyte</td>\n      <td>4</td>\n      <td>1</td>\n      <td>3</td>\n      <td>6</td>\n      <td>3</td>\n      <td>2</td>\n    </tr>\n    <tr>\n      <th>10</th>\n      <td>Granulocyte</td>\n      <td>Megakaryocyte</td>\n      <td>4</td>\n      <td>1</td>\n      <td>2</td>\n      <td>1</td>\n      <td>2</td>\n      <td>1</td>\n    </tr>\n    <tr>\n      <th>11</th>\n      <td>Granulocyte</td>\n      <td>Monocyte</td>\n      <td>1</td>\n      <td>1</td>\n      <td>1</td>\n      <td>1</td>\n      <td>1</td>\n      <td>1</td>\n    </tr>\n  </tbody>\n</table>\n</div>"
     },
     "execution_count": 15,
     "metadata": {},
     "output_type": "execute_result"
    }
   ],
   "source": [
    "df.filter(regex='^(source|target|min_)')"
   ],
   "metadata": {
    "collapsed": false,
    "ExecuteTime": {
     "end_time": "2024-04-03T13:47:13.964002Z",
     "start_time": "2024-04-03T13:47:13.961910Z"
    }
   },
   "id": "6ff8cdacaf3a933e"
  },
  {
   "cell_type": "code",
   "execution_count": 16,
   "outputs": [],
   "source": [
    "# In a similar manner, we can compute phenotype control, even though this time, only target attractor (or phenotype, but in this case we consider attractor to be phenotype) is known\n",
    "df['phenotype'] = df['target'].apply(lambda t: pstg.ceiled_phenotype_permanent_control(\n",
    "        phenotype=all_atts[t],\n",
    "        size_bound=11,\n",
    "        oscillation=\"Forbidden\",\n",
    "        stop_early=True,\n",
    "        verbose=False).working_perturbations(min_robustness=0.99, \n",
    "                                             verbose=False,\n",
    "                                             return_all=False))"
   ],
   "metadata": {
    "collapsed": false,
    "ExecuteTime": {
     "end_time": "2024-04-03T13:47:14.027431Z",
     "start_time": "2024-04-03T13:47:13.983381Z"
    }
   },
   "id": "d59e4afbb48c9154"
  },
  {
   "cell_type": "code",
   "execution_count": 17,
   "outputs": [],
   "source": [
    "df['min_phenotype_size'] = df['phenotype'].apply(lambda x: len(x[0][0]))\n",
    "df['min_phenotype_options'] = df['phenotype'].apply(lambda x: len(x))"
   ],
   "metadata": {
    "collapsed": false,
    "ExecuteTime": {
     "end_time": "2024-04-03T13:47:14.027618Z",
     "start_time": "2024-04-03T13:47:14.023403Z"
    }
   },
   "id": "3a63fa0825ea5b5d"
  },
  {
   "cell_type": "code",
   "execution_count": 18,
   "outputs": [
    {
     "data": {
      "text/plain": "           source         target  min_onestep_size  min_onestep_options  \\\n0     Erythrocyte  Megakaryocyte                 2                    1   \n1     Erythrocyte       Monocyte                 1                    1   \n2     Erythrocyte    Granulocyte                 3                    1   \n3   Megakaryocyte    Erythrocyte                 2                    1   \n4   Megakaryocyte       Monocyte                 1                    1   \n5   Megakaryocyte    Granulocyte                 4                    3   \n6        Monocyte    Erythrocyte                 3                    1   \n7        Monocyte  Megakaryocyte                 3                    1   \n8        Monocyte    Granulocyte                 3                    1   \n9     Granulocyte    Erythrocyte                 4                    1   \n10    Granulocyte  Megakaryocyte                 4                    1   \n11    Granulocyte       Monocyte                 1                    1   \n\n    min_temporary_size  min_temporary_options  min_permanent_size  \\\n0                    1                      2                   1   \n1                    1                      1                   1   \n2                    2                      3                   2   \n3                    1                      2                   1   \n4                    1                      1                   1   \n5                    2                      3                   2   \n6                    3                      6                   3   \n7                    2                      1                   2   \n8                    2                      4                   2   \n9                    3                      6                   3   \n10                   2                      1                   2   \n11                   1                      1                   1   \n\n    min_permanent_options  min_phenotype_size  min_phenotype_options  \n0                       2                   2                      1  \n1                       1                   2                      1  \n2                       3                   2                      3  \n3                       2                   3                      2  \n4                       1                   2                      1  \n5                       3                   2                      3  \n6                       2                   3                      2  \n7                       1                   2                      1  \n8                       3                   2                      3  \n9                       2                   3                      2  \n10                      1                   2                      1  \n11                      1                   2                      1  ",
      "text/html": "<div>\n<style scoped>\n    .dataframe tbody tr th:only-of-type {\n        vertical-align: middle;\n    }\n\n    .dataframe tbody tr th {\n        vertical-align: top;\n    }\n\n    .dataframe thead th {\n        text-align: right;\n    }\n</style>\n<table border=\"1\" class=\"dataframe\">\n  <thead>\n    <tr style=\"text-align: right;\">\n      <th></th>\n      <th>source</th>\n      <th>target</th>\n      <th>min_onestep_size</th>\n      <th>min_onestep_options</th>\n      <th>min_temporary_size</th>\n      <th>min_temporary_options</th>\n      <th>min_permanent_size</th>\n      <th>min_permanent_options</th>\n      <th>min_phenotype_size</th>\n      <th>min_phenotype_options</th>\n    </tr>\n  </thead>\n  <tbody>\n    <tr>\n      <th>0</th>\n      <td>Erythrocyte</td>\n      <td>Megakaryocyte</td>\n      <td>2</td>\n      <td>1</td>\n      <td>1</td>\n      <td>2</td>\n      <td>1</td>\n      <td>2</td>\n      <td>2</td>\n      <td>1</td>\n    </tr>\n    <tr>\n      <th>1</th>\n      <td>Erythrocyte</td>\n      <td>Monocyte</td>\n      <td>1</td>\n      <td>1</td>\n      <td>1</td>\n      <td>1</td>\n      <td>1</td>\n      <td>1</td>\n      <td>2</td>\n      <td>1</td>\n    </tr>\n    <tr>\n      <th>2</th>\n      <td>Erythrocyte</td>\n      <td>Granulocyte</td>\n      <td>3</td>\n      <td>1</td>\n      <td>2</td>\n      <td>3</td>\n      <td>2</td>\n      <td>3</td>\n      <td>2</td>\n      <td>3</td>\n    </tr>\n    <tr>\n      <th>3</th>\n      <td>Megakaryocyte</td>\n      <td>Erythrocyte</td>\n      <td>2</td>\n      <td>1</td>\n      <td>1</td>\n      <td>2</td>\n      <td>1</td>\n      <td>2</td>\n      <td>3</td>\n      <td>2</td>\n    </tr>\n    <tr>\n      <th>4</th>\n      <td>Megakaryocyte</td>\n      <td>Monocyte</td>\n      <td>1</td>\n      <td>1</td>\n      <td>1</td>\n      <td>1</td>\n      <td>1</td>\n      <td>1</td>\n      <td>2</td>\n      <td>1</td>\n    </tr>\n    <tr>\n      <th>5</th>\n      <td>Megakaryocyte</td>\n      <td>Granulocyte</td>\n      <td>4</td>\n      <td>3</td>\n      <td>2</td>\n      <td>3</td>\n      <td>2</td>\n      <td>3</td>\n      <td>2</td>\n      <td>3</td>\n    </tr>\n    <tr>\n      <th>6</th>\n      <td>Monocyte</td>\n      <td>Erythrocyte</td>\n      <td>3</td>\n      <td>1</td>\n      <td>3</td>\n      <td>6</td>\n      <td>3</td>\n      <td>2</td>\n      <td>3</td>\n      <td>2</td>\n    </tr>\n    <tr>\n      <th>7</th>\n      <td>Monocyte</td>\n      <td>Megakaryocyte</td>\n      <td>3</td>\n      <td>1</td>\n      <td>2</td>\n      <td>1</td>\n      <td>2</td>\n      <td>1</td>\n      <td>2</td>\n      <td>1</td>\n    </tr>\n    <tr>\n      <th>8</th>\n      <td>Monocyte</td>\n      <td>Granulocyte</td>\n      <td>3</td>\n      <td>1</td>\n      <td>2</td>\n      <td>4</td>\n      <td>2</td>\n      <td>3</td>\n      <td>2</td>\n      <td>3</td>\n    </tr>\n    <tr>\n      <th>9</th>\n      <td>Granulocyte</td>\n      <td>Erythrocyte</td>\n      <td>4</td>\n      <td>1</td>\n      <td>3</td>\n      <td>6</td>\n      <td>3</td>\n      <td>2</td>\n      <td>3</td>\n      <td>2</td>\n    </tr>\n    <tr>\n      <th>10</th>\n      <td>Granulocyte</td>\n      <td>Megakaryocyte</td>\n      <td>4</td>\n      <td>1</td>\n      <td>2</td>\n      <td>1</td>\n      <td>2</td>\n      <td>1</td>\n      <td>2</td>\n      <td>1</td>\n    </tr>\n    <tr>\n      <th>11</th>\n      <td>Granulocyte</td>\n      <td>Monocyte</td>\n      <td>1</td>\n      <td>1</td>\n      <td>1</td>\n      <td>1</td>\n      <td>1</td>\n      <td>1</td>\n      <td>2</td>\n      <td>1</td>\n    </tr>\n  </tbody>\n</table>\n</div>"
     },
     "execution_count": 18,
     "metadata": {},
     "output_type": "execute_result"
    }
   ],
   "source": [
    "df.filter(regex='^(source|target|min_)')"
   ],
   "metadata": {
    "collapsed": false,
    "ExecuteTime": {
     "end_time": "2024-04-03T13:47:14.045977Z",
     "start_time": "2024-04-03T13:47:14.029291Z"
    }
   },
   "id": "3eed11a720075285"
  },
  {
   "cell_type": "markdown",
   "source": [
    "We can use the phenotype control results to compare whether they are in align with phenotype branching observed in the source of the model"
   ],
   "metadata": {
    "collapsed": false
   },
   "id": "fa89267c86134af8"
  },
  {
   "cell_type": "code",
   "execution_count": 19,
   "outputs": [
    {
     "name": "stdout",
     "output_type": "stream",
     "text": [
      "Erythrocyte [{'PU1': False, 'Fli1': False, 'GATA1': True}, {'EKLF': True, 'GATA1': True, 'PU1': False}]\n",
      "Megakaryocyte [{'Fli1': True, 'PU1': False}]\n",
      "Monocyte [{'PU1': True, 'CEBPa': False}]\n",
      "Granulocyte [{'cJun': False, 'CEBPa': True}, {'CEBPa': True, 'Gfi1': True}, {'CEBPa': True, 'EgrNab': False}]\n"
     ]
    }
   ],
   "source": [
    "for a in all_atts.keys():\n",
    "    pd_select = df.loc[df['target'] == a, 'phenotype'].iloc[0]\n",
    "    print(a,[val[0] for val in pd_select])"
   ],
   "metadata": {
    "collapsed": false,
    "ExecuteTime": {
     "end_time": "2024-04-03T13:47:14.046134Z",
     "start_time": "2024-04-03T13:47:14.033681Z"
    }
   },
   "id": "4f62a27affb31f06"
  },
  {
   "cell_type": "markdown",
   "source": [
    "We can also compare the results with the original study\n",
    "\n",
    "![image](myeloid_phenotype.png)\n",
    "![image](phenotypes.png)\n"
   ],
   "metadata": {
    "collapsed": false
   },
   "id": "d053b4dc01f053f9"
  },
  {
   "cell_type": "markdown",
   "source": [
    "We can see that the results are consistent, because:\n",
    "\n",
    "- Phenotype control is very similar to the original study. Since study does not assume all initial states, the control is slightly different and there are some extra variables to control (i.e. min phenotype controls with size greater than 2) but they are not in contradiction with the results. \n",
    "- There are some extra possible ways for the phenotype control, esp. negation of the last branch\n",
    "- Phenotype control is for most of the cases is a super set of the source-targets control. No source-target control is in a contradiction with the phenotype control.\n",
    "    - This shows that if we know the source and specific target in advance, we can further minimize the size of the control"
   ],
   "metadata": {
    "collapsed": false
   },
   "id": "2499343d058927f3"
  },
  {
   "cell_type": "markdown",
   "source": [
    "## Everything below is just WIP\n",
    "\n",
    "Now let's imagine, that some functions of the original model are unknown\n",
    "\n",
    "![image](unknowns.png)"
   ],
   "metadata": {
    "collapsed": false
   },
   "id": "ecdd1de8bf44f49d"
  },
  {
   "cell_type": "code",
   "execution_count": 20,
   "outputs": [],
   "source": [
    "# Load the model and create a Perturbation Graph\n",
    "\n",
    "model_unknown = ba.BooleanNetwork.from_file('myeloid_3unknown.aeon')\n",
    "pstg_unknown = ba.PerturbationGraph(model_unknown)"
   ],
   "metadata": {
    "collapsed": false,
    "ExecuteTime": {
     "end_time": "2024-04-03T13:47:14.116532Z",
     "start_time": "2024-04-03T13:47:14.080516Z"
    }
   },
   "id": "f7c8237823b3721a"
  },
  {
   "cell_type": "code",
   "execution_count": 21,
   "outputs": [
    {
     "data": {
      "text/plain": "2963088.0"
     },
     "execution_count": 21,
     "metadata": {},
     "output_type": "execute_result"
    }
   ],
   "source": [
    "# From the original graph, we can see how many colours there are (perturbed contains extra colors representing perturbations)\n",
    "\n",
    "ba.SymbolicAsyncGraph(model_unknown).unit_colors()\n",
    "CARDINALITY = ba.SymbolicAsyncGraph(model_unknown).unit_colors().cardinality()\n",
    "CARDINALITY"
   ],
   "metadata": {
    "collapsed": false,
    "ExecuteTime": {
     "end_time": "2024-04-03T13:47:14.122890Z",
     "start_time": "2024-04-03T13:47:14.120196Z"
    }
   },
   "id": "65b4a118960ff54c"
  },
  {
   "cell_type": "code",
   "execution_count": 22,
   "outputs": [],
   "source": [
    "# We need to reassign attractor configuration to the new graph\n",
    "attractors = ba.find_attractors(pstg_unknown.as_original())\n",
    "\n",
    "erythrocyte = pstg_unknown.fix_variable(\"EKLF\", True).vertices()\n",
    "erythrocyte_att = [a.vertices() for a in attractors if a.vertices().intersect(erythrocyte).cardinality() > 0.0][0]\n",
    "\n",
    "megakaryocyte = pstg_unknown.fix_variable(\"Fli1\", True).vertices()\n",
    "megakaryocyte_att = [a.vertices() for a in attractors if a.vertices().intersect(megakaryocyte).cardinality() > 0.0][0]\n",
    "\n",
    "monocyte = pstg_unknown.fix_variable(\"cJun\", True).vertices()\n",
    "monocyte_att = [a.vertices() for a in attractors if a.vertices().intersect(monocyte).cardinality() > 0.0][0]\n",
    "\n",
    "granulocyte = pstg_unknown.fix_variable(\"Gfi1\", True).vertices()\n",
    "granulocyte_att = [a.vertices() for a in attractors if a.vertices().intersect(granulocyte).cardinality() > 0.0][0]\n",
    "\n",
    "all_atts = {\n",
    "    \"Erythrocyte\": erythrocyte_att,\n",
    "    \"Megakaryocyte\": megakaryocyte_att,\n",
    "    \"Monocyte\": monocyte_att,\n",
    "    \"Granulocyte\": granulocyte_att\n",
    "}\n",
    "\n",
    "# Generate al pair possibilities for computing the source-target control\n",
    "all_att_pairs = [(s,t) for s in all_atts.keys() for t in all_atts.keys() if s != t]"
   ],
   "metadata": {
    "collapsed": false,
    "ExecuteTime": {
     "end_time": "2024-04-03T13:47:18.009942Z",
     "start_time": "2024-04-03T13:47:18.007410Z"
    }
   },
   "id": "ee72658ed1ee4e83"
  },
  {
   "cell_type": "code",
   "execution_count": 23,
   "outputs": [
    {
     "name": "stdout",
     "output_type": "stream",
     "text": [
      "[0] >> Admissible fixed(Q) sets: 1\n",
      ">>>>>>>>>>>>> Computing phenotype control with allowed perturbations of cardinality 2963088\n",
      "Trap cardinality 367461900\n",
      "Cardinality of phenotype trap set: 367461900\n",
      "Inverse trap cardinality 52387260408\n",
      "Cardinality of inversed trap set: 52387260408\n",
      "Inverse control cardinality 58027253760\n",
      "Cardinality of inversed control map: 58027253760\n",
      "Cardinality of control map: 237920256\n",
      ">>> {}: 116172; rho = 0.039\n",
      "Best robustness 0.03920639549011032 observed in 1 perturbations.\n",
      ">>>>>> Elapsed: 315ms\n",
      ">>> {}: 116172; rho = 0.039\n",
      "Best robustness 0.03920639549011032 observed in 1 perturbations.\n",
      "Robustness 0 achieved for perturbation size 0.\n",
      "[1] >> Admissible fixed(Q) sets: 11\n",
      ">>>>>>>>>>>>> Computing phenotype control with allowed perturbations of cardinality 32593968\n",
      "Trap cardinality 5248294587\n",
      "Cardinality of phenotype trap set: 5248294587\n",
      " Trap non-phenotype progress: 108681 / 586875165400\n",
      " Trap non-phenotype progress: 108911 / 586723652404\n",
      " Trap non-phenotype progress: 108406 / 586719375412\n",
      " Trap non-phenotype progress: 115194 / 586386315728\n",
      " Trap non-phenotype progress: 115009 / 586385774288\n",
      " Trap non-phenotype progress: 116308 / 586379032784\n",
      " Trap non-phenotype progress: 116957 / 586345102464\n",
      " Trap non-phenotype progress: 118655 / 583714985152\n",
      " Trap non-phenotype progress: 117401 / 583700798108\n",
      " Trap non-phenotype progress: 117306 / 583700637596\n",
      " Trap non-phenotype progress: 123927 / 582768465116\n",
      " Trap non-phenotype progress: 118227 / 582706157276\n",
      " Trap non-phenotype progress: 116921 / 582704071388\n",
      " Trap non-phenotype progress: 114172 / 582536210236\n",
      " Trap non-phenotype progress: 113434 / 582535772476\n",
      " Trap non-phenotype progress: 112725 / 582533540764\n",
      " Trap non-phenotype progress: 112622 / 582530341588\n",
      "Inverse trap cardinality 582450112248\n",
      "Cardinality of inversed trap set: 582450112248\n",
      "Inverse control cardinality 625201456128\n",
      "Cardinality of inversed control map: 625201456128\n",
      "Cardinality of control map: 15715458048\n",
      ">>> {\"cJun\": false}: 2962296; rho = 1.000\n",
      ">>> {\"cJun\": true}: 107730; rho = 0.036\n",
      ">>> {\"SCL\": false}: 58482; rho = 0.020\n",
      ">>> {\"SCL\": true}: 336249; rho = 0.113\n",
      ">>> {\"PU1\": false}: 2963088; rho = 1.000\n",
      ">>> {\"Gfi1\": false}: 107730; rho = 0.036\n",
      ">>> {\"Gfi1\": true}: 107730; rho = 0.036\n",
      ">>> {\"GATA2\": true}: 233928; rho = 0.079\n",
      ">>> {\"GATA1\": true}: 1589274; rho = 0.536\n",
      ">>> {\"Fli1\": false}: 116172; rho = 0.039\n",
      ">>> {\"Fli1\": true}: 116172; rho = 0.039\n",
      ">>> {\"FOG1\": false}: 58482; rho = 0.020\n",
      ">>> {\"FOG1\": true}: 221625; rho = 0.075\n",
      ">>> {\"EgrNab\": false}: 2962296; rho = 1.000\n",
      ">>> {\"EgrNab\": true}: 107730; rho = 0.036\n",
      ">>> {\"EKLF\": false}: 116172; rho = 0.039\n",
      ">>> {\"EKLF\": true}: 111951; rho = 0.038\n",
      ">>> {\"CEBPa\": false}: 2963088; rho = 1.000\n",
      ">>> {\"CEBPa\": true}: 106932; rho = 0.036\n",
      "Best robustness 1 observed in 2 perturbations.\n",
      ">>>>>> Elapsed: 1909ms\n",
      ">>> {\"cJun\": false}: 2962296; rho = 1.000\n",
      ">>> {\"cJun\": true}: 107730; rho = 0.036\n",
      ">>> {\"SCL\": false}: 58482; rho = 0.020\n",
      ">>> {\"SCL\": true}: 336249; rho = 0.113\n",
      ">>> {\"PU1\": false}: 2963088; rho = 1.000\n",
      ">>> {\"Gfi1\": false}: 107730; rho = 0.036\n",
      ">>> {\"Gfi1\": true}: 107730; rho = 0.036\n",
      ">>> {\"GATA2\": true}: 233928; rho = 0.079\n",
      ">>> {\"GATA1\": true}: 1589274; rho = 0.536\n",
      ">>> {\"Fli1\": false}: 116172; rho = 0.039\n",
      ">>> {\"Fli1\": true}: 116172; rho = 0.039\n",
      ">>> {\"FOG1\": false}: 58482; rho = 0.020\n",
      ">>> {\"FOG1\": true}: 221625; rho = 0.075\n",
      ">>> {\"EgrNab\": false}: 2962296; rho = 1.000\n",
      ">>> {\"EgrNab\": true}: 107730; rho = 0.036\n",
      ">>> {\"EKLF\": false}: 116172; rho = 0.039\n",
      ">>> {\"EKLF\": true}: 111951; rho = 0.038\n",
      ">>> {\"CEBPa\": false}: 2963088; rho = 1.000\n",
      ">>> {\"CEBPa\": true}: 106932; rho = 0.036\n",
      "Best robustness 1 observed in 2 perturbations.\n",
      "Robustness 1 achieved for perturbation size 1.\n",
      "Robustness 1 achieved for perturbation size 1.\n"
     ]
    }
   ],
   "source": [
    "# An example of the phenotype control computation\n",
    "\n",
    "phen_sym_results = pstg_unknown.ceiled_phenotype_permanent_control(\n",
    "        phenotype=megakaryocyte_att,\n",
    "        size_bound=11,\n",
    "        oscillation=\"Forbidden\",\n",
    "        stop_early=True,\n",
    "        verbose=True)\n",
    "\n",
    "# Why there is a working phenotype control of 1? Probably attractor got matched to some other state?"
   ],
   "metadata": {
    "collapsed": false,
    "ExecuteTime": {
     "end_time": "2024-04-03T13:47:20.244730Z",
     "start_time": "2024-04-03T13:47:20.237935Z"
    }
   },
   "id": "12731ca169477a75"
  },
  {
   "cell_type": "code",
   "execution_count": 24,
   "outputs": [
    {
     "data": {
      "text/plain": "1.0"
     },
     "execution_count": 24,
     "metadata": {},
     "output_type": "execute_result"
    }
   ],
   "source": [
    "# We can find out the robustness of previously computed perturbations\n",
    "mega_phen = pstg_unknown.ceiled_phenotype_permanent_control(\n",
    "        phenotype=megakaryocyte_att,\n",
    "        size_bound=2,\n",
    "        oscillation=\"Forbidden\",\n",
    "        stop_early=False,\n",
    "        verbose=False)\n",
    "mega_phen.perturbation_working_colors({\"Fli1\": True, \"PU1\": False}).cardinality() / CARDINALITY"
   ],
   "metadata": {
    "collapsed": false,
    "ExecuteTime": {
     "end_time": "2024-04-03T13:47:27.002067Z",
     "start_time": "2024-04-03T13:47:27.000452Z"
    }
   },
   "id": "af65f16f17f1600b"
  },
  {
   "cell_type": "markdown",
   "source": [],
   "metadata": {
    "collapsed": false
   },
   "id": "c714603429c21637"
  },
  {
   "cell_type": "code",
   "execution_count": 25,
   "outputs": [
    {
     "data": {
      "text/plain": "0.0"
     },
     "execution_count": 25,
     "metadata": {},
     "output_type": "execute_result"
    }
   ],
   "source": [
    "# We can find out the robustness of previously computed perturbations\n",
    "mega_erythro = pstg_unknown.permanent_control(megakaryocyte_att, erythrocyte_att, verbose=False)\n",
    "mega_erythro.perturbation_working_colors({\"EKLF\": True}).cardinality() / CARDINALITY\n",
    "\n",
    "# WTF"
   ],
   "metadata": {
    "collapsed": false,
    "ExecuteTime": {
     "end_time": "2024-04-03T13:47:27.166551Z",
     "start_time": "2024-04-03T13:47:27.164827Z"
    }
   },
   "id": "9a2f8ee50f53c90a"
  },
  {
   "cell_type": "code",
   "execution_count": 26,
   "outputs": [
    {
     "data": {
      "text/plain": "[({'Fli1': False, 'CEBPa': False, 'GATA2': False, 'PU1': False},\n  ColorSet(cardinality=2963088))]"
     },
     "execution_count": 26,
     "metadata": {},
     "output_type": "execute_result"
    }
   ],
   "source": [
    "mega_erythro.working_perturbations(min_robustness=0.99, \n",
    "                                             verbose=False,\n",
    "                                             return_all=False)"
   ],
   "metadata": {
    "collapsed": false,
    "ExecuteTime": {
     "end_time": "2024-04-03T13:47:30.527297Z",
     "start_time": "2024-04-03T13:47:30.525400Z"
    }
   },
   "id": "8d08832afedafc1e"
  }
 ],
 "metadata": {
  "kernelspec": {
   "display_name": "Python 3",
   "language": "python",
   "name": "python3"
  },
  "language_info": {
   "codemirror_mode": {
    "name": "ipython",
    "version": 2
   },
   "file_extension": ".py",
   "mimetype": "text/x-python",
   "name": "python",
   "nbconvert_exporter": "python",
   "pygments_lexer": "ipython2",
   "version": "2.7.6"
  }
 },
 "nbformat": 4,
 "nbformat_minor": 5
}
