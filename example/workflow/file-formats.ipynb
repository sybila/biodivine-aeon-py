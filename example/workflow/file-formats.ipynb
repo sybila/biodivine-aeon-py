{
 "cells": [
  {
   "cell_type": "markdown",
   "id": "6ab33d67-2395-4f57-83e1-e27d6e97083e",
   "metadata": {},
   "source": [
    "# AEON file formats\n",
    "\n",
    "In AEON, we try to support as many releavant model formats as possible. At the moment, these are `.bnet`, `.aeon` and `.sbml`, but we'll be happy to add new formats in the future.\n",
    "\n",
    "In this notebook, we briefly describe the specification of each format and how AEON works with the format."
   ]
  },
  {
   "cell_type": "code",
   "execution_count": 1,
   "id": "133ffc67-45a7-4dc8-961a-d130c7431516",
   "metadata": {},
   "outputs": [],
   "source": [
    "from biodivine_aeon import *"
   ]
  },
  {
   "cell_type": "markdown",
   "id": "ca0988dc-985d-49a4-9f22-784ea3009142",
   "metadata": {},
   "source": [
    "## `.bnet`\n",
    "\n",
    "This is a very basic format originally introduced by the [`boolnet` R package](https://cran.r-project.org/web/packages/BoolNet/index.html) (see the `loadNetwork` function for details). \n",
    "It only holds the update functions of the network and nothing else.\n",
    "\n",
    "It mostly aligns with a default representation of a \"matrix of named expressions\" in R, and thus many tools that are not using R implement some of the edge cases slightly differently.\n",
    "We try to explain these edge cases below as best as possible.\n",
    "\n",
    " 1. Any line starting with `#` is a comment.\n",
    " 2. The `.bnet` file starts with a `targets,factors` header.\n",
    " > In theory, the whitespace on this line should not be relevant, but some tools can only read the header if there is no space after `,`. Also, some tools use `Targets,Factors`. AEON should be able to read any of these variants. The note about whitespace also applies to other parts of the file: it should ignore whitespace, but not all tools actually do this properly.\n",
    "\n",
    " 3. Each line after the header (which is not a comment) describes the update function of one variable. This is again a pair `name,function`.\n",
    " 4. Each such line can also have a rational *probability* following after the function (for probabilistic networks), but this is not supported in AEON.\n",
    " 5. Tools have often different requirements for what a valid `name` should look like. Typically, these align with a valid variable name in R (i.e. starts with a letter, and otherwise contains numbers, letters and `_`). AEON can actually parse a wider range of names than this, but will only output such \"safe\" names by default.\n",
    " 6. Each function is a \"normal\" Boolean expression consisting of vairable names, parentheses, and operators `!`/`|`/`&` (see the original documentation).\n",
    " 7. There are also \"special functions\" like `all`/`any`/`maj`, but these are not recognized by most tools. As such, they are also not recognized by AEON.\n",
    " > Note that the format does not have any explicit `true`/`false` constant. You can circumvent this by replacing constants with tautoligies/contradictions. In AEON, we do support `true`/`false` as well as `0`/`1` when parsing, but this is not generally available in all tools.\n",
    "\n",
    " 8. Some tools allow you to omit the update functions for constant input variables (i.e. identity function is assumed by default). We parse such variables as if not having an update function.\n",
    " > Note that this only works reasonably well with the input variables, since these don't have any incoming regulators. For any other variable, it is not clear what are its regulators unless the update function is specified.\n",
    "\n",
    " 9. AEON infers the regulatory graph of the network based on the syntax of each update function (i.e. all variables that appear in the function are considered regulators). Each detected regulation is marked as observable, and the monotonicity is set to unknown for all regulations.\n",
    "\n",
    " 10. When outputting a `.bnet` model, AEON will:\n",
    "     \n",
    "     - Use `targets,factors` as the header.\n",
    "     - Use whitespace around `,`/`&`/`|` and introduce parentheses around every binary operator.\n",
    "     - Fail if the model contains any uninterpreted functions (explicit parameters) or missing update functions (implicit parameters), except for input nodes (see above).\n",
    "     - Fail if the network contains variable names that are not valid identifiers in R. You can override this and automatically rename all such variables.\n",
    "     - Each constant is converted to a tautology/contradiction using the target variable of the update function (i.e. through a self-regulation).\n",
    "     - Unsupported Boolean operators are automatically converted to `!`/`|`/`&`.\n",
    "\n"
   ]
  },
  {
   "cell_type": "code",
   "execution_count": 2,
   "id": "0ff90f53-1f99-4b89-bebd-b9c5aaf9b039",
   "metadata": {},
   "outputs": [
    {
     "name": "stdout",
     "output_type": "stream",
     "text": [
      "targets,factors\n",
      "a, (a | b)\n",
      "b, (a & !(c | d))\n",
      "c, (b | !a)\n",
      "\n"
     ]
    }
   ],
   "source": [
    "bn = BooleanNetwork.from_bnet(\"\"\"\n",
    "targets,factors\n",
    "a, a | b\n",
    "b, a & !(c | d)\n",
    "c, b | !a\n",
    "# d is an unspecified constant input\n",
    "\"\"\")\n",
    "print(bn.to_bnet())"
   ]
  },
  {
   "cell_type": "markdown",
   "id": "a07cb11d-0ad9-4fa5-a7b2-ae5509ddb649",
   "metadata": {},
   "source": [
    "## `.aeon`\n",
    "\n",
    "AEON format is, in a sense, an extension of `.bnet` which allows to (a) specify the regulatory graph explicitly outside of the update functions, and (b) use explicit and implicit parameters (uninterpreted functions) in the model.\n",
    "\n",
    " 1. Everything following a `#` is a comment. Some comments can be used to store metadata in the form of annotations (see `ModelAnnotation` class). However, annotations are not a \"semantic\" part of the model and we thus skip them in this tutorial.\n",
    " 2. Every other line either specifies a regulation, or an update function. The order can be arbitrary.\n",
    " 3. A regulation is given as `variable edge variable`, such that `edge` is one of `->`,`-|`,`-?`,`->?`,`-|?`,`-??`. Here, `>` signifies activation (positive monotonicity), `|` signifies inhibition (negative monotonicity), and `?` signifies unknown monotonicity. An additional `?` denotes that the edge may not be observable (i.e. the regulator does not need to have any impact on the target).\n",
    "  - For example, `A -> B` is an observable positive regulation.\n",
    "  - `A -|? B` is a negative regulation that does not have to be observable.\n",
    "  - `A -?? B` is the most \"generic\" regulation with unknown monotonicity and no observability requirement.\n",
    "    \n",
    " 4. Only regulations that are explicitly included in the model are considered. It is an error to use a variable in an update function where said variable is not a regulator.\n",
    " 5. A variable name in `.aeon` can be any string of alphanumeric characters plus `_`.\n",
    " 6. An update function for variable `name` is specified on a single line as `$name: function`.\n",
    " 7. Here, `function` is again a (normal) Boolean expression, just as in the case of `.bnet`. However, it supports `true`/`false` and `1`/`0` as constants, as well as extra Boolean operators `<=>` (equivalence), `^` (xor), and `=>` (implication). The operator priority is `<=>`, `=>`, `|`, `&`, and `^`.\n",
    " 8. The function can also contain a call to an uninterpreted (i.e. unknown but fixed) function. These are the \"explicit parameters\" of the model.\n",
    " 9. The names of the uninterpreted functions have the same structural constraints as variable names and must not clash with the variable names. Otherwise, an uninterpreted function does not have to be \"declared\" in any specific way.\n",
    " 10. At the moment, only variables can be used as arguments of uninterpreted functions. In the future, AEON should support arbitrary expressions as function arguments.\n",
    " 11. If a variable does not have an update function set in the file, this update function is considered to be an \"implicit parameter\" and its signature is reconstructed from the list of regulations.\n",
    " 12. During parsing, AEON verifies that the inputs of the update functions align with the regulators in the regulatory graph. I.e. every variable used in an update function must have a regulation in the regulatory graph. However, it does not check the observability/monotonicity requirements (this can be later checked by `SymbolicAsyncGraph`).\n",
    "\n",
    " > Note that in the current structure, a variable with no incoming or outgoing regulations and no update function cannot be represented in any way. While having such variable is essentially always an error in a real-world model, it is possible to produce such models during testing, so beware!\n",
    " "
   ]
  },
  {
   "cell_type": "code",
   "execution_count": 3,
   "id": "765db607-3c4e-425d-abdf-d372578a14a3",
   "metadata": {},
   "outputs": [
    {
     "name": "stdout",
     "output_type": "stream",
     "text": [
      "a -> b\n",
      "b -| c\n",
      "c ->? d\n",
      "d -?? d\n",
      "$a: true\n",
      "$b: a\n",
      "$c: !b\n",
      "$d: (d | f(c, d))\n",
      "\n"
     ]
    }
   ],
   "source": [
    "bn = BooleanNetwork.from_aeon(\"\"\"\n",
    "a -> b\n",
    "b -| c\n",
    "c ->? d\n",
    "d -?? d\n",
    "# a does not depend on anything, hence it must be a constant.\n",
    "$a: true\n",
    "# b depends on a positively\n",
    "$b: a\n",
    "# c depend on b negatively\n",
    "$c: !b\n",
    "# d has unknown behaviour described by function f, but once activated, stays active\n",
    "$d: d | f(c, d)\n",
    "\"\"\")\n",
    "print(bn.to_aeon())"
   ]
  },
  {
   "cell_type": "markdown",
   "id": "02120dd5-36a7-4c81-adbf-eb233329964a",
   "metadata": {},
   "source": [
    "## `.sbml`\n",
    "\n",
    "This is a format well known in systems biology, but it is also rather complicated as it encodes the whole model (including expressions) into XML. \n",
    "\n",
    "We will not go into the details of SBML, or SBML-qual (the extension used to represent Boolean networks). Extensive documentation is available on the [official website](https://sbml.org/documents/specifications/).\n",
    "\n",
    "However, we should note that AEON actually extends SBML in a few minor ways:\n",
    " - A transition `<input>` can have an attribute `essential`, which corresponds to the observability constraint in the `.aeon` format. Monotonicity is already supported by SBML. This should be fully transparent to other tools working with SBML.\n",
    " - For variables with \"implicit\" (i.e. missing) update function, we do not output any `<transition>`. This is technically valid SBML, but some tools may not be able to read it if they expect all variables to have exactly one update function.\n",
    " - The update functions can contain uninterpreted functions, just as in the `.aeon` format. We use the `<csymbol>` tag from MathML to denote such uninterpreted functions within the `<apply>` tag (search for `<csymbol>` the example below). This is not supported by other SBML tools at the moment, but should be still compatible with any tool that does not parse the update functions (e.g. if it only reads the metadata or the network structure). Furthermore, any model with no explicit parameters is thus \"standard\" SBML because it contains no uninterpreted functions."
   ]
  },
  {
   "cell_type": "code",
   "execution_count": 4,
   "id": "4ac36373-9122-426e-9509-0f3acf429ab9",
   "metadata": {},
   "outputs": [
    {
     "name": "stdout",
     "output_type": "stream",
     "text": [
      "<?xml version='1.0' encoding='UTF-8' standalone='no'?><sbml xmlns=\"http://www.sbml.org/sbml/level3/version1/core\" layout:required=\"false\" level=\"3\" qual:required=\"true\" xmlns:layout=\"http://www.sbml.org/sbml/level3/version1/layout/version1\" version=\"1\" xmlns:qual=\"http://www.sbml.org/sbml/level3/version1/qual/version1\"><model><qual:listOfQualitativeSpecies xmlns:qual=\"http://www.sbml.org/sbml/level3/version1/qual/version1\"><qual:qualitativeSpecies qual:maxLevel=\"1\" qual:constant=\"false\" qual:name=\"a\" qual:id=\"a\"/><qual:qualitativeSpecies qual:maxLevel=\"1\" qual:constant=\"false\" qual:name=\"b\" qual:id=\"b\"/><qual:qualitativeSpecies qual:maxLevel=\"1\" qual:constant=\"false\" qual:name=\"c\" qual:id=\"c\"/><qual:qualitativeSpecies qual:maxLevel=\"1\" qual:constant=\"false\" qual:name=\"d\" qual:id=\"d\"/></qual:listOfQualitativeSpecies><qual:listOfTransitions xmlns:qual=\"http://www.sbml.org/sbml/level3/version1/qual/version1\"><qual:transition qual:id=\"tr_a\"><qual:listOfInputs></qual:listOfInputs><qual:listOfOutputs><qual:output qual:qualitativeSpecies=\"a\" qual:transitionEffect=\"assignmentLevel\" qual:id=\"tr_a_out\"/></qual:listOfOutputs><qual:listOfFunctionTerms><qual:defaultTerm qual:resultLevel=\"1\"/></qual:listOfFunctionTerms></qual:transition><qual:transition qual:id=\"tr_b\"><qual:listOfInputs><qual:input qual:qualitativeSpecies=\"a\" qual:transitionEffect=\"none\" qual:sign=\"positive\" qual:id=\"tr_b_in_a\" essential=\"true\"/></qual:listOfInputs><qual:listOfOutputs><qual:output qual:qualitativeSpecies=\"b\" qual:transitionEffect=\"assignmentLevel\" qual:id=\"tr_b_out\"/></qual:listOfOutputs><qual:listOfFunctionTerms><qual:defaultTerm qual:resultLevel=\"0\"/><qual:functionTerm qual:resultLevel=\"1\"><math xmlns=\"http://www.w3.org/1998/Math/MathML\"><apply><eq/><ci>a</ci><cn type=\"integer\">1</cn></apply></math></qual:functionTerm></qual:listOfFunctionTerms></qual:transition><qual:transition qual:id=\"tr_c\"><qual:listOfInputs><qual:input qual:qualitativeSpecies=\"b\" qual:transitionEffect=\"none\" qual:sign=\"negative\" qual:id=\"tr_c_in_b\" essential=\"true\"/></qual:listOfInputs><qual:listOfOutputs><qual:output qual:qualitativeSpecies=\"c\" qual:transitionEffect=\"assignmentLevel\" qual:id=\"tr_c_out\"/></qual:listOfOutputs><qual:listOfFunctionTerms><qual:defaultTerm qual:resultLevel=\"0\"/><qual:functionTerm qual:resultLevel=\"1\"><math xmlns=\"http://www.w3.org/1998/Math/MathML\"><apply><not/><apply><eq/><ci>b</ci><cn type=\"integer\">1</cn></apply></apply></math></qual:functionTerm></qual:listOfFunctionTerms></qual:transition><qual:transition qual:id=\"tr_d\"><qual:listOfInputs><qual:input qual:qualitativeSpecies=\"c\" qual:transitionEffect=\"none\" qual:sign=\"positive\" qual:id=\"tr_d_in_c\" essential=\"false\"/><qual:input qual:qualitativeSpecies=\"d\" qual:transitionEffect=\"none\" qual:sign=\"unknown\" qual:id=\"tr_d_in_d\" essential=\"false\"/></qual:listOfInputs><qual:listOfOutputs><qual:output qual:qualitativeSpecies=\"d\" qual:transitionEffect=\"assignmentLevel\" qual:id=\"tr_d_out\"/></qual:listOfOutputs><qual:listOfFunctionTerms><qual:defaultTerm qual:resultLevel=\"0\"/><qual:functionTerm qual:resultLevel=\"1\"><math xmlns=\"http://www.w3.org/1998/Math/MathML\"><apply><or/><apply><eq/><ci>d</ci><cn type=\"integer\">1</cn></apply><apply><csymbol>f</csymbol><ci>c</ci><ci>d</ci></apply></apply></math></qual:functionTerm></qual:listOfFunctionTerms></qual:transition></qual:listOfTransitions></model></sbml>\n"
     ]
    }
   ],
   "source": [
    "print(bn.to_sbml())"
   ]
  },
  {
   "cell_type": "markdown",
   "id": "35ee677f-66b5-456e-a9ca-ade23955a157",
   "metadata": {},
   "source": [
    "## Inference of the regulatory graph\n",
    "\n",
    "Note that you can use the following method to infer the \"best\" regulatory graph of any Boolean network. This is particularly useful for `.bnet` models, since the observability and monotonicity of each regulation is not specified in the model. As such, this method will essentially \"add\" these values to the model. This can be also useful for other model formats if the model has been modified or if it contains inconsistent information."
   ]
  },
  {
   "cell_type": "code",
   "execution_count": 5,
   "id": "d5118c9f-e11c-47dd-9d35-d608c286a658",
   "metadata": {},
   "outputs": [
    {
     "name": "stdout",
     "output_type": "stream",
     "text": [
      "a -? a\n",
      "b -? a\n",
      "a -? b\n",
      "c -? b\n",
      "d -? b\n",
      "a -? c\n",
      "b -? c\n",
      "$a: (a | b)\n",
      "$b: (a & !(c | d))\n",
      "$c: (b | !a)\n",
      "\n"
     ]
    }
   ],
   "source": [
    "bn = BooleanNetwork.from_bnet(\"\"\"\n",
    "targets,factors\n",
    "a, a | b\n",
    "b, a & !(c | d)\n",
    "c, b | !a\n",
    "# d is an unspecified constant input\n",
    "\"\"\")\n",
    "# Notice that the regulations have no monotonicity and are all observable.\n",
    "print(bn.to_aeon())"
   ]
  },
  {
   "cell_type": "code",
   "execution_count": 6,
   "id": "976690be-1e25-4bf2-afe0-ee98e17f99cd",
   "metadata": {},
   "outputs": [
    {
     "name": "stdout",
     "output_type": "stream",
     "text": [
      "a -> a\n",
      "b -> a\n",
      "a -> b\n",
      "c -| b\n",
      "d -| b\n",
      "a -| c\n",
      "b -> c\n",
      "$a: (a | b)\n",
      "$b: (a & !(c | d))\n",
      "$c: (b | !a)\n",
      "\n"
     ]
    }
   ],
   "source": [
    "bn = bn.infer_regulatory_graph()\n",
    "# Now, the strictest possible monotonicity is automatically inferred, and regulations\n",
    "# that are not observable are no longer present (no such regulations were present in \n",
    "# the model in our example).\n",
    "print(bn.to_aeon())"
   ]
  },
  {
   "cell_type": "code",
   "execution_count": null,
   "id": "fc52674e-7d11-445f-b70a-d14a27860c9e",
   "metadata": {},
   "outputs": [],
   "source": []
  }
 ],
 "metadata": {
  "kernelspec": {
   "display_name": "Python 3 (ipykernel)",
   "language": "python",
   "name": "python3"
  },
  "language_info": {
   "codemirror_mode": {
    "name": "ipython",
    "version": 3
   },
   "file_extension": ".py",
   "mimetype": "text/x-python",
   "name": "python",
   "nbconvert_exporter": "python",
   "pygments_lexer": "ipython3",
   "version": "3.9.6"
  }
 },
 "nbformat": 4,
 "nbformat_minor": 5
}
