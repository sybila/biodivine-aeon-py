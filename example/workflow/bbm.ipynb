{
 "cells": [
  {
   "cell_type": "markdown",
   "id": "7b5b195c",
   "metadata": {},
   "source": [
    "# Working with BBM database\n",
    "\n",
    "This notebook illustrates the capability of AEON.py to fetch and prepare BN models directly from the Biodivine Boolean Models database.\n",
    "\n",
    "*Work in progress...*"
   ]
  },
  {
   "cell_type": "code",
   "execution_count": 1,
   "id": "870a0a97",
   "metadata": {},
   "outputs": [],
   "source": [
    "from biodivine_aeon import *"
   ]
  },
  {
   "cell_type": "markdown",
   "id": "668de7e6",
   "metadata": {},
   "source": [
    "You can retrieve model IDs from the BBM API or query for a BN with a given ID. \n",
    "\n",
    "At the moment, the model ID is a string ID used by the API, which is not the same as the numerical id clasically used in the BBM database. This is a temporary solution until the BBM endpoint is updated to provide the numerical id as well."
   ]
  },
  {
   "cell_type": "markdown",
   "id": "9f8df5a0",
   "metadata": {},
   "source": [
    "### Retrieving and filtering model IDs\n",
    "\n",
    "Let's first check out how we can request and filter model IDs.\n",
    "\n",
    "You can either retrieve all IDs in the database, or filter them according to number of variables, inputs, regulations, or keywords. Let's check both variants."
   ]
  },
  {
   "cell_type": "code",
   "execution_count": 2,
   "id": "894e1faa",
   "metadata": {},
   "outputs": [
    {
     "name": "stdout",
     "output_type": "stream",
     "text": [
      "230\n"
     ]
    },
    {
     "data": {
      "text/plain": [
       "['202fec2d-a27d-45cd-a1d2-6d619412b1d5',\n",
       " '15ce1709-b98e-4fcf-9183-9adda842a437',\n",
       " 'dad447c8-c14d-40d2-8496-d8953690a20a',\n",
       " '6454b139-57fa-4a7f-8f52-5623db697dc5',\n",
       " '6bfb7209-57ea-40e1-9d78-cbde5f9d106f']"
      ]
     },
     "execution_count": 2,
     "metadata": {},
     "output_type": "execute_result"
    }
   ],
   "source": [
    "ids = BiodivineBooleanModels.fetch_ids()\n",
    "print(len(ids))  # Show the total number of models\n",
    "ids[:5]  # Show the first 5 ids"
   ]
  },
  {
   "cell_type": "code",
   "execution_count": 3,
   "id": "fc07bfa5",
   "metadata": {},
   "outputs": [
    {
     "name": "stdout",
     "output_type": "stream",
     "text": [
      "Empty config:\n",
      "\tBbmFilterConfig(variables=<None,None>, inputs=<None,None>, regulations=<None,None>, keywords=[])\n",
      "Initialized config:\n",
      "\tBbmFilterConfig(variables=<10,20>, inputs=<None,None>, regulations=<None,None>, keywords=[\"cell-collective\", \"curated\"])\n"
     ]
    }
   ],
   "source": [
    "# We can configure the filtering using the BbmFilterConfig instance\n",
    "config = BbmFilterConfig()\n",
    "print(f\"Empty config:\\n\\t{config}\")\n",
    "\n",
    "config[\"min_variables\"] = 10\n",
    "config[\"max_variables\"] = 20\n",
    "config[\"keywords\"] = [\"cell-collective\", \"curated\"]\n",
    "print(f\"Initialized config:\\n\\t{config}\")"
   ]
  },
  {
   "cell_type": "code",
   "execution_count": 4,
   "id": "fb3dd4ec",
   "metadata": {},
   "outputs": [
    {
     "name": "stdout",
     "output_type": "stream",
     "text": [
      "29\n"
     ]
    },
    {
     "data": {
      "text/plain": [
       "['dad447c8-c14d-40d2-8496-d8953690a20a',\n",
       " '36dca970-8bea-4620-9088-8da2890211a4',\n",
       " '86248135-ed19-44ea-a13b-daf0ca504986',\n",
       " '02329d2b-8da8-4c97-86ae-743ad3f654ec',\n",
       " '20a7ff67-dc62-4240-b2ac-6aa12382d4a0']"
      ]
     },
     "execution_count": 4,
     "metadata": {},
     "output_type": "execute_result"
    }
   ],
   "source": [
    "ids = BiodivineBooleanModels.fetch_ids(config)\n",
    "print(len(ids))  # Show the total number of models\n",
    "ids[:5]  # Show the first 5 ids"
   ]
  },
  {
   "cell_type": "markdown",
   "id": "366f82a9",
   "metadata": {},
   "source": [
    "### Retrieving particular networks"
   ]
  },
  {
   "cell_type": "markdown",
   "id": "b8478a1c",
   "metadata": {},
   "source": [
    "Let's now retrieve a particular Boolean network using its ID. You can fetch the BN as is, or use the function arguments to adjust some network settings, such as how the inputs are handled."
   ]
  },
  {
   "cell_type": "code",
   "execution_count": 5,
   "id": "54ab6ce0",
   "metadata": {},
   "outputs": [
    {
     "name": "stdout",
     "output_type": "stream",
     "text": [
      "BooleanNetwork(variables=18, regulations=18, explicit_parameters=0, implicit_parameters=8)\n"
     ]
    }
   ],
   "source": [
    "# Fetch a small network (with 18 variables, 8 of which are inputs) by its ID\n",
    "bn = BiodivineBooleanModels.fetch_network(\"b427a7d3-5158-48ab-991b-1db895dd2b4d\")\n",
    "print(bn)"
   ]
  },
  {
   "cell_type": "code",
   "execution_count": 6,
   "id": "3b40913b",
   "metadata": {},
   "outputs": [
    {
     "name": "stdout",
     "output_type": "stream",
     "text": [
      "BooleanNetwork(variables=10, regulations=10, explicit_parameters=8, implicit_parameters=0)\n"
     ]
    }
   ],
   "source": [
    "# Fetch the same network, but with inlined inputs\n",
    "bn = BiodivineBooleanModels.fetch_network(\"b427a7d3-5158-48ab-991b-1db895dd2b4d\", inline_inputs=True)\n",
    "print(bn)"
   ]
  },
  {
   "cell_type": "markdown",
   "id": "cce372d3",
   "metadata": {},
   "source": [
    "### Retrieving models with metadata"
   ]
  },
  {
   "cell_type": "markdown",
   "id": "8300346b",
   "metadata": {},
   "source": [
    "We can also retrieve a more general `BbmModel` instance that contains not only the network data, but also additional metadata. The Boolean network can then be easily extracted from this object."
   ]
  },
  {
   "cell_type": "code",
   "execution_count": 7,
   "id": "c24e4813",
   "metadata": {},
   "outputs": [
    {
     "name": "stdout",
     "output_type": "stream",
     "text": [
      "BbmModel(id=b427a7d3-5158-48ab-991b-1db895dd2b4d, name=VEGF-PATHWAY-OF-DROSOPHILA, variables=10, inputs=8, regulations=18)\n"
     ]
    }
   ],
   "source": [
    "model = BiodivineBooleanModels.fetch_model(\"b427a7d3-5158-48ab-991b-1db895dd2b4d\")\n",
    "print(model)"
   ]
  },
  {
   "cell_type": "markdown",
   "id": "bc50f6d2",
   "metadata": {},
   "source": [
    "You can select a particular method, depending whether you want to leave the model inputs free, or fix them."
   ]
  },
  {
   "cell_type": "code",
   "execution_count": 8,
   "id": "3b49680e",
   "metadata": {},
   "outputs": [
    {
     "name": "stdout",
     "output_type": "stream",
     "text": [
      "v_Pvr -> v_Drk\n",
      "v_Raf -> v_Dsor1\n",
      "v_CNK -> v_Raf\n",
      "v_Ksr -> v_Raf\n",
      "v_Src42 -> v_Raf\n",
      "v_Ras -> v_Raf\n",
      "v_Rl -> v_Pnt\n",
      "v_Drk -> v_Sos\n",
      "v_Pvf2 -> v_Pvr\n",
      "v_Pvf3 -> v_Pvr\n",
      "v_Pvf1 -> v_Pvr\n",
      "v_Dsor1 -> v_Rl\n",
      "v_msk -> v_Rl\n",
      "v_Sty -| v_Ras\n",
      "v_Sos -> v_Ras\n",
      "v_Aop -| v_Targets\n",
      "v_Pnt -> v_Targets\n",
      "v_Rl -| v_Aop\n",
      "$v_Aop: !v_Rl\n",
      "$v_Drk: v_Pvr\n",
      "$v_Dsor1: v_Raf\n",
      "$v_Pnt: v_Rl\n",
      "$v_Pvr: v_Pvf2 | v_Pvf1 | v_Pvf3\n",
      "$v_Raf: v_Ras & v_CNK & v_Ksr & v_Src42\n",
      "$v_Ras: v_Sos & !v_Sty\n",
      "$v_Rl: v_Dsor1 & v_msk\n",
      "$v_Sos: v_Drk\n",
      "$v_Targets: v_Pnt & !v_Aop\n",
      "\n"
     ]
    }
   ],
   "source": [
    "bn = model.to_bn_default()\n",
    "print(bn.to_aeon())"
   ]
  },
  {
   "cell_type": "code",
   "execution_count": 9,
   "id": "99f82522",
   "metadata": {},
   "outputs": [
    {
     "name": "stdout",
     "output_type": "stream",
     "text": [
      "v_Pvr -> v_Drk\n",
      "v_Raf -> v_Dsor1\n",
      "v_CNK -> v_Raf\n",
      "v_Ksr -> v_Raf\n",
      "v_Src42 -> v_Raf\n",
      "v_Ras -> v_Raf\n",
      "v_Rl -> v_Pnt\n",
      "v_Drk -> v_Sos\n",
      "v_Pvf2 -> v_Pvr\n",
      "v_Pvf3 -> v_Pvr\n",
      "v_Pvf1 -> v_Pvr\n",
      "v_Dsor1 -> v_Rl\n",
      "v_msk -> v_Rl\n",
      "v_Sty -| v_Ras\n",
      "v_Sos -> v_Ras\n",
      "v_Aop -| v_Targets\n",
      "v_Pnt -> v_Targets\n",
      "v_Rl -| v_Aop\n",
      "$v_Aop: !v_Rl\n",
      "$v_CNK: true\n",
      "$v_Drk: v_Pvr\n",
      "$v_Dsor1: v_Raf\n",
      "$v_Ksr: true\n",
      "$v_Pnt: v_Rl\n",
      "$v_Pvf1: true\n",
      "$v_Pvf2: true\n",
      "$v_Pvf3: true\n",
      "$v_Pvr: v_Pvf2 | v_Pvf1 | v_Pvf3\n",
      "$v_Raf: v_Ras & v_CNK & v_Ksr & v_Src42\n",
      "$v_Ras: v_Sos & !v_Sty\n",
      "$v_Rl: v_Dsor1 & v_msk\n",
      "$v_Sos: v_Drk\n",
      "$v_Src42: true\n",
      "$v_Sty: true\n",
      "$v_Targets: v_Pnt & !v_Aop\n",
      "$v_msk: true\n",
      "\n"
     ]
    }
   ],
   "source": [
    "bn = model.to_bn_inputs_true()\n",
    "print(bn.to_aeon())"
   ]
  }
 ],
 "metadata": {
  "kernelspec": {
   "display_name": "venv",
   "language": "python",
   "name": "python3"
  },
  "language_info": {
   "codemirror_mode": {
    "name": "ipython",
    "version": 3
   },
   "file_extension": ".py",
   "mimetype": "text/x-python",
   "name": "python",
   "nbconvert_exporter": "python",
   "pygments_lexer": "ipython3",
   "version": "3.12.3"
  }
 },
 "nbformat": 4,
 "nbformat_minor": 5
}
