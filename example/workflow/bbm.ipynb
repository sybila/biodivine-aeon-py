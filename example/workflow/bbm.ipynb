{
 "cells": [
  {
   "cell_type": "markdown",
   "id": "7b5b195c",
   "metadata": {},
   "source": [
    "# Working with BBM database\n",
    "\n",
    "This notebook illustrates the capability of AEON.py to fetch and prepare BN models directly from the Biodivine Boolean Models database.\n",
    "\n",
    "*Work in progress...*"
   ]
  },
  {
   "cell_type": "code",
   "execution_count": 1,
   "id": "870a0a97",
   "metadata": {},
   "outputs": [],
   "source": [
    "from biodivine_aeon import *"
   ]
  },
  {
   "cell_type": "markdown",
   "id": "668de7e6",
   "metadata": {},
   "source": [
    "You can fetch all model IDs from the BBM API or query for a BN with a given ID. At the moment, the model ID is a string ID used by the API, which is not the same as the numerical id clasically used in the BBM database. This is a temporary solution until the BBM endpoint is updated to provide the numerical id as well."
   ]
  },
  {
   "cell_type": "markdown",
   "id": "9f8df5a0",
   "metadata": {},
   "source": [
    "Let's first request the list of possible IDs. The fetch operations may take a few seconds, as we are accessing the external database endpoint."
   ]
  },
  {
   "cell_type": "code",
   "execution_count": 2,
   "id": "fb3dd4ec",
   "metadata": {},
   "outputs": [
    {
     "data": {
      "text/plain": [
       "['202fec2d-a27d-45cd-a1d2-6d619412b1d5',\n",
       " '15ce1709-b98e-4fcf-9183-9adda842a437',\n",
       " 'dad447c8-c14d-40d2-8496-d8953690a20a',\n",
       " '6454b139-57fa-4a7f-8f52-5623db697dc5',\n",
       " '6bfb7209-57ea-40e1-9d78-cbde5f9d106f']"
      ]
     },
     "execution_count": 2,
     "metadata": {},
     "output_type": "execute_result"
    }
   ],
   "source": [
    "ids = BiodivineBooleanModels.fetch_ids()\n",
    "ids[:5]  # Show the first 5 ids"
   ]
  },
  {
   "cell_type": "markdown",
   "id": "b8478a1c",
   "metadata": {},
   "source": [
    "Let's now fetch a particular Boolean network querrying its ID."
   ]
  },
  {
   "cell_type": "code",
   "execution_count": null,
   "id": "54ab6ce0",
   "metadata": {},
   "outputs": [
    {
     "name": "stdout",
     "output_type": "stream",
     "text": [
      "BooleanNetwork(variables=18, regulations=18, explicit_parameters=0, implicit_parameters=8)\n"
     ]
    }
   ],
   "source": [
    "# Fetch a small network (with 18 variables, 8 of which are inputs) by its ID\n",
    "bn = BiodivineBooleanModels.fetch_network(\"b427a7d3-5158-48ab-991b-1db895dd2b4d\")\n",
    "print(bn)"
   ]
  },
  {
   "cell_type": "code",
   "execution_count": 4,
   "id": "5aa902cc",
   "metadata": {},
   "outputs": [
    {
     "name": "stdout",
     "output_type": "stream",
     "text": [
      "v_Pvr -> v_Drk\n",
      "v_Raf -> v_Dsor1\n",
      "v_CNK -> v_Raf\n",
      "v_Ksr -> v_Raf\n",
      "v_Src42 -> v_Raf\n",
      "v_Ras -> v_Raf\n",
      "v_Rl -> v_Pnt\n",
      "v_Drk -> v_Sos\n",
      "v_Pvf2 -> v_Pvr\n",
      "v_Pvf3 -> v_Pvr\n",
      "v_Pvf1 -> v_Pvr\n",
      "v_Dsor1 -> v_Rl\n",
      "v_msk -> v_Rl\n",
      "v_Sty -| v_Ras\n",
      "v_Sos -> v_Ras\n",
      "v_Aop -| v_Targets\n",
      "v_Pnt -> v_Targets\n",
      "v_Rl -| v_Aop\n",
      "$v_Aop: !v_Rl\n",
      "$v_Drk: v_Pvr\n",
      "$v_Dsor1: v_Raf\n",
      "$v_Pnt: v_Rl\n",
      "$v_Pvr: v_Pvf2 | v_Pvf1 | v_Pvf3\n",
      "$v_Raf: v_Ras & v_CNK & v_Ksr & v_Src42\n",
      "$v_Ras: v_Sos & !v_Sty\n",
      "$v_Rl: v_Dsor1 & v_msk\n",
      "$v_Sos: v_Drk\n",
      "$v_Targets: v_Pnt & !v_Aop\n",
      "\n"
     ]
    }
   ],
   "source": [
    "print(bn.to_aeon())"
   ]
  }
 ],
 "metadata": {
  "kernelspec": {
   "display_name": "venv",
   "language": "python",
   "name": "python3"
  },
  "language_info": {
   "codemirror_mode": {
    "name": "ipython",
    "version": 3
   },
   "file_extension": ".py",
   "mimetype": "text/x-python",
   "name": "python",
   "nbconvert_exporter": "python",
   "pygments_lexer": "ipython3",
   "version": "3.12.3"
  }
 },
 "nbformat": 4,
 "nbformat_minor": 5
}
