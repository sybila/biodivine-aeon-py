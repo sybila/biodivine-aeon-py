{
 "cells": [
  {
   "cell_type": "markdown",
   "metadata": {
    "cell_id": "b811bd141f764a448b8d8fa54eeccb2a",
    "deepnote_app_coordinates": {
     "h": 5,
     "w": 12,
     "x": 0,
     "y": null
    },
    "deepnote_cell_height": 608.578125,
    "deepnote_cell_type": "markdown",
    "tags": []
   },
   "source": [
    "# Symbolic function manipulation using BDDs\n",
    "\n",
    "> **Before you begin: You don't really need to understand BDDs to analyse Boolean networks with AEON. Most readers will be just fine skipping to the next tutorial :) However, BDDs are the underlying bedrock of most algorithms in AEON. Hence it is useful to have at least some basic knowledge of BDDs for any in-depth work.**\n",
    "\n",
    "This notebook shows examples of how to use binary decision diagrams (BDDs) available in the AEON.py tool. It assumes that you already know what BDDs are and their capabilities (i.e., we will not talk about BDDs, just the technical implementation of the library). For a quick overview of BDDs, [wikipedia](https://en.wikipedia.org/wiki/Binary_decision_diagram) is an ok resource.\n",
    "\n",
    "<p align=\"center\">\n",
    "  <img style=\"margin: 0 auto; display: block;\" src=\"./img/bdd_example.png\" />\n",
    "</p>\n",
    "\n",
    "Compared to other BDD libraries, here we do not have a single shared \"BDD storage\" or \"BDD manager\". Instead, **every BDD is a separate object**, which means it is easier to pass it around during asynchronous or parallel computing (i.e. more than one BDD operation can be running at the same time). It also simplifies serialization and managing multiple BDD encodings at the same time.\n",
    "\n",
    "That being said, we still use a separate `BddVariableSet` to manage the mapping from *names* to the actual BDD variable IDs, since variable names are not used as often and there is no need to have a copy of all names in each BDD. This `BddVariableSet` object is also used to initially create BDD atoms, so it is probably the first thing that you'll need to setup before creating any BDDs. Furthermore, each BDD actually maintains the *total number* of variables that it supports. This is injected by the `BddVariableSet`. **You can't mix BDDs with a different variable count**. In practice, you should only combine BDDs created using the same `BddVariableSet` unless you absolutely know what you are doing.\n",
    "\n",
    "To begin, simply install AEON.py from PyPI (`pip install biodivine_aeon`) and import everything:"
   ]
  },
  {
   "cell_type": "code",
   "execution_count": 1,
   "metadata": {
    "cell_id": "aad5a81b05964d67b5f48a22d2bd10fe",
    "deepnote_app_coordinates": {
     "h": 5,
     "w": 12,
     "x": 0,
     "y": 6
    },
    "deepnote_cell_height": 81,
    "deepnote_cell_type": "code",
    "deepnote_to_be_reexecuted": false,
    "execution_millis": 44,
    "execution_start": 1647976186903,
    "source_hash": "1370dff5",
    "tags": []
   },
   "outputs": [
    {
     "name": "stdout",
     "output_type": "stream",
     "text": [
      "Detected IPython (`ZMQInteractiveShell`). Log level set to `LOG_ESSENTIAL`.\n"
     ]
    }
   ],
   "source": [
    "from biodivine_aeon import *"
   ]
  },
  {
   "cell_type": "markdown",
   "metadata": {
    "cell_id": "5f4b1d4bc303483ebbb2f054664619ff",
    "deepnote_app_coordinates": {
     "h": 5,
     "w": 12,
     "x": 0,
     "y": 12
    },
    "deepnote_cell_height": 74.796875,
    "deepnote_cell_type": "markdown",
    "tags": []
   },
   "source": [
    "### `BddVariableSet` and creating basic BDDs\n",
    "\n",
    "To create a `BddVariableSet`, you have two options: If you already know the number of variables (and their names), you can create it directly. Alternatively, you can create it gradually using a `BddVariableSetBuilder` while figuring out what variables to use."
   ]
  },
  {
   "cell_type": "code",
   "execution_count": 2,
   "metadata": {
    "cell_id": "9a9b766c0e7848058958e4e2dcfe44f0",
    "deepnote_app_coordinates": {
     "h": 5,
     "w": 12,
     "x": 0,
     "y": 18
    },
    "deepnote_cell_height": 550.1875,
    "deepnote_cell_type": "code",
    "deepnote_output_heights": [
     21.1875
    ],
    "deepnote_to_be_reexecuted": false,
    "execution_millis": 12,
    "execution_start": 1647976186947,
    "source_hash": "f1dff02e",
    "tags": []
   },
   "outputs": [
    {
     "data": {
      "text/plain": [
       "['x_0', 'x_1', 'x_2', 'x_3', 'x_4', 'x_5', 'x_6', 'x_7', 'x_8', 'x_9']"
      ]
     },
     "execution_count": 2,
     "metadata": {},
     "output_type": "execute_result"
    }
   ],
   "source": [
    "# Create a BddVariableSet with 5 variables named \"a\", \"b\", \"c\", \"d\", \"e\".\n",
    "vars = BddVariableSet([\"a\", \"b\", \"c\", \"d\", \"e\"])\n",
    "assert vars.variable_count() == 5\n",
    "# To actually use the variables in the future, we have to use a `BddVariable` reference. \n",
    "# Here, v_a now contains a `BddVariable` reference. \n",
    "# In most methods, you can also use the variable names directly, but this is typically slower,\n",
    "# because the names need to be resolved to IDs every time.\n",
    "v_a = vars.find_variable(\"a\")\n",
    "v_c = vars.find_variable(\"c\")\n",
    "\n",
    "# These `BddVariable` references are internally just integers:\n",
    "assert BddVariable(int(v_a)) == v_a\n",
    "\n",
    "# We can use the `BddVariable` reference to create a literal.\n",
    "# (A literal is a BDD that corresponds either to function \"a\" or \"!a\")\n",
    "positive_bdd_literal = vars.mk_literal(v_a, True)\n",
    "negative_bdd_literal = vars.mk_literal(v_a, False)\n",
    "\n",
    "# We can achieve the same thing using the variable name. But, as noted,\n",
    "# this is slightly slower, so it's better to use variable references \n",
    "# in performance critical parts of the program.\n",
    "assert positive_bdd_literal == vars.mk_literal(\"a\", True)\n",
    "\n",
    "# We can also use the variable set to create constants:\n",
    "bdd_true = vars.mk_const(True)\n",
    "\n",
    "# Test whether a particular function is equivalent to \n",
    "# the `true` constant (i.e. a tautology).\n",
    "assert positive_bdd_literal.is_true() == False\n",
    "assert bdd_true.is_true() == True  \n",
    "\n",
    "# You can also create an \"anonymous\" variable set, where the names of the variables are \n",
    "# automatically set to \"x_0\", \"x_1\", ... , \"x_{n-1}\".\n",
    "anonymous_vars = BddVariableSet(10)\n",
    "\n",
    "# It is always possible to retrieve all variables valid in a set:\n",
    "anonymous_ids = anonymous_vars.variable_ids()\n",
    "anonymous_names = anonymous_vars.variable_names()\n",
    "\n",
    "for i in range(len(anonymous_ids)):\n",
    "    assert anonymous_names[i] == anonymous_vars.get_variable_name(anonymous_ids[i])\n",
    "\n",
    "anonymous_names"
   ]
  },
  {
   "cell_type": "markdown",
   "metadata": {
    "cell_id": "698629a21b754169aa0d696ee8225016",
    "deepnote_app_coordinates": {
     "h": 5,
     "w": 12,
     "x": 0,
     "y": 24
    },
    "deepnote_cell_height": 74.796875,
    "deepnote_cell_type": "markdown",
    "tags": []
   },
   "source": [
    "In some cases, you don't know the number (or names) of variables initially. For example, you want to have a function that creates the variables while reading the problem input, and saves the BDD variable references for future use:"
   ]
  },
  {
   "cell_type": "code",
   "execution_count": 3,
   "metadata": {
    "cell_id": "959b3fd900f34555b58b559f967dc060",
    "deepnote_app_coordinates": {
     "h": 5,
     "w": 12,
     "x": 0,
     "y": 30
    },
    "deepnote_cell_height": 316.1875,
    "deepnote_cell_type": "code",
    "deepnote_output_heights": [
     21.1875
    ],
    "deepnote_to_be_reexecuted": false,
    "execution_millis": 394,
    "execution_start": 1647976186990,
    "source_hash": "61443f38",
    "tags": []
   },
   "outputs": [
    {
     "data": {
      "text/plain": [
       "['first', 'second', 'third', 'fourth']"
      ]
     },
     "execution_count": 3,
     "metadata": {},
     "output_type": "execute_result"
    }
   ],
   "source": [
    "builder = BddVariableSetBuilder()\n",
    "\n",
    "# You can create variables one by one, and the builder will always give you the variable reference for later use.\n",
    "v_first: BddVariable = builder.add(\"first\")\n",
    "\n",
    "# You can also create multiple variable at the same time if you want to.\n",
    "created: list[BddVariable] = builder.add_all([\"second\", \"third\", \"fourth\"])\n",
    "v_third = created[1]\n",
    "\n",
    "# In the end, you can just call `build` to turn the builder into a valid `BddVariableSet`.\n",
    "four_vars = builder.build()\n",
    "four_vars.variable_names()"
   ]
  },
  {
   "cell_type": "markdown",
   "metadata": {
    "cell_id": "a1fc2b0152834daa804c88d50bf5fdd8",
    "deepnote_app_coordinates": {
     "h": 5,
     "w": 12,
     "x": 0,
     "y": 36
    },
    "deepnote_cell_height": 111.1875,
    "deepnote_cell_type": "markdown",
    "tags": []
   },
   "source": [
    "Note that AEON will throw an exception if you try to define a duplicate variable:"
   ]
  },
  {
   "cell_type": "code",
   "execution_count": 4,
   "metadata": {},
   "outputs": [
    {
     "name": "stdout",
     "output_type": "stream",
     "text": [
      "Variable already exists\n"
     ]
    },
    {
     "name": "stderr",
     "output_type": "stream",
     "text": [
      "thread '<unnamed>' panicked at /Users/daemontus/.cargo/registry/src/index.crates.io-6f17d22bba15001f/biodivine-lib-bdd-0.5.11/src/_impl_bdd_variable_set_builder.rs:30:13:\n",
      "BDD variable first already exists.\n",
      "note: run with `RUST_BACKTRACE=1` environment variable to display a backtrace\n"
     ]
    }
   ],
   "source": [
    "try:\n",
    "    builder.add(\"first\")\n",
    "except:\n",
    "    print(\"Variable already exists\")"
   ]
  },
  {
   "cell_type": "markdown",
   "metadata": {},
   "source": [
    "Furthermore, some special characters (like `!`, or other logical operators) cannot be used in a variable names. The reason for this is mainly that `BddVariableSet` can actually do quite a bit more than what we've shown already:"
   ]
  },
  {
   "cell_type": "code",
   "execution_count": 5,
   "metadata": {
    "cell_id": "aa19762228c14290930e0eeaa1f13495",
    "deepnote_app_coordinates": {
     "h": 5,
     "w": 12,
     "x": 0,
     "y": 42
    },
    "deepnote_cell_height": 316.1875,
    "deepnote_cell_type": "code",
    "deepnote_output_heights": [
     21.1875
    ],
    "deepnote_to_be_reexecuted": false,
    "execution_millis": 393,
    "execution_start": 1647976186991,
    "source_hash": "c81f7362",
    "tags": []
   },
   "outputs": [
    {
     "data": {
      "text/plain": [
       "4"
      ]
     },
     "execution_count": 5,
     "metadata": {},
     "output_type": "execute_result"
    }
   ],
   "source": [
    "# If you have a formula that you want to quickly turn into a BDD, you can simply evaluate it as a string,\n",
    "# as long as the variable names match the ones declared in your BddVariableSet.\n",
    "formula = vars.eval_expression(\"a & (b => !c) & (d <=> (c & !a))\")\n",
    "\n",
    "# Furthermore, if you have a formula saved in CNF/DNF, you can also build it quite easily.\n",
    "# Each element in the list is a dictionary containing the literals in the CNF/DNF clause. \n",
    "# Here, both `BddVariable` references and names are accepted.\n",
    "conjunction = vars.mk_cnf([{v_a: True, \"b\": False}, {\"c\": False, \"d\": False}, {v_a: True, \"c\": True}])\n",
    "\n",
    "# If you only want to create one clause, you can do that as well:\n",
    "clause = vars.mk_conjunctive_clause({v_a: True, \"b\": False, \"c\": True})\n",
    "clause.cardinality() # Get the number of valuations satisfied in this BDD."
   ]
  },
  {
   "cell_type": "markdown",
   "metadata": {},
   "source": [
    "### `BooleanExpression`\n",
    "\n",
    "Boolean expressions are actually a separate Python class that you can use in conjunction with BDDs to represent arbitrary Boolean functions:"
   ]
  },
  {
   "cell_type": "code",
   "execution_count": 6,
   "metadata": {},
   "outputs": [
    {
     "name": "stdout",
     "output_type": "stream",
     "text": [
      "(a & ((b => !c) & (d <=> (c & !a))))\n"
     ]
    }
   ],
   "source": [
    "# Each expression variant has a corresponding `mk_*` method:\n",
    "e_1 = BooleanExpression.mk_var(\"a\")\n",
    "# But you can also create expressions from strings:\n",
    "e_2 = BooleanExpression(\"b => !c\")\n",
    "e_3 = BooleanExpression(\"d <=> (c & !a)\")\n",
    "\n",
    "e = BooleanExpression.mk_conjunction([e_1, e_2, e_3])\n",
    "\n",
    "# For each expression variant, you can check it's type using the `is_*` methods:\n",
    "assert e.is_and()\n",
    "assert e_3.is_iff()\n",
    "\n",
    "# Finally, to \"deconstruct\" an expression, you can use the `as_*` methods:\n",
    "(e_3a, e_3b) = e_3.as_iff()\n",
    "assert e_3a.is_var()\n",
    "assert e_3b.is_and()\n",
    "\n",
    "print(e)"
   ]
  },
  {
   "cell_type": "markdown",
   "metadata": {},
   "source": [
    "Of course, a BDD can be converted back into an expression. This conversion is based on the disjunctive normal form of a BDD, which we demonstrate later."
   ]
  },
  {
   "cell_type": "code",
   "execution_count": 7,
   "metadata": {},
   "outputs": [
    {
     "data": {
      "text/plain": [
       "BooleanExpression(\"(a & ((b & (!c & !d)) | (!b & !d)))\")"
      ]
     },
     "execution_count": 7,
     "metadata": {},
     "output_type": "execute_result"
    }
   ],
   "source": [
    "formula.to_expression()"
   ]
  },
  {
   "cell_type": "markdown",
   "metadata": {
    "cell_id": "432c9f209b2043a3a2594139d09c4c0b",
    "deepnote_app_coordinates": {
     "h": 5,
     "w": 12,
     "x": 0,
     "y": 48
    },
    "deepnote_cell_height": 52.390625,
    "deepnote_cell_type": "markdown",
    "tags": []
   },
   "source": [
    "### BDDs in depth"
   ]
  },
  {
   "cell_type": "markdown",
   "metadata": {},
   "source": [
    "First of all, every BDD is a Boolean function. As such, you can just evaluate it given a correct number of input values:"
   ]
  },
  {
   "cell_type": "code",
   "execution_count": 8,
   "metadata": {},
   "outputs": [
    {
     "name": "stdout",
     "output_type": "stream",
     "text": [
      "False\n",
      "True\n"
     ]
    }
   ],
   "source": [
    "print(formula([True, False, False, True, True]))\n",
    "print(formula([True, True, False, False, True]))"
   ]
  },
  {
   "cell_type": "markdown",
   "metadata": {},
   "source": [
    "You can iterate through the satisfying valuations of the BDD (the rows of the function table that are set to `true`):"
   ]
  },
  {
   "cell_type": "code",
   "execution_count": 9,
   "metadata": {},
   "outputs": [
    {
     "name": "stdout",
     "output_type": "stream",
     "text": [
      "[1,0,0,0,0]\n",
      "[1,0,1,0,0]\n",
      "[1,0,0,0,1]\n",
      "[1,0,1,0,1]\n",
      "[1,1,0,0,0]\n",
      "[1,1,0,0,1]\n"
     ]
    }
   ],
   "source": [
    "for valuation in formula.valuation_iterator():\n",
    "    print(valuation)"
   ]
  },
  {
   "cell_type": "markdown",
   "metadata": {},
   "source": [
    "Alternatively, you can also iterate through the DNF clauses of the BDD that represent the paths to the `1` node. These effectively represent the same information as the function table rows, but more compactly:"
   ]
  },
  {
   "cell_type": "code",
   "execution_count": 10,
   "metadata": {},
   "outputs": [
    {
     "name": "stdout",
     "output_type": "stream",
     "text": [
      "{'a': 1, 'b': 0, 'd': 0}\n",
      "{'a': 1, 'b': 1, 'c': 0, 'd': 0}\n"
     ]
    }
   ],
   "source": [
    "for clause in formula.clause_iterator():\n",
    "    print(clause)"
   ]
  },
  {
   "cell_type": "markdown",
   "metadata": {},
   "source": [
    "##### BDD structure\n",
    "\n",
    "First, you can explore the individual nodes of the underlying BDD graph.\n",
    "\n",
    "> BDDs are immutable. You can read their structure, but to modify it, you have to create a new BDD."
   ]
  },
  {
   "cell_type": "code",
   "execution_count": 11,
   "metadata": {},
   "outputs": [
    {
     "name": "stdout",
     "output_type": "stream",
     "text": [
      "Node node_5 conditions on x_0 and points to (node_0, node_4)\n",
      "Node node_0 conditions on None and points to (node_0, node_0)\n",
      "Node node_4 conditions on x_1 and points to (node_2, node_3)\n",
      "Node node_2 conditions on x_3 and points to (node_1, node_0)\n",
      "Node node_1 conditions on None and points to (node_1, node_1)\n",
      "Node node_3 conditions on x_2 and points to (node_2, node_0)\n"
     ]
    }
   ],
   "source": [
    "stack = [ formula.root() ]\n",
    "expanded = set()\n",
    "while len(stack) > 0:\n",
    "    node = stack.pop()\n",
    "    if node in expanded:\n",
    "        continue\n",
    "    expanded.add(node)\n",
    "    node_var = formula.node_variable(node)\n",
    "    (low_link, high_link) = formula.node_links(node)\n",
    "    print(f\"Node {node} conditions on {node_var} and points to ({low_link}, {high_link})\")\n",
    "    stack.append(high_link)\n",
    "    stack.append(low_link)"
   ]
  },
  {
   "cell_type": "markdown",
   "metadata": {},
   "source": [
    "To visually inspect the BDD structure, you can also use a conversion to a `.dot` graph file.\n",
    "\n",
    "Here, we are using `graphviz` to actually show the pictures of the decision diagrams:"
   ]
  },
  {
   "cell_type": "code",
   "execution_count": 12,
   "metadata": {
    "cell_id": "d7800cd7c990456a8dd5298c9b70ab55",
    "deepnote_app_coordinates": {
     "h": 5,
     "w": 12,
     "x": 0,
     "y": 54
    },
    "deepnote_cell_height": 609.65625,
    "deepnote_cell_type": "code",
    "deepnote_output_heights": [
     476.65625
    ],
    "deepnote_to_be_reexecuted": false,
    "execution_millis": 395,
    "execution_start": 1647976186992,
    "source_hash": "91a95f1f",
    "tags": []
   },
   "outputs": [
    {
     "data": {
      "image/svg+xml": [
       "<?xml version=\"1.0\" encoding=\"UTF-8\" standalone=\"no\"?>\n",
       "<!DOCTYPE svg PUBLIC \"-//W3C//DTD SVG 1.1//EN\"\n",
       " \"http://www.w3.org/Graphics/SVG/1.1/DTD/svg11.dtd\">\n",
       "<!-- Generated by graphviz version 9.0.0 (20230911.1827)\n",
       " -->\n",
       "<!-- Title: G Pages: 1 -->\n",
       "<svg width=\"90pt\" height=\"358pt\"\n",
       " viewBox=\"0.00 0.00 90.00 357.94\" xmlns=\"http://www.w3.org/2000/svg\" xmlns:xlink=\"http://www.w3.org/1999/xlink\">\n",
       "<g id=\"graph0\" class=\"graph\" transform=\"scale(1 1) rotate(0) translate(4 353.94)\">\n",
       "<title>G</title>\n",
       "<polygon fill=\"white\" stroke=\"none\" points=\"-4,4 -4,-353.94 86,-353.94 86,4 -4,4\"/>\n",
       "<!-- init__ -->\n",
       "<!-- 5 -->\n",
       "<g id=\"node2\" class=\"node\">\n",
       "<title>5</title>\n",
       "<ellipse fill=\"none\" stroke=\"black\" cx=\"27\" cy=\"-294.5\" rx=\"27\" ry=\"18\"/>\n",
       "<text text-anchor=\"middle\" x=\"27\" y=\"-289.45\" font-family=\"Times,serif\" font-size=\"14.00\">a</text>\n",
       "</g>\n",
       "<!-- init__&#45;&gt;5 -->\n",
       "<g id=\"edge1\" class=\"edge\">\n",
       "<title>init__&#45;&gt;5</title>\n",
       "<path fill=\"none\" stroke=\"black\" d=\"M27,-348.35C27,-346.94 27,-335.91 27,-324.29\"/>\n",
       "<polygon fill=\"black\" stroke=\"black\" points=\"30.5,-324.32 27,-314.32 23.5,-324.32 30.5,-324.32\"/>\n",
       "</g>\n",
       "<!-- 4 -->\n",
       "<g id=\"node6\" class=\"node\">\n",
       "<title>4</title>\n",
       "<ellipse fill=\"none\" stroke=\"black\" cx=\"27\" cy=\"-222.5\" rx=\"27\" ry=\"18\"/>\n",
       "<text text-anchor=\"middle\" x=\"27\" y=\"-217.45\" font-family=\"Times,serif\" font-size=\"14.00\">b</text>\n",
       "</g>\n",
       "<!-- 5&#45;&gt;4 -->\n",
       "<g id=\"edge6\" class=\"edge\">\n",
       "<title>5&#45;&gt;4</title>\n",
       "<path fill=\"none\" stroke=\"black\" d=\"M27,-276.2C27,-268.91 27,-260.23 27,-252.04\"/>\n",
       "<polygon fill=\"black\" stroke=\"black\" points=\"30.5,-252.12 27,-242.12 23.5,-252.12 30.5,-252.12\"/>\n",
       "</g>\n",
       "<!-- 1 -->\n",
       "<g id=\"node3\" class=\"node\">\n",
       "<title>1</title>\n",
       "<polygon fill=\"lightgrey\" stroke=\"black\" points=\"38.38,-24.5 15.62,-24.5 15.62,0 38.38,0 38.38,-24.5\"/>\n",
       "<text text-anchor=\"middle\" x=\"27\" y=\"-7.2\" font-family=\"Times,serif\" font-size=\"14.00\">1</text>\n",
       "</g>\n",
       "<!-- 2 -->\n",
       "<g id=\"node4\" class=\"node\">\n",
       "<title>2</title>\n",
       "<ellipse fill=\"none\" stroke=\"black\" cx=\"27\" cy=\"-78.5\" rx=\"27\" ry=\"18\"/>\n",
       "<text text-anchor=\"middle\" x=\"27\" y=\"-73.45\" font-family=\"Times,serif\" font-size=\"14.00\">d</text>\n",
       "</g>\n",
       "<!-- 2&#45;&gt;1 -->\n",
       "<g id=\"edge2\" class=\"edge\">\n",
       "<title>2&#45;&gt;1</title>\n",
       "<path fill=\"none\" stroke=\"black\" stroke-dasharray=\"1,5\" d=\"M27,-60.28C27,-52.87 27,-44.09 27,-36.14\"/>\n",
       "<polygon fill=\"black\" stroke=\"black\" points=\"30.5,-36.15 27,-26.15 23.5,-36.15 30.5,-36.15\"/>\n",
       "</g>\n",
       "<!-- 3 -->\n",
       "<g id=\"node5\" class=\"node\">\n",
       "<title>3</title>\n",
       "<ellipse fill=\"none\" stroke=\"black\" cx=\"55\" cy=\"-150.5\" rx=\"27\" ry=\"18\"/>\n",
       "<text text-anchor=\"middle\" x=\"55\" y=\"-145.45\" font-family=\"Times,serif\" font-size=\"14.00\">c</text>\n",
       "</g>\n",
       "<!-- 3&#45;&gt;2 -->\n",
       "<g id=\"edge3\" class=\"edge\">\n",
       "<title>3&#45;&gt;2</title>\n",
       "<path fill=\"none\" stroke=\"black\" stroke-dasharray=\"1,5\" d=\"M48.36,-132.91C45.23,-125.07 41.4,-115.49 37.85,-106.63\"/>\n",
       "<polygon fill=\"black\" stroke=\"black\" points=\"41.11,-105.36 34.15,-97.38 34.61,-107.96 41.11,-105.36\"/>\n",
       "</g>\n",
       "<!-- 4&#45;&gt;2 -->\n",
       "<g id=\"edge5\" class=\"edge\">\n",
       "<title>4&#45;&gt;2</title>\n",
       "<path fill=\"none\" stroke=\"black\" stroke-dasharray=\"1,5\" d=\"M23.75,-204.39C21.95,-194.04 19.91,-180.56 19,-168.5 17.8,-152.54 17.8,-148.46 19,-132.5 19.6,-124.49 20.71,-115.85 21.91,-107.93\"/>\n",
       "<polygon fill=\"black\" stroke=\"black\" points=\"25.35,-108.54 23.51,-98.11 18.45,-107.41 25.35,-108.54\"/>\n",
       "</g>\n",
       "<!-- 4&#45;&gt;3 -->\n",
       "<g id=\"edge4\" class=\"edge\">\n",
       "<title>4&#45;&gt;3</title>\n",
       "<path fill=\"none\" stroke=\"black\" d=\"M33.64,-204.91C36.77,-197.07 40.6,-187.49 44.15,-178.63\"/>\n",
       "<polygon fill=\"black\" stroke=\"black\" points=\"47.39,-179.96 47.85,-169.38 40.89,-177.36 47.39,-179.96\"/>\n",
       "</g>\n",
       "</g>\n",
       "</svg>\n"
      ],
      "text/plain": [
       "<graphviz.sources.Source at 0x106b886e0>"
      ]
     },
     "execution_count": 12,
     "metadata": {},
     "output_type": "execute_result"
    }
   ],
   "source": [
    "import graphviz\n",
    "\n",
    "graphviz.Source(formula.to_dot())"
   ]
  },
  {
   "cell_type": "markdown",
   "metadata": {
    "cell_id": "b7a016f070824fd79a48e3e52981df94",
    "deepnote_app_coordinates": {
     "h": 5,
     "w": 12,
     "x": 0,
     "y": 60
    },
    "deepnote_cell_height": 74.796875,
    "deepnote_cell_type": "markdown",
    "tags": []
   },
   "source": [
    "For readability, the generated plot omits edges that lead to the `zero` terminal node, as these are easy to infer visually. We can still show them if desired:"
   ]
  },
  {
   "cell_type": "code",
   "execution_count": 13,
   "metadata": {},
   "outputs": [
    {
     "data": {
      "image/svg+xml": [
       "<?xml version=\"1.0\" encoding=\"UTF-8\" standalone=\"no\"?>\n",
       "<!DOCTYPE svg PUBLIC \"-//W3C//DTD SVG 1.1//EN\"\n",
       " \"http://www.w3.org/Graphics/SVG/1.1/DTD/svg11.dtd\">\n",
       "<!-- Generated by graphviz version 9.0.0 (20230911.1827)\n",
       " -->\n",
       "<!-- Title: G Pages: 1 -->\n",
       "<svg width=\"136pt\" height=\"358pt\"\n",
       " viewBox=\"0.00 0.00 136.00 357.94\" xmlns=\"http://www.w3.org/2000/svg\" xmlns:xlink=\"http://www.w3.org/1999/xlink\">\n",
       "<g id=\"graph0\" class=\"graph\" transform=\"scale(1 1) rotate(0) translate(4 353.94)\">\n",
       "<title>G</title>\n",
       "<polygon fill=\"white\" stroke=\"none\" points=\"-4,4 -4,-353.94 132,-353.94 132,4 -4,4\"/>\n",
       "<!-- init__ -->\n",
       "<!-- 5 -->\n",
       "<g id=\"node2\" class=\"node\">\n",
       "<title>5</title>\n",
       "<ellipse fill=\"none\" stroke=\"black\" cx=\"27\" cy=\"-294.5\" rx=\"27\" ry=\"18\"/>\n",
       "<text text-anchor=\"middle\" x=\"27\" y=\"-289.45\" font-family=\"Times,serif\" font-size=\"14.00\">a</text>\n",
       "</g>\n",
       "<!-- init__&#45;&gt;5 -->\n",
       "<g id=\"edge1\" class=\"edge\">\n",
       "<title>init__&#45;&gt;5</title>\n",
       "<path fill=\"none\" stroke=\"black\" d=\"M27,-348.35C27,-346.94 27,-335.91 27,-324.29\"/>\n",
       "<polygon fill=\"black\" stroke=\"black\" points=\"30.5,-324.32 27,-314.32 23.5,-324.32 30.5,-324.32\"/>\n",
       "</g>\n",
       "<!-- 0 -->\n",
       "<g id=\"node3\" class=\"node\">\n",
       "<title>0</title>\n",
       "<polygon fill=\"lightgrey\" stroke=\"black\" points=\"57.38,-24.5 34.62,-24.5 34.62,0 57.38,0 57.38,-24.5\"/>\n",
       "<text text-anchor=\"middle\" x=\"46\" y=\"-7.2\" font-family=\"Times,serif\" font-size=\"14.00\">0</text>\n",
       "</g>\n",
       "<!-- 5&#45;&gt;0 -->\n",
       "<g id=\"edge9\" class=\"edge\">\n",
       "<title>5&#45;&gt;0</title>\n",
       "<path fill=\"none\" stroke=\"black\" stroke-dasharray=\"1,5\" d=\"M23.75,-276.39C21.95,-266.04 19.91,-252.56 19,-240.5 15.41,-192.63 13.67,-180.2 19,-132.5 22.82,-98.37 32.59,-59.75 39.27,-35.94\"/>\n",
       "<polygon fill=\"black\" stroke=\"black\" points=\"42.62,-36.98 42.02,-26.4 35.89,-35.05 42.62,-36.98\"/>\n",
       "</g>\n",
       "<!-- 4 -->\n",
       "<g id=\"node7\" class=\"node\">\n",
       "<title>4</title>\n",
       "<ellipse fill=\"none\" stroke=\"black\" cx=\"55\" cy=\"-222.5\" rx=\"27\" ry=\"18\"/>\n",
       "<text text-anchor=\"middle\" x=\"55\" y=\"-217.45\" font-family=\"Times,serif\" font-size=\"14.00\">b</text>\n",
       "</g>\n",
       "<!-- 5&#45;&gt;4 -->\n",
       "<g id=\"edge8\" class=\"edge\">\n",
       "<title>5&#45;&gt;4</title>\n",
       "<path fill=\"none\" stroke=\"black\" d=\"M33.64,-276.91C36.77,-269.07 40.6,-259.49 44.15,-250.63\"/>\n",
       "<polygon fill=\"black\" stroke=\"black\" points=\"47.39,-251.96 47.85,-241.38 40.89,-249.36 47.39,-251.96\"/>\n",
       "</g>\n",
       "<!-- 1 -->\n",
       "<g id=\"node4\" class=\"node\">\n",
       "<title>1</title>\n",
       "<polygon fill=\"lightgrey\" stroke=\"black\" points=\"112.38,-24.5 89.62,-24.5 89.62,0 112.38,0 112.38,-24.5\"/>\n",
       "<text text-anchor=\"middle\" x=\"101\" y=\"-7.2\" font-family=\"Times,serif\" font-size=\"14.00\">1</text>\n",
       "</g>\n",
       "<!-- 2 -->\n",
       "<g id=\"node5\" class=\"node\">\n",
       "<title>2</title>\n",
       "<ellipse fill=\"none\" stroke=\"black\" cx=\"101\" cy=\"-78.5\" rx=\"27\" ry=\"18\"/>\n",
       "<text text-anchor=\"middle\" x=\"101\" y=\"-73.45\" font-family=\"Times,serif\" font-size=\"14.00\">d</text>\n",
       "</g>\n",
       "<!-- 2&#45;&gt;0 -->\n",
       "<g id=\"edge2\" class=\"edge\">\n",
       "<title>2&#45;&gt;0</title>\n",
       "<path fill=\"none\" stroke=\"black\" d=\"M87.97,-62.27C80.63,-53.7 71.37,-42.89 63.42,-33.59\"/>\n",
       "<polygon fill=\"black\" stroke=\"black\" points=\"66.16,-31.42 57,-26.1 60.85,-35.98 66.16,-31.42\"/>\n",
       "</g>\n",
       "<!-- 2&#45;&gt;1 -->\n",
       "<g id=\"edge3\" class=\"edge\">\n",
       "<title>2&#45;&gt;1</title>\n",
       "<path fill=\"none\" stroke=\"black\" stroke-dasharray=\"1,5\" d=\"M101,-60.28C101,-52.87 101,-44.09 101,-36.14\"/>\n",
       "<polygon fill=\"black\" stroke=\"black\" points=\"104.5,-36.15 101,-26.15 97.5,-36.15 104.5,-36.15\"/>\n",
       "</g>\n",
       "<!-- 3 -->\n",
       "<g id=\"node6\" class=\"node\">\n",
       "<title>3</title>\n",
       "<ellipse fill=\"none\" stroke=\"black\" cx=\"55\" cy=\"-150.5\" rx=\"27\" ry=\"18\"/>\n",
       "<text text-anchor=\"middle\" x=\"55\" y=\"-145.45\" font-family=\"Times,serif\" font-size=\"14.00\">c</text>\n",
       "</g>\n",
       "<!-- 3&#45;&gt;0 -->\n",
       "<g id=\"edge4\" class=\"edge\">\n",
       "<title>3&#45;&gt;0</title>\n",
       "<path fill=\"none\" stroke=\"black\" d=\"M53.86,-132.24C52.25,-107.89 49.31,-63.38 47.52,-36.24\"/>\n",
       "<polygon fill=\"black\" stroke=\"black\" points=\"51.01,-36.06 46.86,-26.31 44.03,-36.52 51.01,-36.06\"/>\n",
       "</g>\n",
       "<!-- 3&#45;&gt;2 -->\n",
       "<g id=\"edge5\" class=\"edge\">\n",
       "<title>3&#45;&gt;2</title>\n",
       "<path fill=\"none\" stroke=\"black\" stroke-dasharray=\"1,5\" d=\"M65.44,-133.62C71.03,-125.11 78.04,-114.44 84.36,-104.82\"/>\n",
       "<polygon fill=\"black\" stroke=\"black\" points=\"87.21,-106.87 89.77,-96.59 81.36,-103.02 87.21,-106.87\"/>\n",
       "</g>\n",
       "<!-- 4&#45;&gt;2 -->\n",
       "<g id=\"edge7\" class=\"edge\">\n",
       "<title>4&#45;&gt;2</title>\n",
       "<path fill=\"none\" stroke=\"black\" stroke-dasharray=\"1,5\" d=\"M68.21,-206.39C76.21,-196.35 85.83,-182.48 91,-168.5 98.14,-149.19 100.57,-126.04 101.25,-108.19\"/>\n",
       "<polygon fill=\"black\" stroke=\"black\" points=\"104.75,-108.37 101.45,-98.31 97.75,-108.23 104.75,-108.37\"/>\n",
       "</g>\n",
       "<!-- 4&#45;&gt;3 -->\n",
       "<g id=\"edge6\" class=\"edge\">\n",
       "<title>4&#45;&gt;3</title>\n",
       "<path fill=\"none\" stroke=\"black\" d=\"M55,-204.2C55,-196.91 55,-188.23 55,-180.04\"/>\n",
       "<polygon fill=\"black\" stroke=\"black\" points=\"58.5,-180.12 55,-170.12 51.5,-180.12 58.5,-180.12\"/>\n",
       "</g>\n",
       "</g>\n",
       "</svg>\n"
      ],
      "text/plain": [
       "<graphviz.sources.Source at 0x106bec110>"
      ]
     },
     "execution_count": 13,
     "metadata": {},
     "output_type": "execute_result"
    }
   ],
   "source": [
    "graphviz.Source(formula.to_dot(zero_pruned=False))"
   ]
  },
  {
   "cell_type": "markdown",
   "metadata": {},
   "source": [
    "To resolve the `BddVariable` references to proper variable names, `Bdd` uses an internal reference to the `BddVariableSet` that originally created it. In Python, this reference is accessible through `Bdd.__ctx__()`:"
   ]
  },
  {
   "cell_type": "code",
   "execution_count": 14,
   "metadata": {
    "cell_id": "b7a016f070824fd79a48e3e52981df94",
    "deepnote_app_coordinates": {
     "h": 5,
     "w": 12,
     "x": 0,
     "y": 60
    },
    "deepnote_cell_height": 74.796875,
    "deepnote_cell_type": "markdown",
    "tags": []
   },
   "outputs": [],
   "source": [
    "assert formula.__ctx__() == vars"
   ]
  },
  {
   "cell_type": "markdown",
   "metadata": {},
   "source": [
    "Finally, to understand the underlying Boolean function, you can also convert a `Bdd` to a disjunctive or conjunctive normal form:"
   ]
  },
  {
   "cell_type": "code",
   "execution_count": 15,
   "metadata": {},
   "outputs": [
    {
     "name": "stdout",
     "output_type": "stream",
     "text": [
      "DNF\n",
      "{'a': 1, 'b': 1, 'c': 0, 'd': 0}\n",
      "{'a': 1, 'b': 0, 'd': 0}\n",
      "CNF\n",
      "{'a': 1}\n",
      "{'a': 0, 'b': 1, 'd': 0}\n",
      "{'a': 0, 'b': 0, 'c': 1, 'd': 0}\n",
      "{'a': 0, 'b': 0, 'c': 0}\n"
     ]
    }
   ],
   "source": [
    "print(\"DNF\")\n",
    "for clause in formula.to_dnf():\n",
    "    print(clause)\n",
    "print(\"CNF\")\n",
    "for clause in formula.to_cnf():\n",
    "    print(clause)"
   ]
  },
  {
   "cell_type": "markdown",
   "metadata": {},
   "source": [
    "Note that the result of `formula.to_dnf()` and `formula.clause_iterator()` is functionally very similar, as both produce a discjuntive normal form of the corresponding BDD. However, when using `to_dnf`, AEON performs additional simplification to (ideally) produce a smaller number of clauses overall."
   ]
  },
  {
   "cell_type": "markdown",
   "metadata": {
    "cell_id": "a7b22924fcf348a29978b079246ced2d",
    "deepnote_app_coordinates": {
     "h": 5,
     "w": 12,
     "x": 0,
     "y": 96
    },
    "deepnote_cell_height": 74.796875,
    "deepnote_cell_type": "markdown",
    "tags": []
   },
   "source": [
    "##### Logical operators\n",
    "\n",
    "To actually manipulate BDDs, you can use normal logical operators, as well as more advanced relation operators (projection, selection, restriction, ...). However, note that because `and` and `or` are Python keywords, the actual methods are prefixed with `l_*` (logical operators) and `r_*` (relation operators) to clearly differentiate them from the built-in language constructs."
   ]
  },
  {
   "cell_type": "code",
   "execution_count": 16,
   "metadata": {
    "cell_id": "8e7e456fd2b64da9b0435d102d5466ea",
    "deepnote_app_coordinates": {
     "h": 5,
     "w": 12,
     "x": 0,
     "y": 102
    },
    "deepnote_cell_height": 747.65625,
    "deepnote_cell_type": "code",
    "deepnote_output_heights": [
     380.65625
    ],
    "deepnote_to_be_reexecuted": false,
    "execution_millis": 122,
    "execution_start": 1647976187268,
    "source_hash": "478dd516",
    "tags": []
   },
   "outputs": [
    {
     "data": {
      "image/svg+xml": [
       "<?xml version=\"1.0\" encoding=\"UTF-8\" standalone=\"no\"?>\n",
       "<!DOCTYPE svg PUBLIC \"-//W3C//DTD SVG 1.1//EN\"\n",
       " \"http://www.w3.org/Graphics/SVG/1.1/DTD/svg11.dtd\">\n",
       "<!-- Generated by graphviz version 9.0.0 (20230911.1827)\n",
       " -->\n",
       "<!-- Title: G Pages: 1 -->\n",
       "<svg width=\"90pt\" height=\"286pt\"\n",
       " viewBox=\"0.00 0.00 90.00 285.94\" xmlns=\"http://www.w3.org/2000/svg\" xmlns:xlink=\"http://www.w3.org/1999/xlink\">\n",
       "<g id=\"graph0\" class=\"graph\" transform=\"scale(1 1) rotate(0) translate(4 281.94)\">\n",
       "<title>G</title>\n",
       "<polygon fill=\"white\" stroke=\"none\" points=\"-4,4 -4,-281.94 86,-281.94 86,4 -4,4\"/>\n",
       "<!-- init__ -->\n",
       "<!-- 4 -->\n",
       "<g id=\"node2\" class=\"node\">\n",
       "<title>4</title>\n",
       "<ellipse fill=\"none\" stroke=\"black\" cx=\"27\" cy=\"-222.5\" rx=\"27\" ry=\"18\"/>\n",
       "<text text-anchor=\"middle\" x=\"27\" y=\"-217.45\" font-family=\"Times,serif\" font-size=\"14.00\">b</text>\n",
       "</g>\n",
       "<!-- init__&#45;&gt;4 -->\n",
       "<g id=\"edge1\" class=\"edge\">\n",
       "<title>init__&#45;&gt;4</title>\n",
       "<path fill=\"none\" stroke=\"black\" d=\"M27,-276.35C27,-274.94 27,-263.91 27,-252.29\"/>\n",
       "<polygon fill=\"black\" stroke=\"black\" points=\"30.5,-252.32 27,-242.32 23.5,-252.32 30.5,-252.32\"/>\n",
       "</g>\n",
       "<!-- 2 -->\n",
       "<g id=\"node4\" class=\"node\">\n",
       "<title>2</title>\n",
       "<ellipse fill=\"none\" stroke=\"black\" cx=\"27\" cy=\"-78.5\" rx=\"27\" ry=\"18\"/>\n",
       "<text text-anchor=\"middle\" x=\"27\" y=\"-73.45\" font-family=\"Times,serif\" font-size=\"14.00\">d</text>\n",
       "</g>\n",
       "<!-- 4&#45;&gt;2 -->\n",
       "<g id=\"edge5\" class=\"edge\">\n",
       "<title>4&#45;&gt;2</title>\n",
       "<path fill=\"none\" stroke=\"black\" stroke-dasharray=\"1,5\" d=\"M23.75,-204.39C21.95,-194.04 19.91,-180.56 19,-168.5 17.8,-152.54 17.8,-148.46 19,-132.5 19.6,-124.49 20.71,-115.85 21.91,-107.93\"/>\n",
       "<polygon fill=\"black\" stroke=\"black\" points=\"25.35,-108.54 23.51,-98.11 18.45,-107.41 25.35,-108.54\"/>\n",
       "</g>\n",
       "<!-- 3 -->\n",
       "<g id=\"node5\" class=\"node\">\n",
       "<title>3</title>\n",
       "<ellipse fill=\"none\" stroke=\"black\" cx=\"55\" cy=\"-150.5\" rx=\"27\" ry=\"18\"/>\n",
       "<text text-anchor=\"middle\" x=\"55\" y=\"-145.45\" font-family=\"Times,serif\" font-size=\"14.00\">c</text>\n",
       "</g>\n",
       "<!-- 4&#45;&gt;3 -->\n",
       "<g id=\"edge4\" class=\"edge\">\n",
       "<title>4&#45;&gt;3</title>\n",
       "<path fill=\"none\" stroke=\"black\" d=\"M33.64,-204.91C36.77,-197.07 40.6,-187.49 44.15,-178.63\"/>\n",
       "<polygon fill=\"black\" stroke=\"black\" points=\"47.39,-179.96 47.85,-169.38 40.89,-177.36 47.39,-179.96\"/>\n",
       "</g>\n",
       "<!-- 1 -->\n",
       "<g id=\"node3\" class=\"node\">\n",
       "<title>1</title>\n",
       "<polygon fill=\"lightgrey\" stroke=\"black\" points=\"38.38,-24.5 15.62,-24.5 15.62,0 38.38,0 38.38,-24.5\"/>\n",
       "<text text-anchor=\"middle\" x=\"27\" y=\"-7.2\" font-family=\"Times,serif\" font-size=\"14.00\">1</text>\n",
       "</g>\n",
       "<!-- 2&#45;&gt;1 -->\n",
       "<g id=\"edge2\" class=\"edge\">\n",
       "<title>2&#45;&gt;1</title>\n",
       "<path fill=\"none\" stroke=\"black\" stroke-dasharray=\"1,5\" d=\"M27,-60.28C27,-52.87 27,-44.09 27,-36.14\"/>\n",
       "<polygon fill=\"black\" stroke=\"black\" points=\"30.5,-36.15 27,-26.15 23.5,-36.15 30.5,-36.15\"/>\n",
       "</g>\n",
       "<!-- 3&#45;&gt;2 -->\n",
       "<g id=\"edge3\" class=\"edge\">\n",
       "<title>3&#45;&gt;2</title>\n",
       "<path fill=\"none\" stroke=\"black\" stroke-dasharray=\"1,5\" d=\"M48.36,-132.91C45.23,-125.07 41.4,-115.49 37.85,-106.63\"/>\n",
       "<polygon fill=\"black\" stroke=\"black\" points=\"41.11,-105.36 34.15,-97.38 34.61,-107.96 41.11,-105.36\"/>\n",
       "</g>\n",
       "</g>\n",
       "</svg>\n"
      ],
      "text/plain": [
       "<graphviz.sources.Source at 0x106beebd0>"
      ]
     },
     "execution_count": 16,
     "metadata": {},
     "output_type": "execute_result"
    }
   ],
   "source": [
    "# Basic logical operators:\n",
    "\n",
    "formula.l_and(conjunction)\n",
    "formula.l_or(conjunction)\n",
    "formula.l_xor(conjunction)\n",
    "formula.l_imp(conjunction)\n",
    "formula.l_iff(conjunction)\n",
    "formula.l_and_not(conjunction)\n",
    "\n",
    "# Projection, either using one variable, or a set of variables.\n",
    "formula.r_exists([v_a, v_c])\n",
    "formula.r_for_all([v_a, v_c])\n",
    "\n",
    "# Projection \"removes\" the influence of a particular variable: F = F[a/0] | F[a/1]\n",
    "graphviz.Source(formula.r_exists(v_a).to_dot())"
   ]
  },
  {
   "cell_type": "code",
   "execution_count": 17,
   "metadata": {
    "cell_id": "96fa5f7b945849bca4e6d9c55c313f11",
    "deepnote_app_coordinates": {
     "h": 5,
     "w": 12,
     "x": 0,
     "y": 108
    },
    "deepnote_cell_height": 531.65625,
    "deepnote_cell_type": "code",
    "deepnote_output_heights": [
     380.65625
    ],
    "deepnote_to_be_reexecuted": false,
    "execution_millis": 89,
    "execution_start": 1647976187301,
    "source_hash": "d73965a1",
    "tags": []
   },
   "outputs": [
    {
     "data": {
      "image/svg+xml": [
       "<?xml version=\"1.0\" encoding=\"UTF-8\" standalone=\"no\"?>\n",
       "<!DOCTYPE svg PUBLIC \"-//W3C//DTD SVG 1.1//EN\"\n",
       " \"http://www.w3.org/Graphics/SVG/1.1/DTD/svg11.dtd\">\n",
       "<!-- Generated by graphviz version 9.0.0 (20230911.1827)\n",
       " -->\n",
       "<!-- Title: G Pages: 1 -->\n",
       "<svg width=\"62pt\" height=\"286pt\"\n",
       " viewBox=\"0.00 0.00 62.00 285.94\" xmlns=\"http://www.w3.org/2000/svg\" xmlns:xlink=\"http://www.w3.org/1999/xlink\">\n",
       "<g id=\"graph0\" class=\"graph\" transform=\"scale(1 1) rotate(0) translate(4 281.94)\">\n",
       "<title>G</title>\n",
       "<polygon fill=\"white\" stroke=\"none\" points=\"-4,4 -4,-281.94 58,-281.94 58,4 -4,4\"/>\n",
       "<!-- init__ -->\n",
       "<!-- 4 -->\n",
       "<g id=\"node2\" class=\"node\">\n",
       "<title>4</title>\n",
       "<ellipse fill=\"none\" stroke=\"black\" cx=\"27\" cy=\"-222.5\" rx=\"27\" ry=\"18\"/>\n",
       "<text text-anchor=\"middle\" x=\"27\" y=\"-217.45\" font-family=\"Times,serif\" font-size=\"14.00\">a</text>\n",
       "</g>\n",
       "<!-- init__&#45;&gt;4 -->\n",
       "<g id=\"edge1\" class=\"edge\">\n",
       "<title>init__&#45;&gt;4</title>\n",
       "<path fill=\"none\" stroke=\"black\" d=\"M27,-276.35C27,-274.94 27,-263.91 27,-252.29\"/>\n",
       "<polygon fill=\"black\" stroke=\"black\" points=\"30.5,-252.32 27,-242.32 23.5,-252.32 30.5,-252.32\"/>\n",
       "</g>\n",
       "<!-- 3 -->\n",
       "<g id=\"node5\" class=\"node\">\n",
       "<title>3</title>\n",
       "<ellipse fill=\"none\" stroke=\"black\" cx=\"27\" cy=\"-150.5\" rx=\"27\" ry=\"18\"/>\n",
       "<text text-anchor=\"middle\" x=\"27\" y=\"-145.45\" font-family=\"Times,serif\" font-size=\"14.00\">c</text>\n",
       "</g>\n",
       "<!-- 4&#45;&gt;3 -->\n",
       "<g id=\"edge4\" class=\"edge\">\n",
       "<title>4&#45;&gt;3</title>\n",
       "<path fill=\"none\" stroke=\"black\" d=\"M27,-204.2C27,-196.91 27,-188.23 27,-180.04\"/>\n",
       "<polygon fill=\"black\" stroke=\"black\" points=\"30.5,-180.12 27,-170.12 23.5,-180.12 30.5,-180.12\"/>\n",
       "</g>\n",
       "<!-- 1 -->\n",
       "<g id=\"node3\" class=\"node\">\n",
       "<title>1</title>\n",
       "<polygon fill=\"lightgrey\" stroke=\"black\" points=\"38.38,-24.5 15.62,-24.5 15.62,0 38.38,0 38.38,-24.5\"/>\n",
       "<text text-anchor=\"middle\" x=\"27\" y=\"-7.2\" font-family=\"Times,serif\" font-size=\"14.00\">1</text>\n",
       "</g>\n",
       "<!-- 2 -->\n",
       "<g id=\"node4\" class=\"node\">\n",
       "<title>2</title>\n",
       "<ellipse fill=\"none\" stroke=\"black\" cx=\"27\" cy=\"-78.5\" rx=\"27\" ry=\"18\"/>\n",
       "<text text-anchor=\"middle\" x=\"27\" y=\"-73.45\" font-family=\"Times,serif\" font-size=\"14.00\">d</text>\n",
       "</g>\n",
       "<!-- 2&#45;&gt;1 -->\n",
       "<g id=\"edge2\" class=\"edge\">\n",
       "<title>2&#45;&gt;1</title>\n",
       "<path fill=\"none\" stroke=\"black\" stroke-dasharray=\"1,5\" d=\"M27,-60.28C27,-52.87 27,-44.09 27,-36.14\"/>\n",
       "<polygon fill=\"black\" stroke=\"black\" points=\"30.5,-36.15 27,-26.15 23.5,-36.15 30.5,-36.15\"/>\n",
       "</g>\n",
       "<!-- 3&#45;&gt;2 -->\n",
       "<g id=\"edge3\" class=\"edge\">\n",
       "<title>3&#45;&gt;2</title>\n",
       "<path fill=\"none\" stroke=\"black\" stroke-dasharray=\"1,5\" d=\"M27,-132.2C27,-124.91 27,-116.23 27,-108.04\"/>\n",
       "<polygon fill=\"black\" stroke=\"black\" points=\"30.5,-108.12 27,-98.12 23.5,-108.12 30.5,-108.12\"/>\n",
       "</g>\n",
       "</g>\n",
       "</svg>\n"
      ],
      "text/plain": [
       "<graphviz.sources.Source at 0x106b88890>"
      ]
     },
     "execution_count": 17,
     "metadata": {},
     "output_type": "execute_result"
    }
   ],
   "source": [
    "# Similarly, we can use selection to actually fix a variable to a specific value.\n",
    "# Here, we have to also include the Boolean value to which we are fixing. \n",
    "# The argument is therefore a dictionary.\n",
    "graphviz.Source(formula.r_select({ v_c: False }).to_dot())"
   ]
  },
  {
   "cell_type": "markdown",
   "metadata": {
    "cell_id": "46b5f20015fb444dac545c82091ea7a2",
    "deepnote_app_coordinates": {
     "h": 5,
     "w": 12,
     "x": 0,
     "y": 114
    },
    "deepnote_cell_height": 52.390625,
    "deepnote_cell_type": "markdown",
    "tags": []
   },
   "source": [
    "##### BDD serialization\n",
    "\n",
    "Finally, to transfer and save BDDs, you can use string and byte formats that encode the internal directed acyclic graph of the BDD:"
   ]
  },
  {
   "cell_type": "code",
   "execution_count": 18,
   "metadata": {
    "cell_id": "efcef3df54174bab8f784a24cbaf991a",
    "deepnote_app_coordinates": {
     "h": 5,
     "w": 12,
     "x": 0,
     "y": 120
    },
    "deepnote_cell_height": 154.1875,
    "deepnote_cell_type": "code",
    "deepnote_output_heights": [
     21.1875
    ],
    "deepnote_to_be_reexecuted": false,
    "execution_millis": 37,
    "execution_start": 1647976187354,
    "source_hash": "2be41127",
    "tags": []
   },
   "outputs": [
    {
     "data": {
      "text/plain": [
       "'|5,0,0|5,1,1|3,1,0|2,2,0|1,2,3|0,0,4|'"
      ]
     },
     "execution_count": 18,
     "metadata": {},
     "output_type": "execute_result"
    }
   ],
   "source": [
    "assert Bdd(vars, formula.data_string()) == Bdd(vars, formula.data_bytes())\n",
    "\n",
    "formula.data_string()"
   ]
  },
  {
   "cell_type": "markdown",
   "metadata": {},
   "source": [
    "This representation does not preserve the underlying `BddVariableSet` of the `Bdd` (you'll have to save that separately). However, we can also use `pickle`. Here, the representation is not as efficient, but it preserves all the information in one data bundle:"
   ]
  },
  {
   "cell_type": "code",
   "execution_count": 19,
   "metadata": {},
   "outputs": [],
   "source": [
    "import pickle\n",
    "assert formula == pickle.loads(pickle.dumps(formula))"
   ]
  },
  {
   "cell_type": "markdown",
   "metadata": {
    "cell_id": "3f42745efaaf465b8073354bffc16f74",
    "deepnote_app_coordinates": {
     "h": 5,
     "w": 12,
     "x": 0,
     "y": 126
    },
    "deepnote_cell_height": 111.1875,
    "deepnote_cell_type": "markdown",
    "tags": []
   },
   "source": [
    "Now we've covered the basic portion of the BDD functionality. For more details, you can explore the API documentation of the `Bdd` class [here](https://biodivine.fi.muni.cz/docs/aeon-py/latest/)."
   ]
  }
 ],
 "metadata": {
  "deepnote": {
   "is_reactive": false
  },
  "deepnote_app_layout": "article",
  "deepnote_execution_queue": [],
  "deepnote_notebook_id": "44f292cdde4b4d37abcd79ebdb31e4a5",
  "kernelspec": {
   "display_name": "Python 3 (ipykernel)",
   "language": "python",
   "name": "python3"
  },
  "language_info": {
   "codemirror_mode": {
    "name": "ipython",
    "version": 3
   },
   "file_extension": ".py",
   "mimetype": "text/x-python",
   "name": "python",
   "nbconvert_exporter": "python",
   "pygments_lexer": "ipython3",
   "version": "3.12.1"
  }
 },
 "nbformat": 4,
 "nbformat_minor": 4
}
