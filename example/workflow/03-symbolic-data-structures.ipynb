{
 "cells": [
  {
   "cell_type": "markdown",
   "id": "85725a07-3241-44c4-9140-ff1f370782e1",
   "metadata": {},
   "source": [
    "### Symbolic Asynchronous Graph\n",
    "\n",
    "To further explore the network dynamics, we can use its symbolic asynchronous graph. Although, this feature will mostly be used for building standalone algorithms and not directly used within a notebook."
   ]
  },
  {
   "cell_type": "code",
   "execution_count": 1,
   "id": "d2cb8cff-5196-459a-b5a4-672ff9bed04b",
   "metadata": {},
   "outputs": [
    {
     "name": "stdout",
     "output_type": "stream",
     "text": [
      "name 'SymbolicAsyncGraph' is not defined\n"
     ]
    },
    {
     "ename": "NameError",
     "evalue": "name 'graph' is not defined",
     "output_type": "error",
     "traceback": [
      "\u001b[0;31m---------------------------------------------------------------------------\u001b[0m",
      "\u001b[0;31mNameError\u001b[0m                                 Traceback (most recent call last)",
      "Cell \u001b[0;32mIn[1], line 9\u001b[0m\n\u001b[1;32m      6\u001b[0m     \u001b[38;5;28mprint\u001b[39m(e)\n\u001b[1;32m      8\u001b[0m \u001b[38;5;66;03m# There are 32 states and 2 colors (two possible instantiations of function `f1`)\u001b[39;00m\n\u001b[0;32m----> 9\u001b[0m \u001b[38;5;28mprint\u001b[39m(\u001b[38;5;28mint\u001b[39m(\u001b[43mgraph\u001b[49m\u001b[38;5;241m.\u001b[39munit_vertices()\u001b[38;5;241m.\u001b[39mcardinality()), \u001b[38;5;124m\"\u001b[39m\u001b[38;5;124mx\u001b[39m\u001b[38;5;124m\"\u001b[39m, \u001b[38;5;28mint\u001b[39m(graph\u001b[38;5;241m.\u001b[39munit_colors()\u001b[38;5;241m.\u001b[39mcardinality()))\n",
      "\u001b[0;31mNameError\u001b[0m: name 'graph' is not defined"
     ]
    }
   ],
   "source": [
    "try:\n",
    "    graph = SymbolicAsyncGraph(g2a)\n",
    "except Exception as e:\n",
    "    # The construction of a graph can fail if there are inconsistencies between the\n",
    "    # regulation properties and the update functions of the network.\n",
    "    print(e)\n",
    "\n",
    "# There are 32 states and 2 colors (two possible instantiations of function `f1`)\n",
    "print(int(graph.unit_vertices().cardinality()), \"x\", int(graph.unit_colors().cardinality()))"
   ]
  },
  {
   "cell_type": "markdown",
   "id": "89ede6b0-3805-4cf2-ad72-61556be44057",
   "metadata": {},
   "source": [
    "Here, the constructor will check whether the Boolean network contains some inconsistencies: for example, an unused parameter, unused observable regulation, or update functions that do not satisfy the regulation constraints (activation in place of inhibition, etc.).\n",
    "\n",
    "The graph operates using three types of sets: `ColorSet`, `VertexSet` and `ColoredVertexSet`. A color set contains possible valuations of logical parameters and uninterpreted functions. So, each member of a color set fully specifies one exact Boolean network. If there are no parameters, this set can be only \"empty\" or \"1\". Similarly, a vertex set contains vertices of the graph. Finally, a colored vertex set contains pairs of colors and vertices, meaning that for each color, we can have a different set of vertices (or, similarly, for each vertex a different set of colors). This type of relation can be then used to represent a set of vertices that is different for individual parametrisations."
   ]
  },
  {
   "cell_type": "code",
   "execution_count": null,
   "id": "ee74a239-09c3-45dd-95f7-15ead6520337",
   "metadata": {},
   "outputs": [],
   "source": [
    "a_color = graph.unit_colors().pick_singleton()\n",
    "a_color.cardinality()"
   ]
  },
  {
   "cell_type": "markdown",
   "id": "1a4dadc4-c7a6-4c80-9178-4b6822247b19",
   "metadata": {},
   "source": [
    "A set of vertices can be also iterated through, but keep in mind that the number of vertices can be huge for large models. Always check the size of your set using `cardinality` first."
   ]
  },
  {
   "cell_type": "code",
   "execution_count": null,
   "id": "c8015751-12c0-450e-a554-ad7106752268",
   "metadata": {},
   "outputs": [],
   "source": [
    "vertices = graph.fix_variable(\"SciP\", False).vertices()\n",
    "for v in vertices.iterator():\n",
    "    print(v)"
   ]
  },
  {
   "cell_type": "markdown",
   "id": "b12977ac-035b-4763-ba09-d011ee00c659",
   "metadata": {},
   "source": [
    "We can also create a vertex singleton directly (this will still admit every possible color though!):"
   ]
  },
  {
   "cell_type": "code",
   "execution_count": null,
   "id": "02e88c61-5939-419b-af06-e8a63ce0c247",
   "metadata": {},
   "outputs": [],
   "source": [
    "singleton = graph.fix_vertex([True, False, False, True, False]) # The result is a ColoredVertexSet\n",
    "print(singleton.vertices().cardinality())\n",
    "print(singleton.colors().cardinality())"
   ]
  },
  {
   "cell_type": "markdown",
   "id": "567b7606-26ce-49cc-abd8-bdec366fa4df",
   "metadata": {},
   "source": [
    "Finally, we can use the graph to compute successors and predecessors for colored sets of vertices. Using this operation, we can implement more complex algorithms, like SCC decomposition or safety analysis."
   ]
  },
  {
   "cell_type": "code",
   "execution_count": null,
   "id": "90077bc7-d78e-43d0-8f4b-8d12b371e9fd",
   "metadata": {},
   "outputs": [],
   "source": [
    "reachable = singleton\n",
    "for i in range(10):\n",
    "    step = graph.post(reachable)\n",
    "    new = step.minus(reachable)\n",
    "    print(i+1, \"Discovered\", new.vertices().cardinality(), \"using colors\", new.colors().cardinality())\n",
    "    if new.is_empty():\n",
    "        break\n",
    "    reachable = reachable.union(new)\n",
    "\n",
    "print(\"Total discovered vertices:\", reachable.vertices().cardinality())"
   ]
  },
  {
   "cell_type": "markdown",
   "id": "05470440-25b1-4be5-bc12-1aefbd5b5bd1",
   "metadata": {},
   "source": [
    "It is also possible to use `var_post` and `var_pre` to only update a specific variable in the network during a transition. This is typically much more efficient (but of course, you need to perform more updates to cover all network variables). Furthermore, the library provides other specialized alternatives to `post` and `pre` which, for example, efficiently compute successors/predecessors within a specific set, etc.\n",
    "\n",
    "To save the results of the computation, we can use the fact that these sets are all internally represented as BDDs, which we can dump to a string, or visualized as a `.dot` file:"
   ]
  },
  {
   "cell_type": "code",
   "execution_count": null,
   "id": "8631e7c0-a858-4211-86b1-f3b430d5a758",
   "metadata": {},
   "outputs": [],
   "source": [
    "reachable_string = reachable.to_bdd().to_raw_string()\n",
    "reachable_string"
   ]
  },
  {
   "cell_type": "code",
   "execution_count": null,
   "id": "ac74b816-c679-41f8-b7af-396946562863",
   "metadata": {},
   "outputs": [],
   "source": [
    "import graphviz\n",
    "\n",
    "graphviz.Source(reachable.to_bdd().to_dot())"
   ]
  },
  {
   "cell_type": "code",
   "execution_count": null,
   "id": "24097a4b-dc3b-4853-8ad3-d72393b00710",
   "metadata": {},
   "outputs": [],
   "source": [
    "# We need to copy an existing set to preserve all metadata about the model,\n",
    "# since these are not saved in the BDD\n",
    "reachable_reloaded = ColoredVertexSet(graph, Bdd.from_raw_string(reachable_string))\n",
    "\n",
    "# r1 <=> r2 must be a tautology if the sets are equivalent:\n",
    "reachable_reloaded.to_bdd().l_iff(reachable.to_bdd()).is_true()"
   ]
  },
  {
   "cell_type": "markdown",
   "id": "af104159-47cc-458f-916c-4b6eebd725cd",
   "metadata": {},
   "source": [
    "However, keep in mind that the raw string does not contain any information about the underlying model, and you cannot mix BDD representations between different models! So always make sure not to mix BDD files for different models."
   ]
  },
  {
   "cell_type": "code",
   "execution_count": null,
   "id": "ca9c066d-d5ec-4340-9b46-bbab582a084b",
   "metadata": {},
   "outputs": [],
   "source": []
  }
 ],
 "metadata": {
  "kernelspec": {
   "display_name": "Python 3 (ipykernel)",
   "language": "python",
   "name": "python3"
  },
  "language_info": {
   "codemirror_mode": {
    "name": "ipython",
    "version": 3
   },
   "file_extension": ".py",
   "mimetype": "text/x-python",
   "name": "python",
   "nbconvert_exporter": "python",
   "pygments_lexer": "ipython3",
   "version": "3.12.1"
  }
 },
 "nbformat": 4,
 "nbformat_minor": 5
}
