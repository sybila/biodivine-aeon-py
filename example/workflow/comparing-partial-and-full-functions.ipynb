{
 "cells": [
  {
   "cell_type": "markdown",
   "id": "480553f9-f850-4544-b3d9-0cc0d15aa0d3",
   "metadata": {},
   "source": [
    "# Comparing fully specified and partially specified update functions\n",
    "\n",
    "In this notebook, we demonstrate how to use symbolic representation in AEON to compare update functions.\n",
    "\n",
    "In particular, we want to answer the question \"can a partially specified funciton `f` be instantiated such that it is (semantically) equivalent to a fully specified function `g`\". Or, even more generally, if `g` is also partially specified, which instantiations of `f` and `g` are (semantically) equivalent?"
   ]
  },
  {
   "cell_type": "markdown",
   "id": "b146dfa9-0ebc-4380-bb39-15b856df760d",
   "metadata": {},
   "source": [
    "To work with update functions, we first need to create a Boolean network. However, the contents of this Boolean network are not relevant, we only use it to \"declare\" the variables and functions we are working with, and nothing else."
   ]
  },
  {
   "cell_type": "code",
   "execution_count": 1,
   "id": "e505feb5-204d-454c-b84f-09f80208bf18",
   "metadata": {},
   "outputs": [],
   "source": [
    "from biodivine_aeon import *"
   ]
  },
  {
   "cell_type": "code",
   "execution_count": 2,
   "id": "ce3435ae-ede9-4171-ac13-c6948e498bd0",
   "metadata": {},
   "outputs": [
    {
     "data": {
      "text/plain": [
       "BooleanNetwork(variables = 5, parameters = 2, regulations = 4)"
      ]
     },
     "execution_count": 2,
     "metadata": {},
     "output_type": "execute_result"
    }
   ],
   "source": [
    "rg = RegulatoryGraph([\"a\", \"b\", \"c\", \"d\", \"e\"])\n",
    "# The purpose of these regulations and update functions is explained later, but they are not relevant\n",
    "# for what we will be testing, they are merely used to \"convince\" our symbolic representation that\n",
    "# the network uses all declared variables and functions.\n",
    "rg.add_regulation({ 'source': \"b\", 'target': \"a\" })\n",
    "rg.add_regulation({ 'source': \"c\", 'target': \"a\" })\n",
    "rg.add_regulation({ 'source': \"d\", 'target': \"a\" })\n",
    "rg.add_regulation({ 'source': \"a\", 'target': \"e\" })\n",
    "bn = BooleanNetwork(rg)\n",
    "bn.add_parameter({ 'name': \"p1\", 'arity': 3 })\n",
    "bn.add_parameter({ 'name': \"p2\", 'arity': 1 })\n",
    "bn.set_update_function(\"a\", \"p1(b,c,d)\")\n",
    "bn.set_update_function(\"e\", \"p2(a)\")\n",
    "bn"
   ]
  },
  {
   "cell_type": "markdown",
   "id": "df7eabf4-988a-4f44-9fb4-08a95a1f74f9",
   "metadata": {},
   "source": [
    "Now we can parse the functions that we are interested in, and turn them into BDDs:"
   ]
  },
  {
   "cell_type": "code",
   "execution_count": 3,
   "id": "7c058c05-17cd-48ac-b0d7-0cbbfc5e2eec",
   "metadata": {},
   "outputs": [
    {
     "data": {
      "text/plain": [
       "'(a & p1(c, d, e))'"
      ]
     },
     "execution_count": 3,
     "metadata": {},
     "output_type": "execute_result"
    }
   ],
   "source": [
    "partial = UpdateFunction(\"a & p1(c,d,e)\", bn)\n",
    "compatible = UpdateFunction(\"a & (c | d) & !e\", bn)\n",
    "incompatible = UpdateFunction(\"!a & c\", bn)\n",
    "\n",
    "partial.to_string(bn)"
   ]
  },
  {
   "cell_type": "markdown",
   "id": "6fbbc3a6-9b1e-4209-999b-fecfcff6df88",
   "metadata": {},
   "source": [
    "Now we need to build the `SymbolicContext` such that we have a mapping from Boolean network variables and functions to the BDD variables."
   ]
  },
  {
   "cell_type": "code",
   "execution_count": 4,
   "id": "9e3584ec-705d-472a-97fa-c597c6b0ddf1",
   "metadata": {},
   "outputs": [
    {
     "name": "stdout",
     "output_type": "stream",
     "text": [
      "5 8 2\n"
     ]
    }
   ],
   "source": [
    "# At this point, symbolic context could complain that we have declared function `f`, but we are not using it.\n",
    "# In the future, we will be able to just force-create the context anyway. For now, we need to add some update\n",
    "# function that will actually use `f`, which is what we did above.\n",
    "ctx = SymbolicContext(bn)\n",
    "\n",
    "# We can also get the list of \"symbolic variables\" that are used to represent the \"network variables\" as well as\n",
    "# the instantiations of the individual unknown functions:\n",
    "state_variables = ctx.state_variables()\n",
    "id_p1 = bn.find_parameter(\"p1\")\n",
    "id_p2 = bn.find_parameter(\"p2\")\n",
    "p1_variables = [ var for (inputs, var) in  ctx.get_explicit_function_table(id_p1) ]\n",
    "p2_variables = [ var for (inputs, var) in  ctx.get_explicit_function_table(id_p2) ]\n",
    "print(len(state_variables), len(p1_variables), len(p2_variables))"
   ]
  },
  {
   "cell_type": "markdown",
   "id": "4e7fed72-bcd9-4070-b7d3-5e3135bee24d",
   "metadata": {},
   "source": [
    "Once we have that, we can actually transform the functions into BDDs:"
   ]
  },
  {
   "cell_type": "code",
   "execution_count": 5,
   "id": "74e07b21-1a26-44f7-9389-a2687c373505",
   "metadata": {},
   "outputs": [
    {
     "name": "stdout",
     "output_type": "stream",
     "text": [
      "Bdd(size=512, cardinality=65536)\n",
      "Bdd(size=6, cardinality=49152)\n",
      "Bdd(size=4, cardinality=65536)\n"
     ]
    }
   ],
   "source": [
    "partial_bdd = ctx.mk_update_function_is_true(partial)\n",
    "compatible_bdd = ctx.mk_update_function_is_true(compatible)\n",
    "incompatible_bdd = ctx.mk_update_function_is_true(incompatible)\n",
    "print(partial_bdd)\n",
    "print(compatible_bdd)\n",
    "print(incompatible_bdd)"
   ]
  },
  {
   "cell_type": "markdown",
   "id": "733095fc-4721-419b-b547-8aa7e2be4954",
   "metadata": {},
   "source": [
    "In this representation, checking whether partial function `f` can be instantiated as concrete function `g` is actually rather easy:"
   ]
  },
  {
   "cell_type": "code",
   "execution_count": 6,
   "id": "ea10bfd1-1bfc-4c89-aa41-1d9dc39aaafd",
   "metadata": {},
   "outputs": [
    {
     "name": "stdout",
     "output_type": "stream",
     "text": [
      "False\n",
      "True\n"
     ]
    }
   ],
   "source": [
    "# 1. Compute f(x) <=> g(x). This gives us a BDD which is satisfied for every combination of \n",
    "# function inputs (state_variables) and instantiations (p1_variables) for which functions \n",
    "# `f` and `g` return the same value.\n",
    "compatible_instantiations = partial_bdd.l_iff(compatible_bdd)\n",
    "# 2. We eliminate the function inputs (state variables) from the BDD, such that we only keep those\n",
    "# instantiations for which we have *all* input combinations present (i.e. the whole function is\n",
    "# equivalent, not just some specific input-output pairs).\n",
    "compatible_instantiations = compatible_instantiations.project_for_all(state_variables)\n",
    "\n",
    "# If the set is empty, it is equivalent to false. This set should not be empty.\n",
    "print(compatible_instantiations.is_false())\n",
    "\n",
    "# However, this set should be empty because the two functions are incompatible.\n",
    "incompatible_instantiations = partial_bdd.l_iff(incompatible_bdd)\n",
    "incompatible_instantiations = incompatible_instantiations.project_for_all(state_variables)\n",
    "print(incompatible_instantiations.is_false())"
   ]
  },
  {
   "cell_type": "markdown",
   "id": "36adf82f-7d8d-4c76-8755-548ee74bda11",
   "metadata": {},
   "source": [
    "Finally, we can actually look at what the specific instantiations of `p1` that cause `f` to be equivalent with `g` look like.\n",
    "\n",
    "Here, we have to again \"hack\" the result a little bit, because at the moment, we can only iterate over instantiated full update functions of network variables, not any arbitrary uninterpreted function. However, in our \"dummy\" network, variable `a` has an update function that is exactly `p1`. Hence we can ask for the update function of `a` and it will in fact give us valid instantiations of `p1`.\n",
    "\n",
    "Typically, there should be only one instantiation in the resulting set, but in some rare cases, there could be multiple instances of `p1` which actually lead to the same update function (e.g. if `p1` appears multiple times within some more complicated expression, or if `p1` is not really relevant for the result of the function). Another instance where there could be multiple instantiations is if the second function is also partially specified, in which case we get the instantiations of `f` for which there exists *some* instantiation of `g` such that `f` and `g` are equivalent.\n",
    "\n",
    "Also note that the resulting expression is not syntactically equivalent to our original function, but we can transform it in such a way that it is: `a & p1(c,d,e)` instantiates to `a & ((!c & d & !e) | (c & !e))`, which is equivalent to `a & !e & ((!c & d) | c)`, which is equivalent to `a & (c | d) & !e`.\n"
   ]
  },
  {
   "cell_type": "code",
   "execution_count": 7,
   "id": "72bd4553-2808-4c23-9f50-b28aa3aeea92",
   "metadata": {},
   "outputs": [
    {
     "name": "stdout",
     "output_type": "stream",
     "text": [
      "['(((!v_1 & v_2) & !v_3) | (v_1 & !v_3))']\n"
     ]
    }
   ],
   "source": [
    "stg = SymbolicAsyncGraph(bn)\n",
    "projection = SymbolicProjection(stg, compatible_instantiations, retained_functions=[\"a\"])\n",
    "for (state, functions) in projection:\n",
    "    print([ function.to_string() for (var, function) in functions])"
   ]
  }
 ],
 "metadata": {
  "kernelspec": {
   "display_name": "Python 3 (ipykernel)",
   "language": "python",
   "name": "python3"
  },
  "language_info": {
   "codemirror_mode": {
    "name": "ipython",
    "version": 3
   },
   "file_extension": ".py",
   "mimetype": "text/x-python",
   "name": "python",
   "nbconvert_exporter": "python",
   "pygments_lexer": "ipython3",
   "version": "3.9.6"
  }
 },
 "nbformat": 4,
 "nbformat_minor": 5
}
