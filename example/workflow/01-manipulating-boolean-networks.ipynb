{
 "cells": [
  {
   "cell_type": "markdown",
   "metadata": {
    "cell_id": "4669040e34844375abaf12b9dfd6ac03",
    "deepnote_app_coordinates": {
     "h": 5,
     "w": 12,
     "x": 0,
     "y": null
    },
    "deepnote_cell_height": 344.578125,
    "deepnote_cell_type": "markdown",
    "tags": []
   },
   "source": [
    "# Working with (partially specified) Boolean networks\n",
    "\n",
    "This part of AEON offers basic functionality for working with Boolean networks. In particular, it supports **three major formats** (`.bnet`, `.sbml`, and `.aeon`), can perform basic **integrity checks** (e.g. that an update function only uses variables that are actually declared as regulators, etc.), and can be used to run simple operations on the regulatory graph (like decomposition into **strongly connected components** or detection of **parity cycles**).\n",
    "\n",
    "Additionally, AEON support \"partially specified\" networks. Here, the update functions can use declared unknown (uninterpreted) functions. For example, this means that if your data isn't sufficient to actually produce a single \"correct\" network, you can automatically work with whole ensemble (also collection) of networks with different dynamical properties."
   ]
  },
  {
   "cell_type": "code",
   "execution_count": 1,
   "metadata": {
    "cell_id": "24d640a8189342088b67ad6a3e87b13b",
    "deepnote_app_coordinates": {
     "h": 5,
     "w": 12,
     "x": 0,
     "y": 6
    },
    "deepnote_cell_height": 81,
    "deepnote_cell_type": "code",
    "deepnote_to_be_reexecuted": false,
    "execution_millis": 41,
    "execution_start": 1647976199125,
    "source_hash": "1370dff5",
    "tags": []
   },
   "outputs": [
    {
     "name": "stdout",
     "output_type": "stream",
     "text": [
      "Detected IPython (`ZMQInteractiveShell`). Log level set to `LOG_ESSENTIAL`.\n"
     ]
    }
   ],
   "source": [
    "from biodivine_aeon import *\n",
    "import biodivine_aeon as ba\n",
    "import graphviz as gv"
   ]
  },
  {
   "cell_type": "markdown",
   "metadata": {
    "cell_id": "cb5d082e66a349789a1d0d25f2f7f236",
    "deepnote_app_coordinates": {
     "h": 5,
     "w": 12,
     "x": 0,
     "y": 12
    },
    "deepnote_cell_height": 52.390625,
    "deepnote_cell_type": "markdown",
    "tags": []
   },
   "source": [
    "If you have an existing model that you want to work with, you can load it right away as a Boolean network. Here, we will use (for demonstration) a very simple model with 5 variables:"
   ]
  },
  {
   "cell_type": "code",
   "execution_count": 2,
   "metadata": {
    "cell_id": "305c40842b744896ab2927ce2b3272f0",
    "deepnote_app_coordinates": {
     "h": 5,
     "w": 12,
     "x": 0,
     "y": 18
    },
    "deepnote_cell_height": 280.1875,
    "deepnote_cell_type": "code",
    "deepnote_output_heights": [
     21.1875
    ],
    "deepnote_to_be_reexecuted": false,
    "execution_millis": 3,
    "execution_start": 1647976199167,
    "source_hash": "d7a768eb",
    "tags": []
   },
   "outputs": [
    {
     "name": "stdout",
     "output_type": "stream",
     "text": [
      "5\n"
     ]
    }
   ],
   "source": [
    "g2a = BooleanNetwork.from_file('./data/g2a.sbml')\n",
    "print(g2a.variable_count())\n",
    "\n",
    "# You can also use:\n",
    "# BooleanNetwork.from_sbml(...)\n",
    "# BooleanNetwork.from_bnet(...)\n",
    "# BooleanNetwork.from_aeon(...)\n",
    "# However, these accept the model file content, not the file path."
   ]
  },
  {
   "cell_type": "markdown",
   "metadata": {
    "cell_id": "cf2a1f97459b4be0923aa0fa69fb17f0",
    "deepnote_app_coordinates": {
     "h": 5,
     "w": 12,
     "x": 0,
     "y": 60
    },
    "deepnote_cell_height": 74.796875,
    "deepnote_cell_type": "markdown",
    "tags": []
   },
   "source": [
    "Similarly, if you already have a Boolean network, you can easily output it to one of these formats using a `to_*` method. Just keep in mind that every format has slightly different capabilities (for example, `bnet` does not keep track of the underlying regulatory graph, so this information will be lost)."
   ]
  },
  {
   "cell_type": "code",
   "execution_count": 3,
   "metadata": {
    "cell_id": "debd13d8643a425a81aa8a28e0faa600",
    "deepnote_app_coordinates": {
     "h": 5,
     "w": 12,
     "x": 0,
     "y": 72
    },
    "deepnote_cell_height": 118.1875,
    "deepnote_cell_type": "code",
    "deepnote_output_heights": [
     21.1875
    ],
    "deepnote_to_be_reexecuted": false,
    "execution_millis": 8,
    "execution_start": 1647976199168,
    "source_hash": "f32c082b",
    "tags": []
   },
   "outputs": [
    {
     "name": "stdout",
     "output_type": "stream",
     "text": [
      "<?xml version='1.0' encoding='UTF-8' standalone='no'?><sbml xmlns=\"http://www.sbml.org/sbml/level3/version1/core\" layout:required=\"false\" level=\"3\" qual:required=\"true\" xmlns:layout=\"http://www.sbml.org/sbml/level3/version1/layout/version1\" version=\"1\" xmlns:qual=\"http://www.sbml.org/sbml/level3/version1/qual/version1\"><model><qual:listOfQualitativeSpecies xmlns:qual=\"http://www.sbml.org/sbml/level3/version1/qual/version1\"><qual:qualitativeSpecies qual:maxLevel=\"1\" qual:constant=\"false\" qual:nam...\n"
     ]
    }
   ],
   "source": [
    "print(g2a.to_sbml()[0:500] + \"...\")"
   ]
  },
  {
   "cell_type": "code",
   "execution_count": 4,
   "metadata": {
    "cell_id": "65b8e22705a948629b19951de5476c98",
    "deepnote_app_coordinates": {
     "h": 5,
     "w": 12,
     "x": 0,
     "y": 66
    },
    "deepnote_cell_height": 118.1875,
    "deepnote_cell_type": "code",
    "deepnote_output_heights": [
     21.1875
    ],
    "deepnote_to_be_reexecuted": false,
    "execution_millis": 16,
    "execution_start": 1647976199184,
    "source_hash": "3505624a",
    "tags": []
   },
   "outputs": [
    {
     "name": "stdout",
     "output_type": "stream",
     "text": [
      "targets,factors\n",
      "CcrM, ((CtrA & !CcrM) & !SciP)\n",
      "CtrA, (((CtrA & !CtrA) | ((((!CtrA & GcrA) & !CcrM) & !SciP) & (CtrA | !CtrA))) | ((CtrA & !CcrM) & !SciP))\n",
      "DnaA, (((CtrA & !GcrA) & !DnaA) & CcrM)\n",
      "GcrA, (!CtrA & DnaA)\n",
      "SciP, (CtrA & !DnaA)\n",
      "\n"
     ]
    }
   ],
   "source": [
    "print(g2a.to_bnet())"
   ]
  },
  {
   "cell_type": "code",
   "execution_count": 5,
   "metadata": {
    "cell_id": "32b9eb7b0c2a407ab4b0d12dc7e342a9",
    "deepnote_app_coordinates": {
     "h": 5,
     "w": 12,
     "x": 0,
     "y": 78
    },
    "deepnote_cell_height": 118.1875,
    "deepnote_cell_type": "code",
    "deepnote_output_heights": [
     21.1875
    ],
    "deepnote_to_be_reexecuted": false,
    "execution_millis": 7,
    "execution_start": 1647976199211,
    "source_hash": "6de5c714",
    "tags": []
   },
   "outputs": [
    {
     "name": "stdout",
     "output_type": "stream",
     "text": [
      "CtrA -> CtrA\n",
      "GcrA -> CtrA\n",
      "CcrM -| CtrA\n",
      "SciP -| CtrA\n",
      "CtrA -| GcrA\n",
      "DnaA -> GcrA\n",
      "CtrA -> DnaA\n",
      "GcrA -| DnaA\n",
      "DnaA -| DnaA\n",
      "CcrM -> DnaA\n",
      "CtrA -> CcrM\n",
      "CcrM -| CcrM\n",
      "SciP -| CcrM\n",
      "CtrA -> SciP\n",
      "DnaA -| SciP\n",
      "$CcrM: CtrA & !CcrM & !SciP\n",
      "$CtrA: false | (!CtrA & GcrA & !CcrM & !SciP & true) | (CtrA & !CcrM & !SciP)\n",
      "$DnaA: CtrA & !GcrA & !DnaA & CcrM\n",
      "$GcrA: !CtrA & DnaA\n",
      "$SciP: CtrA & !DnaA\n",
      "\n"
     ]
    }
   ],
   "source": [
    "print(g2a.to_aeon())"
   ]
  },
  {
   "cell_type": "markdown",
   "metadata": {
    "cell_id": "e447de2d632f4c09ba07ce2a6d1a959a",
    "deepnote_app_coordinates": {
     "h": 5,
     "w": 12,
     "x": 0,
     "y": 24
    },
    "deepnote_cell_height": 167.59375,
    "deepnote_cell_type": "markdown",
    "tags": []
   },
   "source": [
    "## `RegulatoryGraph` (a.k.a. influence graph)\n",
    "\n",
    "If you want to create your network in code, you usually start with a `RegulatoryGraph`. \n",
    "\n",
    "A regulatory graph represents variables connected using regulation edges (influences). Each regulation edge can have a **sign** (`+` represents activation, `-` represents inhibition, `None` means the sign is unknown). Each edge can be also marked as **essential** (`True` or `False`). \n",
    "\n",
    "The sign dictates the monotonicity of the interaction: once we assign an actual Boolean function to this regulation, it must be non-decreasing (activation) or non-increasing (inhibition) in the input coresponding to the regulator. Meanwhile, an essential regulation must have an impact on the regulated variable, while non-essential inputs may simply be ignored by the update function."
   ]
  },
  {
   "cell_type": "code",
   "execution_count": 6,
   "metadata": {
    "cell_id": "03835541c235404e8a212b66a92926e2",
    "deepnote_app_coordinates": {
     "h": 5,
     "w": 12,
     "x": 0,
     "y": 30
    },
    "deepnote_cell_height": 154.1875,
    "deepnote_cell_type": "code",
    "deepnote_output_heights": [
     21.1875
    ],
    "deepnote_to_be_reexecuted": false,
    "execution_millis": 9,
    "execution_start": 1647976199228,
    "source_hash": "a6fe505c",
    "tags": []
   },
   "outputs": [
    {
     "name": "stdout",
     "output_type": "stream",
     "text": [
      "RegulatoryGraph(variables=3, regulations=0)\n",
      "[VariableId(0), VariableId(1), VariableId(2)]\n",
      "['a', 'b', 'c']\n"
     ]
    }
   ],
   "source": [
    "# To create a regulatory graph, you give it a list of variables that you want to create.\n",
    "rg = RegulatoryGraph([\"a\", \"b\", \"c\"])\n",
    "print(rg)\n",
    "print(rg.variables())\n",
    "print(rg.variable_names())\n",
    "\n",
    "# You can also specify a list of regulations as the second argument. However, we haven't\n",
    "# shown how regulations are described yet.\n",
    "# rg = RegulatoryGraph(variables=[\"a\", \"b\", \"c\"], regulations=[...])"
   ]
  },
  {
   "cell_type": "markdown",
   "metadata": {
    "cell_id": "d260692233d04a6a9e9c71507a1e27d7",
    "deepnote_app_coordinates": {
     "h": 5,
     "w": 12,
     "x": 0,
     "y": 42
    },
    "deepnote_cell_height": 111.1875,
    "deepnote_cell_type": "markdown",
    "tags": []
   },
   "source": [
    "Notice that the variables in the regulatory graph are identified using `VariableId` objects, which are essentially typed integer indices. This is mostly to avoid working with name strings outside of the Boolean network or the regulatory graph (it also allows us to rename variables easily). However, most of the Python API should happily accept both a variable name and a `VariableId` object.\n",
    "\n",
    "You can always translate between the two easily:"
   ]
  },
  {
   "cell_type": "code",
   "execution_count": 7,
   "metadata": {
    "cell_id": "581ec020d40d4397b707fa908e9b23dc",
    "deepnote_app_coordinates": {
     "h": 5,
     "w": 12,
     "x": 0,
     "y": 48
    },
    "deepnote_cell_height": 118.1875,
    "deepnote_cell_type": "code",
    "deepnote_output_heights": [
     21.1875
    ],
    "deepnote_to_be_reexecuted": false,
    "execution_millis": 1,
    "execution_start": 1647976199277,
    "source_hash": "6922d745",
    "tags": []
   },
   "outputs": [
    {
     "data": {
      "text/plain": [
       "'b'"
      ]
     },
     "execution_count": 7,
     "metadata": {},
     "output_type": "execute_result"
    }
   ],
   "source": [
    "rg.get_variable_name(VariableId(1))"
   ]
  },
  {
   "cell_type": "code",
   "execution_count": 8,
   "metadata": {
    "cell_id": "309d484bfb0c4e1cb3d29bef38a8fcf2",
    "deepnote_app_coordinates": {
     "h": 5,
     "w": 12,
     "x": 0,
     "y": 54
    },
    "deepnote_cell_height": 118.1875,
    "deepnote_cell_type": "code",
    "deepnote_output_heights": [
     21.1875
    ],
    "deepnote_to_be_reexecuted": false,
    "execution_millis": 3,
    "execution_start": 1647976199278,
    "source_hash": "2c59a712",
    "tags": []
   },
   "outputs": [
    {
     "data": {
      "text/plain": [
       "VariableId(2)"
      ]
     },
     "execution_count": 8,
     "metadata": {},
     "output_type": "execute_result"
    }
   ],
   "source": [
    "rg.find_variable(\"c\")"
   ]
  },
  {
   "cell_type": "markdown",
   "metadata": {},
   "source": [
    "We can't add/remove variables in a `RegulatoryGraph` directly, since this could disrupt any existing `VariableId` references. However, there are two utility methods that help us create a copy of the `RegulatoryGraph` with variables added/removed:"
   ]
  },
  {
   "cell_type": "code",
   "execution_count": 9,
   "metadata": {},
   "outputs": [
    {
     "name": "stdout",
     "output_type": "stream",
     "text": [
      "RegulatoryGraph(variables=5, regulations=0)\n",
      "RegulatoryGraph(variables=2, regulations=0)\n"
     ]
    }
   ],
   "source": [
    "print(rg.extend([\"x\", \"y\"]))\n",
    "print(rg.drop([\"b\"]))  # The `drop` method also automatically removes any associated regulations."
   ]
  },
  {
   "cell_type": "markdown",
   "metadata": {
    "cell_id": "c38e44078d7f4e7aaaaeae3009da3ee3",
    "deepnote_app_coordinates": {
     "h": 5,
     "w": 12,
     "x": 0,
     "y": 84
    },
    "deepnote_cell_height": 52.390625,
    "deepnote_cell_type": "markdown",
    "tags": []
   },
   "source": [
    "Now, we can start adding regulations to our graph:"
   ]
  },
  {
   "cell_type": "code",
   "execution_count": 10,
   "metadata": {
    "cell_id": "7ffc7ed65e1948eeb503c5495ca38c19",
    "deepnote_app_coordinates": {
     "h": 5,
     "w": 12,
     "x": 0,
     "y": 36
    },
    "deepnote_cell_height": 396.5625,
    "deepnote_cell_type": "code",
    "deepnote_output_heights": [
     155.5625
    ],
    "deepnote_to_be_reexecuted": false,
    "execution_millis": 4,
    "execution_start": 1647976199279,
    "source_hash": "29e7940",
    "tags": []
   },
   "outputs": [
    {
     "data": {
      "text/plain": [
       "[{'source': VariableId(0),\n",
       "  'target': VariableId(1),\n",
       "  'essential': True,\n",
       "  'sign': '+'},\n",
       " {'source': VariableId(1),\n",
       "  'target': VariableId(2),\n",
       "  'essential': False,\n",
       "  'sign': None},\n",
       " {'source': VariableId(1),\n",
       "  'target': VariableId(0),\n",
       "  'essential': False,\n",
       "  'sign': None},\n",
       " {'source': VariableId(0),\n",
       "  'target': VariableId(0),\n",
       "  'essential': False,\n",
       "  'sign': None},\n",
       " {'source': VariableId(2),\n",
       "  'target': VariableId(2),\n",
       "  'essential': True,\n",
       "  'sign': '+'}]"
      ]
     },
     "execution_count": 10,
     "metadata": {},
     "output_type": "execute_result"
    }
   ],
   "source": [
    "rg.add_regulation({ \n",
    "    \"source\": \"a\", \n",
    "    \"target\": \"b\", \n",
    "    \"sign\": \"+\", \n",
    "    \"essential\": True \n",
    "})\n",
    "\n",
    "rg.add_regulation({ \n",
    "    \"source\": \"b\", \n",
    "    \"target\": \"c\", \n",
    "    \"sign\": None, \n",
    "    \"essential\": False \n",
    "})\n",
    "rg.add_regulation({ \n",
    "    \"source\": \"b\", \n",
    "    \"target\": \"a\", \n",
    "    \"sign\": None, \n",
    "    \"essential\": False\n",
    "})\n",
    "\n",
    "# A self-regulation:\n",
    "rg.add_regulation({ \n",
    "    \"source\": \"a\", \n",
    "    \"target\": \"a\", \n",
    "    \"sign\": None, \n",
    "    \"essential\": False\n",
    "})\n",
    "\n",
    "# You can also use `.aeon` syntax to add regulations more concisely:\n",
    "rg.add_regulation(\"c -> c\")\n",
    "\n",
    "# Currently, these combinations are supported:\n",
    "# -?? | sign: None, essential: False\n",
    "# ->? | sign: +, essential: False\n",
    "# -|? | sign: -, essential: False\n",
    "# -? | sign: None, essential: True\n",
    "# -> | sign: +, essential: True\n",
    "# -| | sign: -, essential: True\n",
    "\n",
    "rg.regulations()"
   ]
  },
  {
   "cell_type": "markdown",
   "metadata": {},
   "source": [
    "You can of course search for existing regulations, but you can also use `ensure_regulation` to update regulations (if the regulation does not exist, it is created):"
   ]
  },
  {
   "cell_type": "code",
   "execution_count": 11,
   "metadata": {
    "cell_id": "534923534223490395e4f693d1978ada",
    "deepnote_app_coordinates": {
     "h": 5,
     "w": 12,
     "x": 0,
     "y": 102
    },
    "deepnote_cell_height": 175.78125,
    "deepnote_cell_type": "code",
    "deepnote_output_heights": [
     78.78125
    ],
    "deepnote_to_be_reexecuted": false,
    "execution_millis": 6,
    "execution_start": 1647976199284,
    "source_hash": "37cc4127",
    "tags": []
   },
   "outputs": [
    {
     "name": "stdout",
     "output_type": "stream",
     "text": [
      "{'source': VariableId(0), 'target': VariableId(1), 'essential': True, 'sign': '+'}\n",
      "{'source': VariableId(0), 'target': VariableId(1), 'essential': False, 'sign': '-'}\n"
     ]
    }
   ],
   "source": [
    "print(rg.find_regulation(\"a\", \"b\"))\n",
    "rg.ensure_regulation(\"a -|? b\")\n",
    "print(rg.find_regulation(\"a\", \"b\"))"
   ]
  },
  {
   "cell_type": "markdown",
   "metadata": {},
   "source": [
    "To inspect the `RegulatoryGraph` visually, you can export it as a `.dot` graph. You can also export it to `.aeon` and open it in the interactive AEON model editor."
   ]
  },
  {
   "cell_type": "code",
   "execution_count": 12,
   "metadata": {},
   "outputs": [
    {
     "data": {
      "image/svg+xml": [
       "<?xml version=\"1.0\" encoding=\"UTF-8\" standalone=\"no\"?>\n",
       "<!DOCTYPE svg PUBLIC \"-//W3C//DTD SVG 1.1//EN\"\n",
       " \"http://www.w3.org/Graphics/SVG/1.1/DTD/svg11.dtd\">\n",
       "<!-- Generated by graphviz version 9.0.0 (20230911.1827)\n",
       " -->\n",
       "<!-- Title: G Pages: 1 -->\n",
       "<svg width=\"80pt\" height=\"188pt\"\n",
       " viewBox=\"0.00 0.00 80.00 188.00\" xmlns=\"http://www.w3.org/2000/svg\" xmlns:xlink=\"http://www.w3.org/1999/xlink\">\n",
       "<g id=\"graph0\" class=\"graph\" transform=\"scale(1 1) rotate(0) translate(4 184)\">\n",
       "<title>G</title>\n",
       "<polygon fill=\"white\" stroke=\"none\" points=\"-4,4 -4,-184 76,-184 76,4 -4,4\"/>\n",
       "<!-- v0 -->\n",
       "<g id=\"node1\" class=\"node\">\n",
       "<title>v0</title>\n",
       "<polygon fill=\"lightgrey\" stroke=\"black\" points=\"54,-180 0,-180 0,-144 54,-144 54,-180\"/>\n",
       "<text text-anchor=\"middle\" x=\"27\" y=\"-156.95\" font-family=\"Times,serif\" font-size=\"14.00\">a</text>\n",
       "</g>\n",
       "<!-- v0&#45;&gt;v0 -->\n",
       "<g id=\"edge3\" class=\"edge\">\n",
       "<title>v0&#45;&gt;v0</title>\n",
       "<path fill=\"none\" stroke=\"#797979\" stroke-dasharray=\"5,2\" d=\"M54.24,-175.49C64.02,-175.78 72,-171.28 72,-162 72,-156.63 69.33,-152.87 65.19,-150.7\"/>\n",
       "<polygon fill=\"none\" stroke=\"#797979\" points=\"66.22,-147.34 55.72,-148.81 64.85,-154.2 66.22,-147.34\"/>\n",
       "</g>\n",
       "<!-- v1 -->\n",
       "<g id=\"node2\" class=\"node\">\n",
       "<title>v1</title>\n",
       "<polygon fill=\"lightgrey\" stroke=\"black\" points=\"54,-108 0,-108 0,-72 54,-72 54,-108\"/>\n",
       "<text text-anchor=\"middle\" x=\"27\" y=\"-84.95\" font-family=\"Times,serif\" font-size=\"14.00\">b</text>\n",
       "</g>\n",
       "<!-- v0&#45;&gt;v1 -->\n",
       "<g id=\"edge5\" class=\"edge\">\n",
       "<title>v0&#45;&gt;v1</title>\n",
       "<path fill=\"none\" stroke=\"#d05d5d\" stroke-dasharray=\"5,2\" d=\"M21.08,-143.7C20.12,-134.37 19.99,-122.77 20.69,-112.83\"/>\n",
       "<polygon fill=\"#d05d5d\" stroke=\"#d05d5d\" points=\"16.04,-108.67 26,-109.53 25.83,-111.53 15.86,-110.66 16.04,-108.67\"/>\n",
       "<polyline fill=\"none\" stroke=\"#d05d5d\" points=\"21.1,-108.1 20.67,-113.09\"/>\n",
       "</g>\n",
       "<!-- v1&#45;&gt;v0 -->\n",
       "<g id=\"edge2\" class=\"edge\">\n",
       "<title>v1&#45;&gt;v0</title>\n",
       "<path fill=\"none\" stroke=\"#797979\" stroke-dasharray=\"5,2\" d=\"M32.9,-108.1C33.66,-115.37 33.91,-124.04 33.65,-132.24\"/>\n",
       "<polygon fill=\"none\" stroke=\"#797979\" points=\"30.16,-131.98 33.01,-142.19 37.15,-132.43 30.16,-131.98\"/>\n",
       "</g>\n",
       "<!-- v2 -->\n",
       "<g id=\"node3\" class=\"node\">\n",
       "<title>v2</title>\n",
       "<polygon fill=\"lightgrey\" stroke=\"black\" points=\"54,-36 0,-36 0,0 54,0 54,-36\"/>\n",
       "<text text-anchor=\"middle\" x=\"27\" y=\"-12.95\" font-family=\"Times,serif\" font-size=\"14.00\">c</text>\n",
       "</g>\n",
       "<!-- v1&#45;&gt;v2 -->\n",
       "<g id=\"edge1\" class=\"edge\">\n",
       "<title>v1&#45;&gt;v2</title>\n",
       "<path fill=\"none\" stroke=\"#797979\" stroke-dasharray=\"5,2\" d=\"M27,-71.7C27,-64.41 27,-55.73 27,-47.54\"/>\n",
       "<polygon fill=\"none\" stroke=\"#797979\" points=\"30.5,-47.62 27,-37.62 23.5,-47.62 30.5,-47.62\"/>\n",
       "</g>\n",
       "<!-- v2&#45;&gt;v2 -->\n",
       "<g id=\"edge4\" class=\"edge\">\n",
       "<title>v2&#45;&gt;v2</title>\n",
       "<path fill=\"none\" stroke=\"#4abd73\" d=\"M54.24,-31.49C64.02,-31.78 72,-27.28 72,-18 72,-12.63 69.33,-8.87 65.19,-6.7\"/>\n",
       "<polygon fill=\"#4abd73\" stroke=\"#4abd73\" points=\"66.22,-3.34 55.72,-4.81 64.85,-10.2 66.22,-3.34\"/>\n",
       "</g>\n",
       "</g>\n",
       "</svg>\n"
      ],
      "text/plain": [
       "<graphviz.sources.Source at 0x10b138e60>"
      ]
     },
     "execution_count": 12,
     "metadata": {},
     "output_type": "execute_result"
    }
   ],
   "source": [
    "gv.Source(rg.to_dot())"
   ]
  },
  {
   "cell_type": "markdown",
   "metadata": {
    "cell_id": "aac625d862b44250b916fae1db7b89f1",
    "deepnote_app_coordinates": {
     "h": 5,
     "w": 12,
     "x": 0,
     "y": 90
    },
    "deepnote_cell_height": 52.390625,
    "deepnote_cell_type": "markdown",
    "tags": []
   },
   "source": [
    "#### Structure of the `RegulatoryGraph`\n",
    "\n",
    "Once we have a graph, we can perform some basic exploration of its structure:"
   ]
  },
  {
   "cell_type": "code",
   "execution_count": 13,
   "metadata": {
    "cell_id": "61372a68c74d4e1fbde8564b721dfc49",
    "deepnote_app_coordinates": {
     "h": 5,
     "w": 12,
     "x": 0,
     "y": 96
    },
    "deepnote_cell_height": 118.1875,
    "deepnote_cell_type": "code",
    "deepnote_output_heights": [
     21.1875
    ],
    "deepnote_to_be_reexecuted": false,
    "execution_millis": 1,
    "execution_start": 1647976199338,
    "source_hash": "8c145473",
    "tags": []
   },
   "outputs": [
    {
     "data": {
      "text/plain": [
       "{VariableId(0)}"
      ]
     },
     "execution_count": 13,
     "metadata": {},
     "output_type": "execute_result"
    }
   ],
   "source": [
    "rg.predecessors(\"b\") # Regulators"
   ]
  },
  {
   "cell_type": "code",
   "execution_count": 14,
   "metadata": {
    "cell_id": "88159aeccf3b4c21a47ac8eb9232a400",
    "deepnote_app_coordinates": {
     "h": 5,
     "w": 12,
     "x": 0,
     "y": 108
    },
    "deepnote_cell_height": 118.1875,
    "deepnote_cell_type": "code",
    "deepnote_output_heights": [
     21.1875
    ],
    "deepnote_to_be_reexecuted": false,
    "execution_millis": 2,
    "execution_start": 1647976199339,
    "source_hash": "6a6068e5",
    "tags": []
   },
   "outputs": [
    {
     "data": {
      "text/plain": [
       "{VariableId(0), VariableId(2)}"
      ]
     },
     "execution_count": 14,
     "metadata": {},
     "output_type": "execute_result"
    }
   ],
   "source": [
    "rg.successors(\"b\") # Targets"
   ]
  },
  {
   "cell_type": "code",
   "execution_count": 15,
   "metadata": {
    "cell_id": "78c0280d47ff4d8693c3b0a0d058112f",
    "deepnote_app_coordinates": {
     "h": 5,
     "w": 12,
     "x": 0,
     "y": 114
    },
    "deepnote_cell_height": 118.1875,
    "deepnote_cell_type": "code",
    "deepnote_output_heights": [
     21.1875
    ],
    "deepnote_to_be_reexecuted": false,
    "execution_millis": 2294876,
    "execution_start": 1647976199372,
    "source_hash": "6870a1e4",
    "tags": []
   },
   "outputs": [
    {
     "data": {
      "text/plain": [
       "{VariableId(0), VariableId(1)}"
      ]
     },
     "execution_count": 15,
     "metadata": {},
     "output_type": "execute_result"
    }
   ],
   "source": [
    "rg.backward_reachable(\"b\") # Transitive regulators"
   ]
  },
  {
   "cell_type": "code",
   "execution_count": 16,
   "metadata": {
    "cell_id": "868baa2302784d9a9c8cd73a7b24b1f9",
    "deepnote_app_coordinates": {
     "h": 5,
     "w": 12,
     "x": 0,
     "y": 120
    },
    "deepnote_cell_height": 118.1875,
    "deepnote_cell_type": "code",
    "deepnote_output_heights": [
     21.1875
    ],
    "deepnote_to_be_reexecuted": false,
    "execution_millis": 2293073,
    "execution_start": 1647976199373,
    "source_hash": "689d28fe",
    "tags": []
   },
   "outputs": [
    {
     "data": {
      "text/plain": [
       "{VariableId(0), VariableId(1), VariableId(2)}"
      ]
     },
     "execution_count": 16,
     "metadata": {},
     "output_type": "execute_result"
    }
   ],
   "source": [
    "rg.forward_reachable(\"b\") # Transitive targets"
   ]
  },
  {
   "cell_type": "markdown",
   "metadata": {
    "cell_id": "9aa90a72872549f9ad6ca16530089d10",
    "deepnote_app_coordinates": {
     "h": 5,
     "w": 12,
     "x": 0,
     "y": 126
    },
    "deepnote_cell_height": 74.796875,
    "deepnote_cell_type": "markdown",
    "tags": []
   },
   "source": [
    "We can even run a simple SCC decomposition algorithm which will reveal variables that are mutually influencing each other. Here, we know that `a` and `b` have a cycle together, and `c` is only influenced by `b`, but has a self-regulation."
   ]
  },
  {
   "cell_type": "code",
   "execution_count": 17,
   "metadata": {
    "cell_id": "26f3e24fe365450185e389ecee4ec5b3",
    "deepnote_app_coordinates": {
     "h": 5,
     "w": 12,
     "x": 0,
     "y": 132
    },
    "deepnote_cell_height": 118.1875,
    "deepnote_cell_type": "code",
    "deepnote_output_heights": [
     21.1875
    ],
    "deepnote_to_be_reexecuted": false,
    "execution_millis": 2,
    "execution_start": 1647976199373,
    "source_hash": "dc0608d8",
    "tags": []
   },
   "outputs": [
    {
     "name": "stdout",
     "output_type": "stream",
     "text": [
      "Found SCC with 3 nodes.\n",
      "Found SCC with 2 nodes.\n"
     ]
    },
    {
     "data": {
      "text/plain": [
       "[{VariableId(2)}, {VariableId(0), VariableId(1)}]"
      ]
     },
     "execution_count": 17,
     "metadata": {},
     "output_type": "execute_result"
    }
   ],
   "source": [
    "rg.strongly_connected_components()"
   ]
  },
  {
   "cell_type": "markdown",
   "metadata": {},
   "source": [
    "Several other graph algorithms are also supported. For all of these, you can provide an optional `subgraph` argument to restrict the operation to a particular induced subgraph of the original input:"
   ]
  },
  {
   "cell_type": "code",
   "execution_count": 18,
   "metadata": {},
   "outputs": [
    {
     "name": "stdout",
     "output_type": "stream",
     "text": [
      "Starting FVS computation with 3 candidates.\n",
      "Selected VariableId(0) as candidate with cycle length 1.\n",
      "Selected VariableId(2) as candidate with cycle length 1.\n",
      "Finished initial FVS pruning with 2 candidates.\n",
      "Selected VariableId(0) as candidate with cycle length 1.\n",
      "Selected VariableId(2) as candidate with cycle length 1.\n",
      "Finished FVS computation: 2 nodes.\n",
      "Starting FVS computation with 3 candidates.\n",
      "Selected VariableId(0) as candidate with cycle length 1.\n",
      "Selected VariableId(2) as candidate with cycle length 1.\n",
      "Finished initial FVS pruning with 2 candidates.\n",
      "Selected VariableId(0) as candidate with cycle length 1.\n",
      "Selected VariableId(2) as candidate with cycle length 1.\n",
      "Finished FVS computation: 2 nodes.\n",
      "Starting parity FVS computation with 2 candidates.\n",
      "Selected VariableId(0) as candidate with cycle length 1.\n",
      "Finished parity FVS computation: 1 nodes.\n",
      "Selected [VariableId(0)] as the shortest candidate.\n",
      "Selected [VariableId(2)] as the shortest candidate.\n",
      "Selected [VariableId(0)] as the shortest candidate.\n",
      "Selected [VariableId(2)] as the shortest candidate.\n"
     ]
    }
   ],
   "source": [
    "# The shortest cycle starting in variable \"c\", or `None` if there is no such cycle.\n",
    "# If parity is specified, only positive/negative cycles are considered.\n",
    "c_cycle = rg.shortest_cycle(pivot=\"c\")\n",
    "c_positive = rg.shortest_cycle(pivot=\"c\", parity=\"+\")\n",
    "c_negative = rg.shortest_cycle(pivot=\"c\", parity=\"-\")\n",
    "\n",
    "# Note that while both variants of the problem have polynomial complexity, parity cycle detection\n",
    "# has a higher complexity exponent and can be thus measurably slower for large networks.\n",
    "\n",
    "# A close to minimal collection of vertices such that every cycle intersects at least one vertex.\n",
    "fvs = rg.feedback_vertex_set()\n",
    "# The same as above, but only considers negative cycles (odd number of negative edges).\n",
    "nfvs = rg.feedback_vertex_set(parity='-')\n",
    "\n",
    "# A close to maximal set of independent cycles. That is, cycles that do not intersect.\n",
    "ic = rg.independent_cycles()\n",
    "# The same as above, but only considers positive cycles (even number of negative edges).\n",
    "pic = rg.independent_cycles(parity='+')\n",
    "\n",
    "# Note that minimal FVS, resp. maximal IC problems are NP complete. Hence we only consider \n",
    "# a (good enough) approximation in our outputs. However, the result is always a valid FVS/IC set.\n",
    "# Only the minimality/maximality is not guaranteed."
   ]
  },
  {
   "cell_type": "code",
   "execution_count": 19,
   "metadata": {},
   "outputs": [
    {
     "name": "stdout",
     "output_type": "stream",
     "text": [
      "Shortest cycle on 'c': [VariableId(2)]\n",
      "Shortest positive cycle on 'c': [VariableId(2)]\n",
      "Shortest negative cycle on 'c': None\n",
      "Feedback vertex set: {VariableId(0), VariableId(2)}\n",
      "Negative feedback vertex set: {VariableId(0)}\n",
      "Independent cycles: [[VariableId(0)], [VariableId(2)]]\n",
      "Positive independet cycles: [[VariableId(0)], [VariableId(2)]]\n"
     ]
    }
   ],
   "source": [
    "print(f\"Shortest cycle on 'c': {c_cycle}\")\n",
    "print(f\"Shortest positive cycle on 'c': {c_positive}\")\n",
    "print(f\"Shortest negative cycle on 'c': {c_negative}\")\n",
    "print(f\"Feedback vertex set: {fvs}\")\n",
    "print(f\"Negative feedback vertex set: {nfvs}\")\n",
    "print(f\"Independent cycles: {ic}\")\n",
    "print(f\"Positive independet cycles: {pic}\")"
   ]
  },
  {
   "cell_type": "markdown",
   "metadata": {},
   "source": [
    "### Log output\n",
    "\n",
    "*This is probably a good place to talk about the **logging** mechanism in AEON.* \n",
    "\n",
    "As you can see, the methods above also printed additional progress messages on top of the requested output. Be default, this behavior is enabled when AEON detects that it is running in an interactive mode, such as a Jupyter notebook. However, you can tune it using the global `LOG_LEVEL` variable:"
   ]
  },
  {
   "cell_type": "code",
   "execution_count": 20,
   "metadata": {},
   "outputs": [
    {
     "name": "stdout",
     "output_type": "stream",
     "text": [
      "[{VariableId(2)}, {VariableId(1), VariableId(0)}]\n",
      "[{VariableId(2)}, {VariableId(1), VariableId(0)}]\n",
      "Found SCC with 3 nodes.\n",
      "Found SCC with 1 nodes.\n"
     ]
    }
   ],
   "source": [
    "ba.LOG_LEVEL = ba.LOG_NOTHING\n",
    "print(rg.strongly_connected_components())\n",
    "ba.LOG_LEVEL = ba.LOG_ESSENTIAL\n",
    "print(rg.strongly_connected_components())"
   ]
  },
  {
   "cell_type": "markdown",
   "metadata": {},
   "source": [
    "Aside from `LOG_NOTHING` and `LOG_ESSENTIAL` (default in Jupyter), `LOG_VERBOSE` is also available to show additional messages in some long-running algorithms. However, for the graph algorithms discussed so far, the verbose mode does not add any new output."
   ]
  },
  {
   "cell_type": "markdown",
   "metadata": {
    "cell_id": "033c8f9d4ae8417f9541846b9bd5394b",
    "deepnote_app_coordinates": {
     "h": 5,
     "w": 12,
     "x": 0,
     "y": 138
    },
    "deepnote_cell_height": 52.390625,
    "deepnote_cell_type": "markdown",
    "tags": []
   },
   "source": [
    "Finally, a `BooleanNetwork` **inherits** from a `RegulatoryGraph`. Hence everything that we have shown so far for a `RegulatoryGraph` can be also applied to a `BooleanNetwork`."
   ]
  },
  {
   "cell_type": "code",
   "execution_count": 21,
   "metadata": {
    "cell_id": "35ef396421a54908af9f9468cd70dfa4",
    "deepnote_app_coordinates": {
     "h": 5,
     "w": 12,
     "x": 0,
     "y": 144
    },
    "deepnote_cell_height": 118.1875,
    "deepnote_cell_type": "code",
    "deepnote_output_heights": [
     21.1875
    ],
    "deepnote_to_be_reexecuted": false,
    "execution_millis": 2287708,
    "execution_start": 1647976199380,
    "source_hash": "493dcf35",
    "tags": []
   },
   "outputs": [
    {
     "name": "stdout",
     "output_type": "stream",
     "text": [
      "Found SCC with 5 nodes.\n"
     ]
    },
    {
     "data": {
      "text/plain": [
       "[{VariableId(0), VariableId(1), VariableId(2), VariableId(3), VariableId(4)}]"
      ]
     },
     "execution_count": 21,
     "metadata": {},
     "output_type": "execute_result"
    }
   ],
   "source": [
    "g2a.strongly_connected_components()"
   ]
  },
  {
   "cell_type": "markdown",
   "metadata": {
    "cell_id": "7be5a36419ca4f65830bb4a2f0a2d310",
    "deepnote_app_coordinates": {
     "h": 5,
     "w": 12,
     "x": 0,
     "y": 150
    },
    "deepnote_cell_height": 52.390625,
    "deepnote_cell_type": "markdown",
    "tags": []
   },
   "source": [
    "In this case, we see that the g2a network has only one component, consisting of all its variables."
   ]
  },
  {
   "cell_type": "markdown",
   "metadata": {
    "cell_id": "87bd727bc6ae44c8a2a838c51fc7f04a",
    "deepnote_app_coordinates": {
     "h": 5,
     "w": 12,
     "x": 0,
     "y": 156
    },
    "deepnote_cell_height": 122.796875,
    "deepnote_cell_type": "markdown",
    "tags": []
   },
   "source": [
    "## `BooleanNetwork` (adding functions and parameters)\n",
    "\n",
    "A Boolean network is essentially a regulatory graph with update functions for each variable. However, as we mentioned above, our Boolean networks can also contain update functions that are either unknown (implicit parameters), or partially defined using declared uninterpreted Boolean functions (explicit parameters)."
   ]
  },
  {
   "cell_type": "code",
   "execution_count": 22,
   "metadata": {
    "cell_id": "bd9e9b7f8e694961a345f5643b015bb5",
    "deepnote_app_coordinates": {
     "h": 5,
     "w": 12,
     "x": 0,
     "y": 162
    },
    "deepnote_cell_height": 183.6875,
    "deepnote_cell_type": "code",
    "deepnote_to_be_reexecuted": false,
    "execution_millis": 2166116,
    "execution_start": 1647976199395,
    "source_hash": "c2c1afbc",
    "tags": []
   },
   "outputs": [
    {
     "name": "stdout",
     "output_type": "stream",
     "text": [
      "Function of 'a': None\n",
      "{VariableId(0): 2, VariableId(1): 1, VariableId(2): 2}\n"
     ]
    }
   ],
   "source": [
    "# Create a Boolean network from a known regulatory graph.\n",
    "bn = BooleanNetwork(rg)\n",
    "\n",
    "# Since `BooleanNetwork` inherits from a `RegulatoryGraph`, you can\n",
    "# also create a network with a list of variables, regulations, and \n",
    "# optionally parameters functions.\n",
    "# bn = BooleanNetwork([\"a\", \"b\", \"c\"], regulations=[ ... ], parameters=[ ... ], functions={ ... })\n",
    "\n",
    "# Initially, all update functions are undefined:\n",
    "print(f\"Function of 'a': {bn.get_update_function(\"a\")}\")\n",
    "\n",
    "# Such undefined functions are also referred to as \"implicit parameters\".\n",
    "# The following returns a collection of variable IDs with the airty\n",
    "# of the corresponding unknown function.\n",
    "print(bn.implicit_parameters())"
   ]
  },
  {
   "cell_type": "markdown",
   "metadata": {
    "cell_id": "a611a1d0ae0a4a6b940e3c19b2217c4d",
    "deepnote_app_coordinates": {
     "h": 5,
     "w": 12,
     "x": 0,
     "y": 168
    },
    "deepnote_cell_height": 133.59375,
    "deepnote_cell_type": "markdown",
    "tags": []
   },
   "source": [
    "We can still work with such a network, but in this case, we would have to consider **every possible** update function for every variable (as long as it satisfies the requirements on the regulation sign and essentiality). That is mostly fine for very small networks like this one, but would be impossible to solve for networks with hundreds of variables and thousands of regulations.\n",
    "\n",
    "To specify exact update functions, we can simply provide a Boolean expression which describes the function:"
   ]
  },
  {
   "cell_type": "code",
   "execution_count": 23,
   "metadata": {
    "cell_id": "a664b6e739284dc6a54ddac4feb428a4",
    "deepnote_app_coordinates": {
     "h": 5,
     "w": 12,
     "x": 0,
     "y": 174
    },
    "deepnote_cell_height": 136.1875,
    "deepnote_cell_type": "code",
    "deepnote_output_heights": [
     21.1875
    ],
    "deepnote_to_be_reexecuted": false,
    "execution_millis": 2163813,
    "execution_start": 1647976199404,
    "source_hash": "bf994fc",
    "tags": []
   },
   "outputs": [
    {
     "name": "stdout",
     "output_type": "stream",
     "text": [
      "Function of 'a': b & !a\n",
      "{VariableId(2): 2, VariableId(1): 1}\n"
     ]
    }
   ],
   "source": [
    "bn.set_update_function(\"a\", \"b & !a\")\n",
    "print(f\"Function of 'a': {bn.get_update_function(\"a\")}\")\n",
    "print(bn.implicit_parameters()) # Variable \"a\" is no longer an implicit parameter."
   ]
  },
  {
   "cell_type": "markdown",
   "metadata": {
    "cell_id": "dd03d36bafec489e8f9070d1e2e9ac8f",
    "deepnote_app_coordinates": {
     "h": 5,
     "w": 12,
     "x": 0,
     "y": 180
    },
    "deepnote_cell_height": 133.59375,
    "deepnote_cell_type": "markdown",
    "tags": []
   },
   "source": [
    "Note that `b -> a` is an activation, hence `b` must \"positively\" influence the outcome of this update function. However, whether this holds is not verified by the Boolean network directly; it is only tested once we try to create an asynchronous transition graph for the network in the next tutorial.\n",
    "\n",
    "If we don't know the whole function, we can simply leave it as `None`. However, we can also use \"basic\" logical parameters (constant unknown values) and uninterpreted functions to make the function partially defined:"
   ]
  },
  {
   "cell_type": "code",
   "execution_count": 24,
   "metadata": {
    "cell_id": "50e7bf8651f644a6be665edd0eed37fc",
    "deepnote_app_coordinates": {
     "h": 5,
     "w": 12,
     "x": 0,
     "y": 186
    },
    "deepnote_cell_height": 261,
    "deepnote_cell_type": "code",
    "deepnote_to_be_reexecuted": false,
    "execution_millis": 2161885,
    "execution_start": 1647976199413,
    "source_hash": "7a08106b",
    "tags": []
   },
   "outputs": [
    {
     "name": "stdout",
     "output_type": "stream",
     "text": [
      "b & p2(c)\n"
     ]
    }
   ],
   "source": [
    "# Add a basic \"explicit\" parameter. Arity 0 means the parameter represents \n",
    "# a `true`/`false` constant.\n",
    "bn.add_explicit_parameter(\"p1\", arity=0)\n",
    "\n",
    "# Update function for `c` will depend on `c` only when `p1` is set.\n",
    "bn.set_update_function(\"c\", \"b & (p1 => c)\")\n",
    "\n",
    "# Parameter of arity one is a Boolean function with one argument.\n",
    "bn.add_explicit_parameter(\"p2\", arity=1)\n",
    "\n",
    "# We can use it for example like this (and overwrite the previous\n",
    "# function declared above).\n",
    "bn.set_update_function(\"c\", \"b & p2(c)\")\n",
    "\n",
    "print(bn.get_update_function(\"c\"))"
   ]
  },
  {
   "cell_type": "markdown",
   "metadata": {
    "cell_id": "7212b791eb4b4dafa52bd806fc7fc10f",
    "deepnote_app_coordinates": {
     "h": 5,
     "w": 12,
     "x": 0,
     "y": 192
    },
    "deepnote_cell_height": 111.1875,
    "deepnote_cell_type": "markdown",
    "tags": []
   },
   "source": [
    "Here, update function for `c` can be `b & c`, `b & !c`, `b & true`, or `b & false`, depending on `p2`. This is because the self-regulation has no sign (hence `c` can appear positively or negatively) and may not be essential (`c` may not appear at all, in which case `p2` is a constant function).\n",
    "\n",
    "Note that this makes the function `p1` unsued, which adds additional unnecessary complexity. We can quickly prune all unused functions though:"
   ]
  },
  {
   "cell_type": "code",
   "execution_count": 25,
   "metadata": {},
   "outputs": [
    {
     "name": "stdout",
     "output_type": "stream",
     "text": [
      "BooleanNetwork(variables=3, regulations=5, explicit_parameters=2, implicit_parameters=1)\n",
      "BooleanNetwork(variables=3, regulations=5, explicit_parameters=1, implicit_parameters=1)\n"
     ]
    }
   ],
   "source": [
    "print(bn)\n",
    "bn = bn.prune_unused_parameters()\n",
    "print(bn)"
   ]
  },
  {
   "cell_type": "markdown",
   "metadata": {},
   "source": [
    "Explicit parameters are particular useful when we deal with variables that have multiple regulators:"
   ]
  },
  {
   "cell_type": "code",
   "execution_count": 26,
   "metadata": {
    "cell_id": "a6934b09bf2845ceb6d2b925efd68d36",
    "deepnote_app_coordinates": {
     "h": 5,
     "w": 12,
     "x": 0,
     "y": 198
    },
    "deepnote_cell_height": 118.1875,
    "deepnote_cell_type": "code",
    "deepnote_output_heights": [
     21.1875
    ],
    "deepnote_to_be_reexecuted": false,
    "execution_millis": 2159519,
    "execution_start": 1647976199458,
    "source_hash": "31c0e552",
    "tags": []
   },
   "outputs": [
    {
     "name": "stdout",
     "output_type": "stream",
     "text": [
      "false | (!CtrA & GcrA & !CcrM & !SciP & true) | (CtrA & !CcrM & !SciP)\n"
     ]
    }
   ],
   "source": [
    "print(g2a.get_update_function(\"CtrA\"))"
   ]
  },
  {
   "cell_type": "code",
   "execution_count": 27,
   "metadata": {
    "cell_id": "ad880a8675f043d9bd45548451c7d570",
    "deepnote_app_coordinates": {
     "h": 5,
     "w": 12,
     "x": 0,
     "y": 204
    },
    "deepnote_cell_height": 172.1875,
    "deepnote_cell_type": "code",
    "deepnote_output_heights": [
     21.1875
    ],
    "deepnote_to_be_reexecuted": false,
    "execution_millis": 2157098,
    "execution_start": 1647976199459,
    "source_hash": "50f974e7",
    "tags": []
   },
   "outputs": [
    {
     "name": "stdout",
     "output_type": "stream",
     "text": [
      "CtrA & !SciP & f1(CcrM, GcrA)\n"
     ]
    }
   ],
   "source": [
    "g2a.add_explicit_parameter(\"f1\", arity=2)\n",
    "g2a.set_update_function(\"CtrA\", \"CtrA & !SciP & f1(CcrM, GcrA)\")\n",
    "\n",
    "print(g2a.get_update_function(\"CtrA\"))"
   ]
  },
  {
   "cell_type": "markdown",
   "metadata": {
    "cell_id": "36e3f5ae8f5340c78e69ebf1613df05d",
    "deepnote_app_coordinates": {
     "h": 5,
     "w": 12,
     "x": 0,
     "y": 210
    },
    "deepnote_cell_height": 52.390625,
    "deepnote_cell_type": "markdown",
    "tags": []
   },
   "source": [
    "Here, we clearly specify that the value of `CtrA` has a known dependence on `CtrA` and `SciP`, but unknown on `CcrM` and `GcrA`."
   ]
  },
  {
   "cell_type": "markdown",
   "metadata": {},
   "source": [
    "### `UpdateFunction` class\n",
    "\n",
    "For now, we have manipulated update functions purely as strings. However, there is a dedicated `UpdateFunction` class that can be useful when manipulating functions in Python. In fact, `get_update_function` returns a result of this type."
   ]
  },
  {
   "cell_type": "code",
   "execution_count": 28,
   "metadata": {},
   "outputs": [
    {
     "name": "stdout",
     "output_type": "stream",
     "text": [
      "b & p2(c) & a\n"
     ]
    }
   ],
   "source": [
    "# An UpdateFunction can be created from a string with a BooleanNetwork as \"context\".\n",
    "fun_1 = UpdateFunction(bn, \"b & p2(c)\")\n",
    "\n",
    "# But, you can also create an UpdateFunctions using one of the `mk_*` type constructors:\n",
    "fun_a = UpdateFunction.mk_var(bn, \"a\")\n",
    "fun_2 = UpdateFunction.mk_and(fun_1, fun_a)\n",
    "print(fun_2)\n",
    "\n",
    "# For each UpdateFunction variant, there is also a `is_*` test method, and a `as_*`\n",
    "# destructor method (see also `BooleanExpression` in the previous tutorial).\n",
    "assert fun_2.is_and()\n",
    "(x,y) = fun_2.as_and()\n",
    "assert x == fun_1\n",
    "assert y == fun_a"
   ]
  },
  {
   "cell_type": "markdown",
   "metadata": {},
   "source": [
    "There are several utility methods on the `UpdateFunction` class that can be used to perform some basic analysis and transformations:"
   ]
  },
  {
   "cell_type": "code",
   "execution_count": 29,
   "metadata": {},
   "outputs": [
    {
     "name": "stdout",
     "output_type": "stream",
     "text": [
      "Variables that appear in 'fun_1': {VariableId(1), VariableId(2)}\n",
      "Parameters that appear in 'fun_1': {ParameterId(0)}\n",
      "b & p2(b & p2(c))\n",
      "!a & !b\n",
      "!a | b\n",
      "false\n",
      "(a & b)\n"
     ]
    }
   ],
   "source": [
    "print(f\"Variables that appear in 'fun_1': {fun_1.support_variables()}\")\n",
    "print(f\"Parameters that appear in 'fun_1': {fun_1.support_parameters()}\")\n",
    "\n",
    "# Substitute all occurences of a variable with the given function.\n",
    "print(fun_1.substitute_all({ \"c\": fun_1 }))\n",
    "\n",
    "# Push all negations down to atomic expressions (variables or functions).\n",
    "print(UpdateFunction(bn, \"!(a | b)\").distribute_negation())\n",
    "\n",
    "# Transform all logical operators (=>, ^, <=>) into conjuctions and disjunctions.\n",
    "print(UpdateFunction(bn, \"a => b\").to_and_or_normal_form())\n",
    "\n",
    "# Propagate all true/false constants:\n",
    "print(UpdateFunction(bn, \"a & b & false\").simplify_constants())\n",
    "\n",
    "# Convert the `UpdateFunction` into a `BooleanExpression`.\n",
    "# This operation only works if the function does not use any uninterpreted \n",
    "# functions of non-zero arity.\n",
    "print(UpdateFunction(bn, \"a & b\").as_expression())"
   ]
  },
  {
   "cell_type": "markdown",
   "metadata": {},
   "source": [
    "### `BooleanNetwork` transformations\n",
    "\n",
    "Finally, there are a few useful utlity methods available for the `BooleanNetwork` itself."
   ]
  },
  {
   "cell_type": "markdown",
   "metadata": {},
   "source": [
    "First, you can remove all regulation constraints. This is useful for example when they are for some reason not satisfiable and you want to disregard them completely. \n",
    "\n",
    "This usually should not be necessary: instead, you should replace the constraints in the network to the valid ones. However, sometimes you might just want to ignore everything and start over."
   ]
  },
  {
   "cell_type": "code",
   "execution_count": 30,
   "metadata": {},
   "outputs": [
    {
     "data": {
      "image/svg+xml": [
       "<?xml version=\"1.0\" encoding=\"UTF-8\" standalone=\"no\"?>\n",
       "<!DOCTYPE svg PUBLIC \"-//W3C//DTD SVG 1.1//EN\"\n",
       " \"http://www.w3.org/Graphics/SVG/1.1/DTD/svg11.dtd\">\n",
       "<!-- Generated by graphviz version 9.0.0 (20230911.1827)\n",
       " -->\n",
       "<!-- Title: G Pages: 1 -->\n",
       "<svg width=\"176pt\" height=\"260pt\"\n",
       " viewBox=\"0.00 0.00 176.00 260.00\" xmlns=\"http://www.w3.org/2000/svg\" xmlns:xlink=\"http://www.w3.org/1999/xlink\">\n",
       "<g id=\"graph0\" class=\"graph\" transform=\"scale(1 1) rotate(0) translate(4 256)\">\n",
       "<title>G</title>\n",
       "<polygon fill=\"white\" stroke=\"none\" points=\"-4,4 -4,-256 172,-256 172,4 -4,4\"/>\n",
       "<!-- v0 -->\n",
       "<g id=\"node1\" class=\"node\">\n",
       "<title>v0</title>\n",
       "<polygon fill=\"lightgrey\" stroke=\"black\" points=\"122,-252 68,-252 68,-216 122,-216 122,-252\"/>\n",
       "<text text-anchor=\"middle\" x=\"95\" y=\"-228.95\" font-family=\"Times,serif\" font-size=\"14.00\">CcrM</text>\n",
       "</g>\n",
       "<!-- v0&#45;&gt;v0 -->\n",
       "<g id=\"edge12\" class=\"edge\">\n",
       "<title>v0&#45;&gt;v0</title>\n",
       "<path fill=\"none\" stroke=\"#797979\" stroke-dasharray=\"5,2\" d=\"M122.24,-247.49C132.02,-247.78 140,-243.28 140,-234 140,-228.63 137.33,-224.87 133.19,-222.7\"/>\n",
       "<polygon fill=\"none\" stroke=\"#797979\" points=\"134.22,-219.34 123.72,-220.81 132.85,-226.2 134.22,-219.34\"/>\n",
       "</g>\n",
       "<!-- v1 -->\n",
       "<g id=\"node2\" class=\"node\">\n",
       "<title>v1</title>\n",
       "<polygon fill=\"lightgrey\" stroke=\"black\" points=\"86,-180 32,-180 32,-144 86,-144 86,-180\"/>\n",
       "<text text-anchor=\"middle\" x=\"59\" y=\"-156.95\" font-family=\"Times,serif\" font-size=\"14.00\">CtrA</text>\n",
       "</g>\n",
       "<!-- v0&#45;&gt;v1 -->\n",
       "<g id=\"edge3\" class=\"edge\">\n",
       "<title>v0&#45;&gt;v1</title>\n",
       "<path fill=\"none\" stroke=\"#797979\" stroke-dasharray=\"5,2\" d=\"M80.19,-215.7C75.47,-208.07 70.54,-198.92 66.48,-190.4\"/>\n",
       "<polygon fill=\"none\" stroke=\"#797979\" points=\"69.78,-189.2 62.52,-181.49 63.39,-192.05 69.78,-189.2\"/>\n",
       "</g>\n",
       "<!-- v2 -->\n",
       "<g id=\"node3\" class=\"node\">\n",
       "<title>v2</title>\n",
       "<polygon fill=\"lightgrey\" stroke=\"black\" points=\"86,-108 32,-108 32,-72 86,-72 86,-108\"/>\n",
       "<text text-anchor=\"middle\" x=\"59\" y=\"-84.95\" font-family=\"Times,serif\" font-size=\"14.00\">DnaA</text>\n",
       "</g>\n",
       "<!-- v0&#45;&gt;v2 -->\n",
       "<g id=\"edge10\" class=\"edge\">\n",
       "<title>v0&#45;&gt;v2</title>\n",
       "<path fill=\"none\" stroke=\"#797979\" stroke-dasharray=\"5,2\" d=\"M104.34,-215.68C112.93,-197.3 122.94,-167.69 113,-144 108.54,-133.37 100.79,-123.8 92.54,-115.81\"/>\n",
       "<polygon fill=\"none\" stroke=\"#797979\" points=\"95.13,-113.44 85.34,-109.38 90.46,-118.66 95.13,-113.44\"/>\n",
       "</g>\n",
       "<!-- v1&#45;&gt;v0 -->\n",
       "<g id=\"edge11\" class=\"edge\">\n",
       "<title>v1&#45;&gt;v0</title>\n",
       "<path fill=\"none\" stroke=\"#797979\" stroke-dasharray=\"5,2\" d=\"M73.69,-180.1C78.4,-187.71 83.34,-196.85 87.41,-205.38\"/>\n",
       "<polygon fill=\"none\" stroke=\"#797979\" points=\"84.13,-206.61 91.4,-214.31 90.52,-203.76 84.13,-206.61\"/>\n",
       "</g>\n",
       "<!-- v1&#45;&gt;v1 -->\n",
       "<g id=\"edge1\" class=\"edge\">\n",
       "<title>v1&#45;&gt;v1</title>\n",
       "<path fill=\"none\" stroke=\"#797979\" stroke-dasharray=\"5,2\" d=\"M86.24,-175.49C96.02,-175.78 104,-171.28 104,-162 104,-156.63 101.33,-152.87 97.19,-150.7\"/>\n",
       "<polygon fill=\"none\" stroke=\"#797979\" points=\"98.22,-147.34 87.72,-148.81 96.85,-154.2 98.22,-147.34\"/>\n",
       "</g>\n",
       "<!-- v1&#45;&gt;v2 -->\n",
       "<g id=\"edge7\" class=\"edge\">\n",
       "<title>v1&#45;&gt;v2</title>\n",
       "<path fill=\"none\" stroke=\"#797979\" stroke-dasharray=\"5,2\" d=\"M59,-143.7C59,-136.41 59,-127.73 59,-119.54\"/>\n",
       "<polygon fill=\"none\" stroke=\"#797979\" points=\"62.5,-119.62 59,-109.62 55.5,-119.62 62.5,-119.62\"/>\n",
       "</g>\n",
       "<!-- v3 -->\n",
       "<g id=\"node4\" class=\"node\">\n",
       "<title>v3</title>\n",
       "<polygon fill=\"lightgrey\" stroke=\"black\" points=\"54,-36 0,-36 0,0 54,0 54,-36\"/>\n",
       "<text text-anchor=\"middle\" x=\"27\" y=\"-12.95\" font-family=\"Times,serif\" font-size=\"14.00\">GcrA</text>\n",
       "</g>\n",
       "<!-- v1&#45;&gt;v3 -->\n",
       "<g id=\"edge5\" class=\"edge\">\n",
       "<title>v1&#45;&gt;v3</title>\n",
       "<path fill=\"none\" stroke=\"#797979\" stroke-dasharray=\"5,2\" d=\"M35.41,-143.77C26.63,-134.03 18.05,-121.18 14,-108 7.99,-88.45 9.26,-65.34 13.13,-47.58\"/>\n",
       "<polygon fill=\"none\" stroke=\"#797979\" points=\"16.5,-48.53 15.69,-37.96 9.73,-46.72 16.5,-48.53\"/>\n",
       "</g>\n",
       "<!-- v4 -->\n",
       "<g id=\"node5\" class=\"node\">\n",
       "<title>v4</title>\n",
       "<polygon fill=\"lightgrey\" stroke=\"black\" points=\"168,-36 114,-36 114,0 168,0 168,-36\"/>\n",
       "<text text-anchor=\"middle\" x=\"141\" y=\"-12.95\" font-family=\"Times,serif\" font-size=\"14.00\">SciP</text>\n",
       "</g>\n",
       "<!-- v1&#45;&gt;v4 -->\n",
       "<g id=\"edge14\" class=\"edge\">\n",
       "<title>v1&#45;&gt;v4</title>\n",
       "<path fill=\"none\" stroke=\"#797979\" stroke-dasharray=\"5,2\" d=\"M72.99,-143.87C82.97,-134.34 95.63,-121.66 104,-108 115.44,-89.33 122.61,-65.56 128.15,-47.29\"/>\n",
       "<polygon fill=\"none\" stroke=\"#797979\" points=\"131.44,-48.48 131.05,-37.89 124.75,-46.41 131.44,-48.48\"/>\n",
       "</g>\n",
       "<!-- v2&#45;&gt;v2 -->\n",
       "<g id=\"edge9\" class=\"edge\">\n",
       "<title>v2&#45;&gt;v2</title>\n",
       "<path fill=\"none\" stroke=\"#797979\" stroke-dasharray=\"5,2\" d=\"M86.24,-103.49C96.02,-103.78 104,-99.28 104,-90 104,-84.63 101.33,-80.87 97.19,-78.7\"/>\n",
       "<polygon fill=\"none\" stroke=\"#797979\" points=\"98.22,-75.34 87.72,-76.81 96.85,-82.2 98.22,-75.34\"/>\n",
       "</g>\n",
       "<!-- v2&#45;&gt;v3 -->\n",
       "<g id=\"edge6\" class=\"edge\">\n",
       "<title>v2&#45;&gt;v3</title>\n",
       "<path fill=\"none\" stroke=\"#797979\" stroke-dasharray=\"5,2\" d=\"M45.17,-71.7C40.95,-64.15 36.58,-55.12 33.04,-46.68\"/>\n",
       "<polygon fill=\"none\" stroke=\"#797979\" points=\"36.36,-45.57 29.47,-37.51 29.84,-48.1 36.36,-45.57\"/>\n",
       "</g>\n",
       "<!-- v2&#45;&gt;v4 -->\n",
       "<g id=\"edge15\" class=\"edge\">\n",
       "<title>v2&#45;&gt;v4</title>\n",
       "<path fill=\"none\" stroke=\"#797979\" stroke-dasharray=\"5,2\" d=\"M79.27,-71.7C89.13,-63.28 101.15,-53.02 111.96,-43.79\"/>\n",
       "<polygon fill=\"none\" stroke=\"#797979\" points=\"114.19,-46.48 119.53,-37.33 109.65,-41.16 114.19,-46.48\"/>\n",
       "</g>\n",
       "<!-- v3&#45;&gt;v1 -->\n",
       "<g id=\"edge2\" class=\"edge\">\n",
       "<title>v3&#45;&gt;v1</title>\n",
       "<path fill=\"none\" stroke=\"#797979\" stroke-dasharray=\"5,2\" d=\"M29.52,-36.5C28.19,-54.77 24.64,-84.05 32,-108 34.85,-117.27 39.94,-126.37 45.05,-134.35\"/>\n",
       "<polygon fill=\"none\" stroke=\"#797979\" points=\"42.05,-136.16 50.52,-142.52 47.86,-132.26 42.05,-136.16\"/>\n",
       "</g>\n",
       "<!-- v3&#45;&gt;v2 -->\n",
       "<g id=\"edge8\" class=\"edge\">\n",
       "<title>v3&#45;&gt;v2</title>\n",
       "<path fill=\"none\" stroke=\"#797979\" stroke-dasharray=\"5,2\" d=\"M40.71,-36.1C44.94,-43.62 49.31,-52.65 52.87,-61.1\"/>\n",
       "<polygon fill=\"none\" stroke=\"#797979\" points=\"49.56,-62.24 56.46,-70.29 56.08,-59.7 49.56,-62.24\"/>\n",
       "</g>\n",
       "<!-- v4&#45;&gt;v0 -->\n",
       "<g id=\"edge13\" class=\"edge\">\n",
       "<title>v4&#45;&gt;v0</title>\n",
       "<path fill=\"none\" stroke=\"#797979\" stroke-dasharray=\"5,2\" d=\"M143.01,-36.21C145.86,-66.51 148.71,-130.83 129,-180 125.36,-189.09 120.1,-198.31 114.81,-206.45\"/>\n",
       "<polygon fill=\"none\" stroke=\"#797979\" points=\"112.04,-204.29 109.29,-214.52 117.82,-208.24 112.04,-204.29\"/>\n",
       "</g>\n",
       "<!-- v4&#45;&gt;v1 -->\n",
       "<g id=\"edge4\" class=\"edge\">\n",
       "<title>v4&#45;&gt;v1</title>\n",
       "<path fill=\"none\" stroke=\"#797979\" stroke-dasharray=\"5,2\" d=\"M144.76,-36.45C143.47,-55.19 135.88,-85.35 122,-108 115.05,-119.35 105.14,-130.02 95.14,-138.76\"/>\n",
       "<polygon fill=\"none\" stroke=\"#797979\" points=\"93.1,-135.92 87.58,-144.97 97.54,-141.33 93.1,-135.92\"/>\n",
       "</g>\n",
       "</g>\n",
       "</svg>\n"
      ],
      "text/plain": [
       "<graphviz.sources.Source at 0x10b107e90>"
      ]
     },
     "execution_count": 30,
     "metadata": {},
     "output_type": "execute_result"
    }
   ],
   "source": [
    "g2a_clear = g2a.remove_regulation_constraints()\n",
    "gv.Source(g2a_clear.to_dot())"
   ]
  },
  {
   "cell_type": "markdown",
   "metadata": {},
   "source": [
    "You can then also infer the constraints back from the network's update functions.\n",
    "\n",
    "Just keep in mind that this can only work with update functions that are at least partially known. That is, we cannot infer any sign or essentiality for a fully unknown function. This is why the `CtrA` regulations below remain largely unspecified. The update functions of the remaining variables are fully known, but the function of `CtrA` is only partially known, hence we cannot infer all regulation properties exactly."
   ]
  },
  {
   "cell_type": "code",
   "execution_count": 31,
   "metadata": {},
   "outputs": [
    {
     "name": "stdout",
     "output_type": "stream",
     "text": [
      "CtrA & !SciP & f1(CcrM, GcrA)\n"
     ]
    },
    {
     "data": {
      "image/svg+xml": [
       "<?xml version=\"1.0\" encoding=\"UTF-8\" standalone=\"no\"?>\n",
       "<!DOCTYPE svg PUBLIC \"-//W3C//DTD SVG 1.1//EN\"\n",
       " \"http://www.w3.org/Graphics/SVG/1.1/DTD/svg11.dtd\">\n",
       "<!-- Generated by graphviz version 9.0.0 (20230911.1827)\n",
       " -->\n",
       "<!-- Title: G Pages: 1 -->\n",
       "<svg width=\"176pt\" height=\"260pt\"\n",
       " viewBox=\"0.00 0.00 176.00 260.00\" xmlns=\"http://www.w3.org/2000/svg\" xmlns:xlink=\"http://www.w3.org/1999/xlink\">\n",
       "<g id=\"graph0\" class=\"graph\" transform=\"scale(1 1) rotate(0) translate(4 256)\">\n",
       "<title>G</title>\n",
       "<polygon fill=\"white\" stroke=\"none\" points=\"-4,4 -4,-256 172,-256 172,4 -4,4\"/>\n",
       "<!-- v0 -->\n",
       "<g id=\"node1\" class=\"node\">\n",
       "<title>v0</title>\n",
       "<polygon fill=\"lightgrey\" stroke=\"black\" points=\"122,-252 68,-252 68,-216 122,-216 122,-252\"/>\n",
       "<text text-anchor=\"middle\" x=\"95\" y=\"-228.95\" font-family=\"Times,serif\" font-size=\"14.00\">CcrM</text>\n",
       "</g>\n",
       "<!-- v0&#45;&gt;v0 -->\n",
       "<g id=\"edge1\" class=\"edge\">\n",
       "<title>v0&#45;&gt;v0</title>\n",
       "<path fill=\"none\" stroke=\"#d05d5d\" d=\"M122.24,-247.49C132.02,-247.78 140,-243.28 140,-234 140,-226.31 134.53,-221.91 127.09,-220.79\"/>\n",
       "<polygon fill=\"#d05d5d\" stroke=\"#d05d5d\" points=\"122.96,-225.56 123.52,-215.58 125.52,-215.69 124.95,-225.67 122.96,-225.56\"/>\n",
       "<polyline fill=\"none\" stroke=\"#d05d5d\" points=\"122.24,-220.51 127.23,-220.8\"/>\n",
       "</g>\n",
       "<!-- v1 -->\n",
       "<g id=\"node2\" class=\"node\">\n",
       "<title>v1</title>\n",
       "<polygon fill=\"lightgrey\" stroke=\"black\" points=\"86,-180 32,-180 32,-144 86,-144 86,-180\"/>\n",
       "<text text-anchor=\"middle\" x=\"59\" y=\"-156.95\" font-family=\"Times,serif\" font-size=\"14.00\">CtrA</text>\n",
       "</g>\n",
       "<!-- v0&#45;&gt;v1 -->\n",
       "<g id=\"edge4\" class=\"edge\">\n",
       "<title>v0&#45;&gt;v1</title>\n",
       "<path fill=\"none\" stroke=\"#797979\" stroke-dasharray=\"5,2\" d=\"M80.19,-215.7C75.47,-208.07 70.54,-198.92 66.48,-190.4\"/>\n",
       "<polygon fill=\"none\" stroke=\"#797979\" points=\"69.78,-189.2 62.52,-181.49 63.39,-192.05 69.78,-189.2\"/>\n",
       "</g>\n",
       "<!-- v2 -->\n",
       "<g id=\"node3\" class=\"node\">\n",
       "<title>v2</title>\n",
       "<polygon fill=\"lightgrey\" stroke=\"black\" points=\"86,-108 32,-108 32,-72 86,-72 86,-108\"/>\n",
       "<text text-anchor=\"middle\" x=\"59\" y=\"-84.95\" font-family=\"Times,serif\" font-size=\"14.00\">DnaA</text>\n",
       "</g>\n",
       "<!-- v0&#45;&gt;v2 -->\n",
       "<g id=\"edge8\" class=\"edge\">\n",
       "<title>v0&#45;&gt;v2</title>\n",
       "<path fill=\"none\" stroke=\"#4abd73\" d=\"M104.34,-215.68C112.93,-197.3 122.94,-167.69 113,-144 108.54,-133.37 100.79,-123.8 92.54,-115.81\"/>\n",
       "<polygon fill=\"#4abd73\" stroke=\"#4abd73\" points=\"95.13,-113.44 85.34,-109.38 90.46,-118.66 95.13,-113.44\"/>\n",
       "</g>\n",
       "<!-- v1&#45;&gt;v0 -->\n",
       "<g id=\"edge2\" class=\"edge\">\n",
       "<title>v1&#45;&gt;v0</title>\n",
       "<path fill=\"none\" stroke=\"#4abd73\" d=\"M73.69,-180.1C78.4,-187.71 83.34,-196.85 87.41,-205.38\"/>\n",
       "<polygon fill=\"#4abd73\" stroke=\"#4abd73\" points=\"84.13,-206.61 91.4,-214.31 90.52,-203.76 84.13,-206.61\"/>\n",
       "</g>\n",
       "<!-- v1&#45;&gt;v1 -->\n",
       "<g id=\"edge5\" class=\"edge\">\n",
       "<title>v1&#45;&gt;v1</title>\n",
       "<path fill=\"none\" stroke=\"#4abd73\" stroke-dasharray=\"5,2\" d=\"M86.24,-175.49C96.02,-175.78 104,-171.28 104,-162 104,-156.63 101.33,-152.87 97.19,-150.7\"/>\n",
       "<polygon fill=\"#4abd73\" stroke=\"#4abd73\" points=\"98.22,-147.34 87.72,-148.81 96.85,-154.2 98.22,-147.34\"/>\n",
       "</g>\n",
       "<!-- v1&#45;&gt;v2 -->\n",
       "<g id=\"edge9\" class=\"edge\">\n",
       "<title>v1&#45;&gt;v2</title>\n",
       "<path fill=\"none\" stroke=\"#4abd73\" d=\"M59,-143.7C59,-136.41 59,-127.73 59,-119.54\"/>\n",
       "<polygon fill=\"#4abd73\" stroke=\"#4abd73\" points=\"62.5,-119.62 59,-109.62 55.5,-119.62 62.5,-119.62\"/>\n",
       "</g>\n",
       "<!-- v3 -->\n",
       "<g id=\"node4\" class=\"node\">\n",
       "<title>v3</title>\n",
       "<polygon fill=\"lightgrey\" stroke=\"black\" points=\"54,-36 0,-36 0,0 54,0 54,-36\"/>\n",
       "<text text-anchor=\"middle\" x=\"27\" y=\"-12.95\" font-family=\"Times,serif\" font-size=\"14.00\">GcrA</text>\n",
       "</g>\n",
       "<!-- v1&#45;&gt;v3 -->\n",
       "<g id=\"edge12\" class=\"edge\">\n",
       "<title>v1&#45;&gt;v3</title>\n",
       "<path fill=\"none\" stroke=\"#d05d5d\" d=\"M35.41,-143.77C26.63,-134.03 18.05,-121.18 14,-108 7.21,-85.92 9.7,-59.31 14.75,-40.98\"/>\n",
       "<polygon fill=\"#d05d5d\" stroke=\"#d05d5d\" points=\"11,-36.03 20.59,-38.88 20.02,-40.8 10.43,-37.95 11,-36.03\"/>\n",
       "<polyline fill=\"none\" stroke=\"#d05d5d\" points=\"16.08,-36.5 14.65,-41.29\"/>\n",
       "</g>\n",
       "<!-- v4 -->\n",
       "<g id=\"node5\" class=\"node\">\n",
       "<title>v4</title>\n",
       "<polygon fill=\"lightgrey\" stroke=\"black\" points=\"168,-36 114,-36 114,0 168,0 168,-36\"/>\n",
       "<text text-anchor=\"middle\" x=\"141\" y=\"-12.95\" font-family=\"Times,serif\" font-size=\"14.00\">SciP</text>\n",
       "</g>\n",
       "<!-- v1&#45;&gt;v4 -->\n",
       "<g id=\"edge14\" class=\"edge\">\n",
       "<title>v1&#45;&gt;v4</title>\n",
       "<path fill=\"none\" stroke=\"#4abd73\" d=\"M72.99,-143.87C82.97,-134.34 95.63,-121.66 104,-108 115.44,-89.33 122.61,-65.56 128.15,-47.29\"/>\n",
       "<polygon fill=\"#4abd73\" stroke=\"#4abd73\" points=\"131.44,-48.48 131.05,-37.89 124.75,-46.41 131.44,-48.48\"/>\n",
       "</g>\n",
       "<!-- v2&#45;&gt;v2 -->\n",
       "<g id=\"edge10\" class=\"edge\">\n",
       "<title>v2&#45;&gt;v2</title>\n",
       "<path fill=\"none\" stroke=\"#d05d5d\" d=\"M86.24,-103.49C96.02,-103.78 104,-99.28 104,-90 104,-82.31 98.53,-77.91 91.09,-76.79\"/>\n",
       "<polygon fill=\"#d05d5d\" stroke=\"#d05d5d\" points=\"86.96,-81.56 87.52,-71.58 89.52,-71.69 88.95,-81.67 86.96,-81.56\"/>\n",
       "<polyline fill=\"none\" stroke=\"#d05d5d\" points=\"86.24,-76.51 91.23,-76.8\"/>\n",
       "</g>\n",
       "<!-- v2&#45;&gt;v3 -->\n",
       "<g id=\"edge13\" class=\"edge\">\n",
       "<title>v2&#45;&gt;v3</title>\n",
       "<path fill=\"none\" stroke=\"#4abd73\" d=\"M45.17,-71.7C40.95,-64.15 36.58,-55.12 33.04,-46.68\"/>\n",
       "<polygon fill=\"#4abd73\" stroke=\"#4abd73\" points=\"36.36,-45.57 29.47,-37.51 29.84,-48.1 36.36,-45.57\"/>\n",
       "</g>\n",
       "<!-- v2&#45;&gt;v4 -->\n",
       "<g id=\"edge15\" class=\"edge\">\n",
       "<title>v2&#45;&gt;v4</title>\n",
       "<path fill=\"none\" stroke=\"#d05d5d\" d=\"M79.27,-71.7C90.7,-61.94 105.05,-49.69 117.04,-39.45\"/>\n",
       "<polygon fill=\"#d05d5d\" stroke=\"#d05d5d\" points=\"116.67,-33.19 123.17,-40.8 121.64,-42.1 115.15,-34.49 116.67,-33.19\"/>\n",
       "<polyline fill=\"none\" stroke=\"#d05d5d\" points=\"120.68,-36.35 116.88,-39.59\"/>\n",
       "</g>\n",
       "<!-- v3&#45;&gt;v1 -->\n",
       "<g id=\"edge6\" class=\"edge\">\n",
       "<title>v3&#45;&gt;v1</title>\n",
       "<path fill=\"none\" stroke=\"#797979\" stroke-dasharray=\"5,2\" d=\"M29.52,-36.5C28.19,-54.77 24.64,-84.05 32,-108 34.85,-117.27 39.94,-126.37 45.05,-134.35\"/>\n",
       "<polygon fill=\"none\" stroke=\"#797979\" points=\"42.05,-136.16 50.52,-142.52 47.86,-132.26 42.05,-136.16\"/>\n",
       "</g>\n",
       "<!-- v3&#45;&gt;v2 -->\n",
       "<g id=\"edge11\" class=\"edge\">\n",
       "<title>v3&#45;&gt;v2</title>\n",
       "<path fill=\"none\" stroke=\"#d05d5d\" d=\"M40.71,-36.1C45.98,-45.48 51.48,-57.2 55.35,-67.23\"/>\n",
       "<polygon fill=\"#d05d5d\" stroke=\"#d05d5d\" points=\"61.35,-69.02 51.97,-72.5 51.27,-70.62 60.65,-67.15 61.35,-69.02\"/>\n",
       "<polyline fill=\"none\" stroke=\"#d05d5d\" points=\"57.01,-71.7 55.27,-67.01\"/>\n",
       "</g>\n",
       "<!-- v4&#45;&gt;v0 -->\n",
       "<g id=\"edge3\" class=\"edge\">\n",
       "<title>v4&#45;&gt;v0</title>\n",
       "<path fill=\"none\" stroke=\"#d05d5d\" d=\"M143.01,-36.21C145.86,-66.51 148.71,-130.83 129,-180 124.52,-191.19 117.59,-202.57 111.15,-211.9\"/>\n",
       "<polygon fill=\"#d05d5d\" stroke=\"#d05d5d\" points=\"113.1,-217.83 104.92,-212.08 106.07,-210.44 114.25,-216.19 113.1,-217.83\"/>\n",
       "<polyline fill=\"none\" stroke=\"#d05d5d\" points=\"108.43,-215.77 111.31,-211.68\"/>\n",
       "</g>\n",
       "<!-- v4&#45;&gt;v1 -->\n",
       "<g id=\"edge7\" class=\"edge\">\n",
       "<title>v4&#45;&gt;v1</title>\n",
       "<path fill=\"none\" stroke=\"#d05d5d\" stroke-dasharray=\"5,2\" d=\"M144.76,-36.45C143.47,-55.19 135.88,-85.35 122,-108 113.92,-121.18 101.86,-133.45 90.31,-142.85\"/>\n",
       "<polygon fill=\"#d05d5d\" stroke=\"#d05d5d\" points=\"90.3,-149.23 84.1,-141.38 85.67,-140.14 91.87,-147.99 90.3,-149.23\"/>\n",
       "<polyline fill=\"none\" stroke=\"#d05d5d\" points=\"86.41,-145.93 90.34,-142.83\"/>\n",
       "</g>\n",
       "</g>\n",
       "</svg>\n"
      ],
      "text/plain": [
       "<graphviz.sources.Source at 0x10b15f140>"
      ]
     },
     "execution_count": 31,
     "metadata": {},
     "output_type": "execute_result"
    }
   ],
   "source": [
    "g2a_inferred = g2a_clear.infer_valid_graph()\n",
    "print(g2a_inferred.get_update_function(\"CtrA\"))\n",
    "gv.Source(g2a_inferred.to_dot())"
   ]
  },
  {
   "cell_type": "markdown",
   "metadata": {},
   "source": [
    "Finally, we can inline various objects in a `BooleanNetwork`:\n",
    "\n",
    " - We can **inline a single variable**, as long as it does not have a self-regulation. This simply replaces every occurence of the inlined variable with its update function.\n",
    " - We can **inline all constant variables**. A variable is a constant if its update function is either `true` or `false`. This can be evaluated either syntactically (simply check if the function is a constant), or semantically (catches all tautologies and contradictions, for example `a | !a` or `a & !a`). The default is the syntactic check, but semantic check can be enabled with the `infer_constants=True` argument.\n",
    "\n",
    "   All constants are propagated until a fixed-point is reached. If the propagation causes another variable to become a constant, this variable is also inlined.\n",
    "\n",
    " - We can **inline input variables**. A variable is an input if (a) its update function is unknown and it has no declared regulators, or (b) its update function is equivalent to an identity function (e.g. `f_a = a`). Similar to constants, condition (b) can be checked either syntactically (`infer_inputs=False`; faster, but less robust), or semantically (`infer_inputs=True`). Each detected input is converted into a zero-arity explicit parameter.\n",
    "\n",
    "Applying these methods to complex networks can often result in unsatisfiable regulation constraints. This is not a bug, but a property of the process. For example, consider a function `f=a & b`. In this function, both `a` and `b` are essential. However, inlining `a=false` into this function results in `f = false & b = false`. Hence `b` is no longer essential in `f` and the previously valid regulation constraint is now broken. \n",
    "\n",
    "To resolve this problem, each method has an optional `repair_graph` argument which ensures that regulation constraints are fixed according to the newly generated update functions."
   ]
  },
  {
   "cell_type": "code",
   "execution_count": 32,
   "metadata": {},
   "outputs": [
    {
     "name": "stdout",
     "output_type": "stream",
     "text": [
      "GcrA = '!CtrA & DnaA', CtrA='CtrA & !SciP & f1(CcrM, GcrA)'\n",
      "CtrA & !SciP & f1(CcrM, false)\n"
     ]
    },
    {
     "data": {
      "image/svg+xml": [
       "<?xml version=\"1.0\" encoding=\"UTF-8\" standalone=\"no\"?>\n",
       "<!DOCTYPE svg PUBLIC \"-//W3C//DTD SVG 1.1//EN\"\n",
       " \"http://www.w3.org/Graphics/SVG/1.1/DTD/svg11.dtd\">\n",
       "<!-- Generated by graphviz version 9.0.0 (20230911.1827)\n",
       " -->\n",
       "<!-- Title: G Pages: 1 -->\n",
       "<svg width=\"153pt\" height=\"260pt\"\n",
       " viewBox=\"0.00 0.00 153.17 260.00\" xmlns=\"http://www.w3.org/2000/svg\" xmlns:xlink=\"http://www.w3.org/1999/xlink\">\n",
       "<g id=\"graph0\" class=\"graph\" transform=\"scale(1 1) rotate(0) translate(4 256)\">\n",
       "<title>G</title>\n",
       "<polygon fill=\"white\" stroke=\"none\" points=\"-4,4 -4,-256 149.17,-256 149.17,4 -4,4\"/>\n",
       "<!-- v0 -->\n",
       "<g id=\"node1\" class=\"node\">\n",
       "<title>v0</title>\n",
       "<polygon fill=\"lightgrey\" stroke=\"black\" points=\"110,-252 56,-252 56,-216 110,-216 110,-252\"/>\n",
       "<text text-anchor=\"middle\" x=\"83\" y=\"-228.95\" font-family=\"Times,serif\" font-size=\"14.00\">CcrM</text>\n",
       "</g>\n",
       "<!-- v0&#45;&gt;v0 -->\n",
       "<g id=\"edge8\" class=\"edge\">\n",
       "<title>v0&#45;&gt;v0</title>\n",
       "<path fill=\"none\" stroke=\"#d05d5d\" d=\"M110.24,-247.49C120.02,-247.78 128,-243.28 128,-234 128,-226.31 122.53,-221.91 115.09,-220.79\"/>\n",
       "<polygon fill=\"#d05d5d\" stroke=\"#d05d5d\" points=\"110.96,-225.56 111.52,-215.58 113.52,-215.69 112.95,-225.67 110.96,-225.56\"/>\n",
       "<polyline fill=\"none\" stroke=\"#d05d5d\" points=\"110.24,-220.51 115.23,-220.8\"/>\n",
       "</g>\n",
       "<!-- v1 -->\n",
       "<g id=\"node2\" class=\"node\">\n",
       "<title>v1</title>\n",
       "<polygon fill=\"lightgrey\" stroke=\"black\" points=\"110,-180 56,-180 56,-144 110,-144 110,-180\"/>\n",
       "<text text-anchor=\"middle\" x=\"83\" y=\"-156.95\" font-family=\"Times,serif\" font-size=\"14.00\">CtrA</text>\n",
       "</g>\n",
       "<!-- v0&#45;&gt;v1 -->\n",
       "<g id=\"edge4\" class=\"edge\">\n",
       "<title>v0&#45;&gt;v1</title>\n",
       "<path fill=\"none\" stroke=\"#d05d5d\" d=\"M77.08,-215.7C76.12,-206.37 75.99,-194.77 76.69,-184.83\"/>\n",
       "<polygon fill=\"#d05d5d\" stroke=\"#d05d5d\" points=\"72.04,-180.67 82,-181.53 81.83,-183.53 71.86,-182.66 72.04,-180.67\"/>\n",
       "<polyline fill=\"none\" stroke=\"#d05d5d\" points=\"77.1,-180.1 76.67,-185.09\"/>\n",
       "</g>\n",
       "<!-- v2 -->\n",
       "<g id=\"node3\" class=\"node\">\n",
       "<title>v2</title>\n",
       "<polygon fill=\"lightgrey\" stroke=\"black\" points=\"54,-108 0,-108 0,-72 54,-72 54,-108\"/>\n",
       "<text text-anchor=\"middle\" x=\"27\" y=\"-84.95\" font-family=\"Times,serif\" font-size=\"14.00\">DnaA</text>\n",
       "</g>\n",
       "<!-- v0&#45;&gt;v2 -->\n",
       "<g id=\"edge6\" class=\"edge\">\n",
       "<title>v0&#45;&gt;v2</title>\n",
       "<path fill=\"none\" stroke=\"#4abd73\" d=\"M68.89,-215.83C61.38,-205.9 52.57,-192.86 47,-180 38.62,-160.66 33.55,-137.38 30.61,-119.48\"/>\n",
       "<polygon fill=\"#4abd73\" stroke=\"#4abd73\" points=\"34.11,-119.19 29.16,-109.82 27.18,-120.23 34.11,-119.19\"/>\n",
       "</g>\n",
       "<!-- v1&#45;&gt;v0 -->\n",
       "<g id=\"edge7\" class=\"edge\">\n",
       "<title>v1&#45;&gt;v0</title>\n",
       "<path fill=\"none\" stroke=\"#4abd73\" d=\"M88.9,-180.1C89.66,-187.37 89.91,-196.04 89.65,-204.24\"/>\n",
       "<polygon fill=\"#4abd73\" stroke=\"#4abd73\" points=\"86.16,-203.98 89.01,-214.19 93.15,-204.43 86.16,-203.98\"/>\n",
       "</g>\n",
       "<!-- v1&#45;&gt;v1 -->\n",
       "<g id=\"edge1\" class=\"edge\">\n",
       "<title>v1&#45;&gt;v1</title>\n",
       "<path fill=\"none\" stroke=\"#4abd73\" d=\"M110.24,-175.49C120.02,-175.78 128,-171.28 128,-162 128,-156.63 125.33,-152.87 121.19,-150.7\"/>\n",
       "<polygon fill=\"#4abd73\" stroke=\"#4abd73\" points=\"122.22,-147.34 111.72,-148.81 120.85,-154.2 122.22,-147.34\"/>\n",
       "</g>\n",
       "<!-- v1&#45;&gt;v2 -->\n",
       "<g id=\"edge2\" class=\"edge\">\n",
       "<title>v1&#45;&gt;v2</title>\n",
       "<path fill=\"none\" stroke=\"#4abd73\" d=\"M69.16,-143.7C62.71,-135.64 54.92,-125.89 47.79,-116.98\"/>\n",
       "<polygon fill=\"#4abd73\" stroke=\"#4abd73\" points=\"50.61,-114.91 41.63,-109.29 45.14,-119.28 50.61,-114.91\"/>\n",
       "</g>\n",
       "<!-- v3 -->\n",
       "<g id=\"node4\" class=\"node\">\n",
       "<title>v3</title>\n",
       "<polygon fill=\"lightgrey\" stroke=\"black\" points=\"136,-36 82,-36 82,0 136,0 136,-36\"/>\n",
       "<text text-anchor=\"middle\" x=\"109\" y=\"-12.95\" font-family=\"Times,serif\" font-size=\"14.00\">SciP</text>\n",
       "</g>\n",
       "<!-- v1&#45;&gt;v3 -->\n",
       "<g id=\"edge10\" class=\"edge\">\n",
       "<title>v1&#45;&gt;v3</title>\n",
       "<path fill=\"none\" stroke=\"#4abd73\" d=\"M81.57,-143.59C83.47,-119.5 91.19,-75.75 98.36,-47.03\"/>\n",
       "<polygon fill=\"#4abd73\" stroke=\"#4abd73\" points=\"101.69,-48.14 100.89,-37.57 94.93,-46.33 101.69,-48.14\"/>\n",
       "</g>\n",
       "<!-- v2&#45;&gt;v2 -->\n",
       "<g id=\"edge3\" class=\"edge\">\n",
       "<title>v2&#45;&gt;v2</title>\n",
       "<path fill=\"none\" stroke=\"#d05d5d\" d=\"M54.24,-103.49C64.02,-103.78 72,-99.28 72,-90 72,-82.31 66.53,-77.91 59.09,-76.79\"/>\n",
       "<polygon fill=\"#d05d5d\" stroke=\"#d05d5d\" points=\"54.96,-81.56 55.52,-71.58 57.52,-71.69 56.95,-81.67 54.96,-81.56\"/>\n",
       "<polyline fill=\"none\" stroke=\"#d05d5d\" points=\"54.24,-76.51 59.23,-76.8\"/>\n",
       "</g>\n",
       "<!-- v2&#45;&gt;v3 -->\n",
       "<g id=\"edge11\" class=\"edge\">\n",
       "<title>v2&#45;&gt;v3</title>\n",
       "<path fill=\"none\" stroke=\"#d05d5d\" d=\"M47.27,-71.7C58.7,-61.94 73.05,-49.69 85.04,-39.45\"/>\n",
       "<polygon fill=\"#d05d5d\" stroke=\"#d05d5d\" points=\"84.67,-33.19 91.17,-40.8 89.64,-42.1 83.15,-34.49 84.67,-33.19\"/>\n",
       "<polyline fill=\"none\" stroke=\"#d05d5d\" points=\"88.68,-36.35 84.88,-39.59\"/>\n",
       "</g>\n",
       "<!-- v3&#45;&gt;v0 -->\n",
       "<g id=\"edge9\" class=\"edge\">\n",
       "<title>v3&#45;&gt;v0</title>\n",
       "<path fill=\"none\" stroke=\"#d05d5d\" d=\"M118.01,-36.15C132.6,-66.37 157.75,-130.56 137,-180 131.7,-192.62 121.77,-203.75 111.86,-212.51\"/>\n",
       "<polygon fill=\"#d05d5d\" stroke=\"#d05d5d\" points=\"112.22,-218.78 105.72,-211.18 107.24,-209.88 113.74,-217.47 112.22,-218.78\"/>\n",
       "<polyline fill=\"none\" stroke=\"#d05d5d\" points=\"108.21,-215.63 112.01,-212.38\"/>\n",
       "</g>\n",
       "<!-- v3&#45;&gt;v1 -->\n",
       "<g id=\"edge5\" class=\"edge\">\n",
       "<title>v3&#45;&gt;v1</title>\n",
       "<path fill=\"none\" stroke=\"#d05d5d\" d=\"M110.45,-36.11C108.46,-61.84 99.71,-110.48 92.11,-138.87\"/>\n",
       "<polygon fill=\"#d05d5d\" stroke=\"#d05d5d\" points=\"95.89,-143.96 86.25,-141.29 86.79,-139.36 96.42,-142.03 95.89,-143.96\"/>\n",
       "<polyline fill=\"none\" stroke=\"#d05d5d\" points=\"90.8,-143.59 92.14,-138.77\"/>\n",
       "</g>\n",
       "</g>\n",
       "</svg>\n"
      ],
      "text/plain": [
       "<graphviz.sources.Source at 0x10b15f3b0>"
      ]
     },
     "execution_count": 32,
     "metadata": {},
     "output_type": "execute_result"
    }
   ],
   "source": [
    "print(f\"GcrA = '{g2a.get_update_function(\"GcrA\")}', CtrA='{g2a.get_update_function(\"CtrA\")}'\")\n",
    "g2a_reduced = g2a.inline_variable(\"GcrA\", repair_graph=True)\n",
    "print(g2a_reduced.get_update_function(\"CtrA\"))\n",
    "gv.Source(g2a_reduced.to_dot())"
   ]
  },
  {
   "cell_type": "markdown",
   "metadata": {},
   "source": [
    "Note that here, the `repair_graph` procedure actually uncovered an interesting property of the `CtrA` update function. After syntactic inlining, the update function is `CtrA & !SciP & f1(CcrM, !CtrA & DnaA)`. However, this function actually does not depend on the value of `DnaA` at all!\n",
    "\n",
    " - `CtrA & !SciP & f1(CcrM, !CtrA & false)` simplifies to `CtrA & !SciP & f1(CcrM, false)`.\n",
    " - `CtrA & !SciP & f1(CcrM, !CtrA & true)` simplifies to `CtrA & !SciP & f1(CcrM, !CtrA)`. But this is semantically equivalent to `CtrA & !SciP & f1(CcrM, false)`. Why? Well, we can split the proof based on the value of `CtrA`. If `CtrA=false`, both variants simplify to `false`. And if `CtrA=true`, both variants simplify to `!SciP & f1(CcrM, false)`.\n",
    "\n",
    "Hence, we can simplify the update function to `CtrA & !SciP & f1(CcrM, false)` and remove the `DnaA -> CtrA` regulation.\n",
    "\n",
    "If we use `repair_graph=False`, this transformation does not happen, because AEON will not simplify the resulting network in any way (feel free to change the code above to test this)."
   ]
  },
  {
   "cell_type": "code",
   "execution_count": 33,
   "metadata": {},
   "outputs": [
    {
     "data": {
      "image/svg+xml": [
       "<?xml version=\"1.0\" encoding=\"UTF-8\" standalone=\"no\"?>\n",
       "<!DOCTYPE svg PUBLIC \"-//W3C//DTD SVG 1.1//EN\"\n",
       " \"http://www.w3.org/Graphics/SVG/1.1/DTD/svg11.dtd\">\n",
       "<!-- Generated by graphviz version 9.0.0 (20230911.1827)\n",
       " -->\n",
       "<!-- Title: G Pages: 1 -->\n",
       "<svg width=\"153pt\" height=\"260pt\"\n",
       " viewBox=\"0.00 0.00 153.17 260.00\" xmlns=\"http://www.w3.org/2000/svg\" xmlns:xlink=\"http://www.w3.org/1999/xlink\">\n",
       "<g id=\"graph0\" class=\"graph\" transform=\"scale(1 1) rotate(0) translate(4 256)\">\n",
       "<title>G</title>\n",
       "<polygon fill=\"white\" stroke=\"none\" points=\"-4,4 -4,-256 149.17,-256 149.17,4 -4,4\"/>\n",
       "<!-- v0 -->\n",
       "<g id=\"node1\" class=\"node\">\n",
       "<title>v0</title>\n",
       "<polygon fill=\"lightgrey\" stroke=\"black\" points=\"110,-252 56,-252 56,-216 110,-216 110,-252\"/>\n",
       "<text text-anchor=\"middle\" x=\"83\" y=\"-228.95\" font-family=\"Times,serif\" font-size=\"14.00\">CcrM</text>\n",
       "</g>\n",
       "<!-- v0&#45;&gt;v0 -->\n",
       "<g id=\"edge1\" class=\"edge\">\n",
       "<title>v0&#45;&gt;v0</title>\n",
       "<path fill=\"none\" stroke=\"#d05d5d\" d=\"M110.24,-247.49C120.02,-247.78 128,-243.28 128,-234 128,-226.31 122.53,-221.91 115.09,-220.79\"/>\n",
       "<polygon fill=\"#d05d5d\" stroke=\"#d05d5d\" points=\"110.96,-225.56 111.52,-215.58 113.52,-215.69 112.95,-225.67 110.96,-225.56\"/>\n",
       "<polyline fill=\"none\" stroke=\"#d05d5d\" points=\"110.24,-220.51 115.23,-220.8\"/>\n",
       "</g>\n",
       "<!-- v1 -->\n",
       "<g id=\"node2\" class=\"node\">\n",
       "<title>v1</title>\n",
       "<polygon fill=\"lightgrey\" stroke=\"black\" points=\"110,-180 56,-180 56,-144 110,-144 110,-180\"/>\n",
       "<text text-anchor=\"middle\" x=\"83\" y=\"-156.95\" font-family=\"Times,serif\" font-size=\"14.00\">CtrA</text>\n",
       "</g>\n",
       "<!-- v0&#45;&gt;v1 -->\n",
       "<g id=\"edge4\" class=\"edge\">\n",
       "<title>v0&#45;&gt;v1</title>\n",
       "<path fill=\"none\" stroke=\"#d05d5d\" d=\"M77.08,-215.7C76.12,-206.37 75.99,-194.77 76.69,-184.83\"/>\n",
       "<polygon fill=\"#d05d5d\" stroke=\"#d05d5d\" points=\"72.04,-180.67 82,-181.53 81.83,-183.53 71.86,-182.66 72.04,-180.67\"/>\n",
       "<polyline fill=\"none\" stroke=\"#d05d5d\" points=\"77.1,-180.1 76.67,-185.09\"/>\n",
       "</g>\n",
       "<!-- v2 -->\n",
       "<g id=\"node3\" class=\"node\">\n",
       "<title>v2</title>\n",
       "<polygon fill=\"lightgrey\" stroke=\"black\" points=\"54,-108 0,-108 0,-72 54,-72 54,-108\"/>\n",
       "<text text-anchor=\"middle\" x=\"27\" y=\"-84.95\" font-family=\"Times,serif\" font-size=\"14.00\">DnaA</text>\n",
       "</g>\n",
       "<!-- v0&#45;&gt;v2 -->\n",
       "<g id=\"edge7\" class=\"edge\">\n",
       "<title>v0&#45;&gt;v2</title>\n",
       "<path fill=\"none\" stroke=\"#4abd73\" d=\"M68.89,-215.83C61.38,-205.9 52.57,-192.86 47,-180 38.62,-160.66 33.55,-137.38 30.61,-119.48\"/>\n",
       "<polygon fill=\"#4abd73\" stroke=\"#4abd73\" points=\"34.11,-119.19 29.16,-109.82 27.18,-120.23 34.11,-119.19\"/>\n",
       "</g>\n",
       "<!-- v1&#45;&gt;v0 -->\n",
       "<g id=\"edge2\" class=\"edge\">\n",
       "<title>v1&#45;&gt;v0</title>\n",
       "<path fill=\"none\" stroke=\"#4abd73\" d=\"M88.9,-180.1C89.66,-187.37 89.91,-196.04 89.65,-204.24\"/>\n",
       "<polygon fill=\"#4abd73\" stroke=\"#4abd73\" points=\"86.16,-203.98 89.01,-214.19 93.15,-204.43 86.16,-203.98\"/>\n",
       "</g>\n",
       "<!-- v1&#45;&gt;v1 -->\n",
       "<g id=\"edge5\" class=\"edge\">\n",
       "<title>v1&#45;&gt;v1</title>\n",
       "<path fill=\"none\" stroke=\"#4abd73\" d=\"M110.24,-175.49C120.02,-175.78 128,-171.28 128,-162 128,-156.63 125.33,-152.87 121.19,-150.7\"/>\n",
       "<polygon fill=\"#4abd73\" stroke=\"#4abd73\" points=\"122.22,-147.34 111.72,-148.81 120.85,-154.2 122.22,-147.34\"/>\n",
       "</g>\n",
       "<!-- v1&#45;&gt;v2 -->\n",
       "<g id=\"edge8\" class=\"edge\">\n",
       "<title>v1&#45;&gt;v2</title>\n",
       "<path fill=\"none\" stroke=\"#4abd73\" d=\"M69.16,-143.7C62.71,-135.64 54.92,-125.89 47.79,-116.98\"/>\n",
       "<polygon fill=\"#4abd73\" stroke=\"#4abd73\" points=\"50.61,-114.91 41.63,-109.29 45.14,-119.28 50.61,-114.91\"/>\n",
       "</g>\n",
       "<!-- v3 -->\n",
       "<g id=\"node4\" class=\"node\">\n",
       "<title>v3</title>\n",
       "<polygon fill=\"lightgrey\" stroke=\"black\" points=\"136,-36 82,-36 82,0 136,0 136,-36\"/>\n",
       "<text text-anchor=\"middle\" x=\"109\" y=\"-12.95\" font-family=\"Times,serif\" font-size=\"14.00\">SciP</text>\n",
       "</g>\n",
       "<!-- v1&#45;&gt;v3 -->\n",
       "<g id=\"edge10\" class=\"edge\">\n",
       "<title>v1&#45;&gt;v3</title>\n",
       "<path fill=\"none\" stroke=\"#4abd73\" d=\"M81.57,-143.59C83.47,-119.5 91.19,-75.75 98.36,-47.03\"/>\n",
       "<polygon fill=\"#4abd73\" stroke=\"#4abd73\" points=\"101.69,-48.14 100.89,-37.57 94.93,-46.33 101.69,-48.14\"/>\n",
       "</g>\n",
       "<!-- v2&#45;&gt;v2 -->\n",
       "<g id=\"edge9\" class=\"edge\">\n",
       "<title>v2&#45;&gt;v2</title>\n",
       "<path fill=\"none\" stroke=\"#d05d5d\" d=\"M54.24,-103.49C64.02,-103.78 72,-99.28 72,-90 72,-82.31 66.53,-77.91 59.09,-76.79\"/>\n",
       "<polygon fill=\"#d05d5d\" stroke=\"#d05d5d\" points=\"54.96,-81.56 55.52,-71.58 57.52,-71.69 56.95,-81.67 54.96,-81.56\"/>\n",
       "<polyline fill=\"none\" stroke=\"#d05d5d\" points=\"54.24,-76.51 59.23,-76.8\"/>\n",
       "</g>\n",
       "<!-- v2&#45;&gt;v3 -->\n",
       "<g id=\"edge11\" class=\"edge\">\n",
       "<title>v2&#45;&gt;v3</title>\n",
       "<path fill=\"none\" stroke=\"#d05d5d\" d=\"M47.27,-71.7C58.7,-61.94 73.05,-49.69 85.04,-39.45\"/>\n",
       "<polygon fill=\"#d05d5d\" stroke=\"#d05d5d\" points=\"84.67,-33.19 91.17,-40.8 89.64,-42.1 83.15,-34.49 84.67,-33.19\"/>\n",
       "<polyline fill=\"none\" stroke=\"#d05d5d\" points=\"88.68,-36.35 84.88,-39.59\"/>\n",
       "</g>\n",
       "<!-- v3&#45;&gt;v0 -->\n",
       "<g id=\"edge3\" class=\"edge\">\n",
       "<title>v3&#45;&gt;v0</title>\n",
       "<path fill=\"none\" stroke=\"#d05d5d\" d=\"M118.01,-36.15C132.6,-66.37 157.75,-130.56 137,-180 131.7,-192.62 121.77,-203.75 111.86,-212.51\"/>\n",
       "<polygon fill=\"#d05d5d\" stroke=\"#d05d5d\" points=\"112.22,-218.78 105.72,-211.18 107.24,-209.88 113.74,-217.47 112.22,-218.78\"/>\n",
       "<polyline fill=\"none\" stroke=\"#d05d5d\" points=\"108.21,-215.63 112.01,-212.38\"/>\n",
       "</g>\n",
       "<!-- v3&#45;&gt;v1 -->\n",
       "<g id=\"edge6\" class=\"edge\">\n",
       "<title>v3&#45;&gt;v1</title>\n",
       "<path fill=\"none\" stroke=\"#d05d5d\" d=\"M110.45,-36.11C108.46,-61.84 99.71,-110.48 92.11,-138.87\"/>\n",
       "<polygon fill=\"#d05d5d\" stroke=\"#d05d5d\" points=\"95.89,-143.96 86.25,-141.29 86.79,-139.36 96.42,-142.03 95.89,-143.96\"/>\n",
       "<polyline fill=\"none\" stroke=\"#d05d5d\" points=\"90.8,-143.59 92.14,-138.77\"/>\n",
       "</g>\n",
       "</g>\n",
       "</svg>\n"
      ],
      "text/plain": [
       "<graphviz.sources.Source at 0x10b15f320>"
      ]
     },
     "execution_count": 33,
     "metadata": {},
     "output_type": "execute_result"
    }
   ],
   "source": [
    "gv.Source(g2a_reduced.infer_valid_graph().to_dot())"
   ]
  },
  {
   "cell_type": "code",
   "execution_count": 34,
   "metadata": {},
   "outputs": [
    {
     "name": "stdout",
     "output_type": "stream",
     "text": [
      "b -| c\n",
      "c -> c\n",
      "$b: f_b(true)\n",
      "\n"
     ]
    }
   ],
   "source": [
    "bn = BooleanNetwork([\"a\", \"b\", \"c\"], [\"a -? a\", \"a -> b\", \"b -| c\", \"c -> c\"], functions={\"a\": \"a | !a\"})\n",
    "print(bn.inline_constants(infer_constants=True, repair_graph=True).to_aeon())"
   ]
  },
  {
   "cell_type": "code",
   "execution_count": 35,
   "metadata": {},
   "outputs": [
    {
     "name": "stdout",
     "output_type": "stream",
     "text": [
      "b -| c\n",
      "c -> c\n",
      "$b: f_b(a)\n",
      "\n"
     ]
    }
   ],
   "source": [
    "bn = BooleanNetwork([\"a\", \"b\", \"c\"], [\"a -? a\", \"a -> b\", \"b -| c\", \"c -> c\"], functions={\"a\": \"a\"})\n",
    "print(bn.inline_inputs(infer_inputs=True, repair_graph=True).to_aeon())"
   ]
  },
  {
   "cell_type": "markdown",
   "metadata": {
    "cell_id": "0bee52db7a674a208c50ce32f7d2684c",
    "deepnote_app_coordinates": {
     "h": 5,
     "w": 12,
     "x": 0,
     "y": 294
    },
    "deepnote_cell_height": 52.390625,
    "deepnote_cell_type": "markdown",
    "tags": []
   },
   "source": [
    "This summarises the core API of the `RegulatoryNetwork` and the `BooleanNetwork`. For more information about these classes, you can follow the API documentation [here](https://biodivine.fi.muni.cz/docs/aeon-py/latest/)."
   ]
  }
 ],
 "metadata": {
  "deepnote": {
   "is_reactive": false
  },
  "deepnote_app_layout": "article",
  "deepnote_execution_queue": [],
  "deepnote_notebook_id": "14fc148c0c764c8784b5e0f8b832a640",
  "kernelspec": {
   "display_name": "Python 3 (ipykernel)",
   "language": "python",
   "name": "python3"
  },
  "language_info": {
   "codemirror_mode": {
    "name": "ipython",
    "version": 3
   },
   "file_extension": ".py",
   "mimetype": "text/x-python",
   "name": "python",
   "nbconvert_exporter": "python",
   "pygments_lexer": "ipython3",
   "version": "3.12.1"
  }
 },
 "nbformat": 4,
 "nbformat_minor": 4
}
