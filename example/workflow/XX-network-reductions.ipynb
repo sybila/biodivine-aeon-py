{
 "cells": [
  {
   "cell_type": "markdown",
   "id": "844007c8-f749-4329-9311-bfd32e066595",
   "metadata": {},
   "source": [
    "# Network reductions\n",
    "\n",
    "Currently, there are two ways in which you can reduce a Boolean network: syntactically, and symbolically.\n",
    "\n",
    "### Syntactic reduction\n",
    "\n",
    "The syntactic case is easier to follow, but also less scalable. For very large networks, the function expressions can grow exponentially, which makes it impossible to perform without additional simplification."
   ]
  },
  {
   "cell_type": "code",
   "execution_count": 1,
   "id": "69b2d38b-5168-46c9-b4f0-345bdb9a7618",
   "metadata": {},
   "outputs": [
    {
     "name": "stdout",
     "output_type": "stream",
     "text": [
      "Detected IPython (`ZMQInteractiveShell`). Log level set to `LOG_ESSENTIAL`.\n"
     ]
    }
   ],
   "source": [
    "from biodivine_aeon import *\n",
    "import biodivine_aeon as ba\n",
    "ba.LOG_LEVEL = ba.LOG_NOTHING # For this tutorial, we can turn off log messages since most computations will be very simple."
   ]
  },
  {
   "cell_type": "code",
   "execution_count": 2,
   "id": "432d871c-2517-4456-8137-85b3d133a674",
   "metadata": {},
   "outputs": [],
   "source": [
    "bn = BooleanNetwork.from_bnet(\"\"\"\n",
    "a, c | b\n",
    "b, c & !a\n",
    "c, a | b \n",
    "\"\"\")"
   ]
  },
  {
   "cell_type": "code",
   "execution_count": 3,
   "id": "54988a83-0f68-4873-abae-fec3fbd95313",
   "metadata": {},
   "outputs": [
    {
     "name": "stdout",
     "output_type": "stream",
     "text": [
      "targets,factors\n",
      "a, ((a | b) | b)\n",
      "b, ((a | b) & !a)\n",
      "\n"
     ]
    }
   ],
   "source": [
    "bn2 = bn.inline_variable(\"c\")\n",
    "print(bn2.to_bnet())"
   ]
  },
  {
   "cell_type": "markdown",
   "id": "41205424-00ca-4f04-9c99-e89aa4afbe1f",
   "metadata": {},
   "source": [
    "Note that you can't inline a variable if its update function depends on itself. \n",
    "\n",
    " > This check is performed syntactically. So if `x` has the update function `(x & !x) | y`, this still counts as a self-regulation even though `x` is semantically not essential in the update function. This is not an issue in the symbolic reduction that is shown later."
   ]
  },
  {
   "cell_type": "code",
   "execution_count": 4,
   "id": "2bb968d2-35f6-4fa8-8e1a-c152e7e33a55",
   "metadata": {},
   "outputs": [
    {
     "name": "stdout",
     "output_type": "stream",
     "text": [
      "Variable has a self-regulation.\n"
     ]
    }
   ],
   "source": [
    "try:\n",
    "    bn2.inline_variable(\"a\")\n",
    "except RuntimeError as e:\n",
    "    print(e)"
   ]
  },
  {
   "cell_type": "markdown",
   "id": "0be546d8-4726-46f1-a889-d75bc58197e1",
   "metadata": {},
   "source": [
    "### Symbolic reduction\n",
    "\n",
    "We can perform the same process, but using a symbolic representation of the network (i.e. the `AsynchronousGraph`). \n",
    "\n",
    " > Do note that symbolic representations of the original and the reduced network use the same names for variables, but are otherwise not compatible (e.g. `VariableId(5)` can reference a different variable in the original and in the reduced network). However, as we show a bit later, there is a translation method that can \"move\" sets between such compatible representations."
   ]
  },
  {
   "cell_type": "code",
   "execution_count": 5,
   "id": "de981bb4-8afe-482a-ad44-0e8f441c54cc",
   "metadata": {},
   "outputs": [],
   "source": [
    "graph = AsynchronousGraph(bn)"
   ]
  },
  {
   "cell_type": "code",
   "execution_count": 6,
   "id": "82f438d0-feff-4ba5-b50a-e5d47474cd70",
   "metadata": {},
   "outputs": [],
   "source": [
    "graph2 = graph.inline_variable_symbolic(\"c\")"
   ]
  },
  {
   "cell_type": "code",
   "execution_count": 7,
   "id": "00246a87-b416-4fd6-ae19-26badf46b5e6",
   "metadata": {},
   "outputs": [
    {
     "name": "stdout",
     "output_type": "stream",
     "text": [
      "targets,factors\n",
      "a, (a | (!a & b))\n",
      "b, (!a & b)\n",
      "\n"
     ]
    }
   ],
   "source": [
    "# Here, the reduced network is *reconstructed* from the symbolic BDD representation.\n",
    "# Once many reductions are applied, this typically produces a result that is smaller than what one\n",
    "# would obtain using the syntactic reduction, but in some extreme cases even this can produce a\n",
    "# network that is too large to reconstruct (e.g. model ID 122 in BBM).\n",
    "bn2_reconstructed = graph2.reconstruct_network()\n",
    "print(bn2_reconstructed.to_bnet())"
   ]
  },
  {
   "cell_type": "markdown",
   "id": "e2734eff-9669-4f04-9077-428fb216369a",
   "metadata": {},
   "source": [
    "### Reduction and parameters\n",
    "\n",
    "In AEON, Boolean networks can contain parameters (uninterpreted functions) that designate some unknown or partially known component of the network dynamics. Fundamentally, these should be handled by the reductions without any issues. However, do note that there is one difference between the syntactic and the symbolic reduction.\n",
    "\n",
    "During the syntactic inlining, the information about interaction monotonicity and essentiality can be lost. For example, assume I have a variable `z` whose update function is `f(x, y)` (`f` being a parameter). Then, assuming that both `x` and `y` are essential activators, `f` can be only instantiated as `x & y` or `x | y`. However, assume that the update function of `x` is `!y`, and I try to eliminate `x`. Then the essentiality constraint can be retained, but `y` is no longer an activator, but rather a mixed/dual regulator. Hence `f(!y, y)` can be suddenly also instantiated as `y <=> !y`, `y ^ !y`, or many other functions.\n",
    "\n",
    "Such \"lost\" static constraints can in theory be taken into account by only using the original subset of colors (function interpretations) when subsequently working with the symbolic representation of the reduced network."
   ]
  },
  {
   "cell_type": "code",
   "execution_count": 8,
   "id": "0607b208-98c5-4a4f-8f3d-7845f29d1bf8",
   "metadata": {},
   "outputs": [],
   "source": [
    "bn = BooleanNetwork.from_aeon(\"\"\"\n",
    "x -> z\n",
    "y -> z\n",
    "$z: f(x,y)\n",
    "y -| x\n",
    "$x: !y\n",
    "$y: true\n",
    "\"\"\")"
   ]
  },
  {
   "cell_type": "code",
   "execution_count": 9,
   "id": "4c34d6b6-ad69-4f9d-ad60-e0686922ef9c",
   "metadata": {},
   "outputs": [
    {
     "name": "stdout",
     "output_type": "stream",
     "text": [
      "ColorModel({'f': '(x_0 & x_1)'})\n",
      "ColorModel({'f': '((!x_0 & x_1) | x_0)'})\n"
     ]
    }
   ],
   "source": [
    "# With the static constraints, `f` can be only a conjunction or a disjunction.\n",
    "graph = AsynchronousGraph(bn)\n",
    "for x in graph.mk_unit_colors():\n",
    "    print(x)"
   ]
  },
  {
   "cell_type": "code",
   "execution_count": 10,
   "id": "819cf6e8-5bc5-403b-8f59-84a49437417e",
   "metadata": {},
   "outputs": [
    {
     "name": "stdout",
     "output_type": "stream",
     "text": [
      "y -? z\n",
      "$y: true\n",
      "$z: f(!y, y)\n",
      "\n"
     ]
    }
   ],
   "source": [
    "bn2 = bn.inline_variable(\"x\")\n",
    "print(bn2.to_aeon())"
   ]
  },
  {
   "cell_type": "code",
   "execution_count": 11,
   "id": "047c32c5-4466-4b10-8404-c759087398d6",
   "metadata": {},
   "outputs": [
    {
     "name": "stdout",
     "output_type": "stream",
     "text": [
      "ColorModel({'f': '(!x_0 & x_1)'})\n",
      "ColorModel({'f': '!x_0'})\n",
      "ColorModel({'f': 'x_1'})\n",
      "ColorModel({'f': '(!x_0 | (x_0 & x_1))'})\n",
      "ColorModel({'f': '(x_0 & !x_1)'})\n",
      "ColorModel({'f': '!x_1'})\n",
      "ColorModel({'f': 'x_0'})\n",
      "ColorModel({'f': '((!x_0 & !x_1) | x_0)'})\n"
     ]
    }
   ],
   "source": [
    "# Suddenly, `f` can be many things, because the only requirement is that `y` is an essential input.\n",
    "graph2 = AsynchronousGraph(bn2)\n",
    "for x in graph2.mk_unit_colors():\n",
    "    print(x)"
   ]
  },
  {
   "cell_type": "code",
   "execution_count": 12,
   "id": "9008e1b1-0fad-4680-9e2f-24aa1a2710d4",
   "metadata": {},
   "outputs": [
    {
     "name": "stdout",
     "output_type": "stream",
     "text": [
      "ColorModel({'f': '(x_0 & x_1)'})\n",
      "ColorModel({'f': '((!x_0 & x_1) | x_0)'})\n"
     ]
    }
   ],
   "source": [
    "# We can \"transfer\" the original set of colors from the initial symbolic graph to the new one.\n",
    "# We can then use this transferred set as a restriction on the initial conditions of any \n",
    "# algorithm/method we want to apply to the reduced network.\n",
    "old_unit_set_in_new_context = graph2.transfer_from(graph.mk_unit_colors(), graph)\n",
    "for x in old_unit_set_in_new_context:\n",
    "    print(x)"
   ]
  },
  {
   "cell_type": "markdown",
   "id": "bbad9d8c-d2b1-49ba-b2cd-41daf070a71d",
   "metadata": {},
   "source": [
    "### Working with reduced networks\n",
    "\n",
    "As long as the network variables share the same names and are ordered the same way, `AsynchronousGraph.transfer_from` should be able to translate symbolic sets between networks. (Default variable ordering is alphabetic, so unless you explicitly change it, the ordering requirement should be satisfied.)\n",
    "\n",
    "We can use this to implement various algorithms that rely on network reductions. Here is an example of an algorithm that uses reductions to find fixed-points."
   ]
  },
  {
   "cell_type": "code",
   "execution_count": 13,
   "id": "b14e0ae5-d39d-44be-a2b5-dc1107c161c1",
   "metadata": {},
   "outputs": [],
   "source": [
    "from typing import Optional\n",
    "\n",
    "def reduce(stg: AsynchronousGraph) -> Optional[tuple[AsynchronousGraph, VariableId]]:\n",
    "    \"\"\"\n",
    "    Greedily find the \"best\" variable to reduce, and return it, including the symbolically\n",
    "    reduced graph.\n",
    "\n",
    "    \"Best\" here means that the variable has the smallest update function in terms of BDD nodes.\n",
    "    Other greedy criteria could be consider instead.\n",
    "    \"\"\"\n",
    "    best_var = (None, 0)\n",
    "    for var in stg.network_variables():\n",
    "        fn_bdd = stg.mk_update_function(var)\n",
    "        support = fn_bdd.support_set()\n",
    "        bdd_var = stg.symbolic_context().find_network_bdd_variable(var)\n",
    "        if bdd_var in support:\n",
    "            # This variable has a self-dependence.\n",
    "            continue\n",
    "            \n",
    "        if len(fn_bdd) < best_var[1] or best_var[1] == 0:\n",
    "            best_var = (var, len(fn_bdd))\n",
    "    if best_var[0] is None:\n",
    "        return None\n",
    "    else:\n",
    "        return (stg.inline_variable_symbolic(best_var[0]), best_var[0])\n",
    "\n",
    "def fixed_points_rec(stg: AsynchronousGraph) -> ColoredVertexSet:\n",
    "    \"\"\"\n",
    "    Try to greedily reduce the graph/network as much as possible using the symbolic reduction,\n",
    "    and then recursively extract the set of fixed points.\n",
    "    \"\"\"\n",
    "    reduced = reduce(stg)\n",
    "    if reduced is None:\n",
    "        print(f\"Search for fixed points in the irreducible network.\")\n",
    "        # This network cannot be reduced further. Use the basic fixed-point search.\n",
    "        fix = FixedPoints.symbolic(stg, stg.mk_unit_colored_vertices())\n",
    "        print(f\"Found {fix} in the irreducible network.\")\n",
    "        return fix\n",
    "\n",
    "    (red_stg, red_var) = reduced\n",
    "    print(f\"Reduced network to {red_stg.network_variable_count()} variables.\")\n",
    "    red_fix = fixed_points_rec(red_stg)\n",
    "    # The variable that is missing in `red_stg` becomes unconstrained when transferred to `stg`.\n",
    "    # I.e. the states in `red_fix` are extended with both `red_var=0` and `red_var=1`.\n",
    "    fix_candidates = stg.transfer_from(red_fix, red_stg)\n",
    "    # Remove any spurious candidates that have a transition under `red_var`.\n",
    "    fix = fix_candidates.minus(stg.var_can_post(red_var, fix_candidates))\n",
    "    print(f\"Lifted {red_var}, new candidates: {fix}\")\n",
    "    return fix"
   ]
  },
  {
   "cell_type": "code",
   "execution_count": 14,
   "id": "4558fd5f-5987-4740-8f29-584691042156",
   "metadata": {},
   "outputs": [
    {
     "name": "stdout",
     "output_type": "stream",
     "text": [
      "BooleanNetwork(variables=5, regulations=15, explicit_parameters=0, implicit_parameters=0)\n"
     ]
    }
   ],
   "source": [
    "# A super trivial example with a single fixed-point.\n",
    "bn = BooleanNetwork.from_file('./data/g2a.sbml')\n",
    "print(bn)\n",
    "stg = AsynchronousGraph(bn)"
   ]
  },
  {
   "cell_type": "code",
   "execution_count": 15,
   "id": "4a4c619f-45f2-42cc-a585-65da9082e350",
   "metadata": {},
   "outputs": [
    {
     "name": "stdout",
     "output_type": "stream",
     "text": [
      "Reduced network to 4 variables.\n",
      "Reduced network to 3 variables.\n",
      "Reduced network to 2 variables.\n",
      "Reduced network to 1 variables.\n",
      "Reduced network to 0 variables.\n",
      "Search for fixed points in the irreducible network.\n",
      "Found ColoredVertexSet(cardinality=1, symbolic_size=2) in the irreducible network.\n",
      "Lifted v_0, new candidates: ColoredVertexSet(cardinality=1, symbolic_size=3)\n",
      "Lifted v_1, new candidates: ColoredVertexSet(cardinality=1, symbolic_size=4)\n",
      "Lifted v_1, new candidates: ColoredVertexSet(cardinality=1, symbolic_size=5)\n",
      "Lifted v_3, new candidates: ColoredVertexSet(cardinality=1, symbolic_size=6)\n",
      "Lifted v_3, new candidates: ColoredVertexSet(cardinality=1, symbolic_size=7)\n",
      "Found VertexSet(cardinality=1, symbolic_size=7) vertices across ColorSet(cardinality=1, symbolic_size=2) colors (complete relation: ColoredVertexSet(cardinality=1, symbolic_size=7)).\n"
     ]
    }
   ],
   "source": [
    "fix = fixed_points_rec(stg)\n",
    "print(f\"Found {fix.vertices()} vertices across {fix.colors()} colors (complete relation: {fix}).\")\n",
    "assert fix == FixedPoints.symbolic(stg, stg.mk_unit_colored_vertices()) # Check that the result is correct."
   ]
  },
  {
   "cell_type": "code",
   "execution_count": 16,
   "id": "f402f6ed-109c-433e-868f-2c613ba393ec",
   "metadata": {},
   "outputs": [
    {
     "name": "stdout",
     "output_type": "stream",
     "text": [
      "BooleanNetwork(variables=5, regulations=15, explicit_parameters=0, implicit_parameters=2)\n"
     ]
    }
   ],
   "source": [
    "# An example with two implicit uninterpreted functions.\n",
    "bn2 = BooleanNetwork.from_file('./data/g2a_p1026.aeon')\n",
    "print(bn2)\n",
    "stg2 = AsynchronousGraph(bn2)"
   ]
  },
  {
   "cell_type": "code",
   "execution_count": 17,
   "id": "178e62dd-a3bb-4b75-953d-2cc670d0912f",
   "metadata": {},
   "outputs": [
    {
     "name": "stdout",
     "output_type": "stream",
     "text": [
      "Reduced network to 4 variables.\n",
      "Reduced network to 3 variables.\n",
      "Search for fixed points in the irreducible network.\n",
      "Found ColoredVertexSet(cardinality=438, symbolic_size=275) in the irreducible network.\n",
      "Lifted v_3, new candidates: ColoredVertexSet(cardinality=438, symbolic_size=314)\n",
      "Lifted v_3, new candidates: ColoredVertexSet(cardinality=438, symbolic_size=316)\n",
      "Found VertexSet(cardinality=3, symbolic_size=11) vertices across ColorSet(cardinality=417, symbolic_size=268) colors (complete relation: ColoredVertexSet(cardinality=438, symbolic_size=316)).\n"
     ]
    }
   ],
   "source": [
    "fix2 = fixed_points_rec(stg2)\n",
    "print(f\"Found {fix2.vertices()} vertices across {fix2.colors()} colors (complete relation: {fix2}).\")\n",
    "assert fix2 == FixedPoints.symbolic(stg2, stg2.mk_unit_colored_vertices()) # Check that the result is correct."
   ]
  },
  {
   "cell_type": "code",
   "execution_count": 18,
   "id": "70369e0b-1833-4d8f-8a64-9049970847c8",
   "metadata": {},
   "outputs": [
    {
     "name": "stdout",
     "output_type": "stream",
     "text": [
      "BooleanNetwork(variables=53, regulations=117, explicit_parameters=13, implicit_parameters=0)\n"
     ]
    }
   ],
   "source": [
    "# A larger network with 13 input parameters where a lot of the variables can be actually reduced.\n",
    "bn3 = BooleanNetwork.from_file('./data/butanol-pathway.sbml')\n",
    "bn3 = bn3.inline_inputs(infer_inputs=True, repair_graph=True)\n",
    "print(bn3)\n",
    "stg3 = AsynchronousGraph(bn3)"
   ]
  },
  {
   "cell_type": "code",
   "execution_count": 19,
   "id": "c6710252-fc3f-4452-8e89-08dfae0ef49e",
   "metadata": {},
   "outputs": [
    {
     "name": "stdout",
     "output_type": "stream",
     "text": [
      "Reduced network to 52 variables.\n",
      "Reduced network to 51 variables.\n",
      "Reduced network to 50 variables.\n",
      "Reduced network to 49 variables.\n",
      "Reduced network to 48 variables.\n",
      "Reduced network to 47 variables.\n",
      "Reduced network to 46 variables.\n",
      "Reduced network to 45 variables.\n",
      "Reduced network to 44 variables.\n",
      "Reduced network to 43 variables.\n",
      "Reduced network to 42 variables.\n",
      "Reduced network to 41 variables.\n",
      "Reduced network to 40 variables.\n",
      "Reduced network to 39 variables.\n",
      "Reduced network to 38 variables.\n",
      "Reduced network to 37 variables.\n",
      "Reduced network to 36 variables.\n",
      "Reduced network to 35 variables.\n",
      "Reduced network to 34 variables.\n",
      "Reduced network to 33 variables.\n",
      "Reduced network to 32 variables.\n",
      "Reduced network to 31 variables.\n",
      "Reduced network to 30 variables.\n",
      "Reduced network to 29 variables.\n",
      "Reduced network to 28 variables.\n",
      "Reduced network to 27 variables.\n",
      "Reduced network to 26 variables.\n",
      "Reduced network to 25 variables.\n",
      "Reduced network to 24 variables.\n",
      "Reduced network to 23 variables.\n",
      "Reduced network to 22 variables.\n",
      "Reduced network to 21 variables.\n",
      "Reduced network to 20 variables.\n",
      "Reduced network to 19 variables.\n",
      "Reduced network to 18 variables.\n",
      "Reduced network to 17 variables.\n",
      "Reduced network to 16 variables.\n",
      "Reduced network to 15 variables.\n",
      "Reduced network to 14 variables.\n",
      "Reduced network to 13 variables.\n",
      "Reduced network to 12 variables.\n",
      "Reduced network to 11 variables.\n",
      "Reduced network to 10 variables.\n",
      "Reduced network to 9 variables.\n",
      "Reduced network to 8 variables.\n",
      "Reduced network to 7 variables.\n",
      "Reduced network to 6 variables.\n",
      "Reduced network to 5 variables.\n",
      "Reduced network to 4 variables.\n",
      "Reduced network to 3 variables.\n",
      "Search for fixed points in the irreducible network.\n",
      "Found ColoredVertexSet(cardinality=2048, symbolic_size=7) in the irreducible network.\n",
      "Lifted v_2, new candidates: ColoredVertexSet(cardinality=2048, symbolic_size=16)\n",
      "Lifted v_2, new candidates: ColoredVertexSet(cardinality=2048, symbolic_size=28)\n",
      "Lifted v_0, new candidates: ColoredVertexSet(cardinality=2048, symbolic_size=34)\n",
      "Lifted v_4, new candidates: ColoredVertexSet(cardinality=2048, symbolic_size=38)\n",
      "Lifted v_1, new candidates: ColoredVertexSet(cardinality=2048, symbolic_size=41)\n",
      "Lifted v_3, new candidates: ColoredVertexSet(cardinality=2048, symbolic_size=44)\n",
      "Lifted v_9, new candidates: ColoredVertexSet(cardinality=2048, symbolic_size=45)\n",
      "Lifted v_9, new candidates: ColoredVertexSet(cardinality=2048, symbolic_size=46)\n",
      "Lifted v_9, new candidates: ColoredVertexSet(cardinality=2048, symbolic_size=51)\n",
      "Lifted v_8, new candidates: ColoredVertexSet(cardinality=2048, symbolic_size=52)\n",
      "Lifted v_7, new candidates: ColoredVertexSet(cardinality=2048, symbolic_size=55)\n",
      "Lifted v_7, new candidates: ColoredVertexSet(cardinality=2048, symbolic_size=58)\n",
      "Lifted v_3, new candidates: ColoredVertexSet(cardinality=2048, symbolic_size=61)\n",
      "Lifted v_1, new candidates: ColoredVertexSet(cardinality=2048, symbolic_size=64)\n",
      "Lifted v_0, new candidates: ColoredVertexSet(cardinality=2048, symbolic_size=65)\n",
      "Lifted v_1, new candidates: ColoredVertexSet(cardinality=2048, symbolic_size=66)\n",
      "Lifted v_1, new candidates: ColoredVertexSet(cardinality=2048, symbolic_size=69)\n",
      "Lifted v_1, new candidates: ColoredVertexSet(cardinality=2048, symbolic_size=70)\n",
      "Lifted v_0, new candidates: ColoredVertexSet(cardinality=2048, symbolic_size=74)\n",
      "Lifted v_21, new candidates: ColoredVertexSet(cardinality=2048, symbolic_size=75)\n",
      "Lifted v_21, new candidates: ColoredVertexSet(cardinality=2048, symbolic_size=76)\n",
      "Lifted v_18, new candidates: ColoredVertexSet(cardinality=2048, symbolic_size=78)\n",
      "Lifted v_17, new candidates: ColoredVertexSet(cardinality=2048, symbolic_size=79)\n",
      "Lifted v_16, new candidates: ColoredVertexSet(cardinality=2048, symbolic_size=82)\n",
      "Lifted v_16, new candidates: ColoredVertexSet(cardinality=2048, symbolic_size=85)\n",
      "Lifted v_15, new candidates: ColoredVertexSet(cardinality=2048, symbolic_size=94)\n",
      "Lifted v_15, new candidates: ColoredVertexSet(cardinality=2048, symbolic_size=99)\n",
      "Lifted v_13, new candidates: ColoredVertexSet(cardinality=2048, symbolic_size=103)\n",
      "Lifted v_6, new candidates: ColoredVertexSet(cardinality=2048, symbolic_size=106)\n",
      "Lifted v_6, new candidates: ColoredVertexSet(cardinality=2048, symbolic_size=109)\n",
      "Lifted v_6, new candidates: ColoredVertexSet(cardinality=2048, symbolic_size=112)\n",
      "Lifted v_6, new candidates: ColoredVertexSet(cardinality=2048, symbolic_size=115)\n",
      "Lifted v_3, new candidates: ColoredVertexSet(cardinality=2048, symbolic_size=117)\n",
      "Lifted v_1, new candidates: ColoredVertexSet(cardinality=2048, symbolic_size=119)\n",
      "Lifted v_37, new candidates: ColoredVertexSet(cardinality=2048, symbolic_size=120)\n",
      "Lifted v_30, new candidates: ColoredVertexSet(cardinality=2048, symbolic_size=122)\n",
      "Lifted v_30, new candidates: ColoredVertexSet(cardinality=2048, symbolic_size=124)\n",
      "Lifted v_30, new candidates: ColoredVertexSet(cardinality=2048, symbolic_size=126)\n",
      "Lifted v_27, new candidates: ColoredVertexSet(cardinality=2048, symbolic_size=130)\n",
      "Lifted v_21, new candidates: ColoredVertexSet(cardinality=2048, symbolic_size=136)\n",
      "Lifted v_20, new candidates: ColoredVertexSet(cardinality=2048, symbolic_size=140)\n",
      "Lifted v_20, new candidates: ColoredVertexSet(cardinality=2048, symbolic_size=144)\n",
      "Lifted v_17, new candidates: ColoredVertexSet(cardinality=2048, symbolic_size=147)\n",
      "Lifted v_11, new candidates: ColoredVertexSet(cardinality=2048, symbolic_size=150)\n",
      "Lifted v_9, new candidates: ColoredVertexSet(cardinality=2048, symbolic_size=153)\n",
      "Lifted v_9, new candidates: ColoredVertexSet(cardinality=2048, symbolic_size=156)\n",
      "Lifted v_9, new candidates: ColoredVertexSet(cardinality=2048, symbolic_size=159)\n",
      "Lifted v_8, new candidates: ColoredVertexSet(cardinality=2048, symbolic_size=162)\n",
      "Lifted v_1, new candidates: ColoredVertexSet(cardinality=2048, symbolic_size=168)\n",
      "Lifted v_1, new candidates: ColoredVertexSet(cardinality=2048, symbolic_size=170)\n",
      "Found VertexSet(cardinality=32, symbolic_size=102) vertices across ColorSet(cardinality=2048, symbolic_size=4) colors (complete relation: ColoredVertexSet(cardinality=2048, symbolic_size=170)).\n"
     ]
    }
   ],
   "source": [
    "fix3 = fixed_points_rec(stg3)\n",
    "print(f\"Found {fix3.vertices()} vertices across {fix3.colors()} colors (complete relation: {fix3}).\")\n",
    "assert fix3 == FixedPoints.symbolic(stg3, stg3.mk_unit_colored_vertices())  # Check that the result is correct."
   ]
  },
  {
   "cell_type": "code",
   "execution_count": 20,
   "id": "1c465af4-d307-4fb8-8b6b-8917ece6cec9",
   "metadata": {},
   "outputs": [
    {
     "name": "stdout",
     "output_type": "stream",
     "text": [
      "Reduced network to 52 variables.\n",
      "Reduced network to 51 variables.\n",
      "Reduced network to 50 variables.\n",
      "Reduced network to 49 variables.\n",
      "Reduced network to 48 variables.\n",
      "Reduced network to 47 variables.\n",
      "Reduced network to 46 variables.\n",
      "Reduced network to 45 variables.\n",
      "Reduced network to 44 variables.\n",
      "Reduced network to 43 variables.\n",
      "Reduced network to 42 variables.\n",
      "Reduced network to 41 variables.\n",
      "Reduced network to 40 variables.\n",
      "Reduced network to 39 variables.\n",
      "Reduced network to 38 variables.\n",
      "Reduced network to 37 variables.\n",
      "Reduced network to 36 variables.\n",
      "Reduced network to 35 variables.\n",
      "Reduced network to 34 variables.\n",
      "Reduced network to 33 variables.\n",
      "Reduced network to 32 variables.\n",
      "Reduced network to 31 variables.\n",
      "Reduced network to 30 variables.\n",
      "Reduced network to 29 variables.\n",
      "Reduced network to 28 variables.\n",
      "Reduced network to 27 variables.\n",
      "Reduced network to 26 variables.\n",
      "Reduced network to 25 variables.\n",
      "Reduced network to 24 variables.\n",
      "Reduced network to 23 variables.\n",
      "Reduced network to 22 variables.\n",
      "Reduced network to 21 variables.\n",
      "Reduced network to 20 variables.\n",
      "Reduced network to 19 variables.\n",
      "Reduced network to 18 variables.\n",
      "Reduced network to 17 variables.\n",
      "Reduced network to 16 variables.\n",
      "Reduced network to 15 variables.\n",
      "Reduced network to 14 variables.\n",
      "Reduced network to 13 variables.\n",
      "Reduced network to 12 variables.\n",
      "Reduced network to 11 variables.\n",
      "Reduced network to 10 variables.\n",
      "Reduced network to 9 variables.\n",
      "Reduced network to 8 variables.\n",
      "Reduced network to 7 variables.\n",
      "Reduced network to 6 variables.\n",
      "Reduced network to 5 variables.\n",
      "Reduced network to 4 variables.\n",
      "Reduced network to 3 variables.\n",
      "Search for fixed points in the irreducible network.\n",
      "Found ColoredVertexSet(cardinality=2048, symbolic_size=7) in the irreducible network.\n",
      "Lifted v_2, new candidates: ColoredVertexSet(cardinality=2048, symbolic_size=16)\n",
      "Lifted v_2, new candidates: ColoredVertexSet(cardinality=2048, symbolic_size=28)\n",
      "Lifted v_0, new candidates: ColoredVertexSet(cardinality=2048, symbolic_size=34)\n",
      "Lifted v_4, new candidates: ColoredVertexSet(cardinality=2048, symbolic_size=38)\n",
      "Lifted v_1, new candidates: ColoredVertexSet(cardinality=2048, symbolic_size=41)\n",
      "Lifted v_3, new candidates: ColoredVertexSet(cardinality=2048, symbolic_size=44)\n",
      "Lifted v_9, new candidates: ColoredVertexSet(cardinality=2048, symbolic_size=45)\n",
      "Lifted v_9, new candidates: ColoredVertexSet(cardinality=2048, symbolic_size=46)\n",
      "Lifted v_9, new candidates: ColoredVertexSet(cardinality=2048, symbolic_size=51)\n",
      "Lifted v_8, new candidates: ColoredVertexSet(cardinality=2048, symbolic_size=52)\n",
      "Lifted v_7, new candidates: ColoredVertexSet(cardinality=2048, symbolic_size=55)\n",
      "Lifted v_7, new candidates: ColoredVertexSet(cardinality=2048, symbolic_size=58)\n",
      "Lifted v_3, new candidates: ColoredVertexSet(cardinality=2048, symbolic_size=61)\n",
      "Lifted v_1, new candidates: ColoredVertexSet(cardinality=2048, symbolic_size=64)\n",
      "Lifted v_0, new candidates: ColoredVertexSet(cardinality=2048, symbolic_size=65)\n",
      "Lifted v_1, new candidates: ColoredVertexSet(cardinality=2048, symbolic_size=66)\n",
      "Lifted v_1, new candidates: ColoredVertexSet(cardinality=2048, symbolic_size=69)\n",
      "Lifted v_1, new candidates: ColoredVertexSet(cardinality=2048, symbolic_size=70)\n",
      "Lifted v_0, new candidates: ColoredVertexSet(cardinality=2048, symbolic_size=74)\n",
      "Lifted v_21, new candidates: ColoredVertexSet(cardinality=2048, symbolic_size=75)\n",
      "Lifted v_21, new candidates: ColoredVertexSet(cardinality=2048, symbolic_size=76)\n",
      "Lifted v_18, new candidates: ColoredVertexSet(cardinality=2048, symbolic_size=78)\n",
      "Lifted v_17, new candidates: ColoredVertexSet(cardinality=2048, symbolic_size=79)\n",
      "Lifted v_16, new candidates: ColoredVertexSet(cardinality=2048, symbolic_size=82)\n",
      "Lifted v_16, new candidates: ColoredVertexSet(cardinality=2048, symbolic_size=85)\n",
      "Lifted v_15, new candidates: ColoredVertexSet(cardinality=2048, symbolic_size=94)\n",
      "Lifted v_15, new candidates: ColoredVertexSet(cardinality=2048, symbolic_size=99)\n",
      "Lifted v_13, new candidates: ColoredVertexSet(cardinality=2048, symbolic_size=103)\n",
      "Lifted v_6, new candidates: ColoredVertexSet(cardinality=2048, symbolic_size=106)\n",
      "Lifted v_6, new candidates: ColoredVertexSet(cardinality=2048, symbolic_size=109)\n",
      "Lifted v_6, new candidates: ColoredVertexSet(cardinality=2048, symbolic_size=112)\n",
      "Lifted v_6, new candidates: ColoredVertexSet(cardinality=2048, symbolic_size=115)\n",
      "Lifted v_3, new candidates: ColoredVertexSet(cardinality=2048, symbolic_size=117)\n",
      "Lifted v_1, new candidates: ColoredVertexSet(cardinality=2048, symbolic_size=119)\n",
      "Lifted v_37, new candidates: ColoredVertexSet(cardinality=2048, symbolic_size=120)\n",
      "Lifted v_30, new candidates: ColoredVertexSet(cardinality=2048, symbolic_size=122)\n",
      "Lifted v_30, new candidates: ColoredVertexSet(cardinality=2048, symbolic_size=124)\n",
      "Lifted v_30, new candidates: ColoredVertexSet(cardinality=2048, symbolic_size=126)\n",
      "Lifted v_27, new candidates: ColoredVertexSet(cardinality=2048, symbolic_size=130)\n",
      "Lifted v_21, new candidates: ColoredVertexSet(cardinality=2048, symbolic_size=136)\n",
      "Lifted v_20, new candidates: ColoredVertexSet(cardinality=2048, symbolic_size=140)\n",
      "Lifted v_20, new candidates: ColoredVertexSet(cardinality=2048, symbolic_size=144)\n",
      "Lifted v_17, new candidates: ColoredVertexSet(cardinality=2048, symbolic_size=147)\n",
      "Lifted v_11, new candidates: ColoredVertexSet(cardinality=2048, symbolic_size=150)\n",
      "Lifted v_9, new candidates: ColoredVertexSet(cardinality=2048, symbolic_size=153)\n",
      "Lifted v_9, new candidates: ColoredVertexSet(cardinality=2048, symbolic_size=156)\n",
      "Lifted v_9, new candidates: ColoredVertexSet(cardinality=2048, symbolic_size=159)\n",
      "Lifted v_8, new candidates: ColoredVertexSet(cardinality=2048, symbolic_size=162)\n",
      "Lifted v_1, new candidates: ColoredVertexSet(cardinality=2048, symbolic_size=168)\n",
      "Lifted v_1, new candidates: ColoredVertexSet(cardinality=2048, symbolic_size=170)\n"
     ]
    }
   ],
   "source": [
    "import time\n",
    "\n",
    "start = time.perf_counter_ns()\n",
    "fix_basic = FixedPoints.symbolic(stg3, stg3.mk_unit_colored_vertices())\n",
    "elapsed_basic = time.perf_counter_ns() - start\n",
    "\n",
    "start = time.perf_counter_ns()\n",
    "fix_reduced = fixed_points_rec(stg3)\n",
    "elapsed_reduced = time.perf_counter_ns() - start"
   ]
  },
  {
   "cell_type": "code",
   "execution_count": 21,
   "id": "9615e65d-0f99-461a-a8a8-1c6df6cdaa44",
   "metadata": {},
   "outputs": [
    {
     "name": "stdout",
     "output_type": "stream",
     "text": [
      "5374875 7401959 ; speedup 0.7261422280236894\n"
     ]
    }
   ],
   "source": [
    "print(elapsed_basic, elapsed_reduced, \"; speedup\", elapsed_basic / elapsed_reduced)"
   ]
  },
  {
   "cell_type": "markdown",
   "id": "c6c40932-a628-487c-84a1-58a664d34b43",
   "metadata": {},
   "source": [
    "Note that in this simple case, the difference in runtime is measurable, but not substantial, since both methods effectively require milliseconds to complete.\n",
    "\n",
    "However, on larger or more complex networks, the reduction method can be much faster than the standard one (do take these numbers with a grain of salt though; a proper benchmark should at the very least average multiple runs or consider more than a handful of models):"
   ]
  },
  {
   "cell_type": "code",
   "execution_count": 22,
   "id": "2ce1dacc-65df-4206-93c5-89a774d18380",
   "metadata": {},
   "outputs": [
    {
     "name": "stdout",
     "output_type": "stream",
     "text": [
      "BooleanNetwork(variables=100, regulations=200, explicit_parameters=0, implicit_parameters=0)\n"
     ]
    }
   ],
   "source": [
    "bn4 = BooleanNetwork.from_file('./data/random.bnet')\n",
    "print(bn4)\n",
    "stg4 = AsynchronousGraph(bn4)"
   ]
  },
  {
   "cell_type": "code",
   "execution_count": 23,
   "id": "8b54621f-1168-4bca-9872-31da8e3d6196",
   "metadata": {},
   "outputs": [
    {
     "name": "stdout",
     "output_type": "stream",
     "text": [
      "Reduced network to 99 variables.\n",
      "Reduced network to 98 variables.\n",
      "Reduced network to 97 variables.\n",
      "Reduced network to 96 variables.\n",
      "Reduced network to 95 variables.\n",
      "Reduced network to 94 variables.\n",
      "Reduced network to 93 variables.\n",
      "Reduced network to 92 variables.\n",
      "Reduced network to 91 variables.\n",
      "Reduced network to 90 variables.\n",
      "Reduced network to 89 variables.\n",
      "Reduced network to 88 variables.\n",
      "Reduced network to 87 variables.\n",
      "Reduced network to 86 variables.\n",
      "Reduced network to 85 variables.\n",
      "Reduced network to 84 variables.\n",
      "Reduced network to 83 variables.\n",
      "Reduced network to 82 variables.\n",
      "Reduced network to 81 variables.\n",
      "Reduced network to 80 variables.\n",
      "Reduced network to 79 variables.\n",
      "Reduced network to 78 variables.\n",
      "Reduced network to 77 variables.\n",
      "Reduced network to 76 variables.\n",
      "Reduced network to 75 variables.\n",
      "Reduced network to 74 variables.\n",
      "Reduced network to 73 variables.\n",
      "Reduced network to 72 variables.\n",
      "Reduced network to 71 variables.\n",
      "Reduced network to 70 variables.\n",
      "Reduced network to 69 variables.\n",
      "Reduced network to 68 variables.\n",
      "Reduced network to 67 variables.\n",
      "Reduced network to 66 variables.\n",
      "Reduced network to 65 variables.\n",
      "Reduced network to 64 variables.\n",
      "Reduced network to 63 variables.\n",
      "Reduced network to 62 variables.\n",
      "Reduced network to 61 variables.\n",
      "Reduced network to 60 variables.\n",
      "Reduced network to 59 variables.\n",
      "Reduced network to 58 variables.\n",
      "Reduced network to 57 variables.\n",
      "Reduced network to 56 variables.\n",
      "Reduced network to 55 variables.\n",
      "Reduced network to 54 variables.\n",
      "Reduced network to 53 variables.\n",
      "Reduced network to 52 variables.\n",
      "Reduced network to 51 variables.\n",
      "Reduced network to 50 variables.\n",
      "Reduced network to 49 variables.\n",
      "Reduced network to 48 variables.\n",
      "Reduced network to 47 variables.\n",
      "Reduced network to 46 variables.\n",
      "Reduced network to 45 variables.\n",
      "Reduced network to 44 variables.\n",
      "Reduced network to 43 variables.\n",
      "Reduced network to 42 variables.\n",
      "Reduced network to 41 variables.\n",
      "Reduced network to 40 variables.\n",
      "Reduced network to 39 variables.\n",
      "Reduced network to 38 variables.\n",
      "Reduced network to 37 variables.\n",
      "Reduced network to 36 variables.\n",
      "Reduced network to 35 variables.\n",
      "Reduced network to 34 variables.\n",
      "Reduced network to 33 variables.\n",
      "Reduced network to 32 variables.\n",
      "Reduced network to 31 variables.\n",
      "Reduced network to 30 variables.\n",
      "Reduced network to 29 variables.\n",
      "Reduced network to 28 variables.\n",
      "Reduced network to 27 variables.\n",
      "Reduced network to 26 variables.\n",
      "Reduced network to 25 variables.\n",
      "Reduced network to 24 variables.\n",
      "Reduced network to 23 variables.\n",
      "Reduced network to 22 variables.\n",
      "Reduced network to 21 variables.\n",
      "Reduced network to 20 variables.\n",
      "Reduced network to 19 variables.\n",
      "Reduced network to 18 variables.\n",
      "Reduced network to 17 variables.\n",
      "Reduced network to 16 variables.\n",
      "Reduced network to 15 variables.\n",
      "Reduced network to 14 variables.\n",
      "Reduced network to 13 variables.\n",
      "Reduced network to 12 variables.\n",
      "Search for fixed points in the irreducible network.\n",
      "Found ColoredVertexSet(cardinality=2, symbolic_size=24) in the irreducible network.\n",
      "Lifted v_10, new candidates: ColoredVertexSet(cardinality=2, symbolic_size=26)\n",
      "Lifted v_1, new candidates: ColoredVertexSet(cardinality=2, symbolic_size=28)\n",
      "Lifted v_0, new candidates: ColoredVertexSet(cardinality=2, symbolic_size=29)\n",
      "Lifted v_13, new candidates: ColoredVertexSet(cardinality=2, symbolic_size=31)\n",
      "Lifted v_6, new candidates: ColoredVertexSet(cardinality=2, symbolic_size=33)\n",
      "Lifted v_11, new candidates: ColoredVertexSet(cardinality=2, symbolic_size=35)\n",
      "Lifted v_18, new candidates: ColoredVertexSet(cardinality=2, symbolic_size=36)\n",
      "Lifted v_17, new candidates: ColoredVertexSet(cardinality=2, symbolic_size=38)\n",
      "Lifted v_2, new candidates: ColoredVertexSet(cardinality=2, symbolic_size=39)\n",
      "Lifted v_8, new candidates: ColoredVertexSet(cardinality=2, symbolic_size=41)\n",
      "Lifted v_19, new candidates: ColoredVertexSet(cardinality=2, symbolic_size=43)\n",
      "Lifted v_4, new candidates: ColoredVertexSet(cardinality=2, symbolic_size=45)\n",
      "Lifted v_16, new candidates: ColoredVertexSet(cardinality=2, symbolic_size=47)\n",
      "Lifted v_3, new candidates: ColoredVertexSet(cardinality=2, symbolic_size=48)\n",
      "Lifted v_14, new candidates: ColoredVertexSet(cardinality=2, symbolic_size=50)\n",
      "Lifted v_8, new candidates: ColoredVertexSet(cardinality=2, symbolic_size=52)\n",
      "Lifted v_6, new candidates: ColoredVertexSet(cardinality=2, symbolic_size=54)\n",
      "Lifted v_17, new candidates: ColoredVertexSet(cardinality=2, symbolic_size=56)\n",
      "Lifted v_6, new candidates: ColoredVertexSet(cardinality=2, symbolic_size=58)\n",
      "Lifted v_5, new candidates: ColoredVertexSet(cardinality=2, symbolic_size=60)\n",
      "Lifted v_16, new candidates: ColoredVertexSet(cardinality=2, symbolic_size=62)\n",
      "Lifted v_11, new candidates: ColoredVertexSet(cardinality=2, symbolic_size=64)\n",
      "Lifted v_3, new candidates: ColoredVertexSet(cardinality=2, symbolic_size=65)\n",
      "Lifted v_8, new candidates: ColoredVertexSet(cardinality=2, symbolic_size=67)\n",
      "Lifted v_33, new candidates: ColoredVertexSet(cardinality=2, symbolic_size=69)\n",
      "Lifted v_8, new candidates: ColoredVertexSet(cardinality=2, symbolic_size=71)\n",
      "Lifted v_7, new candidates: ColoredVertexSet(cardinality=2, symbolic_size=73)\n",
      "Lifted v_6, new candidates: ColoredVertexSet(cardinality=2, symbolic_size=75)\n",
      "Lifted v_5, new candidates: ColoredVertexSet(cardinality=2, symbolic_size=77)\n",
      "Lifted v_40, new candidates: ColoredVertexSet(cardinality=2, symbolic_size=79)\n",
      "Lifted v_38, new candidates: ColoredVertexSet(cardinality=2, symbolic_size=81)\n",
      "Lifted v_30, new candidates: ColoredVertexSet(cardinality=2, symbolic_size=83)\n",
      "Lifted v_29, new candidates: ColoredVertexSet(cardinality=2, symbolic_size=85)\n",
      "Lifted v_25, new candidates: ColoredVertexSet(cardinality=2, symbolic_size=87)\n",
      "Lifted v_30, new candidates: ColoredVertexSet(cardinality=2, symbolic_size=89)\n",
      "Lifted v_27, new candidates: ColoredVertexSet(cardinality=2, symbolic_size=91)\n",
      "Lifted v_15, new candidates: ColoredVertexSet(cardinality=2, symbolic_size=93)\n",
      "Lifted v_13, new candidates: ColoredVertexSet(cardinality=2, symbolic_size=95)\n",
      "Lifted v_13, new candidates: ColoredVertexSet(cardinality=2, symbolic_size=97)\n",
      "Lifted v_4, new candidates: ColoredVertexSet(cardinality=2, symbolic_size=98)\n",
      "Lifted v_3, new candidates: ColoredVertexSet(cardinality=2, symbolic_size=99)\n",
      "Lifted v_3, new candidates: ColoredVertexSet(cardinality=2, symbolic_size=100)\n",
      "Lifted v_1, new candidates: ColoredVertexSet(cardinality=2, symbolic_size=109)\n",
      "Lifted v_1, new candidates: ColoredVertexSet(cardinality=2, symbolic_size=110)\n",
      "Lifted v_56, new candidates: ColoredVertexSet(cardinality=2, symbolic_size=111)\n",
      "Lifted v_56, new candidates: ColoredVertexSet(cardinality=2, symbolic_size=112)\n",
      "Lifted v_52, new candidates: ColoredVertexSet(cardinality=2, symbolic_size=114)\n",
      "Lifted v_51, new candidates: ColoredVertexSet(cardinality=2, symbolic_size=116)\n",
      "Lifted v_51, new candidates: ColoredVertexSet(cardinality=2, symbolic_size=118)\n",
      "Lifted v_49, new candidates: ColoredVertexSet(cardinality=2, symbolic_size=120)\n",
      "Lifted v_44, new candidates: ColoredVertexSet(cardinality=2, symbolic_size=122)\n",
      "Lifted v_43, new candidates: ColoredVertexSet(cardinality=2, symbolic_size=124)\n",
      "Lifted v_43, new candidates: ColoredVertexSet(cardinality=2, symbolic_size=126)\n",
      "Lifted v_40, new candidates: ColoredVertexSet(cardinality=2, symbolic_size=128)\n",
      "Lifted v_39, new candidates: ColoredVertexSet(cardinality=2, symbolic_size=130)\n",
      "Lifted v_34, new candidates: ColoredVertexSet(cardinality=2, symbolic_size=132)\n",
      "Lifted v_32, new candidates: ColoredVertexSet(cardinality=2, symbolic_size=134)\n",
      "Lifted v_32, new candidates: ColoredVertexSet(cardinality=2, symbolic_size=136)\n",
      "Lifted v_30, new candidates: ColoredVertexSet(cardinality=2, symbolic_size=138)\n",
      "Lifted v_28, new candidates: ColoredVertexSet(cardinality=2, symbolic_size=140)\n",
      "Lifted v_28, new candidates: ColoredVertexSet(cardinality=2, symbolic_size=142)\n",
      "Lifted v_28, new candidates: ColoredVertexSet(cardinality=2, symbolic_size=144)\n",
      "Lifted v_26, new candidates: ColoredVertexSet(cardinality=2, symbolic_size=146)\n",
      "Lifted v_26, new candidates: ColoredVertexSet(cardinality=2, symbolic_size=148)\n",
      "Lifted v_26, new candidates: ColoredVertexSet(cardinality=2, symbolic_size=150)\n",
      "Lifted v_24, new candidates: ColoredVertexSet(cardinality=2, symbolic_size=152)\n",
      "Lifted v_22, new candidates: ColoredVertexSet(cardinality=2, symbolic_size=154)\n",
      "Lifted v_21, new candidates: ColoredVertexSet(cardinality=2, symbolic_size=156)\n",
      "Lifted v_19, new candidates: ColoredVertexSet(cardinality=2, symbolic_size=158)\n",
      "Lifted v_16, new candidates: ColoredVertexSet(cardinality=2, symbolic_size=160)\n",
      "Lifted v_16, new candidates: ColoredVertexSet(cardinality=2, symbolic_size=162)\n",
      "Lifted v_13, new candidates: ColoredVertexSet(cardinality=2, symbolic_size=164)\n",
      "Lifted v_13, new candidates: ColoredVertexSet(cardinality=2, symbolic_size=166)\n",
      "Lifted v_13, new candidates: ColoredVertexSet(cardinality=2, symbolic_size=168)\n",
      "Lifted v_13, new candidates: ColoredVertexSet(cardinality=2, symbolic_size=170)\n",
      "Lifted v_13, new candidates: ColoredVertexSet(cardinality=2, symbolic_size=172)\n",
      "Lifted v_11, new candidates: ColoredVertexSet(cardinality=2, symbolic_size=174)\n",
      "Lifted v_11, new candidates: ColoredVertexSet(cardinality=2, symbolic_size=176)\n",
      "Lifted v_9, new candidates: ColoredVertexSet(cardinality=2, symbolic_size=178)\n",
      "Lifted v_9, new candidates: ColoredVertexSet(cardinality=2, symbolic_size=180)\n",
      "Lifted v_6, new candidates: ColoredVertexSet(cardinality=2, symbolic_size=182)\n",
      "Lifted v_6, new candidates: ColoredVertexSet(cardinality=2, symbolic_size=184)\n",
      "Lifted v_5, new candidates: ColoredVertexSet(cardinality=2, symbolic_size=186)\n",
      "Lifted v_2, new candidates: ColoredVertexSet(cardinality=2, symbolic_size=187)\n",
      "Lifted v_1, new candidates: ColoredVertexSet(cardinality=2, symbolic_size=188)\n",
      "Lifted v_1, new candidates: ColoredVertexSet(cardinality=2, symbolic_size=189)\n",
      "Lifted v_1, new candidates: ColoredVertexSet(cardinality=2, symbolic_size=190)\n",
      "Lifted v_0, new candidates: ColoredVertexSet(cardinality=2, symbolic_size=191)\n"
     ]
    }
   ],
   "source": [
    "start = time.perf_counter_ns()\n",
    "fix_basic = FixedPoints.symbolic(stg4, stg4.mk_unit_colored_vertices())\n",
    "elapsed_basic = time.perf_counter_ns() - start\n",
    "\n",
    "start = time.perf_counter_ns()\n",
    "fix_reduced = fixed_points_rec(stg4)\n",
    "elapsed_reduced = time.perf_counter_ns() - start"
   ]
  },
  {
   "cell_type": "code",
   "execution_count": 24,
   "id": "c2747c15-6258-4966-966e-e40876f0d013",
   "metadata": {},
   "outputs": [
    {
     "name": "stdout",
     "output_type": "stream",
     "text": [
      "ColoredVertexSet(cardinality=2, symbolic_size=191)\n",
      "222279708 27989916 speedup 7.9414210460653045\n"
     ]
    }
   ],
   "source": [
    "assert fix_basic == fix_reduced\n",
    "print(fix_basic)\n",
    "print(elapsed_basic, elapsed_reduced, \"speedup\", elapsed_basic / elapsed_reduced)"
   ]
  },
  {
   "cell_type": "code",
   "execution_count": null,
   "id": "49355db6-ceac-4db2-98b2-5e214f3e2cf2",
   "metadata": {},
   "outputs": [],
   "source": []
  }
 ],
 "metadata": {
  "kernelspec": {
   "display_name": "Python 3 (ipykernel)",
   "language": "python",
   "name": "python3"
  },
  "language_info": {
   "codemirror_mode": {
    "name": "ipython",
    "version": 3
   },
   "file_extension": ".py",
   "mimetype": "text/x-python",
   "name": "python",
   "nbconvert_exporter": "python",
   "pygments_lexer": "ipython3",
   "version": "3.12.1"
  }
 },
 "nbformat": 4,
 "nbformat_minor": 5
}
