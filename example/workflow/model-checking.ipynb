{
 "cells": [
  {
   "cell_type": "markdown",
   "id": "4e7cfa11",
   "metadata": {
    "pycharm": {
     "name": "#%% md\n"
    }
   },
   "source": [
    "# HCTL Model Checking\n",
    "\n",
    "This notebook illustrates the model-checking capabilities of AEON.py. It allows to model check HCTL properties over (partially defined) Boolean network models.\n",
    "\n",
    "This notebook assumes that you already have a basic understanding of AEON.py as presented in the remaining notebooks in this folder. However, you should be able to follow this tutorial even if you have not read the remaining notebooks, just keep in mind that you can find more information about the presented features there.\n",
    "\n"
   ]
  },
  {
   "cell_type": "code",
   "execution_count": 1,
   "id": "21fb1d36",
   "metadata": {
    "pycharm": {
     "is_executing": true,
     "name": "#%%\n"
    }
   },
   "outputs": [],
   "source": [
    "from biodivine_aeon import *\n",
    "from pathlib import Path"
   ]
  },
  {
   "cell_type": "markdown",
   "id": "57820b51",
   "metadata": {
    "pycharm": {
     "name": "#%% md\n"
    }
   },
   "source": [
    "We first show how to utilize the model checking over fully defined Boolean models.\n",
    "\n",
    "We start by loading a  Boolean network:"
   ]
  },
  {
   "cell_type": "code",
   "execution_count": 2,
   "id": "8037f342",
   "metadata": {
    "pycharm": {
     "name": "#%%\n"
    }
   },
   "outputs": [
    {
     "name": "stdout",
     "output_type": "stream",
     "text": [
      "BooleanNetwork(variables = 17, parameters = 0, regulations = 78)\n"
     ]
    }
   ],
   "source": [
    "bn = BooleanNetwork.from_file(\"mapk-reduced.aeon\")\n",
    "print(bn)"
   ]
  },
  {
   "cell_type": "markdown",
   "id": "ba5c6906",
   "metadata": {
    "pycharm": {
     "name": "#%% md\n"
    }
   },
   "source": [
    "At this point, all model inputs are represented as variables with constant update functions (this representation tends to have the best compatibility with other tools). This is however inefficient for both BDD representation and for the model-checking algorithm.\n",
    "\n",
    "Instead, constant input variables can be turned into logical parameters. For larger models, this can save a non-trivial amount of computation time, as the model-checking algorithm can usually deal with these parameters more easily than with the state variables.\n",
    "\n",
    "Keep in mind that AEON refers to the valuations of such parameters as colors: if the model is using any parameters, the result will be a relation over states and corresponding parameter valuations (colors)."
   ]
  },
  {
   "cell_type": "code",
   "execution_count": 3,
   "id": "7d2cf9c9",
   "metadata": {
    "pycharm": {
     "name": "#%%\n"
    }
   },
   "outputs": [
    {
     "name": "stdout",
     "output_type": "stream",
     "text": [
      "BooleanNetwork(variables = 13, parameters = 4, regulations = 60)\n"
     ]
    }
   ],
   "source": [
    "bn = bn.inline_inputs()\n",
    "print(bn)"
   ]
  },
  {
   "cell_type": "markdown",
   "id": "0b9d77f5",
   "metadata": {
    "pycharm": {
     "name": "#%% md\n"
    }
   },
   "source": [
    "We now have a partially specified BN with 13 variables that encode its states, and 4 parameters that encode colors (various concretizations of the network). During model checking, we can analyze which colors (concretizations) satisfy various properties."
   ]
  },
  {
   "cell_type": "markdown",
   "id": "d32e82a9",
   "metadata": {
    "pycharm": {
     "name": "#%% md\n"
    }
   },
   "source": [
    "#### Extended symbolic transition graph\n",
    "\n",
    "For the next step, we need to create the `SymbolicAsyncGraph` for the network. This structure actually encodes the network behaviour into a symbolic transition system. We can then use this graph to check for behavioural properties via model checking. \n",
    "\n",
    "To be able to perform the HCTL model checking, this structure must additionally also encode the HCTL variables that occur in our formulae. In our case, we will be checking for formulae with at most 3 HCTL variables."
   ]
  },
  {
   "cell_type": "code",
   "execution_count": 4,
   "id": "7a7e27b6",
   "metadata": {
    "pycharm": {
     "name": "#%%\n"
    }
   },
   "outputs": [],
   "source": [
    "stg = get_extended_stg(bn, 3)"
   ]
  },
  {
   "cell_type": "markdown",
   "id": "948d273a-16fa-4262-8800-3df6e037d2c0",
   "metadata": {},
   "source": [
    "Note that an \"extended\" symbolic graph is still an instance of `SymbolicAsyncGraph`, hence you can still use it for normal BN analysis. The only difference is that it also admits additional symbolic variables that can be used to represent free variables in HCTL (you can inspect these variables using the `SymbolicContext` object)."
   ]
  },
  {
   "cell_type": "code",
   "execution_count": 5,
   "id": "61a9c3ef-2175-4b7a-944b-6606738de625",
   "metadata": {},
   "outputs": [
    {
     "name": "stdout",
     "output_type": "stream",
     "text": [
      "0\n",
      "39\n"
     ]
    }
   ],
   "source": [
    "print(SymbolicAsyncGraph(bn).symbolic_context().num_extra_state_variables())\n",
    "print(stg.symbolic_context().num_extra_state_variables())"
   ]
  },
  {
   "cell_type": "markdown",
   "id": "7077d677",
   "metadata": {
    "pycharm": {
     "name": "#%% md\n"
    }
   },
   "source": [
    "#### Running HCTL model checker"
   ]
  },
  {
   "cell_type": "markdown",
   "id": "8b557fdb",
   "metadata": {
    "pycharm": {
     "name": "#%% md\n"
    }
   },
   "source": [
    "The HCTL model checker takes a transition graph and dynamic property encoded as an HCTL formula, and computes which state-color pairs (of the transition graph) satisfy the formula. HCTL enables to express a range of important properties regarding the long-term behaviour of the system.\n",
    "\n",
    "A simple example of a formula can be `EF (p53)`, where `p53` is a variable of the network. This formula states that \"there exists a path to reach a state with active `p53`\". The model-checking procedure will return all the state-color pairs for which this is true."
   ]
  },
  {
   "cell_type": "markdown",
   "id": "db8e4ecb",
   "metadata": {
    "pycharm": {
     "name": "#%% md\n"
    }
   },
   "source": [
    "To design more useful (and complex) HCTL formulae, we usually use the following \"hybrid\" operators (their usage is illustrated later in this notebook):\n",
    "- A `binder` (`!`) or `exists` (`3`) / `forall` (`V`) are quantifiers that \"mark\" a state, which can then be referenced later in the formula.\n",
    "- A `jump` (`@`) allows to jump to the marked state.\n",
    "\n",
    "For example, formula `!{x}: AX {x}` describes precisely fixed-point states (states with self-loops). It is true for all state-color pairs, such that the state has a self-loop for the given color. The formula can be understood as:\n",
    "- Bind a current state and name it `x`.\n",
    "- On all paths, the next state must be again `x`.\n",
    "\n",
    "Similarly, formula `3{x}: AX {x}` describes existence of fixed-point states. It is true for a color where there exist a fixed-point state."
   ]
  },
  {
   "cell_type": "markdown",
   "id": "cc928aaf",
   "metadata": {
    "pycharm": {
     "name": "#%% md\n"
    }
   },
   "source": [
    "For more information on the HCTL syntax or the model checker, refer to [this Github page](https://github.com/sybila/biodivine-hctl-model-checker)."
   ]
  },
  {
   "cell_type": "markdown",
   "id": "6b99f049",
   "metadata": {
    "pycharm": {
     "name": "#%% md\n"
    }
   },
   "source": [
    "#### Checking for general properties regarding attractors"
   ]
  },
  {
   "cell_type": "markdown",
   "id": "8065ae61",
   "metadata": {
    "pycharm": {
     "name": "#%% md\n"
    }
   },
   "source": [
    "We can use both the basic AEON functionality and HCTL model checking to check for attractors. However, the model checker allows us to check for more detailed properties. It also allows us to specify which attractors we are interested in."
   ]
  },
  {
   "cell_type": "markdown",
   "id": "e3b215f8",
   "metadata": {
    "pycharm": {
     "name": "#%% md\n"
    }
   },
   "source": [
    "Let's start with the computation of general attractors. We can compare the results of classical attractor computation and the model checker."
   ]
  },
  {
   "cell_type": "code",
   "execution_count": 6,
   "id": "d68d41a0",
   "metadata": {
    "pycharm": {
     "name": "#%%\n"
    }
   },
   "outputs": [
    {
     "name": "stdout",
     "output_type": "stream",
     "text": [
      "[ColoredVertexSet(cardinality = 3605, unique vertices = 1602, unique colors = 16), ColoredVertexSet(cardinality = 2, unique vertices = 2, unique colors = 2)]\n",
      "ColoredVertexSet(cardinality = 3607, unique vertices = 1602, unique colors = 16)\n"
     ]
    }
   ],
   "source": [
    "# classical computation\n",
    "attractors = find_attractors(stg)\n",
    "print(attractors)\n",
    "\n",
    "# formula for attractors\n",
    "attractors_mc = model_check(\"!{x}: AG EF {x}\", stg)\n",
    "print(attractors_mc)"
   ]
  },
  {
   "cell_type": "markdown",
   "id": "183e7680",
   "metadata": {
    "pycharm": {
     "name": "#%% md\n"
    }
   },
   "source": [
    "The difference is that the model checker always gives us one set of all coloured-states satisfying the formula, whereas the classical AEON computation returns a list of such sets. However, if we combine them, the results are the same."
   ]
  },
  {
   "cell_type": "markdown",
   "id": "a4361a22",
   "metadata": {
    "pycharm": {
     "name": "#%% md\n"
    }
   },
   "source": [
    "Let's now focus on some particular types of attractors. We can for instance compute only fixed points, or non-trivial cyclic attractors:"
   ]
  },
  {
   "cell_type": "code",
   "execution_count": 7,
   "id": "f7a5f21a",
   "metadata": {
    "pycharm": {
     "name": "#%%\n"
    }
   },
   "outputs": [
    {
     "name": "stdout",
     "output_type": "stream",
     "text": [
      "ColoredVertexSet(cardinality = 12, unique vertices = 4, unique colors = 10)\n"
     ]
    }
   ],
   "source": [
    "# formula for steady states\n",
    "fixed_point_attrs = model_check(\"!{x}: AX {x}\", stg)\n",
    "print(fixed_point_attrs)"
   ]
  },
  {
   "cell_type": "code",
   "execution_count": 8,
   "id": "ae1ed098",
   "metadata": {
    "pycharm": {
     "name": "#%%\n"
    }
   },
   "outputs": [
    {
     "name": "stdout",
     "output_type": "stream",
     "text": [
      "ColoredVertexSet(cardinality = 2, unique vertices = 2, unique colors = 1)\n"
     ]
    }
   ],
   "source": [
    "# formula for non-trivial cyclic attractors\n",
    "cyclic_attrs = model_check(\"AG (!{x}: (AX (~{x} & AF {x})))\", stg)\n",
    "print(cyclic_attrs)"
   ]
  },
  {
   "cell_type": "code",
   "execution_count": 9,
   "id": "43fe2c2c",
   "metadata": {
    "pycharm": {
     "name": "#%%\n"
    }
   },
   "outputs": [
    {
     "name": "stdout",
     "output_type": "stream",
     "text": [
      "ColoredVertexSet(cardinality = 4, unique vertices = 4, unique colors = 2)\n"
     ]
    }
   ],
   "source": [
    "# formula for steady states, in case there are at least two of them\n",
    "more_than_two_fixed_points = model_check(\"!{x}: 3{y}: ((@{x}: ~{y} & AX {x}) & (@{y}: AX {y}))\", stg)\n",
    "print(more_than_two_fixed_points)"
   ]
  },
  {
   "cell_type": "markdown",
   "id": "1fa99128",
   "metadata": {
    "pycharm": {
     "name": "#%% md\n"
    }
   },
   "source": [
    "We can now see that there are 12 fixed-points for 10 different colors. That means there are 6 colors without fixed points.\n",
    "\n",
    "There is also just one color that admits a cyclic attractor. This attractor comprises two states.\n",
    "\n",
    "And finally, there are two colors that admit more than one fixed point. In our case, both of them admit two fixed-points."
   ]
  },
  {
   "cell_type": "markdown",
   "id": "7103219e",
   "metadata": {
    "pycharm": {
     "name": "#%% md\n"
    }
   },
   "source": [
    "Let's imagine we are now interested only in fixed-point attractors with `p53` active."
   ]
  },
  {
   "cell_type": "code",
   "execution_count": 10,
   "id": "992de7b9",
   "metadata": {
    "pycharm": {
     "name": "#%%\n"
    }
   },
   "outputs": [
    {
     "name": "stdout",
     "output_type": "stream",
     "text": [
      "ColoredVertexSet(cardinality = 10, unique vertices = 2, unique colors = 9)\n",
      "ColoredVertexSet(cardinality = 2, unique vertices = 2, unique colors = 1)\n"
     ]
    }
   ],
   "source": [
    "fixed_point_p53 = model_check(\"!{x}: AX ({x} & v_p53)\", stg)\n",
    "print(fixed_point_p53)\n",
    "\n",
    "attractors_non_p53 = fixed_point_attrs.minus(fixed_point_p53)\n",
    "attractors_non_p53_v2 = model_check(\"!{x}: AX ({x} & ~v_p53)\", stg)\n",
    "print(attractors_non_p53)\n",
    "\n",
    "assert attractors_non_p53 == attractors_non_p53_v2"
   ]
  },
  {
   "cell_type": "markdown",
   "id": "a8a46b83",
   "metadata": {
    "pycharm": {
     "name": "#%% md\n"
    }
   },
   "source": [
    "We see that for 9 out of 10 colors (that admit fixed points), the p53 is stably activated. However, for the one remaining color, the p53 is deactivated in both fixed points."
   ]
  },
  {
   "cell_type": "markdown",
   "id": "57842e1a",
   "metadata": {
    "pycharm": {
     "name": "#%% md\n"
    }
   },
   "source": [
    "#### Generating and exploring syntactic tree of HCTL formulae"
   ]
  },
  {
   "cell_type": "markdown",
   "id": "fa95d8cc",
   "metadata": {
    "pycharm": {
     "name": "#%% md\n"
    }
   },
   "source": [
    "It is also possible to build and explore the syntactic trees for any HCTL formulae. The tree might be more suitable representation than a string."
   ]
  },
  {
   "cell_type": "code",
   "execution_count": 11,
   "id": "1dfae9bf",
   "metadata": {
    "pycharm": {
     "name": "#%%\n"
    }
   },
   "outputs": [
    {
     "name": "stdout",
     "output_type": "stream",
     "text": [
      "(Bind {x}: (Ag (Ef {x})))\n"
     ]
    }
   ],
   "source": [
    "tree = HctlTreeNode(\"!{x}: AG EF {x}\", bn)\n",
    "print(tree)"
   ]
  },
  {
   "cell_type": "markdown",
   "id": "568fd31e",
   "metadata": {
    "pycharm": {
     "name": "#%% md\n"
    }
   },
   "source": [
    "The parsing process also supports some renaming techniques or modifications in order to optimize model-checking computation. If you'd prefer to parse the tree exactly as the formula is written (and exclude these modifications), there is another method for that. However, note that trees that are created this way should not be directly passed to the model-checking procedure as they can contain unsupported combinations of operators and variables.\n",
    "\n",
    "We can also analyse the syntactic tree in different ways, such as compute the set of all HCTL variables in the formula."
   ]
  },
  {
   "cell_type": "code",
   "execution_count": 12,
   "id": "77315a13",
   "metadata": {
    "pycharm": {
     "name": "#%%\n"
    }
   },
   "outputs": [
    {
     "name": "stdout",
     "output_type": "stream",
     "text": [
      "(Bind {x}: (Exists {xx}: ((Jump {x}: ((~ {xx}) & (Ax {x}))) & (Jump {xx}: (Ax {xx})))))\n",
      "(Bind {x}: (Exists {y}: ((Jump {x}: ((~ {y}) & (Ax {x}))) & (Jump {y}: (Ax {y})))))\n"
     ]
    }
   ],
   "source": [
    "tree = HctlTreeNode(\"!{x}: 3{y}: ((@{x}: ~{y} & AX {x}) & (@{y}: AX {y}))\", bn)\n",
    "print(tree)\n",
    "\n",
    "tree_exact = HctlTreeNode.build_exact_from_formula(\"!{x}: 3{y}: ((@{x}: ~{y} & AX {x}) & (@{y}: AX {y}))\")\n",
    "print(tree_exact)"
   ]
  },
  {
   "cell_type": "code",
   "execution_count": 13,
   "id": "30fbac1f",
   "metadata": {
    "pycharm": {
     "name": "#%%\n"
    }
   },
   "outputs": [
    {
     "name": "stdout",
     "output_type": "stream",
     "text": [
      "{'xx', 'x'}\n",
      "{'x', 'y'}\n"
     ]
    }
   ],
   "source": [
    "print(tree.collect_unique_hctl_vars())\n",
    "print(tree_exact.collect_unique_hctl_vars())"
   ]
  },
  {
   "cell_type": "markdown",
   "id": "f8b4fed2",
   "metadata": {
    "pycharm": {
     "name": "#%% md\n"
    }
   },
   "source": [
    "Trees can also be traversed and analyzed node by node."
   ]
  },
  {
   "cell_type": "code",
   "execution_count": 14,
   "id": "01938a8b",
   "metadata": {
    "pycharm": {
     "name": "#%%\n"
    }
   },
   "outputs": [
    {
     "name": "stdout",
     "output_type": "stream",
     "text": [
      "(Bind {x}: (Ax ({x} & v_p53)))\n",
      "(Ax ({x} & v_p53))\n",
      "Ax\n"
     ]
    }
   ],
   "source": [
    "node = HctlTreeNode(\"!{x}: AX ({x} & v_p53)\", bn)\n",
    "print(node)\n",
    "\n",
    "child = node.get_children()[0]\n",
    "print(child)\n",
    "\n",
    "child_operator = child.get_operator()\n",
    "print(child_operator)"
   ]
  },
  {
   "cell_type": "markdown",
   "id": "dd8288d5",
   "metadata": {
    "pycharm": {
     "name": "#%% md\n"
    }
   },
   "source": [
    "Model checking can be run directly on the trees (the same method, but instead of supplying formula as a string, a tree is given)."
   ]
  },
  {
   "cell_type": "code",
   "execution_count": 15,
   "id": "9e455549",
   "metadata": {
    "pycharm": {
     "name": "#%%\n"
    }
   },
   "outputs": [],
   "source": [
    "tree = HctlTreeNode(\"!{x}: AG EF {x}\", bn)\n",
    "result_v1 = model_check(tree, stg)\n",
    "\n",
    "result_v2 = model_check(\"!{x}: AG EF {x}\", stg)\n",
    "assert result_v1 == result_v2"
   ]
  },
  {
   "cell_type": "markdown",
   "id": "c5da9222",
   "metadata": {
    "pycharm": {
     "name": "#%%\n"
    }
   },
   "source": [
    "#### Using wild-card propositions during model checking"
   ]
  },
  {
   "cell_type": "markdown",
   "id": "ce771615",
   "metadata": {
    "pycharm": {
     "name": "#%% md\n"
    }
   },
   "source": [
    "Sometimes we might want to pre-compute certain sets of states and later re-use them during further computation. This is possible, as we can construct `extended` formulae with special `wild-card propositions` that are evaluated as provided (colored) sets."
   ]
  },
  {
   "cell_type": "markdown",
   "id": "d913a163",
   "metadata": {
    "pycharm": {
     "name": "#%% md\n"
    }
   },
   "source": [
    "Let's first evaluate some arbitrary sub-formula. Note that in order to re-use the result of the model-checking procedure in subsequent computation, we must turn of the so-called `sanitization` step. This step (which is active by default) cleans the underlaying BDDs by removing some potentially redundant symbolic variables used during model checking (see above in the comparison between \"normal\" and \"extended\" STG). However, these variables are still needed in our case."
   ]
  },
  {
   "cell_type": "code",
   "execution_count": 16,
   "id": "a19418da",
   "metadata": {
    "pycharm": {
     "name": "#%%\n"
    }
   },
   "outputs": [],
   "source": [
    "intermediate_result = model_check(\"!{x}: AX ({x} & v_p53)\", stg, sanitize=False)"
   ]
  },
  {
   "cell_type": "markdown",
   "id": "1a1605a4",
   "metadata": {
    "pycharm": {
     "name": "#%% md\n"
    }
   },
   "source": [
    "Then, we'll define an extended formula with a special proposition that we will use to reference the previous result. These special propositions are given as `%proposition-name%`. To evaluate the extended formula, we use a special function, where we provide a context for each wild-card proposition."
   ]
  },
  {
   "cell_type": "code",
   "execution_count": 17,
   "id": "a44c2e62",
   "metadata": {
    "pycharm": {
     "name": "#%%\n"
    }
   },
   "outputs": [],
   "source": [
    "extended_formula = \"EF %p%\"\n",
    "context_mapping = {\"p\": intermediate_result}\n",
    "\n",
    "result = model_check_extended(extended_formula, stg, context_mapping)"
   ]
  },
  {
   "cell_type": "markdown",
   "id": "e8b0ef72",
   "metadata": {
    "pycharm": {
     "name": "#%% md\n"
    }
   },
   "source": [
    "We can check that the result is the same as if we computed everything in one step."
   ]
  },
  {
   "cell_type": "code",
   "execution_count": 18,
   "id": "2dd94e76",
   "metadata": {
    "pycharm": {
     "name": "#%%\n"
    }
   },
   "outputs": [],
   "source": [
    "result_one_step = model_check(\"EF (!{x}: AX ({x} & v_p53))\", stg)\n",
    "assert result == result_one_step"
   ]
  },
  {
   "cell_type": "code",
   "execution_count": null,
   "id": "09a98944",
   "metadata": {},
   "outputs": [],
   "source": []
  }
 ],
 "metadata": {
  "kernelspec": {
   "display_name": "Python 3 (ipykernel)",
   "language": "python",
   "name": "python3"
  },
  "language_info": {
   "codemirror_mode": {
    "name": "ipython",
    "version": 3
   },
   "file_extension": ".py",
   "mimetype": "text/x-python",
   "name": "python",
   "nbconvert_exporter": "python",
   "pygments_lexer": "ipython3",
   "version": "3.8.10"
  }
 },
 "nbformat": 4,
 "nbformat_minor": 5
}
