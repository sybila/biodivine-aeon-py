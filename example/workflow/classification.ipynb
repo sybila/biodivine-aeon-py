{
 "cells": [
  {
   "cell_type": "markdown",
   "id": "4e7cfa11",
   "metadata": {
    "pycharm": {
     "name": "#%% md\n"
    }
   },
   "source": [
    "# Property classification\n",
    "\n",
    "This notebook illustrates the capability of AEON.py to classify BN models with respect to dynamic properties. It also shows how to load and generate \"arbitrary\" classification archives.\n",
    "\n",
    "In particular, we first demonstrate in detail how to classify the behaviour of a BN model based on HCTL properties, and then we briefly show other methods that can create different \"classification archives\". Note that all such archives can be explored using the [BN Classifier](https://github.com/sybila/biodivine-bn-classifier) user iterface.\n",
    "\n",
    "This notebook assumes that you already have a basic understanding of AEON.py as presented in the remaining notebooks in this folder. However, you should be able to follow this tutorial even if you have not read the remaining notebooks, just keep in mind that you can find more information about the presented features there."
   ]
  },
  {
   "cell_type": "code",
   "execution_count": 1,
   "id": "21fb1d36",
   "metadata": {
    "pycharm": {
     "is_executing": true,
     "name": "#%%\n"
    }
   },
   "outputs": [],
   "source": [
    "from biodivine_aeon import *\n",
    "from pathlib import Path"
   ]
  },
  {
   "cell_type": "markdown",
   "id": "cc83b580",
   "metadata": {},
   "source": [
    "### HCTL classification\n",
    "\n",
    "#### Exploring input format for HCTL classification"
   ]
  },
  {
   "cell_type": "markdown",
   "id": "57820b51",
   "metadata": {
    "pycharm": {
     "name": "#%% md\n"
    }
   },
   "source": [
    "We first demonstrate how the input for the HCTL classification looks like.\n",
    "\n",
    "It is essentially a combination of:\n",
    "- A partially specified Boolean network in the AEON format.\n",
    "- Dynamic assertions (HCTL formulae) which restrict the set of valid model concretizations.\n",
    "- Dynamic properties (HCTL formulae) that are used to classify the valid models.\n",
    "\n",
    "The assertions/properties are given as model annotations. Let's explore how this is done."
   ]
  },
  {
   "cell_type": "code",
   "execution_count": 2,
   "id": "940900cd",
   "metadata": {},
   "outputs": [
    {
     "name": "stdout",
     "output_type": "stream",
     "text": [
      "# Note that some of the following properties have (slightly) simpler but equivalent formulas.\n",
      "# However, we use these formulas to demonstrate various features of HCTL.\n",
      "\n",
      "\n",
      "### Assertions\n",
      "\n",
      "# There exists a state that is (a) in an attractor, and (b) with at least one phenotype variable active.\n",
      "#! dynamic_assertion: #`3{x}: @{x}: ((!{y}: AG EF {y}) & (Apoptosis | Growth_Arrest | Proliferation))`#\n",
      "\n",
      "\n",
      "### Properties\n",
      "\n",
      "# The only attractors are fixed points with active `Apoptosis` (system always converges\n",
      "# to the programmed cell death).\n",
      "#! dynamic_property: p1: #`V{x}: @{x}: ((!{y}: AG EF {y}) => ((AX {x}) & Apoptosis))`#\n",
      "\n",
      "# `Growth_arrest` is active and stable in some attractor.\n",
      "#! dynamic_property: p2: #`3{x}: @{x}: ((!{y}: AG EF {y}) & Growth_Arrest & ~(EF ~Growth_Arrest))`#\n",
      "\n",
      "# `Proliferation` is active and stable in some attractor.\n",
      "#! dynamic_property: p3: #`3{x}: @{x}: ((!{y}: AG EF {y}) & Proliferation & ~(EF ~Proliferation))`#\n",
      "\n",
      "# `Proliferation` and `Apoptosis` are simultaneously active in some attractor state.\n",
      "#! dynamic_property: p4: #`3{x}: @{x}: ((!{y}: AG EF {y}) & Apoptosis & Proliferation)`#\n",
      "\n",
      "### Model\n",
      "\n",
      "TGFBR_stimulus -> Apoptosis\n",
      "DNA_damage -> Apoptosis\n",
      "ERK -| Apoptosis\n",
      "p38 -| Apoptosis\n",
      "p53 -> Apoptosis\n",
      "AKT -| Apoptosis\n",
      "RAS -> Apoptosis\n",
      "p21 -> Growth_Arrest\n",
      "ERK -> Proliferation\n",
      "p38 -> Proliferation\n",
      "p21 -| Proliferation\n",
      "AKT -> Proliferation\n",
      "PI3K -> Proliferation\n",
      "TGFBR_stimulus -| ERK\n",
      "DNA_damage -| ERK\n",
      "ERK -> ERK\n",
      "p38 -| ERK\n",
      "p53 -| ERK\n",
      "RAF -> ERK\n",
      "RAS -? ERK\n",
      "TGFBR_stimulus -> p38\n",
      "DNA_damage -> p38\n",
      "ERK -| p38\n",
      "p38 -| p38\n",
      "p53 -> p38\n",
      "RAS -> p38\n",
      "DNA_damage -> p53\n",
      "ERK -> p53\n",
      "p38 -> p53\n",
      "p53 -| p53\n",
      "AKT -? p53\n",
      "p53 -> p21\n",
      "AKT -| p21\n",
      "EGFR_stimulus -> EGFR\n",
      "ERK -> EGFR\n",
      "EGFR -| EGFR\n",
      "FGFR3 -| EGFR\n",
      "GRB2 -| EGFR\n",
      "FGFR3_stimulus -> FGFR3\n",
      "EGFR -| FGFR3\n",
      "FGFR3 -| FGFR3\n",
      "GRB2 -| FGFR3\n",
      "TGFBR_stimulus -> GRB2\n",
      "ERK -| GRB2\n",
      "EGFR -> GRB2\n",
      "FGFR3 -> GRB2\n",
      "GRB2 -| GRB2\n",
      "p53 -| AKT\n",
      "PI3K -> AKT\n",
      "ERK -| RAF\n",
      "EGFR -> RAF\n",
      "FGFR3 -> RAF\n",
      "AKT -| RAF\n",
      "RAS -> RAF\n",
      "GRB2 -> PI3K\n",
      "PI3K -> PI3K\n",
      "ERK -| RAS\n",
      "EGFR -> RAS\n",
      "FGFR3 -> RAS\n",
      "GRB2 -> RAS\n",
      "$AKT: (!p53 & PI3K)\n",
      "$Apoptosis: ((((((((!TGFBR_stimulus & !DNA_damage) & !ERK) & !p38) & p53) & !AKT) | ((((((!TGFBR_stimulus & !DNA_damage) & !ERK) & p38) & p53) & !AKT) & RAS)) | ((((!TGFBR_stimulus & DNA_damage) & !ERK) & p53) & !AKT)) | (((TGFBR_stimulus & !ERK) & p53) & !AKT))\n",
      "$EGFR: (((((!EGFR_stimulus & ERK) & !EGFR) & !FGFR3) & !GRB2) | (((EGFR_stimulus & !EGFR) & !FGFR3) & !GRB2))\n",
      "$ERK: ((((((((((!TGFBR_stimulus & !DNA_damage) & !ERK) & !p38) & !p53) & RAF) & !RAS) | ((((((!TGFBR_stimulus & !DNA_damage) & ERK) & !p38) & !p53) & !RAF) & RAS)) | (((((!TGFBR_stimulus & !DNA_damage) & ERK) & !p38) & !p53) & RAF)) | ((((((!TGFBR_stimulus & !DNA_damage) & ERK) & !p38) & p53) & RAF) & !RAS)) | ((((((!TGFBR_stimulus & DNA_damage) & ERK) & !p38) & !p53) & RAF) & !RAS))\n",
      "$FGFR3: (((FGFR3_stimulus & !EGFR) & !FGFR3) & !GRB2)\n",
      "$GRB2: (((((((!TGFBR_stimulus & !ERK) & !EGFR) & FGFR3) & !GRB2) | ((!TGFBR_stimulus & !ERK) & EGFR)) | ((!TGFBR_stimulus & ERK) & EGFR)) | TGFBR_stimulus)\n",
      "$Growth_Arrest: p21\n",
      "$PI3K: ((!GRB2 & PI3K) | GRB2)\n",
      "$Proliferation: (((((ERK & !p38) & !p21) & AKT) & PI3K) | (((ERK & p38) & !p21) & PI3K))\n",
      "$RAF: ((((((!ERK & !EGFR) & !FGFR3) & !AKT) & RAS) | (((!ERK & !EGFR) & FGFR3) & !AKT)) | ((!ERK & EGFR) & !AKT))\n",
      "$RAS: (((((((!ERK & !EGFR) & !FGFR3) & GRB2) | ((!ERK & !EGFR) & FGFR3)) | (!ERK & EGFR)) | ((ERK & !EGFR) & FGFR3)) | (ERK & EGFR))\n",
      "$p21: (p53 & !AKT)\n",
      "$p38: ((((((((((((((!TGFBR_stimulus & !DNA_damage) & !ERK) & !p38) & !p53) & RAS) | ((((!TGFBR_stimulus & !DNA_damage) & !ERK) & !p38) & p53)) | (((((!TGFBR_stimulus & !DNA_damage) & !ERK) & p38) & p53) & RAS)) | ((((!TGFBR_stimulus & !DNA_damage) & ERK) & p53) & RAS)) | (((!TGFBR_stimulus & DNA_damage) & !ERK) & !p38)) | (((((!TGFBR_stimulus & DNA_damage) & !ERK) & p38) & !p53) & RAS)) | ((((!TGFBR_stimulus & DNA_damage) & !ERK) & p38) & p53)) | ((((!TGFBR_stimulus & DNA_damage) & ERK) & !p53) & RAS)) | (((!TGFBR_stimulus & DNA_damage) & ERK) & p53)) | TGFBR_stimulus)\n",
      "$p53: ((((((!DNA_damage & p38) | ((((DNA_damage & !ERK) & !p38) & !p53) & !AKT)) | ((DNA_damage & !ERK) & p38)) | (((DNA_damage & ERK) & !p38) & !p53)) | ((((DNA_damage & ERK) & !p38) & p53) & AKT)) | ((DNA_damage & ERK) & p38))\n"
     ]
    }
   ],
   "source": [
    "raw_model_file = open(\"mapk-annotated.aeon\", \"r\")\n",
    "aeon_string = raw_model_file.read()\n",
    "print(aeon_string)"
   ]
  },
  {
   "cell_type": "markdown",
   "id": "226a38a5",
   "metadata": {},
   "source": [
    "We can automatically read the assertions/properties from the model file annotations and list them."
   ]
  },
  {
   "cell_type": "code",
   "execution_count": 3,
   "id": "161d97d5",
   "metadata": {},
   "outputs": [
    {
     "name": "stdout",
     "output_type": "stream",
     "text": [
      "Assertion:\t 3{x}: @{x}: ((!{y}: AG EF {y}) & (Apoptosis | Growth_Arrest | Proliferation))\n",
      "\n",
      "Property named `p1`:\t V{x}: @{x}: ((!{y}: AG EF {y}) => ((AX {x}) & Apoptosis))\n",
      "Property named `p2`:\t 3{x}: @{x}: ((!{y}: AG EF {y}) & Growth_Arrest & ~(EF ~Growth_Arrest))\n",
      "Property named `p3`:\t 3{x}: @{x}: ((!{y}: AG EF {y}) & Proliferation & ~(EF ~Proliferation))\n",
      "Property named `p4`:\t 3{x}: @{x}: ((!{y}: AG EF {y}) & Apoptosis & Proliferation)\n"
     ]
    }
   ],
   "source": [
    "annotations = ModelAnnotation.from_model_string(aeon_string)\n",
    "assertions = get_model_assertions(annotations)\n",
    "named_properties = get_model_properties(annotations)\n",
    "\n",
    "for assertion in assertions:\n",
    "    print(\"Assertion:\\t\", assertion)\n",
    "print()\n",
    "for (name, prop) in named_properties:\n",
    "    print(f\"Property named `{name}`:\\t\", prop)"
   ]
  },
  {
   "cell_type": "markdown",
   "id": "386a13c7",
   "metadata": {},
   "source": [
    "We see that assertions are just simple HCTL formulae (in our case a single formula). On the other hand, properties also have names, which are used in post-processing of the classification results. \n",
    "\n",
    "Notebook `model_checking.ipynb` provides further information on HCTL properties. For detailed HCTL syntax, refer to [this Github page](https://github.com/sybila/biodivine-hctl-model-checker)."
   ]
  },
  {
   "cell_type": "markdown",
   "id": "bb63b81c",
   "metadata": {},
   "source": [
    "#### Running the HCTL classification procedure"
   ]
  },
  {
   "cell_type": "markdown",
   "id": "073780fa",
   "metadata": {},
   "source": [
    "The classifier categorizes the concrete BNs (parametrizations of the PSBN or colors) to classes based on properties they satisfy. First, only the colors satisfying all assertions are computed. The set of remaining colors is decomposed into categories, where each class contains colors that (universally) satisfy the same set of properties.\n",
    "\n",
    "It is however fairly straightforward to run the classification. You just provide a path to the annotated model file, and a path for the result bundle, everything else is handled internally.\n",
    "\n",
    "The result is a zip archive with:\n",
    "- A report of the whole classification procedure.\n",
    "- Raw BDD files encoding each non-empty class.\n",
    "- The original annotated aeon model input (to reconstruct the results if needed)."
   ]
  },
  {
   "cell_type": "code",
   "execution_count": 4,
   "id": "8037f342",
   "metadata": {
    "pycharm": {
     "name": "#%%\n"
    }
   },
   "outputs": [
    {
     "name": "stdout",
     "output_type": "stream",
     "text": [
      "Loaded model and properties out of `mapk-annotated.aeon`.\n",
      "Parsing formulae and generating symbolic representation...\n",
      "Successfully parsed all 1 required property (assertion) and all 4 classification properties.\n",
      "Successfully encoded model with 18 variables and 4 parameters.\n",
      "Model admits 16 instances.\n",
      "Evaluating required properties (this may take some time)...\n",
      "Required properties successfully evaluated.\n",
      "15 instances satisfy all required properties.\n",
      "Evaluating classification properties (this may take some time)...\n",
      "Classification properties successfully evaluated.\n",
      "Generating classification mapping based on model-checking results...\n",
      "Results saved to `classification-archive.zip`.\n"
     ]
    }
   ],
   "source": [
    "model_path = \"mapk-annotated.aeon\"\n",
    "output_zip = \"classification-archive.zip\"\n",
    "run_hctl_classification(model_path, output_zip)"
   ]
  },
  {
   "cell_type": "markdown",
   "id": "52f98c05",
   "metadata": {},
   "source": [
    "We recommend loading the output into our interactive [GUI explorer](https://github.com/sybila/biodivine-bn-classifier).\n",
    "However, you can explore the archive manually, or analyze it here in Python as well (see `load_class_archive` below).\n",
    "\n",
    "We can load the dictionary with all categories—a map of `string -> color set` pairs. The string \"key\" represents a binary encoding of which properties are satisfied by the particular class (in this encoding, properties are ordered alphabetically)."
   ]
  },
  {
   "cell_type": "code",
   "execution_count": 5,
   "id": "778e05a5",
   "metadata": {},
   "outputs": [
    {
     "name": "stdout",
     "output_type": "stream",
     "text": [
      "{'0001': ColorSet(cardinality=3), '0100': ColorSet(cardinality=3), '1100': ColorSet(cardinality=9)}\n"
     ]
    }
   ],
   "source": [
    "class_mapping, original_model_str = load_class_archive(output_zip)\n",
    "print(class_mapping)"
   ]
  },
  {
   "cell_type": "markdown",
   "id": "9e782579",
   "metadata": {},
   "source": [
    "Here, for example:\n",
    "- 9 colors satisfy properties `p1` and `p2` simulataneously.\n",
    "- 3 colors satisfy only `p2`\n",
    "- 3 colors satisfy only `p4`\n",
    "- No color satisfies property `p3`"
   ]
  },
  {
   "cell_type": "markdown",
   "id": "44f139c1-1a6c-4273-a307-f68c6dd50bdf",
   "metadata": {},
   "source": [
    "### Attractor-based classification\n",
    "\n",
    "Another method that can generate a \"classification archive\" is attractor-based classification. Here, we are concerned with the long-term behaviour of the possible network attractors (i.e. stability, oscillation, or disorder), and the absolute number of such attractors. Note that this is mostly equivalent to the analysis workflow originally presented in the online version of [AEON](https://biodivine.fi.muni.cz/aeon/v0.4.0/index.html).\n",
    "\n",
    "Here, we don't need to specify any special properties or annotations. However, for convenience, we use the same annotated model as in our previous example."
   ]
  },
  {
   "cell_type": "code",
   "execution_count": 6,
   "id": "3f1d93b9-dc0b-4a51-ab21-aadc32bcc19e",
   "metadata": {},
   "outputs": [],
   "source": [
    "run_attractor_classification(model_path, \"attractor-archive.zip\")"
   ]
  },
  {
   "cell_type": "markdown",
   "id": "2036842d-6a0d-43c2-8b3e-5b3cc741372d",
   "metadata": {},
   "source": [
    "We can work with the result of this process in the same way we worked with the HCTL classification result. In particular, you can also visualize this classification using the interactive GUI. Notice that in this case, the class labels are actually the types of attractors encountered in each class, as opposed to HCTL properties."
   ]
  },
  {
   "cell_type": "code",
   "execution_count": 7,
   "id": "103b9834-9813-4912-b4fe-e7885e880265",
   "metadata": {},
   "outputs": [
    {
     "name": "stdout",
     "output_type": "stream",
     "text": [
      "{'1 x Stability': ColorSet(cardinality=8), '1 x Disorder': ColorSet(cardinality=6), '2 x Stability': ColorSet(cardinality=2)}\n"
     ]
    }
   ],
   "source": [
    "attr_classes, original_model_str = load_class_archive(\"attractor-archive.zip\")\n",
    "print(attr_classes)"
   ]
  },
  {
   "cell_type": "markdown",
   "id": "f602f8b2-9be4-423b-8299-2c6e9fb14b4b",
   "metadata": {},
   "source": [
    "Specifically, we have that:\n",
    " - 2 colors admit bistable behaviour with two steady states.\n",
    " - 8 colors admit a single steady state.\n",
    " - 6 colors admit a single complex disordered attractor."
   ]
  },
  {
   "cell_type": "markdown",
   "id": "af964934",
   "metadata": {},
   "source": [
    "#### Custom classification archives\n",
    "\n",
    "Finally, we can also generate classification archives based on completely arbitrary colored sets. However, it is recommended that the sets should be at least pair-wise disjoint, otherwise the interpretation of some of the post-processing results can be complicated. \n",
    "\n",
    "In the following example, we simply separate the colors based on the value of two network input variables:"
   ]
  },
  {
   "cell_type": "code",
   "execution_count": 8,
   "id": "6781d7b0",
   "metadata": {},
   "outputs": [],
   "source": [
    "stg = SymbolicAsyncGraph(BooleanNetwork.from_aeon(original_model_str))\n",
    "dna_on = stg.fix_implicit_function(\"DNA_damage\", [], True)\n",
    "dna_off = stg.fix_implicit_function(\"DNA_damage\", [], False)\n",
    "egfr_on = stg.fix_implicit_function(\"EGFR_stimulus\", [], True)\n",
    "egfr_off = stg.fix_implicit_function(\"EGFR_stimulus\", [], False)\n",
    "\n",
    "class_1 = dna_on.intersect(egfr_on)\n",
    "class_2 = dna_on.intersect(egfr_off)\n",
    "class_3 = dna_off\n",
    "\n",
    "custom_mapping = {\n",
    "    \"DNA_with_EGFR\": class_1,\n",
    "    \"DNA_without_EGFR\": class_2,\n",
    "    \"no_DNA\": class_3\n",
    "}\n",
    "\n",
    "save_class_archive(\"custom-archive.zip\", custom_mapping, stg.network().to_aeon())"
   ]
  },
  {
   "cell_type": "markdown",
   "id": "569fd17f-c20a-42d4-8671-87ff5843b3bc",
   "metadata": {},
   "source": [
    "If we load the resulting archive into our GUI explorer, we can easily visualise the classification as a tree with two decisions."
   ]
  },
  {
   "cell_type": "code",
   "execution_count": null,
   "id": "eac81dd4",
   "metadata": {},
   "outputs": [],
   "source": []
  }
 ],
 "metadata": {
  "kernelspec": {
   "display_name": "Python 3 (ipykernel)",
   "language": "python",
   "name": "python3"
  },
  "language_info": {
   "codemirror_mode": {
    "name": "ipython",
    "version": 3
   },
   "file_extension": ".py",
   "mimetype": "text/x-python",
   "name": "python",
   "nbconvert_exporter": "python",
   "pygments_lexer": "ipython3",
   "version": "3.8.10"
  }
 },
 "nbformat": 4,
 "nbformat_minor": 5
}
